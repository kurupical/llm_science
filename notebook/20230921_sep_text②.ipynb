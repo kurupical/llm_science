{
 "cells": [
  {
   "cell_type": "code",
   "execution_count": 35,
   "metadata": {},
   "outputs": [],
   "source": [
    "import pandas as pd\n",
    "import tqdm\n",
    "import glob\n",
    "import os"
   ]
  },
  {
   "cell_type": "code",
   "execution_count": 36,
   "metadata": {},
   "outputs": [],
   "source": [
    "files = glob.glob(\"../data/wikipedia/a.parquet\")\n",
    "files = [f for f in files if \"all\" not in f]"
   ]
  },
  {
   "cell_type": "code",
   "execution_count": 43,
   "metadata": {},
   "outputs": [],
   "source": [
    "def output_seperated_files(token_length, stride, drop_category):    \n",
    "    output_dir = f\"../data/wikipedia/sep4/token_length{token_length}_stride{stride}_drop_cat{drop_category}\"\n",
    "    os.makedirs(output_dir, exist_ok=True)\n",
    "    for file in files:\n",
    "        df_wiki = pd.read_parquet(file)\n",
    "        df_wiki_sep = []\n",
    "        for i in tqdm.tqdm(range(len(df_wiki))):\n",
    "            series = df_wiki.iloc[i]\n",
    "            text = series[\"text\"]\n",
    "            if drop_category:\n",
    "                idx = text.find(\" Category:\")\n",
    "                text = text[:idx]\n",
    "            \n",
    "            text_space = text.split(\" \")\n",
    "\n",
    "            # タイトルだけで検索もひっかかるようにしとく\n",
    "            series_ = series.to_dict()\n",
    "            series_[\"text\"] = \" \".join(text_space[:token_length])\n",
    "            series_[\"title_only\"] = True\n",
    "            df_wiki_sep.append(series_)\n",
    "            \n",
    "            for j in range(0, len(text_space), stride):\n",
    "                series_ = series.to_dict()\n",
    "                series_[\"text\"] = \" \".join(text_space[j:j+token_length])\n",
    "                series_[\"title_only\"] = False\n",
    "                if series_[\"text\"] != \"\":\n",
    "                    df_wiki_sep.append(series_)\n",
    "        df_wiki_sep = pd.DataFrame(df_wiki_sep)\n",
    "        df_wiki_sep.to_parquet(f\"{output_dir}/{os.path.basename(file)}\")"
   ]
  },
  {
   "cell_type": "code",
   "execution_count": 44,
   "metadata": {},
   "outputs": [
    {
     "name": "stderr",
     "output_type": "stream",
     "text": [
      "100%|████████████████████████████████████████████████████████████████████████| 442726/442726 [01:16<00:00, 5792.09it/s]\n"
     ]
    }
   ],
   "source": [
    "output_seperated_files(token_length=100, stride=75, drop_category=True)"
   ]
  },
  {
   "cell_type": "code",
   "execution_count": 46,
   "metadata": {},
   "outputs": [
    {
     "name": "stderr",
     "output_type": "stream",
     "text": [
      "100%|████████████████████████████████████████████████████████████████████████| 442726/442726 [01:12<00:00, 6087.48it/s]\n"
     ]
    }
   ],
   "source": [
    "output_seperated_files(token_length=100, stride=75, drop_category=False)"
   ]
  },
  {
   "cell_type": "code",
   "execution_count": 54,
   "metadata": {},
   "outputs": [
    {
     "name": "stderr",
     "output_type": "stream",
     "text": [
      "100%|████████████████████████████████████████████████████████████████████████| 442726/442726 [01:11<00:00, 6199.67it/s]\n"
     ]
    }
   ],
   "source": [
    "output_seperated_files(token_length=150, stride=100, drop_category=True)"
   ]
  },
  {
   "cell_type": "code",
   "execution_count": null,
   "metadata": {},
   "outputs": [],
   "source": []
  },
  {
   "cell_type": "code",
   "execution_count": null,
   "metadata": {},
   "outputs": [],
   "source": []
  },
  {
   "cell_type": "code",
   "execution_count": null,
   "metadata": {},
   "outputs": [],
   "source": []
  },
  {
   "cell_type": "code",
   "execution_count": null,
   "metadata": {},
   "outputs": [],
   "source": []
  }
 ],
 "metadata": {
  "kernelspec": {
   "display_name": "Python 3",
   "language": "python",
   "name": "python3"
  },
  "language_info": {
   "codemirror_mode": {
    "name": "ipython",
    "version": 3
   },
   "file_extension": ".py",
   "mimetype": "text/x-python",
   "name": "python",
   "nbconvert_exporter": "python",
   "pygments_lexer": "ipython3",
   "version": "3.8.5"
  }
 },
 "nbformat": 4,
 "nbformat_minor": 5
}
