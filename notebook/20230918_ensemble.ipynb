{
 "cells": [
  {
   "cell_type": "code",
   "execution_count": 1,
   "id": "4bd38655",
   "metadata": {},
   "outputs": [],
   "source": [
    "\n",
    "import pandas as pd\n",
    "import numpy as np"
   ]
  },
  {
   "cell_type": "code",
   "execution_count": 2,
   "id": "6fb21fae",
   "metadata": {},
   "outputs": [],
   "source": [
    "def map_at_3(predictions, labels):\n",
    "    map_sum = 0\n",
    "    pred = np.argsort(-1*np.array(predictions),axis=1)[:,:3]\n",
    "    for x,y in zip(pred,labels):\n",
    "        z = [1/i if y==j else 0 for i,j in zip([1,2,3],x)]\n",
    "        map_sum += np.sum(z)\n",
    "    return map_sum / len(predictions)"
   ]
  },
  {
   "cell_type": "code",
   "execution_count": 3,
   "id": "cf8822cd",
   "metadata": {},
   "outputs": [],
   "source": [
    "from itertools import product"
   ]
  },
  {
   "cell_type": "code",
   "execution_count": 18,
   "id": "4a270687",
   "metadata": {},
   "outputs": [],
   "source": [
    "def ensemble(files):\n",
    "    pred_ary = []\n",
    "    option_to_index = {option: idx for idx, option in enumerate('ABCDE')}\n",
    "    for f in files:\n",
    "        df = pd.read_csv(f)\n",
    "        pred = df[[\"fold0_A\", \"fold0_B\", \"fold0_C\", \"fold0_D\", \"fold0_E\"]].values\n",
    "        pred_ary.append(pred)\n",
    "        labels = df[\"answer\"].map(option_to_index).values\n",
    "        print(f\"{f}: {map_at_3(pred, labels)}\")\n",
    "    rets = []\n",
    "    for weights in product(*[np.arange(0, 1, 0.1)] * len(files)):\n",
    "        \n",
    "        pred = (pred_ary * np.array(weights).reshape(-1, 1, 1)).sum(axis=0)\n",
    "        score = map_at_3(pred, labels)\n",
    "        \n",
    "        ret = {}\n",
    "        for i in range(len(files)):\n",
    "            ret[f\"weight_{i}\"] = weights[i]\n",
    "        ret[\"score\"] = score\n",
    "        rets.append(ret)\n",
    "    return pd.DataFrame(rets)"
   ]
  },
  {
   "cell_type": "code",
   "execution_count": 19,
   "id": "69014777",
   "metadata": {},
   "outputs": [
    {
     "name": "stdout",
     "output_type": "stream",
     "text": [
      "../output/stage2/exp004.py/20230916022000_freeze0_maxlength384_context3_lr5e-6_100-stride75/test_predictions.csv: 0.9358333333333333\n",
      "../output/stage2/exp005.py/20230916152033_freeze0_maxlength512_context5_lr5e-6_100-stride75/test_predictions.csv: 0.935\n"
     ]
    }
   ],
   "source": [
    "df_ret_test = ensemble([\n",
    "    \"../output/stage2/exp004.py/20230916022000_freeze0_maxlength384_context3_lr5e-6_100-stride75/test_predictions.csv\",\n",
    "    \"../output/stage2/exp005.py/20230916152033_freeze0_maxlength512_context5_lr5e-6_100-stride75/test_predictions.csv\",\n",
    "    # \"../output/stage2/exp005.py/20230917001210_freeze0_maxlength256_context3_lr5e-6_100-stride75_merge/test_predictions.csv\",\n",
    "])"
   ]
  },
  {
   "cell_type": "code",
   "execution_count": 20,
   "id": "49d284c4",
   "metadata": {},
   "outputs": [
    {
     "data": {
      "text/html": [
       "<div>\n",
       "<style scoped>\n",
       "    .dataframe tbody tr th:only-of-type {\n",
       "        vertical-align: middle;\n",
       "    }\n",
       "\n",
       "    .dataframe tbody tr th {\n",
       "        vertical-align: top;\n",
       "    }\n",
       "\n",
       "    .dataframe thead th {\n",
       "        text-align: right;\n",
       "    }\n",
       "</style>\n",
       "<table border=\"1\" class=\"dataframe\">\n",
       "  <thead>\n",
       "    <tr style=\"text-align: right;\">\n",
       "      <th></th>\n",
       "      <th>weight_0</th>\n",
       "      <th>weight_1</th>\n",
       "      <th>score</th>\n",
       "    </tr>\n",
       "  </thead>\n",
       "  <tbody>\n",
       "    <tr>\n",
       "      <th>0</th>\n",
       "      <td>0.0</td>\n",
       "      <td>0.0</td>\n",
       "      <td>0.378333</td>\n",
       "    </tr>\n",
       "    <tr>\n",
       "      <th>17</th>\n",
       "      <td>0.1</td>\n",
       "      <td>0.7</td>\n",
       "      <td>0.931667</td>\n",
       "    </tr>\n",
       "    <tr>\n",
       "      <th>18</th>\n",
       "      <td>0.1</td>\n",
       "      <td>0.8</td>\n",
       "      <td>0.931667</td>\n",
       "    </tr>\n",
       "    <tr>\n",
       "      <th>59</th>\n",
       "      <td>0.5</td>\n",
       "      <td>0.9</td>\n",
       "      <td>0.934167</td>\n",
       "    </tr>\n",
       "    <tr>\n",
       "      <th>19</th>\n",
       "      <td>0.1</td>\n",
       "      <td>0.9</td>\n",
       "      <td>0.934167</td>\n",
       "    </tr>\n",
       "    <tr>\n",
       "      <th>...</th>\n",
       "      <td>...</td>\n",
       "      <td>...</td>\n",
       "      <td>...</td>\n",
       "    </tr>\n",
       "    <tr>\n",
       "      <th>62</th>\n",
       "      <td>0.6</td>\n",
       "      <td>0.2</td>\n",
       "      <td>0.948333</td>\n",
       "    </tr>\n",
       "    <tr>\n",
       "      <th>41</th>\n",
       "      <td>0.4</td>\n",
       "      <td>0.1</td>\n",
       "      <td>0.950000</td>\n",
       "    </tr>\n",
       "    <tr>\n",
       "      <th>92</th>\n",
       "      <td>0.9</td>\n",
       "      <td>0.2</td>\n",
       "      <td>0.950000</td>\n",
       "    </tr>\n",
       "    <tr>\n",
       "      <th>82</th>\n",
       "      <td>0.8</td>\n",
       "      <td>0.2</td>\n",
       "      <td>0.950000</td>\n",
       "    </tr>\n",
       "    <tr>\n",
       "      <th>51</th>\n",
       "      <td>0.5</td>\n",
       "      <td>0.1</td>\n",
       "      <td>0.950000</td>\n",
       "    </tr>\n",
       "  </tbody>\n",
       "</table>\n",
       "<p>100 rows × 3 columns</p>\n",
       "</div>"
      ],
      "text/plain": [
       "    weight_0  weight_1     score\n",
       "0        0.0       0.0  0.378333\n",
       "17       0.1       0.7  0.931667\n",
       "18       0.1       0.8  0.931667\n",
       "59       0.5       0.9  0.934167\n",
       "19       0.1       0.9  0.934167\n",
       "..       ...       ...       ...\n",
       "62       0.6       0.2  0.948333\n",
       "41       0.4       0.1  0.950000\n",
       "92       0.9       0.2  0.950000\n",
       "82       0.8       0.2  0.950000\n",
       "51       0.5       0.1  0.950000\n",
       "\n",
       "[100 rows x 3 columns]"
      ]
     },
     "execution_count": 20,
     "metadata": {},
     "output_type": "execute_result"
    }
   ],
   "source": [
    "df_ret_test.sort_values(\"score\")"
   ]
  },
  {
   "cell_type": "code",
   "execution_count": 21,
   "id": "f520c89a",
   "metadata": {},
   "outputs": [
    {
     "name": "stdout",
     "output_type": "stream",
     "text": [
      "../output/stage2/exp004.py/20230916022000_freeze0_maxlength384_context3_lr5e-6_100-stride75/valid_predictions.csv: 0.8686534216335542\n",
      "../output/stage2/exp005.py/20230916152033_freeze0_maxlength512_context5_lr5e-6_100-stride75/valid_predictions.csv: 0.866997792494481\n"
     ]
    }
   ],
   "source": [
    "df_ret_valid = ensemble([\n",
    "    \"../output/stage2/exp004.py/20230916022000_freeze0_maxlength384_context3_lr5e-6_100-stride75/valid_predictions.csv\",\n",
    "    \"../output/stage2/exp005.py/20230916152033_freeze0_maxlength512_context5_lr5e-6_100-stride75/valid_predictions.csv\"\n",
    "])"
   ]
  },
  {
   "cell_type": "code",
   "execution_count": 24,
   "id": "f5993cce",
   "metadata": {},
   "outputs": [
    {
     "data": {
      "text/html": [
       "<div>\n",
       "<style scoped>\n",
       "    .dataframe tbody tr th:only-of-type {\n",
       "        vertical-align: middle;\n",
       "    }\n",
       "\n",
       "    .dataframe tbody tr th {\n",
       "        vertical-align: top;\n",
       "    }\n",
       "\n",
       "    .dataframe thead th {\n",
       "        text-align: right;\n",
       "    }\n",
       "</style>\n",
       "<table border=\"1\" class=\"dataframe\">\n",
       "  <thead>\n",
       "    <tr style=\"text-align: right;\">\n",
       "      <th></th>\n",
       "      <th>weight_0</th>\n",
       "      <th>weight_1</th>\n",
       "      <th>score</th>\n",
       "    </tr>\n",
       "  </thead>\n",
       "  <tbody>\n",
       "    <tr>\n",
       "      <th>0</th>\n",
       "      <td>0.0</td>\n",
       "      <td>0.0</td>\n",
       "      <td>0.376656</td>\n",
       "    </tr>\n",
       "    <tr>\n",
       "      <th>1</th>\n",
       "      <td>0.0</td>\n",
       "      <td>0.1</td>\n",
       "      <td>0.866998</td>\n",
       "    </tr>\n",
       "    <tr>\n",
       "      <th>2</th>\n",
       "      <td>0.0</td>\n",
       "      <td>0.2</td>\n",
       "      <td>0.866998</td>\n",
       "    </tr>\n",
       "    <tr>\n",
       "      <th>3</th>\n",
       "      <td>0.0</td>\n",
       "      <td>0.3</td>\n",
       "      <td>0.866998</td>\n",
       "    </tr>\n",
       "    <tr>\n",
       "      <th>4</th>\n",
       "      <td>0.0</td>\n",
       "      <td>0.4</td>\n",
       "      <td>0.866998</td>\n",
       "    </tr>\n",
       "    <tr>\n",
       "      <th>...</th>\n",
       "      <td>...</td>\n",
       "      <td>...</td>\n",
       "      <td>...</td>\n",
       "    </tr>\n",
       "    <tr>\n",
       "      <th>95</th>\n",
       "      <td>0.9</td>\n",
       "      <td>0.5</td>\n",
       "      <td>0.879415</td>\n",
       "    </tr>\n",
       "    <tr>\n",
       "      <th>96</th>\n",
       "      <td>0.9</td>\n",
       "      <td>0.6</td>\n",
       "      <td>0.879691</td>\n",
       "    </tr>\n",
       "    <tr>\n",
       "      <th>97</th>\n",
       "      <td>0.9</td>\n",
       "      <td>0.7</td>\n",
       "      <td>0.879691</td>\n",
       "    </tr>\n",
       "    <tr>\n",
       "      <th>98</th>\n",
       "      <td>0.9</td>\n",
       "      <td>0.8</td>\n",
       "      <td>0.878863</td>\n",
       "    </tr>\n",
       "    <tr>\n",
       "      <th>99</th>\n",
       "      <td>0.9</td>\n",
       "      <td>0.9</td>\n",
       "      <td>0.878035</td>\n",
       "    </tr>\n",
       "  </tbody>\n",
       "</table>\n",
       "<p>100 rows × 3 columns</p>\n",
       "</div>"
      ],
      "text/plain": [
       "    weight_0  weight_1     score\n",
       "0        0.0       0.0  0.376656\n",
       "1        0.0       0.1  0.866998\n",
       "2        0.0       0.2  0.866998\n",
       "3        0.0       0.3  0.866998\n",
       "4        0.0       0.4  0.866998\n",
       "..       ...       ...       ...\n",
       "95       0.9       0.5  0.879415\n",
       "96       0.9       0.6  0.879691\n",
       "97       0.9       0.7  0.879691\n",
       "98       0.9       0.8  0.878863\n",
       "99       0.9       0.9  0.878035\n",
       "\n",
       "[100 rows x 3 columns]"
      ]
     },
     "execution_count": 24,
     "metadata": {},
     "output_type": "execute_result"
    }
   ],
   "source": [
    "df_ret_valid"
   ]
  },
  {
   "cell_type": "code",
   "execution_count": null,
   "id": "e4766351",
   "metadata": {},
   "outputs": [],
   "source": []
  },
  {
   "cell_type": "code",
   "execution_count": null,
   "id": "0274aeff",
   "metadata": {},
   "outputs": [],
   "source": []
  },
  {
   "cell_type": "code",
   "execution_count": null,
   "id": "909404de",
   "metadata": {},
   "outputs": [],
   "source": []
  },
  {
   "cell_type": "code",
   "execution_count": 3,
   "id": "067cf331",
   "metadata": {},
   "outputs": [],
   "source": [
    "df1 = pd.read_csv(\"../output/stage2/exp004.py/20230916022000_freeze0_maxlength384_context3_lr5e-6_100-stride75/test_predictions.csv\")"
   ]
  },
  {
   "cell_type": "code",
   "execution_count": 5,
   "id": "70e89627",
   "metadata": {},
   "outputs": [],
   "source": [
    "df2 = pd.read_csv(r\"../output/stage2/exp005.py/20230916152033_freeze0_maxlength512_context5_lr5e-6_100-stride75/test_predictions.csv\")"
   ]
  },
  {
   "cell_type": "code",
   "execution_count": 6,
   "id": "0bef9496",
   "metadata": {},
   "outputs": [],
   "source": [
    "def softmax(x):\n",
    "    x = np.exp(x)\n",
    "    return x / x.sum(axis=1, keepdims=True)"
   ]
  },
  {
   "cell_type": "code",
   "execution_count": null,
   "id": "e9908ad4",
   "metadata": {},
   "outputs": [],
   "source": []
  },
  {
   "cell_type": "code",
   "execution_count": 7,
   "id": "5a6b26e7",
   "metadata": {},
   "outputs": [],
   "source": []
  },
  {
   "cell_type": "code",
   "execution_count": 8,
   "id": "db61f863",
   "metadata": {},
   "outputs": [],
   "source": [
    "pred_1 = df1[[\"fold0_A\", \"fold0_B\", \"fold0_C\", \"fold0_D\", \"fold0_E\"]].values\n",
    "pred_1 = (pred_1 - pred_1.mean()) / pred_1.std()\n",
    "pred_2 = df2[[\"fold0_A\", \"fold0_B\", \"fold0_C\", \"fold0_D\", \"fold0_E\"]].values\n",
    "pred_2 = (pred_2 - pred_2.mean()) / pred_2.std()"
   ]
  },
  {
   "cell_type": "code",
   "execution_count": 9,
   "id": "d68720c1",
   "metadata": {},
   "outputs": [],
   "source": []
  },
  {
   "cell_type": "code",
   "execution_count": 10,
   "id": "e07aa7a4",
   "metadata": {},
   "outputs": [
    {
     "data": {
      "text/plain": [
       "0.9358333333333333"
      ]
     },
     "execution_count": 10,
     "metadata": {},
     "output_type": "execute_result"
    }
   ],
   "source": []
  },
  {
   "cell_type": "code",
   "execution_count": 11,
   "id": "e78ddea6",
   "metadata": {},
   "outputs": [
    {
     "data": {
      "text/plain": [
       "0.935"
      ]
     },
     "execution_count": 11,
     "metadata": {},
     "output_type": "execute_result"
    }
   ],
   "source": [
    "map_at_3(pred_2, labels)"
   ]
  },
  {
   "cell_type": "code",
   "execution_count": 12,
   "id": "711ba590",
   "metadata": {},
   "outputs": [
    {
     "name": "stdout",
     "output_type": "stream",
     "text": [
      "ratio:0.0 map3: 0.935\n",
      "ratio:0.05 map3: 0.9341666666666667\n",
      "ratio:0.1 map3: 0.9316666666666668\n",
      "ratio:0.15000000000000002 map3: 0.9341666666666667\n",
      "ratio:0.2 map3: 0.9383333333333335\n",
      "ratio:0.25 map3: 0.9358333333333334\n",
      "ratio:0.30000000000000004 map3: 0.9366666666666668\n",
      "ratio:0.35000000000000003 map3: 0.9383333333333332\n",
      "ratio:0.4 map3: 0.9383333333333332\n",
      "ratio:0.45 map3: 0.9408333333333333\n",
      "ratio:0.5 map3: 0.9441666666666667\n",
      "ratio:0.55 map3: 0.9441666666666667\n",
      "ratio:0.6000000000000001 map3: 0.9441666666666667\n",
      "ratio:0.65 map3: 0.9441666666666667\n",
      "ratio:0.7000000000000001 map3: 0.945\n",
      "ratio:0.75 map3: 0.9475\n",
      "ratio:0.8 map3: 0.95\n",
      "ratio:0.8500000000000001 map3: 0.9475\n",
      "ratio:0.9 map3: 0.9408333333333333\n",
      "ratio:0.9500000000000001 map3: 0.9383333333333332\n",
      "ratio:1.0 map3: 0.9358333333333333\n"
     ]
    }
   ],
   "source": [
    "for ratio in np.arange(0, 1.05, 0.05):\n",
    "    print(f\"ratio:{ratio} map3: {map_at_3(pred_1*ratio + pred_2*(1-ratio), labels)}\")"
   ]
  },
  {
   "cell_type": "code",
   "execution_count": null,
   "id": "3f0fdd16",
   "metadata": {},
   "outputs": [],
   "source": []
  },
  {
   "cell_type": "code",
   "execution_count": null,
   "id": "15872bd7",
   "metadata": {},
   "outputs": [],
   "source": []
  }
 ],
 "metadata": {
  "kernelspec": {
   "display_name": "Python 3 (ipykernel)",
   "language": "python",
   "name": "python3"
  },
  "language_info": {
   "codemirror_mode": {
    "name": "ipython",
    "version": 3
   },
   "file_extension": ".py",
   "mimetype": "text/x-python",
   "name": "python",
   "nbconvert_exporter": "python",
   "pygments_lexer": "ipython3",
   "version": "3.10.12"
  }
 },
 "nbformat": 4,
 "nbformat_minor": 5
}
