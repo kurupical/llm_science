{
 "cells": [
  {
   "cell_type": "code",
   "execution_count": 1,
   "id": "2842c3ac",
   "metadata": {},
   "outputs": [],
   "source": [
    "import pandas as pd"
   ]
  },
  {
   "cell_type": "code",
   "execution_count": 2,
   "id": "cd4d62dc",
   "metadata": {},
   "outputs": [],
   "source": [
    "df = pd.read_csv(\"../data/gpt_generated_data/all_12_with_context2.csv\")"
   ]
  },
  {
   "cell_type": "code",
   "execution_count": 3,
   "id": "18745a38",
   "metadata": {},
   "outputs": [
    {
     "data": {
      "text/plain": [
       "3     14831\n",
       "10    11679\n",
       "2      5986\n",
       "6      5968\n",
       "5      5923\n",
       "4      5862\n",
       "9      3369\n",
       "8      3249\n",
       "7       999\n",
       "11      993\n",
       "12      988\n",
       "1       500\n",
       "Name: source, dtype: int64"
      ]
     },
     "execution_count": 3,
     "metadata": {},
     "output_type": "execute_result"
    }
   ],
   "source": [
    "df[\"source\"].value_counts()"
   ]
  },
  {
   "cell_type": "code",
   "execution_count": 4,
   "id": "644cf2b7",
   "metadata": {},
   "outputs": [],
   "source": [
    "# GPT-generated dataset\n",
    "df_test = pd.concat([\n",
    "    df[df[\"source\"] == 1].sample(125),\n",
    "    df[df[\"source\"] == 2].sample(125),\n",
    "    df[df[\"source\"] == 3].sample(125),\n",
    "    df[df[\"source\"] == 4].sample(125),\n",
    "    df[df[\"source\"] == 5].sample(125),\n",
    "    df[df[\"source\"] == 6].sample(125),\n",
    "    df[df[\"source\"] == 7].sample(125),\n",
    "    df[df[\"source\"] == 8].sample(125),\n",
    "])"
   ]
  },
  {
   "cell_type": "code",
   "execution_count": 5,
   "id": "f252a2c3",
   "metadata": {},
   "outputs": [],
   "source": [
    "df_train = df[~df.index.isin(df_test.index)]"
   ]
  },
  {
   "cell_type": "code",
   "execution_count": 6,
   "id": "b83c2327",
   "metadata": {},
   "outputs": [
    {
     "data": {
      "text/plain": [
       "prompt        0\n",
       "context       0\n",
       "A          2795\n",
       "B          2670\n",
       "C          2679\n",
       "D          2782\n",
       "E          2734\n",
       "answer        0\n",
       "source        0\n",
       "dtype: int64"
      ]
     },
     "execution_count": 6,
     "metadata": {},
     "output_type": "execute_result"
    }
   ],
   "source": [
    "df.isnull().sum()"
   ]
  },
  {
   "cell_type": "code",
   "execution_count": 7,
   "id": "9d757a05",
   "metadata": {},
   "outputs": [],
   "source": [
    "import numpy as np\n",
    "def fill_random(df):\n",
    "    all_choices = df.dropna()[[\"A\", \"B\", \"C\", \"D\", \"E\"]].values.flatten()\n",
    "    def fillna_randomly(value):\n",
    "        if pd.isna(value):\n",
    "            return np.random.choice(all_choices)\n",
    "        else:\n",
    "            return value\n",
    "\n",
    "    return df.applymap(fillna_randomly)\n"
   ]
  },
  {
   "cell_type": "code",
   "execution_count": 8,
   "id": "d76fd38c",
   "metadata": {},
   "outputs": [],
   "source": [
    "df_train = fill_random(df_train)\n",
    "df_test = fill_random(df_test)"
   ]
  },
  {
   "cell_type": "code",
   "execution_count": 9,
   "id": "76c7552f",
   "metadata": {},
   "outputs": [
    {
     "data": {
      "text/plain": [
       "(60347, 59347, 1000)"
      ]
     },
     "execution_count": 9,
     "metadata": {},
     "output_type": "execute_result"
    }
   ],
   "source": [
    "len(df), len(df_train), len(df_test)"
   ]
  },
  {
   "cell_type": "code",
   "execution_count": 10,
   "id": "110f242a",
   "metadata": {},
   "outputs": [],
   "source": [
    "df_train.to_csv(\"../data/gpt_generated_data/all_12_with_context2_train2_gpt.csv\")\n",
    "df_test.to_csv(\"../data/gpt_generated_data/all_12_with_context2_test2_gpt.csv\")"
   ]
  },
  {
   "cell_type": "code",
   "execution_count": null,
   "id": "6a865ee0",
   "metadata": {},
   "outputs": [],
   "source": []
  }
 ],
 "metadata": {
  "kernelspec": {
   "display_name": "Python 3 (ipykernel)",
   "language": "python",
   "name": "python3"
  },
  "language_info": {
   "codemirror_mode": {
    "name": "ipython",
    "version": 3
   },
   "file_extension": ".py",
   "mimetype": "text/x-python",
   "name": "python",
   "nbconvert_exporter": "python",
   "pygments_lexer": "ipython3",
   "version": "3.10.12"
  }
 },
 "nbformat": 4,
 "nbformat_minor": 5
}
