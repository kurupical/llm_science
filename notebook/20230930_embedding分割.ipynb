{
 "cells": [
  {
   "cell_type": "code",
   "execution_count": 17,
   "id": "0955e006",
   "metadata": {},
   "outputs": [],
   "source": [
    "\n",
    "import pandas as pd\n",
    "import numpy as np\n",
    "import glob\n",
    "import os\n",
    "import tqdm"
   ]
  },
  {
   "cell_type": "code",
   "execution_count": 18,
   "id": "97d553fd",
   "metadata": {},
   "outputs": [],
   "source": [
    "files = glob.glob(\"../data/wikipedia_fixed/sep_chunk/token_length120_stride_sentence4_drop_categoryTrue/*.parquet\")"
   ]
  },
  {
   "cell_type": "code",
   "execution_count": 19,
   "id": "4722a0a8",
   "metadata": {},
   "outputs": [],
   "source": [
    "embedding_base = \"../output/embeddings/gte-base_all_without_sep_192_token_length120_stride_sentence4_drop_categoryTrue_all_exp009\""
   ]
  },
  {
   "cell_type": "code",
   "execution_count": 20,
   "id": "9acdb4e4",
   "metadata": {},
   "outputs": [
    {
     "name": "stderr",
     "output_type": "stream",
     "text": [
      "100%|████████████████████████████████████████████████████████████████████████████████████████████████████████████████████████████████████████████████████████████████████████████████████████████████████| 26/26 [56:03<00:00, 129.37s/it]\n"
     ]
    }
   ],
   "source": [
    "for f in tqdm.tqdm(files):\n",
    "    df = pd.read_parquet(f)\n",
    "    embeddings = np.load(f\"{embedding_base}_{os.path.basename(f).split('.')[0]}.npy\")\n",
    "    \n",
    "    df1 = df.iloc[:len(df)//2]\n",
    "    df2 = df.iloc[len(df)//2:]\n",
    "\n",
    "    emb1 = embeddings[:len(df)//2]\n",
    "    emb2 = embeddings[len(df)//2:]\n",
    "\n",
    "    df1.to_parquet(f\"../data/wikipedia_fixed/sep_chunk/token_length120_stride_sentence4_drop_categoryTrue_chunked/{os.path.basename(f).replace('.parquet', '')}_1.parquet\")\n",
    "    df2.to_parquet(f\"../data/wikipedia_fixed/sep_chunk/token_length120_stride_sentence4_drop_categoryTrue_chunked/{os.path.basename(f).replace('.parquet', '')}_2.parquet\")\n",
    "\n",
    "    np.save(f\"{embedding_base}_{os.path.basename(f).split('.')[0]}_1.npy\", emb1)\n",
    "    np.save(f\"{embedding_base}_{os.path.basename(f).split('.')[0]}_2.npy\", emb2)\n"
   ]
  },
  {
   "cell_type": "code",
   "execution_count": 10,
   "id": "ec1710d3",
   "metadata": {},
   "outputs": [],
   "source": []
  },
  {
   "cell_type": "code",
   "execution_count": 11,
   "id": "0baedc19",
   "metadata": {},
   "outputs": [],
   "source": []
  },
  {
   "cell_type": "code",
   "execution_count": 16,
   "id": "9676c9a1",
   "metadata": {},
   "outputs": [],
   "source": []
  },
  {
   "cell_type": "code",
   "execution_count": null,
   "id": "7cf54b64",
   "metadata": {},
   "outputs": [],
   "source": []
  },
  {
   "cell_type": "code",
   "execution_count": null,
   "id": "2961a16b",
   "metadata": {},
   "outputs": [],
   "source": []
  },
  {
   "cell_type": "code",
   "execution_count": null,
   "id": "583d4079",
   "metadata": {},
   "outputs": [],
   "source": []
  },
  {
   "cell_type": "code",
   "execution_count": null,
   "id": "27f21bec",
   "metadata": {},
   "outputs": [],
   "source": []
  }
 ],
 "metadata": {
  "kernelspec": {
   "display_name": "Python 3 (ipykernel)",
   "language": "python",
   "name": "python3"
  },
  "language_info": {
   "codemirror_mode": {
    "name": "ipython",
    "version": 3
   },
   "file_extension": ".py",
   "mimetype": "text/x-python",
   "name": "python",
   "nbconvert_exporter": "python",
   "pygments_lexer": "ipython3",
   "version": "3.10.12"
  }
 },
 "nbformat": 4,
 "nbformat_minor": 5
}
