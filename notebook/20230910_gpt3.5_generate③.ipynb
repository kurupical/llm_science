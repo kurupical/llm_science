{
 "cells": [
  {
   "cell_type": "code",
   "execution_count": 1,
   "metadata": {},
   "outputs": [],
   "source": [
    "import openai\n",
    "import pandas as pd\n",
    "import tqdm\n",
    "import glob\n",
    "\n",
    "import warnings\n",
    "warnings.filterwarnings(\"ignore\")"
   ]
  },
  {
   "cell_type": "code",
   "execution_count": 2,
   "metadata": {},
   "outputs": [],
   "source": [
    "with open(\"../apikey/apikey.txt\", \"r\") as f:\n",
    "    openai.api_key = f.readline().replace(\"\\n\", \"\")"
   ]
  },
  {
   "cell_type": "code",
   "execution_count": 3,
   "metadata": {},
   "outputs": [],
   "source": [
    "def query_prompt(prompt, max_tokens=5000):\n",
    "    response = openai.ChatCompletion.create(\n",
    "        model=\"gpt-3.5-turbo-16k\",\n",
    "        messages=[\n",
    "            {\"role\": \"user\", \"content\": prompt}\n",
    "        ],\n",
    "        max_tokens=max_tokens,\n",
    "        temperature=0,\n",
    "    )\n",
    "    return response[\"choices\"][0][\"message\"][\"content\"]"
   ]
  },
  {
   "cell_type": "code",
   "execution_count": null,
   "metadata": {},
   "outputs": [],
   "source": []
  },
  {
   "cell_type": "code",
   "execution_count": null,
   "metadata": {},
   "outputs": [],
   "source": []
  },
  {
   "cell_type": "code",
   "execution_count": 4,
   "metadata": {},
   "outputs": [],
   "source": [
    "def get_df(fname):\n",
    "    def f(categories):\n",
    "        for cat in categories:\n",
    "            for word in [\n",
    "                \"geology\",\n",
    "                \"physics\",\n",
    "                \"chemistry\",\n",
    "                \"mathematical\",\n",
    "                \"biology\",\n",
    "                \"astronomy\",\n",
    "                \"ecology\",\n",
    "                \"genetics\",\n",
    "                \"statistics\",\n",
    "                \"theoretical\"\n",
    "            ]:\n",
    "                if word.lower() in cat.lower():\n",
    "                    return True\n",
    "            \n",
    "        return False\n",
    "    \n",
    "    def text_preprocess(text):\n",
    "        return text.replace(\"====\", \"\\n\\n\").replace(\"===\", \"\\n\\n\").replace(\"==\", \"\\n\\n\")\n",
    "\n",
    "    df = pd.read_parquet(fname)\n",
    "    df_science = df[df[\"categories\"].apply(f)]\n",
    "    df_science[\"text\"] = df_science[\"text\"].apply(text_preprocess)\n",
    "    df_science[\"text_length\"] = df_science[\"text\"].apply(len)\n",
    "    \n",
    "    df_science = df_science[(df_science[\"text_length\"] > 10000) & (df_science[\"text_length\"] < 50000)]\n",
    "    return df_science.sample(len(df_science)//10)"
   ]
  },
  {
   "cell_type": "code",
   "execution_count": 5,
   "metadata": {},
   "outputs": [],
   "source": [
    "files = glob.glob(\"../data/wikipedia/*.parquet\")"
   ]
  },
  {
   "cell_type": "code",
   "execution_count": 6,
   "metadata": {},
   "outputs": [],
   "source": [
    "import time"
   ]
  },
  {
   "cell_type": "code",
   "execution_count": 7,
   "metadata": {},
   "outputs": [],
   "source": [
    "import pickle"
   ]
  },
  {
   "cell_type": "code",
   "execution_count": 8,
   "metadata": {},
   "outputs": [],
   "source": [
    "import json"
   ]
  },
  {
   "cell_type": "code",
   "execution_count": 9,
   "metadata": {},
   "outputs": [],
   "source": [
    "from datetime import datetime as dt\n",
    "import os"
   ]
  },
  {
   "cell_type": "code",
   "execution_count": 10,
   "metadata": {},
   "outputs": [],
   "source": [
    "texts = []"
   ]
  },
  {
   "cell_type": "code",
   "execution_count": 25,
   "metadata": {},
   "outputs": [
    {
     "name": "stderr",
     "output_type": "stream",
     "text": [
      "../data/wikipedia/a.parquet:   2%|█████                                                                                                                                                                                                             | 1/42 [00:04<03:07,  4.56s/it]"
     ]
    },
    {
     "name": "stdout",
     "output_type": "stream",
     "text": [
      "{'prompt': \"Who is known as the 'father of Pakistan's atomic weapons program'?\", 'A': 'Abdul Ghafoor', 'B': 'Zulekha', 'C': 'A. Q. Khan', 'D': 'Munir Ahmad Khan', 'E': 'Ghulam Ishaq Khan', 'answer': 'C'}\n"
     ]
    },
    {
     "name": "stderr",
     "output_type": "stream",
     "text": [
      "../data/wikipedia/a.parquet:  10%|████████████████████                                                                                                                                                                                              | 4/42 [00:17<02:44,  4.32s/it]\n",
      "\n",
      "KeyboardInterrupt\n",
      "\n"
     ]
    }
   ],
   "source": [
    "import traceback \n",
    "batch_size = 1\n",
    "\n",
    "def make_prompt(series):\n",
    "    prompt = f\"\"\"\n",
    "You are a professional machine learning engineer who creates datasets for use in supervised learning of multiple choice questions and are very knowledgeable about science.\n",
    "Please make a multiple-choice questions. Number of choice is five.\n",
    "\n",
    "Context:\n",
    "{series['text']}\n",
    "\n",
    "Attention:\n",
    "- The output should be json format.\n",
    "- Json format key is \"prompt\" as the question statement, \"A,\" \"B,\" \"C,\" \"D,\" and \"E\" as choices, \"answer\" as the answer choice (one of A through E).\n",
    "- The number of words in the question statement should be at least 50.\n",
    "\"\"\"\n",
    "    return prompt\n",
    "\n",
    "def f(series):\n",
    "    try:\n",
    "        if series[\"A\"] != series[\"A\"]:\n",
    "            if type(series[\"answer\"]) == dict:\n",
    "                for key in [\"A\", \"B\", \"C\", \"D\", \"E\"]:\n",
    "                    series[key] = series[\"choices\"][key]\n",
    "            elif type(series[\"answer\"] == list):\n",
    "                for i, key in enumerate([\"A\", \"B\", \"C\", \"D\", \"E\"]):\n",
    "                    series[key] = series[\"choices\"][i]\n",
    "    except:\n",
    "        return series\n",
    "    return series\n",
    "\n",
    "now_date = dt.now().strftime(\"%Y%m%d%H%M%S\")\n",
    "\n",
    "first = True\n",
    "for file in files:\n",
    "    if os.path.basename(file) in [\"all.parquet\"]:\n",
    "        print(f\"pass: {file}\")\n",
    "        continue\n",
    "    df_science = get_df(file)\n",
    "    \n",
    "    for i in tqdm.tqdm(range(len(df_science)), desc=file):\n",
    "        try:\n",
    "            series = df_science.iloc[i]\n",
    "            prompt = make_prompt(series)\n",
    "            text = query_prompt(prompt)\n",
    "            texts_json = json.loads(text)\n",
    "            if first:\n",
    "                print(texts_json)\n",
    "                first = False\n",
    "            if type(texts_json) == dict:\n",
    "                texts_json[\"wiki_id\"] = series[\"id\"]\n",
    "                texts_json[\"original_text\"] = series[\"text\"]\n",
    "                texts.append(texts_json)\n",
    "            else:\n",
    "                for text_json in texts_json:\n",
    "                    text_json[\"wiki_id\"] = series[\"id\"]\n",
    "                    text_json[\"original_text\"] = series[\"text\"]\n",
    "                    texts.append(text_json)\n",
    "        except Exception as e:\n",
    "            print(e)\n",
    "            traceback.print_exc()\n",
    "            print(text)\n",
    "        if i % 20 == 0:\n",
    "            df_texts = pd.DataFrame(texts)\n",
    "            df_texts = df_texts.apply(f, axis=1)\n",
    "\n",
    "            df_texts.to_csv(f\"output_gpt3.5_generate/{now_date}.csv\")"
   ]
  },
  {
   "cell_type": "code",
   "execution_count": 26,
   "metadata": {},
   "outputs": [],
   "source": [
    "df_texts = pd.DataFrame(texts)"
   ]
  },
  {
   "cell_type": "code",
   "execution_count": 31,
   "metadata": {},
   "outputs": [
    {
     "data": {
      "text/plain": [
       "\"What is the purpose of ROPPA (Réseau des organisations paysannes et de producteurs de l'Afrique de l'Ouest)?\""
      ]
     },
     "execution_count": 31,
     "metadata": {},
     "output_type": "execute_result"
    }
   ],
   "source": [
    "df_texts[\"prompt\"].values[-2]"
   ]
  },
  {
   "cell_type": "code",
   "execution_count": 28,
   "metadata": {},
   "outputs": [
    {
     "data": {
      "text/plain": [
       "0     110\n",
       "1      72\n",
       "2      80\n",
       "3     109\n",
       "4      58\n",
       "5      97\n",
       "6      77\n",
       "7      66\n",
       "8      18\n",
       "9     108\n",
       "10     57\n",
       "Name: prompt, dtype: int64"
      ]
     },
     "execution_count": 28,
     "metadata": {},
     "output_type": "execute_result"
    }
   ],
   "source": [
    "df_texts[\"prompt\"].apply(len)"
   ]
  },
  {
   "cell_type": "code",
   "execution_count": null,
   "metadata": {},
   "outputs": [],
   "source": [
    "df_texts = pd.DataFrame(texts)\n",
    "df_texts = df_texts.apply(f, axis=1)\n",
    "\n",
    "df_texts.to_csv(f\"output_gpt3.5_generate/{now_date}.csv\")"
   ]
  },
  {
   "cell_type": "code",
   "execution_count": null,
   "metadata": {},
   "outputs": [],
   "source": [
    " df_texts.to_csv(f\"output_gpt3.5_generate/{now_date}.csv\")"
   ]
  },
  {
   "cell_type": "code",
   "execution_count": 13,
   "metadata": {},
   "outputs": [
    {
     "data": {
      "text/plain": [
       "A                                    113\n",
       "B                                     44\n",
       "D                                     34\n",
       "C                                     31\n",
       "E                                     20\n",
       "Aurora Max                             2\n",
       "寶瓶座 (bǎo píng zuò)                     1\n",
       "Voronezh University                    1\n",
       "Stanley Autler and Charles Townes      1\n",
       "0.4-1.5 million years                  1\n",
       "Name: answer, dtype: int64"
      ]
     },
     "execution_count": 13,
     "metadata": {},
     "output_type": "execute_result"
    }
   ],
   "source": [
    "\n",
    "df_texts[\"answer\"].value_counts()"
   ]
  },
  {
   "cell_type": "code",
   "execution_count": null,
   "metadata": {},
   "outputs": [],
   "source": []
  }
 ],
 "metadata": {
  "kernelspec": {
   "display_name": "Python 3 (ipykernel)",
   "language": "python",
   "name": "python3"
  },
  "language_info": {
   "codemirror_mode": {
    "name": "ipython",
    "version": 3
   },
   "file_extension": ".py",
   "mimetype": "text/x-python",
   "name": "python",
   "nbconvert_exporter": "python",
   "pygments_lexer": "ipython3",
   "version": "3.10.12"
  }
 },
 "nbformat": 4,
 "nbformat_minor": 4
}
