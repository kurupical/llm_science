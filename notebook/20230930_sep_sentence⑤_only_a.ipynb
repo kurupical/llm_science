{
 "cells": [
  {
   "cell_type": "code",
   "execution_count": 4,
   "id": "21bf371f",
   "metadata": {},
   "outputs": [],
   "source": [
    "import pandas as pd\n",
    "import tqdm\n",
    "import glob\n",
    "import os"
   ]
  },
  {
   "cell_type": "code",
   "execution_count": 5,
   "id": "f91994aa",
   "metadata": {},
   "outputs": [],
   "source": [
    "files = glob.glob(\"../data/wikipedia_fixed/a.parquet\")\n",
    "files = [f for f in files if \"all\" not in f]"
   ]
  },
  {
   "cell_type": "code",
   "execution_count": 6,
   "id": "999735b0",
   "metadata": {},
   "outputs": [],
   "source": [
    "chunk_size = 10_000_000\n",
    "#chunk_size = 2_750_000"
   ]
  },
  {
   "cell_type": "code",
   "execution_count": 7,
   "id": "7813678f",
   "metadata": {},
   "outputs": [],
   "source": [
    "def output_seperated_files(token_length, stride, drop_category):    \n",
    "    output_dir = f\"../data/wikipedia_fixed/sep_a2/token_length{token_length}_stride_sentence{stride}_drop_category{drop_category}\"\n",
    "    os.makedirs(output_dir, exist_ok=True)\n",
    "    chunk = 1\n",
    "    df_wiki_sep = []\n",
    "    for file in files:\n",
    "        df_wiki = pd.read_parquet(file)\n",
    "        df_wiki = df_wiki.drop(\"category\", axis=1)\n",
    "        for i in tqdm.tqdm(range(len(df_wiki))):\n",
    "            series = df_wiki.iloc[i]\n",
    "            text = series[\"text\"].replace(\"\\xa0\", \"\")\n",
    "            if drop_category:\n",
    "                idx = text.find(\" Category:\")\n",
    "                text = text[:idx]\n",
    "\n",
    "            text_space = text.split(\".\")\n",
    "            text = \"\"\n",
    "            text_stride = []\n",
    "\n",
    "            series_ = series.to_dict()\n",
    "            series_[\"text\"] = \".\".join(text_space[:stride*2])\n",
    "            series_[\"title_only\"] = True\n",
    "            df_wiki_sep.append(series_)\n",
    "            \n",
    "            appended = False\n",
    "            for j in range(0, len(text_space)):\n",
    "                series_ = series.to_dict()\n",
    "                text += text_space[j] + \". \"\n",
    "                text_stride.append(text_space[j])\n",
    "                appended = False\n",
    "                if len(text.split(\" \")) > token_length:\n",
    "                    series_[\"text\"] = text\n",
    "                    series_[\"title_only\"] = False\n",
    "                    df_wiki_sep.append(series_)\n",
    "                    text_stride = text_stride[stride:]\n",
    "                    text = \".\".join(text_stride)\n",
    "                    appended = True\n",
    "            \n",
    "            if not appended:\n",
    "                series_[\"text\"] = text\n",
    "                series_[\"title_only\"] = False\n",
    "                df_wiki_sep.append(series_)\n",
    "\n",
    "            if len(df_wiki_sep) > chunk_size:\n",
    "                print(f\"chunk {chunk}\")\n",
    "                df_wiki_sep = pd.DataFrame(df_wiki_sep)\n",
    "                df_wiki_sep.to_parquet(f\"{output_dir}/chunk{chunk}.parquet\")\n",
    "                df_wiki_sep = []\n",
    "                chunk += 1\n",
    "    df_wiki_sep = pd.DataFrame(df_wiki_sep)\n",
    "    df_wiki_sep.to_parquet(f\"{output_dir}/chunk{chunk}.parquet\")\n",
    "    "
   ]
  },
  {
   "cell_type": "code",
   "execution_count": 8,
   "id": "206eeaf4",
   "metadata": {},
   "outputs": [
    {
     "name": "stderr",
     "output_type": "stream",
     "text": [
      "100%|███████████████████████████████████████████████████████████████████████████████████████████████████████████████████████████████████████████████████████████████████████████████████████████| 467914/467914 [04:48<00:00, 1622.50it/s]\n"
     ]
    }
   ],
   "source": [
    "output_seperated_files(token_length=120, stride=4, drop_category=True)"
   ]
  },
  {
   "cell_type": "code",
   "execution_count": 9,
   "id": "b88f8d10",
   "metadata": {},
   "outputs": [
    {
     "name": "stderr",
     "output_type": "stream",
     "text": [
      "100%|███████████████████████████████████████████████████████████████████████████████████████████████████████████████████████████████████████████████████████████████████████████████████████████| 467914/467914 [04:45<00:00, 1640.65it/s]\n"
     ]
    }
   ],
   "source": [
    "output_seperated_files(token_length=120, stride=6, drop_category=True)"
   ]
  },
  {
   "cell_type": "code",
   "execution_count": 10,
   "id": "0c4c9bf9",
   "metadata": {},
   "outputs": [
    {
     "name": "stderr",
     "output_type": "stream",
     "text": [
      "100%|███████████████████████████████████████████████████████████████████████████████████████████████████████████████████████████████████████████████████████████████████████████████████████████| 467914/467914 [04:41<00:00, 1661.08it/s]\n"
     ]
    }
   ],
   "source": [
    "output_seperated_files(token_length=120, stride=8, drop_category=True)"
   ]
  },
  {
   "cell_type": "code",
   "execution_count": 11,
   "id": "e29ed6f4",
   "metadata": {},
   "outputs": [
    {
     "name": "stderr",
     "output_type": "stream",
     "text": [
      "100%|███████████████████████████████████████████████████████████████████████████████████████████████████████████████████████████████████████████████████████████████████████████████████████████| 467914/467914 [04:36<00:00, 1693.98it/s]\n"
     ]
    }
   ],
   "source": [
    "output_seperated_files(token_length=120, stride=10, drop_category=True)"
   ]
  },
  {
   "cell_type": "code",
   "execution_count": 12,
   "id": "c526fb73",
   "metadata": {},
   "outputs": [
    {
     "name": "stderr",
     "output_type": "stream",
     "text": [
      "100%|███████████████████████████████████████████████████████████████████████████████████████████████████████████████████████████████████████████████████████████████████████████████████████████| 467914/467914 [05:20<00:00, 1461.48it/s]\n"
     ]
    }
   ],
   "source": [
    "output_seperated_files(token_length=150, stride=10, drop_category=True)"
   ]
  },
  {
   "cell_type": "code",
   "execution_count": 13,
   "id": "063770b9",
   "metadata": {},
   "outputs": [
    {
     "name": "stderr",
     "output_type": "stream",
     "text": [
      "100%|███████████████████████████████████████████████████████████████████████████████████████████████████████████████████████████████████████████████████████████████████████████████████████████| 467914/467914 [05:38<00:00, 1384.08it/s]\n"
     ]
    }
   ],
   "source": [
    "output_seperated_files(token_length=150, stride=12, drop_category=True)"
   ]
  },
  {
   "cell_type": "code",
   "execution_count": 14,
   "id": "45fd29cf",
   "metadata": {},
   "outputs": [
    {
     "name": "stderr",
     "output_type": "stream",
     "text": [
      "100%|███████████████████████████████████████████████████████████████████████████████████████████████████████████████████████████████████████████████████████████████████████████████████████████| 467914/467914 [05:24<00:00, 1441.49it/s]\n"
     ]
    }
   ],
   "source": [
    "output_seperated_files(token_length=90, stride=4, drop_category=True)"
   ]
  },
  {
   "cell_type": "code",
   "execution_count": 15,
   "id": "aee9d114",
   "metadata": {},
   "outputs": [
    {
     "name": "stderr",
     "output_type": "stream",
     "text": [
      "100%|███████████████████████████████████████████████████████████████████████████████████████████████████████████████████████████████████████████████████████████████████████████████████████████| 467914/467914 [05:07<00:00, 1519.33it/s]\n"
     ]
    }
   ],
   "source": [
    "output_seperated_files(token_length=90, stride=6, drop_category=True)"
   ]
  },
  {
   "cell_type": "code",
   "execution_count": 16,
   "id": "525298b1",
   "metadata": {},
   "outputs": [
    {
     "name": "stderr",
     "output_type": "stream",
     "text": [
      "100%|███████████████████████████████████████████████████████████████████████████████████████████████████████████████████████████████████████████████████████████████████████████████████████████| 467914/467914 [05:30<00:00, 1416.36it/s]\n"
     ]
    }
   ],
   "source": [
    "output_seperated_files(token_length=150, stride=6, drop_category=True)"
   ]
  },
  {
   "cell_type": "code",
   "execution_count": null,
   "id": "56f5d810",
   "metadata": {},
   "outputs": [],
   "source": []
  },
  {
   "cell_type": "code",
   "execution_count": 42,
   "id": "dd56c6d6",
   "metadata": {},
   "outputs": [],
   "source": [
    "df_a = pd.read_parquet(\"../data/wikipedia_fixed/a.parquet\")"
   ]
  },
  {
   "cell_type": "code",
   "execution_count": 25,
   "id": "3b24f6a3",
   "metadata": {},
   "outputs": [],
   "source": [
    "df1 = pd.read_parquet(\"../data/wikipedia_fixed/sep_a/token_length90_stride_sentence3_drop_categoryTrue/chunk1.parquet\")"
   ]
  },
  {
   "cell_type": "code",
   "execution_count": 26,
   "id": "c0ead5c2",
   "metadata": {},
   "outputs": [],
   "source": [
    "df2 = pd.read_parquet(\"../data/wikipedia/sep4/token_length90_stride_sentence3_drop_categoryTrue/a.parquet\")"
   ]
  },
  {
   "cell_type": "code",
   "execution_count": 55,
   "id": "deb1e989",
   "metadata": {},
   "outputs": [
    {
     "data": {
      "text/plain": [
       "' Releasing their debut album in 1994, they are regarded as the pioneers of stoner metal in the United Kingdom, and an important influence upon the scene. Although the band never achieved mainstream success, during their career they received much critical acclaim – they were nominated for the Kerrang! Best Newcomer award and earned top review ratings. Acrimony have maintained a cult following in the British metal scene, their records reportedly selling for vast sums as collectors items AllMusic described their musical style as a \"powerful blend of Black Sabbath’s heavy metal riffery, Hawkwind\\'s space rock excursions, and Blue Cheer\\'s fuzzed-out psychedelic feedback.'"
      ]
     },
     "execution_count": 55,
     "metadata": {},
     "output_type": "execute_result"
    }
   ],
   "source": [
    "df1[\"text\"].values[12]"
   ]
  },
  {
   "cell_type": "code",
   "execution_count": 39,
   "id": "a2a83406",
   "metadata": {},
   "outputs": [
    {
     "data": {
      "text/html": [
       "<div>\n",
       "<style scoped>\n",
       "    .dataframe tbody tr th:only-of-type {\n",
       "        vertical-align: middle;\n",
       "    }\n",
       "\n",
       "    .dataframe tbody tr th {\n",
       "        vertical-align: top;\n",
       "    }\n",
       "\n",
       "    .dataframe thead th {\n",
       "        text-align: right;\n",
       "    }\n",
       "</style>\n",
       "<table border=\"1\" class=\"dataframe\">\n",
       "  <thead>\n",
       "    <tr style=\"text-align: right;\">\n",
       "      <th></th>\n",
       "      <th>title</th>\n",
       "      <th>text</th>\n",
       "      <th>id</th>\n",
       "      <th>title_only</th>\n",
       "    </tr>\n",
       "  </thead>\n",
       "  <tbody>\n",
       "    <tr>\n",
       "      <th>0</th>\n",
       "      <td>Alexandre Rousselet</td>\n",
       "      <td>Alexandre Rousselet (born 29 January 1977) is ...</td>\n",
       "      <td>10000040</td>\n",
       "      <td>True</td>\n",
       "    </tr>\n",
       "    <tr>\n",
       "      <th>1</th>\n",
       "      <td>Alexandre Rousselet</td>\n",
       "      <td>Alexandre Rousselet (born 29 January 1977) is ...</td>\n",
       "      <td>10000040</td>\n",
       "      <td>False</td>\n",
       "    </tr>\n",
       "    <tr>\n",
       "      <th>2</th>\n",
       "      <td>Alexandre Rousselet</td>\n",
       "      <td>His best individual finish at the Winter Olym...</td>\n",
       "      <td>10000040</td>\n",
       "      <td>False</td>\n",
       "    </tr>\n",
       "    <tr>\n",
       "      <th>3</th>\n",
       "      <td>Alexandre Rousselet</td>\n",
       "      <td>Rousselet's best finish at the FIS Nordic Wor...</td>\n",
       "      <td>10000040</td>\n",
       "      <td>False</td>\n",
       "    </tr>\n",
       "    <tr>\n",
       "      <th>4</th>\n",
       "      <td>Alexandre Rousselet</td>\n",
       "      <td>Rousselet was born in Pontarlier, Doubs. All ...</td>\n",
       "      <td>10000040</td>\n",
       "      <td>False</td>\n",
       "    </tr>\n",
       "    <tr>\n",
       "      <th>...</th>\n",
       "      <td>...</td>\n",
       "      <td>...</td>\n",
       "      <td>...</td>\n",
       "      <td>...</td>\n",
       "    </tr>\n",
       "    <tr>\n",
       "      <th>6160043</th>\n",
       "      <td>Asylum shopping</td>\n",
       "      <td>It is used mostly in the context of the Europ...</td>\n",
       "      <td>9852952</td>\n",
       "      <td>False</td>\n",
       "    </tr>\n",
       "    <tr>\n",
       "      <th>6160042</th>\n",
       "      <td>Asylum shopping</td>\n",
       "      <td>Asylum shopping is a term for the practice by ...</td>\n",
       "      <td>9852952</td>\n",
       "      <td>False</td>\n",
       "    </tr>\n",
       "    <tr>\n",
       "      <th>6160040</th>\n",
       "      <td>Asylum shopping</td>\n",
       "      <td>Asylum shopping is a term for the practice by ...</td>\n",
       "      <td>9852952</td>\n",
       "      <td>True</td>\n",
       "    </tr>\n",
       "    <tr>\n",
       "      <th>6160049</th>\n",
       "      <td>Asylum shopping</td>\n",
       "      <td>However, among some asylum seekers, fingerpri...</td>\n",
       "      <td>9852952</td>\n",
       "      <td>False</td>\n",
       "    </tr>\n",
       "    <tr>\n",
       "      <th>6160041</th>\n",
       "      <td>Asylum shopping</td>\n",
       "      <td>Asylum shopping is a term for the practice by ...</td>\n",
       "      <td>9852952</td>\n",
       "      <td>False</td>\n",
       "    </tr>\n",
       "  </tbody>\n",
       "</table>\n",
       "<p>6488962 rows × 4 columns</p>\n",
       "</div>"
      ],
      "text/plain": [
       "                       title  \\\n",
       "0        Alexandre Rousselet   \n",
       "1        Alexandre Rousselet   \n",
       "2        Alexandre Rousselet   \n",
       "3        Alexandre Rousselet   \n",
       "4        Alexandre Rousselet   \n",
       "...                      ...   \n",
       "6160043      Asylum shopping   \n",
       "6160042      Asylum shopping   \n",
       "6160040      Asylum shopping   \n",
       "6160049      Asylum shopping   \n",
       "6160041      Asylum shopping   \n",
       "\n",
       "                                                      text        id  \\\n",
       "0        Alexandre Rousselet (born 29 January 1977) is ...  10000040   \n",
       "1        Alexandre Rousselet (born 29 January 1977) is ...  10000040   \n",
       "2         His best individual finish at the Winter Olym...  10000040   \n",
       "3         Rousselet's best finish at the FIS Nordic Wor...  10000040   \n",
       "4         Rousselet was born in Pontarlier, Doubs. All ...  10000040   \n",
       "...                                                    ...       ...   \n",
       "6160043   It is used mostly in the context of the Europ...   9852952   \n",
       "6160042  Asylum shopping is a term for the practice by ...   9852952   \n",
       "6160040  Asylum shopping is a term for the practice by ...   9852952   \n",
       "6160049   However, among some asylum seekers, fingerpri...   9852952   \n",
       "6160041  Asylum shopping is a term for the practice by ...   9852952   \n",
       "\n",
       "         title_only  \n",
       "0              True  \n",
       "1             False  \n",
       "2             False  \n",
       "3             False  \n",
       "4             False  \n",
       "...             ...  \n",
       "6160043       False  \n",
       "6160042       False  \n",
       "6160040        True  \n",
       "6160049       False  \n",
       "6160041       False  \n",
       "\n",
       "[6488962 rows x 4 columns]"
      ]
     },
     "execution_count": 39,
     "metadata": {},
     "output_type": "execute_result"
    }
   ],
   "source": [
    "df1.sort_values(\"id\")"
   ]
  },
  {
   "cell_type": "code",
   "execution_count": 51,
   "id": "e5f99b46",
   "metadata": {},
   "outputs": [
    {
     "data": {
      "text/plain": [
       "'Alexandre Rousselet (born 29 January 1977) is a French cross-country skier who has competed since 1998. His best individual finish at the Winter Olympics was 19th in the 15km event at Turin in 2006. Rousselet\\'s best finish at the FIS Nordic World Ski Championships was fifth in the 4 × 10km relay at Sapporo in 2007 while his best individual finish was 25th in the 15km event in 2005. His best individual career finish was fourth in a 15km + 15km double pursuit FIS race in France in 2006 while his best individual World Cup finish was eighth in a 30km event in Italy, also in 2006. Rousselet was born in Pontarlier, Doubs. All results are sourced from the International Ski Federation (FIS). 1 victory – (1 RL) 4 podiums – (4 RL) \"ROUSSELET Alexandre\". FIS-Ski. International Ski Federation. Retrieved 21 November 2019. Alexandre Rousselet at the International Ski and Snowboard Federation v t e'"
      ]
     },
     "execution_count": 51,
     "metadata": {},
     "output_type": "execute_result"
    }
   ],
   "source": [
    "df_a[df_a[\"id\"] == \"10000040\"][\"text\"].values[0].replace(\"\\xa0\", \"\")"
   ]
  },
  {
   "cell_type": "code",
   "execution_count": 60,
   "id": "14104a4d",
   "metadata": {},
   "outputs": [
    {
     "data": {
      "text/html": [
       "<div>\n",
       "<style scoped>\n",
       "    .dataframe tbody tr th:only-of-type {\n",
       "        vertical-align: middle;\n",
       "    }\n",
       "\n",
       "    .dataframe tbody tr th {\n",
       "        vertical-align: top;\n",
       "    }\n",
       "\n",
       "    .dataframe thead th {\n",
       "        text-align: right;\n",
       "    }\n",
       "</style>\n",
       "<table border=\"1\" class=\"dataframe\">\n",
       "  <thead>\n",
       "    <tr style=\"text-align: right;\">\n",
       "      <th></th>\n",
       "      <th>title</th>\n",
       "      <th>text</th>\n",
       "      <th>id</th>\n",
       "      <th>category</th>\n",
       "    </tr>\n",
       "  </thead>\n",
       "  <tbody>\n",
       "    <tr>\n",
       "      <th>12</th>\n",
       "      <td>Alexandre Rousselet</td>\n",
       "      <td>Alexandre Rousselet (born 29 January 1977) is ...</td>\n",
       "      <td>10000040</td>\n",
       "      <td>[Articles with short description, Short descri...</td>\n",
       "    </tr>\n",
       "    <tr>\n",
       "      <th>30</th>\n",
       "      <td>A Intrusa</td>\n",
       "      <td>A Intrusa is a 1979 Brazilian drama film direc...</td>\n",
       "      <td>10000156</td>\n",
       "      <td>[CS1 Portuguese-language sources (pt), Article...</td>\n",
       "    </tr>\n",
       "    <tr>\n",
       "      <th>67</th>\n",
       "      <td>Acrimony (band)</td>\n",
       "      <td>Acrimony was a Welsh heavy metal band from Swa...</td>\n",
       "      <td>10000383</td>\n",
       "      <td>[Articles with short description, Short descri...</td>\n",
       "    </tr>\n",
       "    <tr>\n",
       "      <th>73</th>\n",
       "      <td>Atocha station memorial</td>\n",
       "      <td>The Atocha station memorial is a memorial monu...</td>\n",
       "      <td>10000495</td>\n",
       "      <td>[Articles with short description, Short descri...</td>\n",
       "    </tr>\n",
       "    <tr>\n",
       "      <th>117</th>\n",
       "      <td>Araquistáin</td>\n",
       "      <td>Araquistáin (Basque: Arakistain) is a Spanish ...</td>\n",
       "      <td>10001050</td>\n",
       "      <td>[Articles containing Basque-language text, Sho...</td>\n",
       "    </tr>\n",
       "    <tr>\n",
       "      <th>176</th>\n",
       "      <td>Alifereti Doviverata</td>\n",
       "      <td>Ro Alifereti Raivalita Doviverata (born 14 Jun...</td>\n",
       "      <td>10001728</td>\n",
       "      <td>[Articles with short description, Short descri...</td>\n",
       "    </tr>\n",
       "    <tr>\n",
       "      <th>192</th>\n",
       "      <td>Alimqul</td>\n",
       "      <td>`Alimqul (also spelt Alymkul, Alim quli, Alim ...</td>\n",
       "      <td>10001923</td>\n",
       "      <td>[Articles with FAST identifiers, Articles with...</td>\n",
       "    </tr>\n",
       "    <tr>\n",
       "      <th>195</th>\n",
       "      <td>Aleksandar Matanović</td>\n",
       "      <td>Aleksandar Matanović (Serbo-Croatian Cyrillic:...</td>\n",
       "      <td>10001965</td>\n",
       "      <td>[Articles with short description, Short descri...</td>\n",
       "    </tr>\n",
       "    <tr>\n",
       "      <th>232</th>\n",
       "      <td>Argentina–Chile relations</td>\n",
       "      <td>International relations between the Republic o...</td>\n",
       "      <td>10002382</td>\n",
       "      <td>[CS1: Julian–Gregorian uncertainty, All articl...</td>\n",
       "    </tr>\n",
       "    <tr>\n",
       "      <th>240</th>\n",
       "      <td>Assist (basketball)</td>\n",
       "      <td>In basketball, an assist is attributed to a pl...</td>\n",
       "      <td>1000246</td>\n",
       "      <td>[Webarchive template wayback links, Articles w...</td>\n",
       "    </tr>\n",
       "    <tr>\n",
       "      <th>250</th>\n",
       "      <td>Alfred Skinner</td>\n",
       "      <td>Alfred Skinner may refer to: Alf Skinner (1894...</td>\n",
       "      <td>10002568</td>\n",
       "      <td>[Short description is different from Wikidata,...</td>\n",
       "    </tr>\n",
       "    <tr>\n",
       "      <th>254</th>\n",
       "      <td>Antonio Neri</td>\n",
       "      <td>Antonio Neri (29 February 1576, Florence – 161...</td>\n",
       "      <td>10002596</td>\n",
       "      <td>[CS1 errors: generic name, Articles with short...</td>\n",
       "    </tr>\n",
       "    <tr>\n",
       "      <th>269</th>\n",
       "      <td>Aaron Gibson</td>\n",
       "      <td>Aaron Gibson (born September 27, 1977) is a fo...</td>\n",
       "      <td>10002729</td>\n",
       "      <td>[Articles with short description, Short descri...</td>\n",
       "    </tr>\n",
       "    <tr>\n",
       "      <th>277</th>\n",
       "      <td>American Totalisator</td>\n",
       "      <td>The American Totalisator Company, known today ...</td>\n",
       "      <td>10002888</td>\n",
       "      <td>[Articles with short description, Short descri...</td>\n",
       "    </tr>\n",
       "    <tr>\n",
       "      <th>287</th>\n",
       "      <td>A. N. Palmer</td>\n",
       "      <td>Austin Norman Palmer (December 22, 1860 – Nove...</td>\n",
       "      <td>1000300</td>\n",
       "      <td>[Articles with FAST identifiers, Articles with...</td>\n",
       "    </tr>\n",
       "    <tr>\n",
       "      <th>297</th>\n",
       "      <td>An Unusual Angle</td>\n",
       "      <td>An Unusual Angle (1983) was the debut novel by...</td>\n",
       "      <td>1000311</td>\n",
       "      <td>[Articles with short description, Short descri...</td>\n",
       "    </tr>\n",
       "    <tr>\n",
       "      <th>313</th>\n",
       "      <td>Angel Face (1998 film)</td>\n",
       "      <td>Angel Face (Spanish: La cara del ángel) is a 1...</td>\n",
       "      <td>10003264</td>\n",
       "      <td>[IMDb ID same as Wikidata, Webarchive template...</td>\n",
       "    </tr>\n",
       "    <tr>\n",
       "      <th>314</th>\n",
       "      <td>A Floating City</td>\n",
       "      <td>A Floating City, or sometimes translated The F...</td>\n",
       "      <td>10003311</td>\n",
       "      <td>[Articles with short description, Short descri...</td>\n",
       "    </tr>\n",
       "    <tr>\n",
       "      <th>339</th>\n",
       "      <td>Aero Ae 01</td>\n",
       "      <td>The Aero Ae 01 was a Czechoslovakian military ...</td>\n",
       "      <td>1000354</td>\n",
       "      <td>[Articles lacking sources from December 2009, ...</td>\n",
       "    </tr>\n",
       "    <tr>\n",
       "      <th>341</th>\n",
       "      <td>A Stitch in Time</td>\n",
       "      <td>Look up a stitch in time saves nine in Wiktion...</td>\n",
       "      <td>10003555</td>\n",
       "      <td>[Short description is different from Wikidata,...</td>\n",
       "    </tr>\n",
       "  </tbody>\n",
       "</table>\n",
       "</div>"
      ],
      "text/plain": [
       "                         title  \\\n",
       "12         Alexandre Rousselet   \n",
       "30                   A Intrusa   \n",
       "67             Acrimony (band)   \n",
       "73     Atocha station memorial   \n",
       "117                Araquistáin   \n",
       "176       Alifereti Doviverata   \n",
       "192                    Alimqul   \n",
       "195       Aleksandar Matanović   \n",
       "232  Argentina–Chile relations   \n",
       "240        Assist (basketball)   \n",
       "250             Alfred Skinner   \n",
       "254               Antonio Neri   \n",
       "269               Aaron Gibson   \n",
       "277       American Totalisator   \n",
       "287               A. N. Palmer   \n",
       "297           An Unusual Angle   \n",
       "313     Angel Face (1998 film)   \n",
       "314            A Floating City   \n",
       "339                 Aero Ae 01   \n",
       "341           A Stitch in Time   \n",
       "\n",
       "                                                  text        id  \\\n",
       "12   Alexandre Rousselet (born 29 January 1977) is ...  10000040   \n",
       "30   A Intrusa is a 1979 Brazilian drama film direc...  10000156   \n",
       "67   Acrimony was a Welsh heavy metal band from Swa...  10000383   \n",
       "73   The Atocha station memorial is a memorial monu...  10000495   \n",
       "117  Araquistáin (Basque: Arakistain) is a Spanish ...  10001050   \n",
       "176  Ro Alifereti Raivalita Doviverata (born 14 Jun...  10001728   \n",
       "192  `Alimqul (also spelt Alymkul, Alim quli, Alim ...  10001923   \n",
       "195  Aleksandar Matanović (Serbo-Croatian Cyrillic:...  10001965   \n",
       "232  International relations between the Republic o...  10002382   \n",
       "240  In basketball, an assist is attributed to a pl...   1000246   \n",
       "250  Alfred Skinner may refer to: Alf Skinner (1894...  10002568   \n",
       "254  Antonio Neri (29 February 1576, Florence – 161...  10002596   \n",
       "269  Aaron Gibson (born September 27, 1977) is a fo...  10002729   \n",
       "277  The American Totalisator Company, known today ...  10002888   \n",
       "287  Austin Norman Palmer (December 22, 1860 – Nove...   1000300   \n",
       "297  An Unusual Angle (1983) was the debut novel by...   1000311   \n",
       "313  Angel Face (Spanish: La cara del ángel) is a 1...  10003264   \n",
       "314  A Floating City, or sometimes translated The F...  10003311   \n",
       "339  The Aero Ae 01 was a Czechoslovakian military ...   1000354   \n",
       "341  Look up a stitch in time saves nine in Wiktion...  10003555   \n",
       "\n",
       "                                              category  \n",
       "12   [Articles with short description, Short descri...  \n",
       "30   [CS1 Portuguese-language sources (pt), Article...  \n",
       "67   [Articles with short description, Short descri...  \n",
       "73   [Articles with short description, Short descri...  \n",
       "117  [Articles containing Basque-language text, Sho...  \n",
       "176  [Articles with short description, Short descri...  \n",
       "192  [Articles with FAST identifiers, Articles with...  \n",
       "195  [Articles with short description, Short descri...  \n",
       "232  [CS1: Julian–Gregorian uncertainty, All articl...  \n",
       "240  [Webarchive template wayback links, Articles w...  \n",
       "250  [Short description is different from Wikidata,...  \n",
       "254  [CS1 errors: generic name, Articles with short...  \n",
       "269  [Articles with short description, Short descri...  \n",
       "277  [Articles with short description, Short descri...  \n",
       "287  [Articles with FAST identifiers, Articles with...  \n",
       "297  [Articles with short description, Short descri...  \n",
       "313  [IMDb ID same as Wikidata, Webarchive template...  \n",
       "314  [Articles with short description, Short descri...  \n",
       "339  [Articles lacking sources from December 2009, ...  \n",
       "341  [Short description is different from Wikidata,...  "
      ]
     },
     "execution_count": 60,
     "metadata": {},
     "output_type": "execute_result"
    }
   ],
   "source": [
    "df_a.iloc[:20]"
   ]
  },
  {
   "cell_type": "code",
   "execution_count": 50,
   "id": "19d031f4",
   "metadata": {
    "scrolled": true
   },
   "outputs": [
    {
     "data": {
      "text/plain": [
       "\"Alexandre Rousselet (born 29 January 1977) is a French cross-country skier who has competed since 1998  His best individual finish at the Winter Olympics was 19th in the 15\\xa0km event at Turin in 2006  Rousselet's best finish at the FIS Nordic World Ski Championships was fifth in the 4 × 10\\xa0km relay at Sapporo in 2007 while his best individual finish was 25th in the 15\\xa0km event in 2005  His best individual career finish was fourth in a 15\\xa0km + 15\\xa0km double pursuit FIS race in France in 2006 while his best individual World Cup finish was eighth in a 30\\xa0km event in Italy, also in 2006  Rousselet was born in Pontarlier, Doubs  All results are sourced from the International Ski Federation (FIS)\""
      ]
     },
     "execution_count": 50,
     "metadata": {},
     "output_type": "execute_result"
    }
   ],
   "source": [
    "df1.sort_values(\"id\").iloc[0][\"text\"]"
   ]
  },
  {
   "cell_type": "code",
   "execution_count": 48,
   "id": "22bdb33c",
   "metadata": {},
   "outputs": [
    {
     "data": {
      "text/plain": [
       "' Rousselet was born in Pontarlier, Doubs. ==Cross-country skiing results== All results are sourced from the International Ski Federation (FIS). ===Olympic Games=== Year Age 15 km Pursuit 30 km 50 km Sprint 4 × 10 km relay Team sprint 2002 25 — 35 47 — — 8 2006 29 18 26 26 — 4 — ===World Championships=== Year Age 15 km Pursuit 30 km 50 km Sprint 4 × 10 km relay Team sprint 2001 24 — 44 — 40 33 — 2003 26 60 — — 47 — 11 2005 28 25 35 26 — 6 — 2007 30 38 44 42 — 5 — 2009 32 27 — — — 9 — ===World Cup=== ====Season standings==== Season Age Discipline standings Ski Tour standings Overall Distance Sprint Tour de Ski World Cup Final 2001 24 126 2002 25 2003 26 106 2004 27 127 88 — 2005 28 77 49 — 2006 29 33 21 — 2007 30 71 41 42 2008 31 120 67 37 42 2009 32 91 62 92 30 — 2010 33 — — — ====Team podiums==== * 1 victory – (1 ) * 4 podiums – (4 ) No Season Date Location Race Level Place Teammates 1 2003–04 7 February 2004 La Clusaz, France 4 × 10 km Relay C/F World Cup 1st Perrillat-Collomb / Vittoz / Jonnier 2 2004–05 12 December 2004 Val di Fiemme, Italy 4 × 10 km Relay C/F World Cup 3rd Perrillat-Collomb / Vittoz / Jonnier 3 2005–06 20 November 2005 Beitostølen, Norway 4 × 10 km Relay C/F World Cup 2nd Perrillat-Collomb / Jonnier / Vittoz 4 2006–07 4 February 2007 Davos, Switzerland 4 × 10 km Relay C/F World Cup 3rd Gaillard / Vittoz / Jonnier ==References== ==External links== *.'"
      ]
     },
     "execution_count": 48,
     "metadata": {},
     "output_type": "execute_result"
    }
   ],
   "source": [
    "df2.sort_values(\"id\").iloc[0][\"text\"]"
   ]
  },
  {
   "cell_type": "code",
   "execution_count": 61,
   "id": "63f90551",
   "metadata": {},
   "outputs": [],
   "source": [
    "df_gpt = pd.read_parquet(\"output_gpt3.5_generate/20230922073516.parquet\")"
   ]
  },
  {
   "cell_type": "code",
   "execution_count": 64,
   "id": "7042594a",
   "metadata": {},
   "outputs": [],
   "source": [
    "df_gpt.head(250).to_csv(\"only_a_250text_3.csv\", index=False)"
   ]
  },
  {
   "cell_type": "code",
   "execution_count": null,
   "id": "1fb5ac65",
   "metadata": {},
   "outputs": [],
   "source": []
  }
 ],
 "metadata": {
  "kernelspec": {
   "display_name": "Python 3 (ipykernel)",
   "language": "python",
   "name": "python3"
  },
  "language_info": {
   "codemirror_mode": {
    "name": "ipython",
    "version": 3
   },
   "file_extension": ".py",
   "mimetype": "text/x-python",
   "name": "python",
   "nbconvert_exporter": "python",
   "pygments_lexer": "ipython3",
   "version": "3.10.12"
  }
 },
 "nbformat": 4,
 "nbformat_minor": 5
}
