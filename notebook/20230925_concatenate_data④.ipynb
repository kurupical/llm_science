{
 "cells": [
  {
   "cell_type": "code",
   "execution_count": 8,
   "id": "2842c3ac",
   "metadata": {},
   "outputs": [],
   "source": [
    "import pandas as pd"
   ]
  },
  {
   "cell_type": "code",
   "execution_count": 9,
   "id": "f852fe17",
   "metadata": {},
   "outputs": [],
   "source": [
    "df1 = pd.read_csv(\"../data/gpt_generated_data/all_12_with_context2_train.csv\")\n",
    "df2 = pd.read_csv(\"../data/gpt_generated_data/science_qa.csv\")\n",
    "df3 = pd.read_csv(\"../data/gpt_generated_data/openbook.csv\")\n",
    "df4 = pd.read_csv(\"../data/gpt_generated_data/mmlu.csv\")\n",
    "df5 = pd.read_parquet(\"../data/gpt_generated_data/20230924083304_gpt5.parquet\")"
   ]
  },
  {
   "cell_type": "code",
   "execution_count": 10,
   "id": "d856d0f5",
   "metadata": {},
   "outputs": [
    {
     "data": {
      "text/plain": [
       "(5839, 5754)"
      ]
     },
     "execution_count": 10,
     "metadata": {},
     "output_type": "execute_result"
    }
   ],
   "source": [
    "len(df5), len(df5[df5[\"answer\"].isin([\"A\", \"B\", \"C\", \"D\", \"E\"])])"
   ]
  },
  {
   "cell_type": "code",
   "execution_count": 11,
   "id": "6be79bf6",
   "metadata": {},
   "outputs": [],
   "source": [
    "df5 = df5[df5[\"answer\"].isin([\"A\", \"B\", \"C\", \"D\", \"E\"])]"
   ]
  },
  {
   "cell_type": "code",
   "execution_count": 14,
   "id": "e5603d65",
   "metadata": {},
   "outputs": [],
   "source": [
    "df5[\"source\"] = \"20230924083304_gpt5\""
   ]
  },
  {
   "cell_type": "code",
   "execution_count": 15,
   "id": "b0d5c49d",
   "metadata": {},
   "outputs": [],
   "source": [
    "import numpy as np\n",
    "def fill_random(df):\n",
    "    all_choices = df[[\"A\", \"B\", \"C\", \"D\", \"E\"]].values.flatten()\n",
    "    all_choices = all_choices[all_choices == all_choices]  # not nan\n",
    "    def fillna_randomly(value):\n",
    "        if pd.isna(value):\n",
    "            return np.random.choice(all_choices)\n",
    "        else:\n",
    "            return value\n",
    "\n",
    "    return df.applymap(fillna_randomly)\n",
    "df1 = fill_random(df1)\n",
    "df2 = fill_random(df2)\n",
    "df3 = fill_random(df3)\n",
    "df4 = fill_random(df4)\n",
    "df5 = fill_random(df5)"
   ]
  },
  {
   "cell_type": "code",
   "execution_count": 16,
   "id": "a93b95ca",
   "metadata": {},
   "outputs": [
    {
     "data": {
      "text/plain": [
       "(59059, 3291, 2115, 10915, 5754)"
      ]
     },
     "execution_count": 16,
     "metadata": {},
     "output_type": "execute_result"
    }
   ],
   "source": [
    "len(df1), len(df2), len(df3), len(df4), len(df5)"
   ]
  },
  {
   "cell_type": "code",
   "execution_count": 17,
   "id": "64c13e71",
   "metadata": {},
   "outputs": [],
   "source": [
    "df = pd.concat([df1, df2, df3, df4, df5])[['prompt', 'A', 'B', 'C', 'D', 'E', 'answer', 'source']]"
   ]
  },
  {
   "cell_type": "code",
   "execution_count": 18,
   "id": "4f2ba9cc",
   "metadata": {},
   "outputs": [
    {
     "data": {
      "text/plain": [
       "3                                                                                  14831\n",
       "10                                                                                 11679\n",
       "2                                                                                   5986\n",
       "6                                                                                   5968\n",
       "5                                                                                   5923\n",
       "4                                                                                   5862\n",
       "additional_data/MMLU/test.csv                                                       5781\n",
       "20230924083304_gpt5                                                                 5754\n",
       "additional_data/MMLU/train.csv                                                      4499\n",
       "8                                                                                   3249\n",
       "9                                                                                   3069\n",
       "additional_data/ScienceQA/train.parquet                                             1995\n",
       "additional_data/OpenBookQA-V1-Sep2018/OpenBookQA-V1-Sep2018/Data/Main/train.tsv     1771\n",
       "7                                                                                    999\n",
       "11                                                                                   993\n",
       "additional_data/ScienceQA/test.parquet                                               673\n",
       "additional_data/MMLU/valid.csv                                                       635\n",
       "additional_data/ScienceQA/val.parquet                                                623\n",
       "1                                                                                    500\n",
       "additional_data/OpenBookQA-V1-Sep2018/OpenBookQA-V1-Sep2018/Data/Main/test.tsv       180\n",
       "additional_data/OpenBookQA-V1-Sep2018/OpenBookQA-V1-Sep2018/Data/Main/dev.tsv        164\n",
       "Name: source, dtype: int64"
      ]
     },
     "execution_count": 18,
     "metadata": {},
     "output_type": "execute_result"
    }
   ],
   "source": [
    "df[\"source\"].value_counts()"
   ]
  },
  {
   "cell_type": "code",
   "execution_count": 19,
   "id": "93a6bb6b",
   "metadata": {},
   "outputs": [],
   "source": [
    "df_valid = pd.concat([\n",
    "    df[df[\"source\"] == 1].sample(300),\n",
    "    df[df[\"source\"] == 2].sample(300),\n",
    "    df[df[\"source\"] == 3].sample(300),\n",
    "    df[df[\"source\"] == 4].sample(300),\n",
    "    df[df[\"source\"] == 5].sample(300),\n",
    "    df[df[\"source\"] == 6].sample(300),\n",
    "    df[df[\"source\"] == 7].sample(300),\n",
    "    df[df[\"source\"] == 8].sample(300),\n",
    "    df[df[\"source\"] == 9].sample(300),\n",
    "    df[df[\"source\"] == 11].sample(300),\n",
    "    df[df[\"source\"] == \"additional_data/MMLU/test.csv\"].sample(300),\n",
    "    df[df[\"source\"] == \"additional_data/OpenBookQA-V1-Sep2018/OpenBookQA-V1-Sep2018/Data/Main/train.tsv\"].sample(300),\n",
    "    df[df[\"source\"] == \"additional_data/ScienceQA/test.parquet\"].sample(300),\n",
    "    df[df[\"source\"] == \"20230924083304_gpt5\"].sample(300),\n",
    "])\n",
    "df_valid[\"dataset\"] = \"valid\""
   ]
  },
  {
   "cell_type": "code",
   "execution_count": 20,
   "id": "a2d48d0a",
   "metadata": {},
   "outputs": [
    {
     "name": "stderr",
     "output_type": "stream",
     "text": [
      "/tmp/ipykernel_10849/2436017171.py:2: SettingWithCopyWarning: \n",
      "A value is trying to be set on a copy of a slice from a DataFrame.\n",
      "Try using .loc[row_indexer,col_indexer] = value instead\n",
      "\n",
      "See the caveats in the documentation: https://pandas.pydata.org/pandas-docs/stable/user_guide/indexing.html#returning-a-view-versus-a-copy\n",
      "  df_train[\"dataset\"] = \"train\"\n"
     ]
    }
   ],
   "source": [
    "df_train = df[~df.index.isin(df_valid.index)]\n",
    "df_train[\"dataset\"] = \"train\""
   ]
  },
  {
   "cell_type": "code",
   "execution_count": 21,
   "id": "0e66c6e6",
   "metadata": {},
   "outputs": [
    {
     "data": {
      "text/plain": [
       "(81134, 72133, 4200)"
      ]
     },
     "execution_count": 21,
     "metadata": {},
     "output_type": "execute_result"
    }
   ],
   "source": [
    "len(df), len(df_train), len(df_valid)"
   ]
  },
  {
   "cell_type": "code",
   "execution_count": 22,
   "id": "7a8468a7",
   "metadata": {},
   "outputs": [
    {
     "data": {
      "text/plain": [
       "source                                                                           dataset\n",
       "1                                                                                train         98\n",
       "                                                                                 valid        300\n",
       "2                                                                                train       4884\n",
       "                                                                                 valid        300\n",
       "3                                                                                train      14531\n",
       "                                                                                 valid        300\n",
       "4                                                                                train       5562\n",
       "                                                                                 valid        300\n",
       "5                                                                                train       5623\n",
       "                                                                                 valid        300\n",
       "6                                                                                train       5668\n",
       "                                                                                 valid        300\n",
       "7                                                                                train        699\n",
       "                                                                                 valid        300\n",
       "8                                                                                train       2949\n",
       "                                                                                 valid        300\n",
       "9                                                                                train       2769\n",
       "                                                                                 valid        300\n",
       "10                                                                               train      11679\n",
       "11                                                                               train        693\n",
       "                                                                                 valid        300\n",
       "20230924083304_gpt5                                                              train       4304\n",
       "                                                                                 valid        300\n",
       "additional_data/MMLU/test.csv                                                    train       4317\n",
       "                                                                                 valid        300\n",
       "additional_data/MMLU/train.csv                                                   train       4387\n",
       "additional_data/MMLU/valid.csv                                                   train        618\n",
       "additional_data/OpenBookQA-V1-Sep2018/OpenBookQA-V1-Sep2018/Data/Main/dev.tsv    train         25\n",
       "additional_data/OpenBookQA-V1-Sep2018/OpenBookQA-V1-Sep2018/Data/Main/test.tsv   train         42\n",
       "additional_data/OpenBookQA-V1-Sep2018/OpenBookQA-V1-Sep2018/Data/Main/train.tsv  train       1120\n",
       "                                                                                 valid        300\n",
       "additional_data/ScienceQA/test.parquet                                           train        171\n",
       "                                                                                 valid        300\n",
       "additional_data/ScienceQA/train.parquet                                          train       1490\n",
       "additional_data/ScienceQA/val.parquet                                            train        504\n",
       "dtype: int64"
      ]
     },
     "execution_count": 22,
     "metadata": {},
     "output_type": "execute_result"
    }
   ],
   "source": [
    "pd.concat([df_train, df_valid]).groupby([\"source\", \"dataset\"]).size()"
   ]
  },
  {
   "cell_type": "code",
   "execution_count": 23,
   "id": "c77dd019",
   "metadata": {},
   "outputs": [],
   "source": [
    "pd.concat([df_train, df_valid]).reset_index(drop=True).to_csv(\"20230925_concatenate.csv\")"
   ]
  },
  {
   "cell_type": "code",
   "execution_count": null,
   "id": "fea1e1eb",
   "metadata": {},
   "outputs": [],
   "source": []
  }
 ],
 "metadata": {
  "kernelspec": {
   "display_name": "Python 3 (ipykernel)",
   "language": "python",
   "name": "python3"
  },
  "language_info": {
   "codemirror_mode": {
    "name": "ipython",
    "version": 3
   },
   "file_extension": ".py",
   "mimetype": "text/x-python",
   "name": "python",
   "nbconvert_exporter": "python",
   "pygments_lexer": "ipython3",
   "version": "3.10.12"
  }
 },
 "nbformat": 4,
 "nbformat_minor": 5
}
