{
 "cells": [
  {
   "cell_type": "code",
   "execution_count": 1,
   "id": "21bf371f",
   "metadata": {},
   "outputs": [],
   "source": [
    "import pandas as pd\n",
    "import tqdm\n",
    "import glob\n",
    "import os"
   ]
  },
  {
   "cell_type": "code",
   "execution_count": 2,
   "id": "f91994aa",
   "metadata": {},
   "outputs": [],
   "source": [
    "files = glob.glob(\"../data/wikipedia/a.parquet\")\n",
    "files = [f for f in files if \"all\" not in f]"
   ]
  },
  {
   "cell_type": "code",
   "execution_count": 3,
   "id": "7813678f",
   "metadata": {},
   "outputs": [],
   "source": [
    "def output_seperated_files(token_length, stride):    \n",
    "    output_dir = f\"../data/wikipedia/sep3/token_length{token_length}_stride{stride}\"\n",
    "    os.makedirs(output_dir, exist_ok=True)\n",
    "    for file in files:\n",
    "        df_wiki = pd.read_parquet(file)\n",
    "        df_wiki = df_wiki.drop(\"categories\", axis=1)\n",
    "        df_wiki_sep = []\n",
    "        for i in tqdm.tqdm(range(len(df_wiki))):\n",
    "            series = df_wiki.iloc[i]\n",
    "            text = series[\"text\"]\n",
    "\n",
    "            text_space = text.split(\" \")\n",
    "            for i in range(0, len(text_space) + stride, stride):\n",
    "                series_ = series.copy()\n",
    "                series_[\"text\"] = \" \".join(text_space[i:i+token_length])\n",
    "                df_wiki_sep.append(series_)\n",
    "        df_wiki_sep = pd.DataFrame(df_wiki_sep)\n",
    "        df_wiki_sep.to_parquet(f\"{output_dir}/{os.path.basename(file)}\")"
   ]
  },
  {
   "cell_type": "code",
   "execution_count": 4,
   "id": "666beec0",
   "metadata": {},
   "outputs": [
    {
     "name": "stderr",
     "output_type": "stream",
     "text": [
      "100%|█████████████████████████████████████████████████████████████████████████████████████████| 442726/442726 [03:32<00:00, 2084.60it/s]\n"
     ]
    }
   ],
   "source": [
    "output_seperated_files(token_length=100, stride=50)"
   ]
  },
  {
   "cell_type": "code",
   "execution_count": 5,
   "id": "57ea91a4",
   "metadata": {},
   "outputs": [
    {
     "name": "stderr",
     "output_type": "stream",
     "text": [
      "100%|█████████████████████████████████████████████████████████████████████████████████████████| 442726/442726 [04:03<00:00, 1819.82it/s]\n"
     ]
    }
   ],
   "source": [
    "output_seperated_files(token_length=75, stride=40)"
   ]
  },
  {
   "cell_type": "code",
   "execution_count": 6,
   "id": "3ad16648",
   "metadata": {},
   "outputs": [
    {
     "name": "stderr",
     "output_type": "stream",
     "text": [
      "100%|█████████████████████████████████████████████████████████████████████████████████████████| 442726/442726 [05:57<00:00, 1238.47it/s]\n"
     ]
    }
   ],
   "source": [
    "output_seperated_files(token_length=50, stride=25)"
   ]
  },
  {
   "cell_type": "code",
   "execution_count": null,
   "id": "e416252f",
   "metadata": {},
   "outputs": [],
   "source": []
  }
 ],
 "metadata": {
  "kernelspec": {
   "display_name": "Python 3 (ipykernel)",
   "language": "python",
   "name": "python3"
  },
  "language_info": {
   "codemirror_mode": {
    "name": "ipython",
    "version": 3
   },
   "file_extension": ".py",
   "mimetype": "text/x-python",
   "name": "python",
   "nbconvert_exporter": "python",
   "pygments_lexer": "ipython3",
   "version": "3.10.12"
  }
 },
 "nbformat": 4,
 "nbformat_minor": 5
}
