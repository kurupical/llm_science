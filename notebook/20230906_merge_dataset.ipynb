{
 "cells": [
  {
   "cell_type": "code",
   "execution_count": 2,
   "id": "feb3d2f1",
   "metadata": {},
   "outputs": [],
   "source": [
    "import pandas as pd\n",
    "import random\n",
    "import tqdm"
   ]
  },
  {
   "cell_type": "code",
   "execution_count": 3,
   "id": "6a161f4d",
   "metadata": {},
   "outputs": [],
   "source": [
    "df = pd.read_csv(\"../data/gpt_generated_data/all_12_with_context2.csv\")"
   ]
  },
  {
   "cell_type": "code",
   "execution_count": 4,
   "id": "fa660074",
   "metadata": {},
   "outputs": [],
   "source": [
    "df2 = pd.concat([\n",
    "    pd.read_csv(\"../data/gpt_generated_data/20230828141216.csv\"),\n",
    "    pd.read_csv(\"../data/gpt_generated_data/20230903025102.csv\"),\n",
    "    pd.read_csv(\"../data/gpt_generated_data/20230904142907_7question_per_1text.csv\"),\n",
    "    pd.read_csv(\"../data/gpt_generated_data/20230905125053.csv\"),\n",
    "])"
   ]
  },
  {
   "cell_type": "code",
   "execution_count": 7,
   "id": "bf46dcca",
   "metadata": {},
   "outputs": [
    {
     "data": {
      "text/plain": [
       "Index(['prompt', 'context', 'A', 'B', 'C', 'D', 'E', 'answer', 'source'], dtype='object')"
      ]
     },
     "execution_count": 7,
     "metadata": {},
     "output_type": "execute_result"
    }
   ],
   "source": [
    "df.columns"
   ]
  },
  {
   "cell_type": "code",
   "execution_count": 9,
   "id": "44178372",
   "metadata": {},
   "outputs": [],
   "source": [
    "pd.concat([\n",
    "    df,\n",
    "    df2\n",
    "])[[\"prompt\", \"A\", \"B\", \"C\", \"D\", \"E\", \"answer\"]].to_csv(\"../data/gpt_generated_data/20230906_merge_dataset.csv\", index=False)"
   ]
  },
  {
   "cell_type": "code",
   "execution_count": null,
   "id": "0af10b38",
   "metadata": {},
   "outputs": [],
   "source": []
  }
 ],
 "metadata": {
  "kernelspec": {
   "display_name": "Python 3 (ipykernel)",
   "language": "python",
   "name": "python3"
  },
  "language_info": {
   "codemirror_mode": {
    "name": "ipython",
    "version": 3
   },
   "file_extension": ".py",
   "mimetype": "text/x-python",
   "name": "python",
   "nbconvert_exporter": "python",
   "pygments_lexer": "ipython3",
   "version": "3.10.12"
  }
 },
 "nbformat": 4,
 "nbformat_minor": 5
}
