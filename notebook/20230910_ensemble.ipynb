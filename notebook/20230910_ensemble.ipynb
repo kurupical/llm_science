{
 "cells": [
  {
   "cell_type": "code",
   "execution_count": 2,
   "id": "4bd38655",
   "metadata": {},
   "outputs": [],
   "source": [
    "\n",
    "import pandas as pd\n",
    "import numpy as np"
   ]
  },
  {
   "cell_type": "code",
   "execution_count": 3,
   "id": "6fb21fae",
   "metadata": {},
   "outputs": [],
   "source": [
    "def map_at_3(predictions, labels):\n",
    "    map_sum = 0\n",
    "    pred = np.argsort(-1*np.array(predictions),axis=1)[:,:3]\n",
    "    for x,y in zip(pred,labels):\n",
    "        z = [1/i if y==j else 0 for i,j in zip([1,2,3],x)]\n",
    "        map_sum += np.sum(z)\n",
    "    return map_sum / len(predictions)"
   ]
  },
  {
   "cell_type": "code",
   "execution_count": 4,
   "id": "067cf331",
   "metadata": {},
   "outputs": [],
   "source": [
    "df1 = pd.read_csv(\"../output/exp003.py/20230909235741_freeze0_maxlength256_lr2e-5_alldata/test_predictions.csv\")"
   ]
  },
  {
   "cell_type": "code",
   "execution_count": 5,
   "id": "70e89627",
   "metadata": {},
   "outputs": [],
   "source": [
    "df2 = pd.read_csv(\"../output/exp003.py/20230909155527_freeze18_maxlength256_lr2e-05_alldata/test_predictions.csv\")"
   ]
  },
  {
   "cell_type": "code",
   "execution_count": 15,
   "id": "0bef9496",
   "metadata": {},
   "outputs": [],
   "source": [
    "def softmax(x):\n",
    "    x = np.exp(x)\n",
    "    return x / x.sum(axis=1, keepdims=True)"
   ]
  },
  {
   "cell_type": "code",
   "execution_count": null,
   "id": "e9908ad4",
   "metadata": {},
   "outputs": [],
   "source": []
  },
  {
   "cell_type": "code",
   "execution_count": 8,
   "id": "5a6b26e7",
   "metadata": {},
   "outputs": [],
   "source": [
    "option_to_index = {option: idx for idx, option in enumerate('ABCDE')}"
   ]
  },
  {
   "cell_type": "code",
   "execution_count": 20,
   "id": "e07aa7a4",
   "metadata": {},
   "outputs": [
    {
     "data": {
      "text/plain": [
       "0.8741666666666668"
      ]
     },
     "execution_count": 20,
     "metadata": {},
     "output_type": "execute_result"
    }
   ],
   "source": [
    "map_at_3(df1[[\"fold0_A\", \"fold0_B\", \"fold0_C\", \"fold0_D\", \"fold0_E\"]].values, df2[\"answer\"].map(option_to_index).values)"
   ]
  },
  {
   "cell_type": "code",
   "execution_count": 19,
   "id": "27bb43f6",
   "metadata": {},
   "outputs": [
    {
     "data": {
      "text/plain": [
       "0.8833333333333334"
      ]
     },
     "execution_count": 19,
     "metadata": {},
     "output_type": "execute_result"
    }
   ],
   "source": [
    "map_at_3(df2[[\"fold0_A\", \"fold0_B\", \"fold0_C\", \"fold0_D\", \"fold0_E\"]].values, df2[\"answer\"].map(option_to_index).values)"
   ]
  },
  {
   "cell_type": "code",
   "execution_count": null,
   "id": "89d4c1a8",
   "metadata": {},
   "outputs": [],
   "source": []
  },
  {
   "cell_type": "code",
   "execution_count": null,
   "id": "15872bd7",
   "metadata": {},
   "outputs": [],
   "source": []
  }
 ],
 "metadata": {
  "kernelspec": {
   "display_name": "Python 3 (ipykernel)",
   "language": "python",
   "name": "python3"
  },
  "language_info": {
   "codemirror_mode": {
    "name": "ipython",
    "version": 3
   },
   "file_extension": ".py",
   "mimetype": "text/x-python",
   "name": "python",
   "nbconvert_exporter": "python",
   "pygments_lexer": "ipython3",
   "version": "3.10.12"
  }
 },
 "nbformat": 4,
 "nbformat_minor": 5
}
