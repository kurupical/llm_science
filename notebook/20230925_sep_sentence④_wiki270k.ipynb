{
 "cells": [
  {
   "cell_type": "code",
   "execution_count": 1,
   "id": "21bf371f",
   "metadata": {},
   "outputs": [],
   "source": [
    "import pandas as pd\n",
    "import tqdm\n",
    "import glob\n",
    "import os"
   ]
  },
  {
   "cell_type": "code",
   "execution_count": 3,
   "id": "e14c8a02",
   "metadata": {},
   "outputs": [],
   "source": [
    "import datasets"
   ]
  },
  {
   "cell_type": "code",
   "execution_count": 5,
   "id": "54dc7f5e",
   "metadata": {},
   "outputs": [],
   "source": [
    "ds = datasets.load_from_disk(\"../data/wiki270k\")"
   ]
  },
  {
   "cell_type": "code",
   "execution_count": 19,
   "id": "b0ae1142",
   "metadata": {},
   "outputs": [],
   "source": [
    "df = ds.to_pandas()"
   ]
  },
  {
   "cell_type": "code",
   "execution_count": 21,
   "id": "a541365a",
   "metadata": {},
   "outputs": [],
   "source": [
    "df_wiki = df"
   ]
  },
  {
   "cell_type": "code",
   "execution_count": 27,
   "id": "133b668f",
   "metadata": {},
   "outputs": [
    {
     "data": {
      "text/html": [
       "<div>\n",
       "<style scoped>\n",
       "    .dataframe tbody tr th:only-of-type {\n",
       "        vertical-align: middle;\n",
       "    }\n",
       "\n",
       "    .dataframe tbody tr th {\n",
       "        vertical-align: top;\n",
       "    }\n",
       "\n",
       "    .dataframe thead th {\n",
       "        text-align: right;\n",
       "    }\n",
       "</style>\n",
       "<table border=\"1\" class=\"dataframe\">\n",
       "  <thead>\n",
       "    <tr style=\"text-align: right;\">\n",
       "      <th></th>\n",
       "      <th>title</th>\n",
       "      <th>section</th>\n",
       "      <th>text</th>\n",
       "    </tr>\n",
       "  </thead>\n",
       "  <tbody>\n",
       "    <tr>\n",
       "      <th>0</th>\n",
       "      <td>Russell Epstein</td>\n",
       "      <td>Russell Epstein</td>\n",
       "      <td>Russell Epstein is a professor of psychology a...</td>\n",
       "    </tr>\n",
       "    <tr>\n",
       "      <th>1</th>\n",
       "      <td>Russell Epstein</td>\n",
       "      <td>Education</td>\n",
       "      <td>Epstein received an undergraduate degree in ph...</td>\n",
       "    </tr>\n",
       "    <tr>\n",
       "      <th>2</th>\n",
       "      <td>Ambient device</td>\n",
       "      <td>Ambient device</td>\n",
       "      <td>Ambient devices are a type of consumer electro...</td>\n",
       "    </tr>\n",
       "    <tr>\n",
       "      <th>3</th>\n",
       "      <td>Ambient device</td>\n",
       "      <td>Purpose</td>\n",
       "      <td>The purpose of ambient devices is to enable im...</td>\n",
       "    </tr>\n",
       "    <tr>\n",
       "      <th>4</th>\n",
       "      <td>Ambient device</td>\n",
       "      <td>History</td>\n",
       "      <td>The concept of ambient devices can be traced b...</td>\n",
       "    </tr>\n",
       "    <tr>\n",
       "      <th>...</th>\n",
       "      <td>...</td>\n",
       "      <td>...</td>\n",
       "      <td>...</td>\n",
       "    </tr>\n",
       "    <tr>\n",
       "      <th>2101274</th>\n",
       "      <td>Symmetry</td>\n",
       "      <td>In the arts</td>\n",
       "      <td>In other arts and crafts Symmetries appear in ...</td>\n",
       "    </tr>\n",
       "    <tr>\n",
       "      <th>2101275</th>\n",
       "      <td>Symmetry</td>\n",
       "      <td>In the arts</td>\n",
       "      <td>In music Symmetry is not restricted to the vis...</td>\n",
       "    </tr>\n",
       "    <tr>\n",
       "      <th>2101276</th>\n",
       "      <td>Symmetry</td>\n",
       "      <td>In the arts</td>\n",
       "      <td>Pitch structures Symmetry is also an important...</td>\n",
       "    </tr>\n",
       "    <tr>\n",
       "      <th>2101277</th>\n",
       "      <td>Symmetry</td>\n",
       "      <td>In the arts</td>\n",
       "      <td>Interval cycles are symmetrical and thus non-d...</td>\n",
       "    </tr>\n",
       "    <tr>\n",
       "      <th>2101278</th>\n",
       "      <td>Symmetry</td>\n",
       "      <td>In the arts</td>\n",
       "      <td>Equivalency Tone rows or pitch class sets whic...</td>\n",
       "    </tr>\n",
       "  </tbody>\n",
       "</table>\n",
       "<p>2101279 rows × 3 columns</p>\n",
       "</div>"
      ],
      "text/plain": [
       "                   title          section  \\\n",
       "0        Russell Epstein  Russell Epstein   \n",
       "1        Russell Epstein        Education   \n",
       "2         Ambient device   Ambient device   \n",
       "3         Ambient device          Purpose   \n",
       "4         Ambient device          History   \n",
       "...                  ...              ...   \n",
       "2101274         Symmetry      In the arts   \n",
       "2101275         Symmetry      In the arts   \n",
       "2101276         Symmetry      In the arts   \n",
       "2101277         Symmetry      In the arts   \n",
       "2101278         Symmetry      In the arts   \n",
       "\n",
       "                                                      text  \n",
       "0        Russell Epstein is a professor of psychology a...  \n",
       "1        Epstein received an undergraduate degree in ph...  \n",
       "2        Ambient devices are a type of consumer electro...  \n",
       "3        The purpose of ambient devices is to enable im...  \n",
       "4        The concept of ambient devices can be traced b...  \n",
       "...                                                    ...  \n",
       "2101274  In other arts and crafts Symmetries appear in ...  \n",
       "2101275  In music Symmetry is not restricted to the vis...  \n",
       "2101276  Pitch structures Symmetry is also an important...  \n",
       "2101277  Interval cycles are symmetrical and thus non-d...  \n",
       "2101278  Equivalency Tone rows or pitch class sets whic...  \n",
       "\n",
       "[2101279 rows x 3 columns]"
      ]
     },
     "execution_count": 27,
     "metadata": {},
     "output_type": "execute_result"
    }
   ],
   "source": [
    "df_wiki"
   ]
  },
  {
   "cell_type": "code",
   "execution_count": 39,
   "id": "ed77617b",
   "metadata": {},
   "outputs": [],
   "source": [
    "chunk_size = 3_000_000"
   ]
  },
  {
   "cell_type": "code",
   "execution_count": 42,
   "id": "7813678f",
   "metadata": {},
   "outputs": [],
   "source": [
    "def output_seperated_files(df_wiki, token_length, stride, drop_category):    \n",
    "    output_dir = f\"../data/wikipedia_fixed/sep_chunk_wiki270k/token_length{token_length}_stride_sentence{stride}_drop_category{drop_category}\"\n",
    "    os.makedirs(output_dir, exist_ok=True)\n",
    "    chunk = 1\n",
    "    df_wiki_sep = []\n",
    "    for i in tqdm.tqdm(range(len(df_wiki))):\n",
    "        series = df_wiki.iloc[i]\n",
    "        text = series[\"text\"].replace(\"\\xa0\", \"\")\n",
    "        if drop_category:\n",
    "            idx = text.find(\" Category:\")\n",
    "            text = text[:idx]\n",
    "\n",
    "        text_space = text.split(\".\")\n",
    "        text = \"\"\n",
    "        text_stride = []\n",
    "\n",
    "        series_ = series.to_dict()\n",
    "        series_[\"text\"] = \".\".join(text_space[:stride*2])\n",
    "        series_[\"id\"] = i\n",
    "        series_[\"title_only\"] = True\n",
    "        df_wiki_sep.append(series_)\n",
    "\n",
    "        appended = False\n",
    "        for j in range(0, len(text_space)):\n",
    "            series_ = series.to_dict()\n",
    "            text += text_space[j] + \".\"\n",
    "            text_stride.append(text_space[j])\n",
    "            text_stride = text_stride[-stride:]\n",
    "            appended = False\n",
    "            if len(text.split(\" \")) > token_length:\n",
    "                series_[\"text\"] = text\n",
    "                series_[\"title_only\"] = False\n",
    "                df_wiki_sep.append(series_)\n",
    "                text = \".\".join(text_stride)\n",
    "                appended = True\n",
    "        if not appended:\n",
    "            series_[\"text\"] = text\n",
    "            series_[\"title_only\"] = False\n",
    "            df_wiki_sep.append(series_)\n",
    "\n",
    "        if len(df_wiki_sep) > chunk_size:\n",
    "            print(f\"chunk {chunk}\")\n",
    "            df_wiki_sep = pd.DataFrame(df_wiki_sep)\n",
    "            df_wiki_sep.to_parquet(f\"{output_dir}/chunk{chunk}.parquet\")\n",
    "            df_wiki_sep = []\n",
    "            chunk += 1\n",
    "    df_wiki_sep = pd.DataFrame(df_wiki_sep)\n",
    "    df_wiki_sep.to_parquet(f\"{output_dir}/chunk{chunk}.parquet\")\n"
   ]
  },
  {
   "cell_type": "code",
   "execution_count": 43,
   "id": "b88f8d10",
   "metadata": {},
   "outputs": [
    {
     "name": "stderr",
     "output_type": "stream",
     "text": [
      " 56%|████████████████████████████████████▎                            | 1173801/2101279 [01:48<01:25, 10905.18it/s]"
     ]
    },
    {
     "name": "stdout",
     "output_type": "stream",
     "text": [
      "chunk 1\n"
     ]
    },
    {
     "name": "stderr",
     "output_type": "stream",
     "text": [
      "100%|█████████████████████████████████████████████████████████████████| 2101279/2101279 [03:25<00:00, 10221.16it/s]\n"
     ]
    }
   ],
   "source": [
    "output_seperated_files(df_wiki=df_wiki, token_length=120, stride=4, drop_category=True)"
   ]
  },
  {
   "cell_type": "code",
   "execution_count": 44,
   "id": "d86d0cc9",
   "metadata": {},
   "outputs": [],
   "source": [
    "df_a = pd.read_parquet( f\"../data/wikipedia_fixed/sep_chunk_wiki270k/token_length120_stride_sentence4_drop_categoryTrue/chunk1.parquet\")\n",
    "df_a[\"title\"] = df_a[\"title\"].fillna(\"NaN.\")\n",
    "df_a.to_parquet(f\"../data/wikipedia_fixed/sep_chunk_wiki270k/token_length120_stride_sentence4_drop_categoryTrue/chunk1.parquet\")"
   ]
  },
  {
   "cell_type": "code",
   "execution_count": null,
   "id": "ca8aa558",
   "metadata": {},
   "outputs": [],
   "source": []
  },
  {
   "cell_type": "code",
   "execution_count": null,
   "id": "1fb5ac65",
   "metadata": {},
   "outputs": [],
   "source": []
  }
 ],
 "metadata": {
  "kernelspec": {
   "display_name": "Python 3 (ipykernel)",
   "language": "python",
   "name": "python3"
  },
  "language_info": {
   "codemirror_mode": {
    "name": "ipython",
    "version": 3
   },
   "file_extension": ".py",
   "mimetype": "text/x-python",
   "name": "python",
   "nbconvert_exporter": "python",
   "pygments_lexer": "ipython3",
   "version": "3.10.12"
  }
 },
 "nbformat": 4,
 "nbformat_minor": 5
}
