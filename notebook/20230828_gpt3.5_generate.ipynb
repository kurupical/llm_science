{
 "cells": [
  {
   "cell_type": "code",
   "execution_count": 1,
   "metadata": {},
   "outputs": [],
   "source": [
    "import openai\n",
    "import pandas as pd\n",
    "import tqdm\n",
    "import glob\n",
    "\n",
    "import warnings\n",
    "warnings.filterwarnings(\"ignore\")"
   ]
  },
  {
   "cell_type": "code",
   "execution_count": 2,
   "metadata": {},
   "outputs": [],
   "source": [
    "with open(\"../apikey/apikey.txt\", \"r\") as f:\n",
    "    openai.api_key = f.readline().replace(\"\\n\", \"\")"
   ]
  },
  {
   "cell_type": "code",
   "execution_count": 3,
   "metadata": {},
   "outputs": [],
   "source": [
    "def query_prompt(prompt, max_tokens=1000):\n",
    "    response = openai.ChatCompletion.create(\n",
    "        model=\"gpt-3.5-turbo-16k\",\n",
    "        messages=[{\"role\": \"user\", \"content\": prompt}],\n",
    "        max_tokens=max_tokens,\n",
    "        temperature=0,\n",
    "    )\n",
    "    return response[\"choices\"][0][\"message\"][\"content\"]"
   ]
  },
  {
   "cell_type": "code",
   "execution_count": null,
   "metadata": {},
   "outputs": [],
   "source": []
  },
  {
   "cell_type": "code",
   "execution_count": 11,
   "metadata": {},
   "outputs": [],
   "source": [
    "def get_df(fname):\n",
    "    def f(categories):\n",
    "        for cat in categories:\n",
    "            if \"science\" in cat:\n",
    "                return True\n",
    "            if \"physics\" in cat:\n",
    "                return True\n",
    "            if \"chemistry\" in cat:\n",
    "                return True\n",
    "        return False\n",
    "    \n",
    "    def text_preprocess(text):\n",
    "        return text.replace(\"===\", \"\\n\").replace(\"==\", \"\\n\")\n",
    "\n",
    "    df = pd.read_parquet(fname)\n",
    "    df_science = df[df[\"categories\"].apply(f)]\n",
    "    df_science[\"text\"] = \"title: \" + df_science[\"title\"] + \"\\n\" + df_science[\"text\"].apply(text_preprocess)\n",
    "    return df_science.sample(len(df_science)//10)"
   ]
  },
  {
   "cell_type": "code",
   "execution_count": 12,
   "metadata": {},
   "outputs": [],
   "source": [
    "files = glob.glob(\"../data/wikipedia/a.parquet\")"
   ]
  },
  {
   "cell_type": "code",
   "execution_count": 13,
   "metadata": {},
   "outputs": [],
   "source": [
    "import time"
   ]
  },
  {
   "cell_type": "code",
   "execution_count": 14,
   "metadata": {},
   "outputs": [],
   "source": [
    "import pickle"
   ]
  },
  {
   "cell_type": "code",
   "execution_count": 15,
   "metadata": {},
   "outputs": [],
   "source": [
    "import json"
   ]
  },
  {
   "cell_type": "code",
   "execution_count": 16,
   "metadata": {},
   "outputs": [],
   "source": [
    "from datetime import datetime as dt"
   ]
  },
  {
   "cell_type": "code",
   "execution_count": 17,
   "metadata": {},
   "outputs": [
    {
     "name": "stderr",
     "output_type": "stream",
     "text": [
      "../data/wikipedia/a.parquet:   8%|█████▍                                                               | 22/277 [01:54<26:19,  6.19s/it]Traceback (most recent call last):\n",
      "  File \"/tmp/ipykernel_23024/3350171404.py\", line 30, in <module>\n",
      "    text = query_prompt(prompt)\n",
      "  File \"/tmp/ipykernel_23024/2301454346.py\", line 2, in query_prompt\n",
      "    response = openai.ChatCompletion.create(\n",
      "  File \"/opt/conda/lib/python3.10/site-packages/openai/api_resources/chat_completion.py\", line 25, in create\n",
      "    return super().create(*args, **kwargs)\n",
      "  File \"/opt/conda/lib/python3.10/site-packages/openai/api_resources/abstract/engine_api_resource.py\", line 153, in create\n",
      "    response, _, api_key = requestor.request(\n",
      "  File \"/opt/conda/lib/python3.10/site-packages/openai/api_requestor.py\", line 298, in request\n",
      "    resp, got_stream = self._interpret_response(result, stream)\n",
      "  File \"/opt/conda/lib/python3.10/site-packages/openai/api_requestor.py\", line 700, in _interpret_response\n",
      "    self._interpret_response_line(\n",
      "  File \"/opt/conda/lib/python3.10/site-packages/openai/api_requestor.py\", line 765, in _interpret_response_line\n",
      "    raise self.handle_error_response(\n",
      "openai.error.InvalidRequestError: This model's maximum context length is 16385 tokens. However, your messages resulted in 16400 tokens. Please reduce the length of the messages.\n",
      "../data/wikipedia/a.parquet:   8%|█████▋                                                               | 23/277 [01:55<19:20,  4.57s/it]"
     ]
    },
    {
     "name": "stdout",
     "output_type": "stream",
     "text": [
      "This model's maximum context length is 16385 tokens. However, your messages resulted in 16400 tokens. Please reduce the length of the messages.\n",
      "{'prompt': 'Which of the following statements is supported by the given text?', 'choices': [{'label': 'A', 'text': 'The action potential pulse model takes into account entropy and the conduction speed of the action potential along an axon.'}, {'label': 'B', 'text': \"The action potential pulse model is a continuation of Hodgkin Huxley's work in 1952.\"}, {'label': 'C', 'text': 'The action potential pulse model replaces saltatory conduction in myelinated axons.'}, {'label': 'D', 'text': 'The action potential pulse model is based on cable theory and the capacitance potential of a membrane.'}, {'label': 'E', 'text': 'The action potential pulse model explains the speed of transmission through unmyelinated axons.'}], 'answer': 'A', 'basis': \"The text states that the action potential pulse model takes into account entropy and the conduction speed of the action potential along an axon: 'The action potential pulse is a model of the speed an action potential that is dynamically dependent upon the position and number of ion channels, and the shape and make up of the axon. The action potential pulse model takes into account entropy and the conduction speed of the action potential along an axon.'\", 'wiki_id': '53877635', 'original_text': \"title: Action potential pulse\\nAn action potential pulse is a mathematically and experimentally correct Synchronized Oscillating Lipid Pulse coupled with an Action Potential. This is a continuation of Hodgkin Huxley's work in 1952 with the inclusion of accurately modelling ion channel proteins, including their dynamics and speed of activation. The action potential pulse is a model of the speed an action potential that is dynamically dependent upon the position and number of ion channels, and the shape and make up of the axon. The action potential pulse model takes into account entropy and the conduction speed of the action potential along an axon. It is an addition to the Hodgkin Huxley model. Investigation into the membranes of axons have shown that the spaces in between the channels are sufficiently large, such that cable theory cannot apply to them, because it depends upon the capacitance potential of a membrane to be transferred almost instantly to other areas of the membrane surface. In electrical circuits this can happen because of the special properties of electrons, which are negatively charged, whereas in membrane biophysics potential is defined by positively charged ions instead. These ions are usually Na1+ or Ca2+, which move slowly by diffusion and have limited ionic radii in which they can affect adjacent ion channels. It is mathematically impossible for these positive ions to move from one channel to the next, in the time required by the action potential flow model, due to instigated depolarization. Furthermore entropy measurements have long demonstrated that an action potential's flow starts with a large increase in entropy followed by a steadily decreasing state, which does not match the Hodgkin Huxley theory. In addition a soliton pulse is known to flow at the same rate and follow the action potential. From measurements of the speed of an action potential, hyperpolarization must have a further component of which the 'soliton' mechanical pulse is the only candidate. The resulting action potential pulse therefore is a synchronized, coupled pulse with the entropy from depolarization at one channel providing sufficient entropy for a pulse to travel to sequential channels and mechanically open them. This mechanism explains the speed of transmission through both myelinated and unmyelinated axons. This is a timed pulse, that combines the entropy from ion transport with the efficiency of a flowing pulse. The action potential pulse model has many advantages over the simpler Hodgkin Huxley version including evidence, efficiency, timing entropy measurements, and the explanation of nerve impulse flow through myelinated axons. Myelinated axons This model replaces saltatory conduction, which was a historical theory that relied upon cable theory to explain conduction, and was an attempt at a model that has no basis is either physiology or membrane biophysics. In myelinated axons the myelin acts as a mechanical transducer preserving the entropy of the pulse and insulating against mechanical loss. In this model the nodes of Ranvier (where ion channels are highly concentrated) concentrate the ion channels providing maximum entropy to instigate a pulse that travels from node to node along the axon with the entropy being preserved by the shape and dynamics of the myelin sheath. \\n References \\n Category:Capacitors Category:Neural coding Category:Electrophysiology Category:Electrochemistry Category:Computational neuroscience Category:Cellular neuroscience Category:Cellular processes Category:Membrane biology Category:Plant cognition Category:Physiology Category:Neurons Category:Action potentials\"}\n"
     ]
    },
    {
     "name": "stderr",
     "output_type": "stream",
     "text": [
      "../data/wikipedia/a.parquet:  90%|████████████████████████████████████████████████████████████▉       | 248/277 [19:43<02:12,  4.58s/it]Traceback (most recent call last):\n",
      "  File \"/tmp/ipykernel_23024/3350171404.py\", line 30, in <module>\n",
      "    text = query_prompt(prompt)\n",
      "  File \"/tmp/ipykernel_23024/2301454346.py\", line 2, in query_prompt\n",
      "    response = openai.ChatCompletion.create(\n",
      "  File \"/opt/conda/lib/python3.10/site-packages/openai/api_resources/chat_completion.py\", line 25, in create\n",
      "    return super().create(*args, **kwargs)\n",
      "  File \"/opt/conda/lib/python3.10/site-packages/openai/api_resources/abstract/engine_api_resource.py\", line 153, in create\n",
      "    response, _, api_key = requestor.request(\n",
      "  File \"/opt/conda/lib/python3.10/site-packages/openai/api_requestor.py\", line 298, in request\n",
      "    resp, got_stream = self._interpret_response(result, stream)\n",
      "  File \"/opt/conda/lib/python3.10/site-packages/openai/api_requestor.py\", line 700, in _interpret_response\n",
      "    self._interpret_response_line(\n",
      "  File \"/opt/conda/lib/python3.10/site-packages/openai/api_requestor.py\", line 765, in _interpret_response_line\n",
      "    raise self.handle_error_response(\n",
      "openai.error.InvalidRequestError: This model's maximum context length is 16385 tokens. However, your messages resulted in 18296 tokens. Please reduce the length of the messages.\n",
      "../data/wikipedia/a.parquet:  90%|█████████████████████████████████████████████████████████████▏      | 249/277 [19:44<01:36,  3.46s/it]"
     ]
    },
    {
     "name": "stdout",
     "output_type": "stream",
     "text": [
      "This model's maximum context length is 16385 tokens. However, your messages resulted in 18296 tokens. Please reduce the length of the messages.\n",
      "{'prompt': 'What is the purpose of using high temperature and pressure in accelerated solvent extraction?', 'A': 'To decrease extraction efficiency', 'B': 'To increase extraction efficiency', 'C': 'To reduce the amount of solvent required', 'D': 'To decrease analyte recovery', 'E': 'To decrease the boiling point of the solvent', 'answer': 'B', 'basis': 'The text states that the elevated temperature is employed to increase extraction efficiency of the analyte of interest and the elevated pressure is used to keep the solvent in a liquid state as the temperature is increased above its boiling point.', 'wiki_id': '50484198', 'original_text': 'title: Accelerated solvent extraction\\nAccelerated solvent extraction (ASE) is a method for extracting various chemicals from a complex solid or semisolid sample matrix. The process uses high temperature and pressure, which results in the extraction taking less time and requiring less solvent, and possibly also giving better analyte recovery, than traditional methods that use less extreme conditions. The elevated temperature is employed to increase extraction efficiency of the analyte of interest and the elevated pressure is used to keep the solvent in a liquid state as the temperature is increased above its boiling point. An automated system for the process was developed by Dionex, a company owned by Thermo Fisher Scientific. \\n Method \\n The extraction cell is filled with the solid sample to be examined and placed in a temperature-controllable oven. After adding the solvent, the cell is heated at constant pressure (adjustable between 0.3 and 20 MPa) up to a maximum temperature of 200°C and kept at constant conditions for a while so that equilibrium can be established. The extract is then transferred to a sample tube. A sample often goes through several extraction cycles. Finally, the extraction cell is rinsed with solvent, the rinsing valve is opened and the cell and all lines are rinsed with nitrogen and the apparatus is prepared for further extractions. \\n Applications \\n Accelerated solvent extraction has found many applications in the food industry, including in: * The testing of dietary seafoods for arsenic content * Extraction of catechins from green tea samples * Authentication of natural vanilla flavors * The analysis of terpenoids and sterols in tobacco \\n See also \\n * Supercritical fluid extraction * Superheated water \\n References \\n Category:Analytical chemistry Category:Extraction (chemistry)'}\n"
     ]
    },
    {
     "name": "stderr",
     "output_type": "stream",
     "text": [
      "../data/wikipedia/a.parquet: 100%|████████████████████████████████████████████████████████████████████| 277/277 [22:15<00:00,  4.82s/it]\n"
     ]
    }
   ],
   "source": [
    "import traceback \n",
    "batch_size = 1\n",
    "\n",
    "def make_prompt(series):\n",
    "    prompt = f\"\"\"\n",
    "# 依頼\n",
    "You are a professor at a science university and are creating a test for your students.\n",
    "Using the given text, create a question in which you select one of the five options for the question text to select the most appropriate statement. Also, extract the portion of the text that provides the basis for your answer.\n",
    "The output should be an array in json format, with \"prompt\" as the question text, \"A,\" \"B,\" \"C,\" \"D,\" and \"E\" as the choices, \"answer\" as the answer choice, and \"basis\" as the rationale.\n",
    "Also, please create one question per text. In other words, the total number of questions created will be one.\n",
    "# text\n",
    "## text 1 \n",
    "{series['text']}\n",
    "\n",
    "\n",
    "# attention\n",
    "Please create one question per text. So the total number of problems created will be 1.\n",
    "\"\"\"\n",
    "    return prompt\n",
    "\n",
    "def f(series):\n",
    "    if series[\"A\"] != series[\"A\"]:\n",
    "        if type(series[\"choices\"]) == dict:\n",
    "            for key in [\"A\", \"B\", \"C\", \"D\", \"E\"]:\n",
    "                series[key] = series[\"choices\"][key]\n",
    "        elif type(series[\"choices\"] == list):\n",
    "            for i, key in enumerate([\"A\", \"B\", \"C\", \"D\", \"E\"]):\n",
    "                series[key] = series[\"choices\"][i]\n",
    "    return series\n",
    "texts = []\n",
    "now_date = dt.now().strftime(\"%Y%m%d%H%M%S\")\n",
    "\n",
    "for f in files:\n",
    "    df_science = get_df(f)\n",
    "    \n",
    "    for i in tqdm.tqdm(range(len(df_science)), desc=f):\n",
    "        try:\n",
    "            series = df_science.iloc[i]\n",
    "            prompt = make_prompt(series)\n",
    "            text = query_prompt(prompt)\n",
    "            text = json.loads(text)\n",
    "            if type(text) == list:\n",
    "                text = text[0]\n",
    "            text[\"wiki_id\"] = series[\"id\"]\n",
    "            text[\"original_text\"] = series[\"text\"]\n",
    "            texts.append(text)\n",
    "        except Exception as e:\n",
    "            print(e)\n",
    "            traceback.print_exc()\n",
    "            print(text)\n",
    "        if i % 100 == 0:\n",
    "            df_texts = pd.DataFrame(texts)\n",
    "            df_texts = df_texts.apply(f, axis=1)\n",
    "\n",
    "            df_texts.to_csv(f\"output_gpt3.5_generate/{now_date}.csv\")"
   ]
  },
  {
   "cell_type": "code",
   "execution_count": 40,
   "metadata": {},
   "outputs": [],
   "source": [
    "df_texts.to_csv(f\"output_gpt3.5_generate/{now_date}.csv\")"
   ]
  },
  {
   "cell_type": "code",
   "execution_count": null,
   "metadata": {},
   "outputs": [],
   "source": []
  },
  {
   "cell_type": "code",
   "execution_count": 20,
   "metadata": {},
   "outputs": [
    {
     "data": {
      "text/plain": [
       "69"
      ]
     },
     "execution_count": 20,
     "metadata": {},
     "output_type": "execute_result"
    }
   ],
   "source": [
    "pd.DataFrame(texts)[\"A\"].isnull().sum()"
   ]
  },
  {
   "cell_type": "code",
   "execution_count": 41,
   "metadata": {},
   "outputs": [
    {
     "data": {
      "text/html": [
       "<div>\n",
       "<style scoped>\n",
       "    .dataframe tbody tr th:only-of-type {\n",
       "        vertical-align: middle;\n",
       "    }\n",
       "\n",
       "    .dataframe tbody tr th {\n",
       "        vertical-align: top;\n",
       "    }\n",
       "\n",
       "    .dataframe thead th {\n",
       "        text-align: right;\n",
       "    }\n",
       "</style>\n",
       "<table border=\"1\" class=\"dataframe\">\n",
       "  <thead>\n",
       "    <tr style=\"text-align: right;\">\n",
       "      <th></th>\n",
       "      <th>id</th>\n",
       "      <th>title</th>\n",
       "      <th>text</th>\n",
       "      <th>categories</th>\n",
       "    </tr>\n",
       "  </thead>\n",
       "  <tbody>\n",
       "  </tbody>\n",
       "</table>\n",
       "</div>"
      ],
      "text/plain": [
       "Empty DataFrame\n",
       "Columns: [id, title, text, categories]\n",
       "Index: []"
      ]
     },
     "execution_count": 41,
     "metadata": {},
     "output_type": "execute_result"
    }
   ],
   "source": [
    "df_science = get_df(files[0])\n",
    "df_science[df_science[\"id\"] == '29637793']"
   ]
  },
  {
   "cell_type": "code",
   "execution_count": 42,
   "metadata": {},
   "outputs": [
    {
     "data": {
      "text/html": [
       "<div>\n",
       "<style scoped>\n",
       "    .dataframe tbody tr th:only-of-type {\n",
       "        vertical-align: middle;\n",
       "    }\n",
       "\n",
       "    .dataframe tbody tr th {\n",
       "        vertical-align: top;\n",
       "    }\n",
       "\n",
       "    .dataframe thead th {\n",
       "        text-align: right;\n",
       "    }\n",
       "</style>\n",
       "<table border=\"1\" class=\"dataframe\">\n",
       "  <thead>\n",
       "    <tr style=\"text-align: right;\">\n",
       "      <th></th>\n",
       "      <th>id</th>\n",
       "      <th>title</th>\n",
       "      <th>text</th>\n",
       "      <th>categories</th>\n",
       "    </tr>\n",
       "  </thead>\n",
       "  <tbody>\n",
       "    <tr>\n",
       "      <th>368626</th>\n",
       "      <td>1908395</td>\n",
       "      <td>Artificial brain</td>\n",
       "      <td>title: Artificial brain\\nAn artificial brain (...</td>\n",
       "      <td>[Computational neuroscience, Robotics, Emergin...</td>\n",
       "    </tr>\n",
       "    <tr>\n",
       "      <th>34268</th>\n",
       "      <td>10410698</td>\n",
       "      <td>Abdul Amir al-Jamri</td>\n",
       "      <td>title: Abdul Amir al-Jamri\\nSheikh Abdul Amir ...</td>\n",
       "      <td>[1938 births, 2006 deaths, Deaths from kidney ...</td>\n",
       "    </tr>\n",
       "    <tr>\n",
       "      <th>233077</th>\n",
       "      <td>1958222</td>\n",
       "      <td>Amyloid beta</td>\n",
       "      <td>title: Amyloid beta\\nAmyloid beta (Aβ or Abeta...</td>\n",
       "      <td>[Peptides, Molecular neuroscience, Alzheimer's...</td>\n",
       "    </tr>\n",
       "    <tr>\n",
       "      <th>9870</th>\n",
       "      <td>3621668</td>\n",
       "      <td>A Woman of the Iron People</td>\n",
       "      <td>title: A Woman of the Iron People\\nA Woman of ...</td>\n",
       "      <td>[1991 American novels, 1991 science fiction no...</td>\n",
       "    </tr>\n",
       "    <tr>\n",
       "      <th>139719</th>\n",
       "      <td>38366604</td>\n",
       "      <td>Albert Spaier</td>\n",
       "      <td>title: Albert Spaier\\nAlbert Spaier (9 July 18...</td>\n",
       "      <td>[1883 births, 1934 deaths, Writers from Iași, ...</td>\n",
       "    </tr>\n",
       "    <tr>\n",
       "      <th>...</th>\n",
       "      <td>...</td>\n",
       "      <td>...</td>\n",
       "      <td>...</td>\n",
       "      <td>...</td>\n",
       "    </tr>\n",
       "    <tr>\n",
       "      <th>62685</th>\n",
       "      <td>4474244</td>\n",
       "      <td>Actuarial reserves</td>\n",
       "      <td>title: Actuarial reserves\\nIn insurance, an ac...</td>\n",
       "      <td>[Actuarial science, Capital requirement de:Dec...</td>\n",
       "    </tr>\n",
       "    <tr>\n",
       "      <th>357456</th>\n",
       "      <td>4260564</td>\n",
       "      <td>Arrival II</td>\n",
       "      <td>title: Arrival II\\nArrival ll (alternatively t...</td>\n",
       "      <td>[1998 films, 1998 science fiction films, Ameri...</td>\n",
       "    </tr>\n",
       "    <tr>\n",
       "      <th>391514</th>\n",
       "      <td>32894329</td>\n",
       "      <td>Astrobiophysics</td>\n",
       "      <td>title: Astrobiophysics\\nAstrobiophysics is a f...</td>\n",
       "      <td>[Astrophysics, Biophysics .]</td>\n",
       "    </tr>\n",
       "    <tr>\n",
       "      <th>10000</th>\n",
       "      <td>2824171</td>\n",
       "      <td>A World of Difference (novel)</td>\n",
       "      <td>title: A World of Difference (novel)\\nA World ...</td>\n",
       "      <td>[1990 American novels, Novels set during the C...</td>\n",
       "    </tr>\n",
       "    <tr>\n",
       "      <th>264660</th>\n",
       "      <td>4468753</td>\n",
       "      <td>Andy Duncan (writer)</td>\n",
       "      <td>title: Andy Duncan (writer)\\nthumb|Andy Duncan...</td>\n",
       "      <td>[1964 births, Living people, 21st-century Amer...</td>\n",
       "    </tr>\n",
       "  </tbody>\n",
       "</table>\n",
       "<p>277 rows × 4 columns</p>\n",
       "</div>"
      ],
      "text/plain": [
       "              id                          title  \\\n",
       "368626   1908395               Artificial brain   \n",
       "34268   10410698            Abdul Amir al-Jamri   \n",
       "233077   1958222                   Amyloid beta   \n",
       "9870     3621668     A Woman of the Iron People   \n",
       "139719  38366604                  Albert Spaier   \n",
       "...          ...                            ...   \n",
       "62685    4474244             Actuarial reserves   \n",
       "357456   4260564                     Arrival II   \n",
       "391514  32894329                Astrobiophysics   \n",
       "10000    2824171  A World of Difference (novel)   \n",
       "264660   4468753           Andy Duncan (writer)   \n",
       "\n",
       "                                                     text  \\\n",
       "368626  title: Artificial brain\\nAn artificial brain (...   \n",
       "34268   title: Abdul Amir al-Jamri\\nSheikh Abdul Amir ...   \n",
       "233077  title: Amyloid beta\\nAmyloid beta (Aβ or Abeta...   \n",
       "9870    title: A Woman of the Iron People\\nA Woman of ...   \n",
       "139719  title: Albert Spaier\\nAlbert Spaier (9 July 18...   \n",
       "...                                                   ...   \n",
       "62685   title: Actuarial reserves\\nIn insurance, an ac...   \n",
       "357456  title: Arrival II\\nArrival ll (alternatively t...   \n",
       "391514  title: Astrobiophysics\\nAstrobiophysics is a f...   \n",
       "10000   title: A World of Difference (novel)\\nA World ...   \n",
       "264660  title: Andy Duncan (writer)\\nthumb|Andy Duncan...   \n",
       "\n",
       "                                               categories  \n",
       "368626  [Computational neuroscience, Robotics, Emergin...  \n",
       "34268   [1938 births, 2006 deaths, Deaths from kidney ...  \n",
       "233077  [Peptides, Molecular neuroscience, Alzheimer's...  \n",
       "9870    [1991 American novels, 1991 science fiction no...  \n",
       "139719  [1883 births, 1934 deaths, Writers from Iași, ...  \n",
       "...                                                   ...  \n",
       "62685   [Actuarial science, Capital requirement de:Dec...  \n",
       "357456  [1998 films, 1998 science fiction films, Ameri...  \n",
       "391514                       [Astrophysics, Biophysics .]  \n",
       "10000   [1990 American novels, Novels set during the C...  \n",
       "264660  [1964 births, Living people, 21st-century Amer...  \n",
       "\n",
       "[277 rows x 4 columns]"
      ]
     },
     "execution_count": 42,
     "metadata": {},
     "output_type": "execute_result"
    }
   ],
   "source": [
    "df_science"
   ]
  },
  {
   "cell_type": "code",
   "execution_count": null,
   "metadata": {},
   "outputs": [],
   "source": []
  }
 ],
 "metadata": {
  "kernelspec": {
   "display_name": "Python 3 (ipykernel)",
   "language": "python",
   "name": "python3"
  },
  "language_info": {
   "codemirror_mode": {
    "name": "ipython",
    "version": 3
   },
   "file_extension": ".py",
   "mimetype": "text/x-python",
   "name": "python",
   "nbconvert_exporter": "python",
   "pygments_lexer": "ipython3",
   "version": "3.10.12"
  }
 },
 "nbformat": 4,
 "nbformat_minor": 4
}
