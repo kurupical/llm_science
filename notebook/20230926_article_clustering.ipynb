{
 "cells": [
  {
   "cell_type": "code",
   "execution_count": 1,
   "id": "4378c092",
   "metadata": {},
   "outputs": [],
   "source": [
    "import pandas as pd\n",
    "import numpy as np"
   ]
  },
  {
   "cell_type": "code",
   "execution_count": 22,
   "id": "216c92b3",
   "metadata": {},
   "outputs": [],
   "source": [
    "from sklearn.cluster import KMeans\n",
    "from sklearn.decomposition import PCA"
   ]
  },
  {
   "cell_type": "code",
   "execution_count": 9,
   "id": "63c3ca7b",
   "metadata": {},
   "outputs": [],
   "source": [
    "df = pd.read_parquet(\"../data/wikipedia_fixed/sep_chunk/token_length120_stride_sentence4_drop_categoryTrue_with_category/chunk1.parquet\")"
   ]
  },
  {
   "cell_type": "code",
   "execution_count": 6,
   "id": "43daefb0",
   "metadata": {},
   "outputs": [],
   "source": [
    "embeddings = np.load(\"../output/embeddings/gte-base_all_without_sep_192_token_length120_stride_sentence4_drop_categoryTrue_all_exp009_chunk1.npy\")"
   ]
  },
  {
   "cell_type": "code",
   "execution_count": 16,
   "id": "8060f5f2",
   "metadata": {},
   "outputs": [],
   "source": [
    "df_ = df.groupby(\"id\", as_index=False).nth(1)"
   ]
  },
  {
   "cell_type": "code",
   "execution_count": null,
   "id": "322776d0",
   "metadata": {},
   "outputs": [],
   "source": [
    "indice = df_.index"
   ]
  },
  {
   "cell_type": "code",
   "execution_count": 38,
   "id": "149422eb",
   "metadata": {},
   "outputs": [],
   "source": [
    "pca = PCA(n_components=256)\n",
    "emb_pca = pca.fit_transform(embeddings[indice]).astype(np.float16)"
   ]
  },
  {
   "cell_type": "code",
   "execution_count": 39,
   "id": "b19d541f",
   "metadata": {},
   "outputs": [
    {
     "data": {
      "text/plain": [
       "0.8620180843996814"
      ]
     },
     "execution_count": 39,
     "metadata": {},
     "output_type": "execute_result"
    }
   ],
   "source": [
    "pca.explained_variance_ratio_.sum()"
   ]
  },
  {
   "cell_type": "code",
   "execution_count": 40,
   "id": "45f9b986",
   "metadata": {},
   "outputs": [],
   "source": [
    "kmeans = KMeans(n_clusters=20)"
   ]
  },
  {
   "cell_type": "code",
   "execution_count": 41,
   "id": "b7ee66d0",
   "metadata": {},
   "outputs": [
    {
     "name": "stderr",
     "output_type": "stream",
     "text": [
      "/opt/conda/lib/python3.10/site-packages/sklearn/cluster/_kmeans.py:870: FutureWarning: The default value of `n_init` will change from 10 to 'auto' in 1.4. Set the value of `n_init` explicitly to suppress the warning\n",
      "  warnings.warn(\n"
     ]
    },
    {
     "data": {
      "text/html": [
       "<style>#sk-container-id-2 {color: black;background-color: white;}#sk-container-id-2 pre{padding: 0;}#sk-container-id-2 div.sk-toggleable {background-color: white;}#sk-container-id-2 label.sk-toggleable__label {cursor: pointer;display: block;width: 100%;margin-bottom: 0;padding: 0.3em;box-sizing: border-box;text-align: center;}#sk-container-id-2 label.sk-toggleable__label-arrow:before {content: \"▸\";float: left;margin-right: 0.25em;color: #696969;}#sk-container-id-2 label.sk-toggleable__label-arrow:hover:before {color: black;}#sk-container-id-2 div.sk-estimator:hover label.sk-toggleable__label-arrow:before {color: black;}#sk-container-id-2 div.sk-toggleable__content {max-height: 0;max-width: 0;overflow: hidden;text-align: left;background-color: #f0f8ff;}#sk-container-id-2 div.sk-toggleable__content pre {margin: 0.2em;color: black;border-radius: 0.25em;background-color: #f0f8ff;}#sk-container-id-2 input.sk-toggleable__control:checked~div.sk-toggleable__content {max-height: 200px;max-width: 100%;overflow: auto;}#sk-container-id-2 input.sk-toggleable__control:checked~label.sk-toggleable__label-arrow:before {content: \"▾\";}#sk-container-id-2 div.sk-estimator input.sk-toggleable__control:checked~label.sk-toggleable__label {background-color: #d4ebff;}#sk-container-id-2 div.sk-label input.sk-toggleable__control:checked~label.sk-toggleable__label {background-color: #d4ebff;}#sk-container-id-2 input.sk-hidden--visually {border: 0;clip: rect(1px 1px 1px 1px);clip: rect(1px, 1px, 1px, 1px);height: 1px;margin: -1px;overflow: hidden;padding: 0;position: absolute;width: 1px;}#sk-container-id-2 div.sk-estimator {font-family: monospace;background-color: #f0f8ff;border: 1px dotted black;border-radius: 0.25em;box-sizing: border-box;margin-bottom: 0.5em;}#sk-container-id-2 div.sk-estimator:hover {background-color: #d4ebff;}#sk-container-id-2 div.sk-parallel-item::after {content: \"\";width: 100%;border-bottom: 1px solid gray;flex-grow: 1;}#sk-container-id-2 div.sk-label:hover label.sk-toggleable__label {background-color: #d4ebff;}#sk-container-id-2 div.sk-serial::before {content: \"\";position: absolute;border-left: 1px solid gray;box-sizing: border-box;top: 0;bottom: 0;left: 50%;z-index: 0;}#sk-container-id-2 div.sk-serial {display: flex;flex-direction: column;align-items: center;background-color: white;padding-right: 0.2em;padding-left: 0.2em;position: relative;}#sk-container-id-2 div.sk-item {position: relative;z-index: 1;}#sk-container-id-2 div.sk-parallel {display: flex;align-items: stretch;justify-content: center;background-color: white;position: relative;}#sk-container-id-2 div.sk-item::before, #sk-container-id-2 div.sk-parallel-item::before {content: \"\";position: absolute;border-left: 1px solid gray;box-sizing: border-box;top: 0;bottom: 0;left: 50%;z-index: -1;}#sk-container-id-2 div.sk-parallel-item {display: flex;flex-direction: column;z-index: 1;position: relative;background-color: white;}#sk-container-id-2 div.sk-parallel-item:first-child::after {align-self: flex-end;width: 50%;}#sk-container-id-2 div.sk-parallel-item:last-child::after {align-self: flex-start;width: 50%;}#sk-container-id-2 div.sk-parallel-item:only-child::after {width: 0;}#sk-container-id-2 div.sk-dashed-wrapped {border: 1px dashed gray;margin: 0 0.4em 0.5em 0.4em;box-sizing: border-box;padding-bottom: 0.4em;background-color: white;}#sk-container-id-2 div.sk-label label {font-family: monospace;font-weight: bold;display: inline-block;line-height: 1.2em;}#sk-container-id-2 div.sk-label-container {text-align: center;}#sk-container-id-2 div.sk-container {/* jupyter's `normalize.less` sets `[hidden] { display: none; }` but bootstrap.min.css set `[hidden] { display: none !important; }` so we also need the `!important` here to be able to override the default hidden behavior on the sphinx rendered scikit-learn.org. See: https://github.com/scikit-learn/scikit-learn/issues/21755 */display: inline-block !important;position: relative;}#sk-container-id-2 div.sk-text-repr-fallback {display: none;}</style><div id=\"sk-container-id-2\" class=\"sk-top-container\"><div class=\"sk-text-repr-fallback\"><pre>KMeans(n_clusters=20)</pre><b>In a Jupyter environment, please rerun this cell to show the HTML representation or trust the notebook. <br />On GitHub, the HTML representation is unable to render, please try loading this page with nbviewer.org.</b></div><div class=\"sk-container\" hidden><div class=\"sk-item\"><div class=\"sk-estimator sk-toggleable\"><input class=\"sk-toggleable__control sk-hidden--visually\" id=\"sk-estimator-id-2\" type=\"checkbox\" checked><label for=\"sk-estimator-id-2\" class=\"sk-toggleable__label sk-toggleable__label-arrow\">KMeans</label><div class=\"sk-toggleable__content\"><pre>KMeans(n_clusters=20)</pre></div></div></div></div></div>"
      ],
      "text/plain": [
       "KMeans(n_clusters=20)"
      ]
     },
     "execution_count": 41,
     "metadata": {},
     "output_type": "execute_result"
    }
   ],
   "source": [
    "kmeans.fit(emb_pca)"
   ]
  },
  {
   "cell_type": "code",
   "execution_count": 42,
   "id": "ca455e30",
   "metadata": {},
   "outputs": [],
   "source": [
    "cluster = kmeans.predict(emb_pca)"
   ]
  },
  {
   "cell_type": "code",
   "execution_count": 43,
   "id": "18d8ed96",
   "metadata": {},
   "outputs": [
    {
     "name": "stderr",
     "output_type": "stream",
     "text": [
      "/tmp/ipykernel_50258/2741614401.py:1: SettingWithCopyWarning: \n",
      "A value is trying to be set on a copy of a slice from a DataFrame.\n",
      "Try using .loc[row_indexer,col_indexer] = value instead\n",
      "\n",
      "See the caveats in the documentation: https://pandas.pydata.org/pandas-docs/stable/user_guide/indexing.html#returning-a-view-versus-a-copy\n",
      "  df_[\"cluster\"] = cluster\n"
     ]
    }
   ],
   "source": [
    "df_[\"cluster\"] = cluster"
   ]
  },
  {
   "cell_type": "code",
   "execution_count": 44,
   "id": "b1573cf3",
   "metadata": {},
   "outputs": [
    {
     "data": {
      "text/plain": [
       "17    34581\n",
       "10    21351\n",
       "2     17829\n",
       "11    15937\n",
       "13    15917\n",
       "9     15253\n",
       "5     14214\n",
       "16    14125\n",
       "18    14071\n",
       "1     13803\n",
       "4     12090\n",
       "12    12041\n",
       "15    11354\n",
       "8     11012\n",
       "3     10940\n",
       "14     9474\n",
       "6      9118\n",
       "0      7843\n",
       "7      7753\n",
       "19     6204\n",
       "Name: cluster, dtype: int64"
      ]
     },
     "execution_count": 44,
     "metadata": {},
     "output_type": "execute_result"
    }
   ],
   "source": [
    "df_[\"cluster\"].value_counts()"
   ]
  },
  {
   "cell_type": "code",
   "execution_count": 51,
   "id": "27839164",
   "metadata": {},
   "outputs": [
    {
     "data": {
      "text/html": [
       "<div>\n",
       "<style scoped>\n",
       "    .dataframe tbody tr th:only-of-type {\n",
       "        vertical-align: middle;\n",
       "    }\n",
       "\n",
       "    .dataframe tbody tr th {\n",
       "        vertical-align: top;\n",
       "    }\n",
       "\n",
       "    .dataframe thead th {\n",
       "        text-align: right;\n",
       "    }\n",
       "</style>\n",
       "<table border=\"1\" class=\"dataframe\">\n",
       "  <thead>\n",
       "    <tr style=\"text-align: right;\">\n",
       "      <th></th>\n",
       "      <th>title</th>\n",
       "      <th>text</th>\n",
       "      <th>id</th>\n",
       "      <th>category</th>\n",
       "      <th>title_only</th>\n",
       "      <th>cluster</th>\n",
       "    </tr>\n",
       "  </thead>\n",
       "  <tbody>\n",
       "    <tr>\n",
       "      <th>34</th>\n",
       "      <td>Alimqul</td>\n",
       "      <td>`Alimqul (also spelt Alymkul, Alim quli, Alim ...</td>\n",
       "      <td>10001923</td>\n",
       "      <td>[Articles with FAST identifiers, Articles with...</td>\n",
       "      <td>False</td>\n",
       "      <td>4</td>\n",
       "    </tr>\n",
       "    <tr>\n",
       "      <th>326</th>\n",
       "      <td>Andrew Francis (bishop)</td>\n",
       "      <td>Andrew Francis (29 November 1946 – 6 June 2017...</td>\n",
       "      <td>10005391</td>\n",
       "      <td>[Articles with short description, Short descri...</td>\n",
       "      <td>False</td>\n",
       "      <td>4</td>\n",
       "    </tr>\n",
       "    <tr>\n",
       "      <th>364</th>\n",
       "      <td>Afag Masud</td>\n",
       "      <td>Afag Masud (Azerbaijani: Afaq Məsud) (born 3 J...</td>\n",
       "      <td>10006281</td>\n",
       "      <td>[Articles with Russian-language sources (ru), ...</td>\n",
       "      <td>False</td>\n",
       "      <td>4</td>\n",
       "    </tr>\n",
       "    <tr>\n",
       "      <th>819</th>\n",
       "      <td>Ali Krasniqi</td>\n",
       "      <td>Ali Krasniqi (born 1952) is a Kosovar writer a...</td>\n",
       "      <td>10015279</td>\n",
       "      <td>[Articles with short description, Short descri...</td>\n",
       "      <td>False</td>\n",
       "      <td>4</td>\n",
       "    </tr>\n",
       "    <tr>\n",
       "      <th>3350</th>\n",
       "      <td>Abdullah Ensour</td>\n",
       "      <td>Abdullah Ensour (/ˈɑːbdələ ɛnˈsʊər/ i AHB-də-l...</td>\n",
       "      <td>10034366</td>\n",
       "      <td>[Pages using the Phonos extension, Articles wi...</td>\n",
       "      <td>False</td>\n",
       "      <td>4</td>\n",
       "    </tr>\n",
       "    <tr>\n",
       "      <th>...</th>\n",
       "      <td>...</td>\n",
       "      <td>...</td>\n",
       "      <td>...</td>\n",
       "      <td>...</td>\n",
       "      <td>...</td>\n",
       "      <td>...</td>\n",
       "    </tr>\n",
       "    <tr>\n",
       "      <th>3249647</th>\n",
       "      <td>ASHK Sadek</td>\n",
       "      <td>Abu Sharaf Hizbul Qader Sadek (Bengali: আবু শর...</td>\n",
       "      <td>51918659</td>\n",
       "      <td>[CS1 Bengali-language sources (bn), Articles w...</td>\n",
       "      <td>False</td>\n",
       "      <td>4</td>\n",
       "    </tr>\n",
       "    <tr>\n",
       "      <th>3249658</th>\n",
       "      <td>Aziz Mushabber Ahmadi</td>\n",
       "      <td>Aziz Mushabber Ahmadi (25 March 1932 – 2 March...</td>\n",
       "      <td>5191883</td>\n",
       "      <td>[Articles with short description, Short descri...</td>\n",
       "      <td>False</td>\n",
       "      <td>4</td>\n",
       "    </tr>\n",
       "    <tr>\n",
       "      <th>3249870</th>\n",
       "      <td>Awaludin</td>\n",
       "      <td>Awaludin or Awaluddin (11 November 1916 in Pad...</td>\n",
       "      <td>51921883</td>\n",
       "      <td>[Use dmy dates from September 2023, Articles w...</td>\n",
       "      <td>False</td>\n",
       "      <td>4</td>\n",
       "    </tr>\n",
       "    <tr>\n",
       "      <th>3249941</th>\n",
       "      <td>African Rose</td>\n",
       "      <td>African Rose (foaled 8 May 2005) is a British-...</td>\n",
       "      <td>51924065</td>\n",
       "      <td>[All articles with dead external links, Articl...</td>\n",
       "      <td>False</td>\n",
       "      <td>4</td>\n",
       "    </tr>\n",
       "    <tr>\n",
       "      <th>3249968</th>\n",
       "      <td>Asif Fawad</td>\n",
       "      <td>Asif Fawad (born 22 December 1990) is a Pakist...</td>\n",
       "      <td>51924070</td>\n",
       "      <td>[Articles with short description, Short descri...</td>\n",
       "      <td>False</td>\n",
       "      <td>4</td>\n",
       "    </tr>\n",
       "  </tbody>\n",
       "</table>\n",
       "<p>12090 rows × 6 columns</p>\n",
       "</div>"
      ],
      "text/plain": [
       "                           title  \\\n",
       "34                       Alimqul   \n",
       "326      Andrew Francis (bishop)   \n",
       "364                   Afag Masud   \n",
       "819                 Ali Krasniqi   \n",
       "3350             Abdullah Ensour   \n",
       "...                          ...   \n",
       "3249647               ASHK Sadek   \n",
       "3249658    Aziz Mushabber Ahmadi   \n",
       "3249870                 Awaludin   \n",
       "3249941             African Rose   \n",
       "3249968               Asif Fawad   \n",
       "\n",
       "                                                      text        id  \\\n",
       "34       `Alimqul (also spelt Alymkul, Alim quli, Alim ...  10001923   \n",
       "326      Andrew Francis (29 November 1946 – 6 June 2017...  10005391   \n",
       "364      Afag Masud (Azerbaijani: Afaq Məsud) (born 3 J...  10006281   \n",
       "819      Ali Krasniqi (born 1952) is a Kosovar writer a...  10015279   \n",
       "3350     Abdullah Ensour (/ˈɑːbdələ ɛnˈsʊər/ i AHB-də-l...  10034366   \n",
       "...                                                    ...       ...   \n",
       "3249647  Abu Sharaf Hizbul Qader Sadek (Bengali: আবু শর...  51918659   \n",
       "3249658  Aziz Mushabber Ahmadi (25 March 1932 – 2 March...   5191883   \n",
       "3249870  Awaludin or Awaluddin (11 November 1916 in Pad...  51921883   \n",
       "3249941  African Rose (foaled 8 May 2005) is a British-...  51924065   \n",
       "3249968  Asif Fawad (born 22 December 1990) is a Pakist...  51924070   \n",
       "\n",
       "                                                  category  title_only  \\\n",
       "34       [Articles with FAST identifiers, Articles with...       False   \n",
       "326      [Articles with short description, Short descri...       False   \n",
       "364      [Articles with Russian-language sources (ru), ...       False   \n",
       "819      [Articles with short description, Short descri...       False   \n",
       "3350     [Pages using the Phonos extension, Articles wi...       False   \n",
       "...                                                    ...         ...   \n",
       "3249647  [CS1 Bengali-language sources (bn), Articles w...       False   \n",
       "3249658  [Articles with short description, Short descri...       False   \n",
       "3249870  [Use dmy dates from September 2023, Articles w...       False   \n",
       "3249941  [All articles with dead external links, Articl...       False   \n",
       "3249968  [Articles with short description, Short descri...       False   \n",
       "\n",
       "         cluster  \n",
       "34             4  \n",
       "326            4  \n",
       "364            4  \n",
       "819            4  \n",
       "3350           4  \n",
       "...          ...  \n",
       "3249647        4  \n",
       "3249658        4  \n",
       "3249870        4  \n",
       "3249941        4  \n",
       "3249968        4  \n",
       "\n",
       "[12090 rows x 6 columns]"
      ]
     },
     "execution_count": 51,
     "metadata": {},
     "output_type": "execute_result"
    }
   ],
   "source": [
    "df_[df_[\"cluster\"] == 4]"
   ]
  },
  {
   "cell_type": "code",
   "execution_count": 45,
   "id": "0961b729",
   "metadata": {},
   "outputs": [
    {
     "data": {
      "text/plain": [
       "1           9\n",
       "4           1\n",
       "8           5\n",
       "21          7\n",
       "26         19\n",
       "           ..\n",
       "3249970     5\n",
       "3249972     7\n",
       "3249991     9\n",
       "3249998     9\n",
       "3250000     0\n",
       "Name: cluster, Length: 274910, dtype: int32"
      ]
     },
     "execution_count": 45,
     "metadata": {},
     "output_type": "execute_result"
    }
   ],
   "source": [
    "df_[\"cluster\"]"
   ]
  },
  {
   "cell_type": "code",
   "execution_count": null,
   "id": "d11e1228",
   "metadata": {},
   "outputs": [],
   "source": []
  }
 ],
 "metadata": {
  "kernelspec": {
   "display_name": "Python 3 (ipykernel)",
   "language": "python",
   "name": "python3"
  },
  "language_info": {
   "codemirror_mode": {
    "name": "ipython",
    "version": 3
   },
   "file_extension": ".py",
   "mimetype": "text/x-python",
   "name": "python",
   "nbconvert_exporter": "python",
   "pygments_lexer": "ipython3",
   "version": "3.10.12"
  }
 },
 "nbformat": 4,
 "nbformat_minor": 5
}
