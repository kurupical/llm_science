{
 "cells": [
  {
   "cell_type": "code",
   "execution_count": 1,
   "metadata": {},
   "outputs": [],
   "source": [
    "import openai\n",
    "import pandas as pd\n",
    "import tqdm\n",
    "import glob\n",
    "\n",
    "import warnings\n",
    "warnings.filterwarnings(\"ignore\")"
   ]
  },
  {
   "cell_type": "code",
   "execution_count": 2,
   "metadata": {},
   "outputs": [],
   "source": [
    "with open(\"../apikey/apikey.txt\", \"r\") as f:\n",
    "    openai.api_key = f.readline().replace(\"\\n\", \"\")"
   ]
  },
  {
   "cell_type": "code",
   "execution_count": 3,
   "metadata": {},
   "outputs": [],
   "source": [
    "def query_prompt(prompt, max_tokens=1000):\n",
    "    response = openai.ChatCompletion.create(\n",
    "        model=\"gpt-3.5-turbo-16k\",\n",
    "        messages=[{\"role\": \"user\", \"content\": prompt}],\n",
    "        max_tokens=max_tokens,\n",
    "        temperature=0,\n",
    "    )\n",
    "    return response[\"choices\"][0][\"message\"][\"content\"]"
   ]
  },
  {
   "cell_type": "code",
   "execution_count": null,
   "metadata": {},
   "outputs": [],
   "source": []
  },
  {
   "cell_type": "code",
   "execution_count": 4,
   "metadata": {},
   "outputs": [],
   "source": [
    "def get_df(fname):\n",
    "    def f(categories):\n",
    "        for cat in categories:\n",
    "            if \"science\" in cat:\n",
    "                return True\n",
    "            if \"physics\" in cat:\n",
    "                return True\n",
    "            if \"chemistry\" in cat:\n",
    "                return True\n",
    "        return False\n",
    "    \n",
    "    def text_preprocess(text):\n",
    "        return text.replace(\"===\", \"\\n\").replace(\"==\", \"\\n\")\n",
    "\n",
    "    df = pd.read_parquet(fname)\n",
    "    df_science = df[df[\"categories\"].apply(f)]\n",
    "    df_science[\"text\"] = \"title: \" + df_science[\"title\"] + \"\\n\" + df_science[\"text\"].apply(text_preprocess)\n",
    "    return df_science.sample(len(df_science)//20)"
   ]
  },
  {
   "cell_type": "code",
   "execution_count": 5,
   "metadata": {},
   "outputs": [],
   "source": [
    "files = glob.glob(\"../data/wikipedia/*.parquet\")"
   ]
  },
  {
   "cell_type": "code",
   "execution_count": 6,
   "metadata": {},
   "outputs": [],
   "source": [
    "import time"
   ]
  },
  {
   "cell_type": "code",
   "execution_count": 7,
   "metadata": {},
   "outputs": [],
   "source": [
    "import pickle"
   ]
  },
  {
   "cell_type": "code",
   "execution_count": 8,
   "metadata": {},
   "outputs": [],
   "source": [
    "import json"
   ]
  },
  {
   "cell_type": "code",
   "execution_count": 9,
   "metadata": {},
   "outputs": [],
   "source": [
    "from datetime import datetime as dt"
   ]
  },
  {
   "cell_type": "code",
   "execution_count": 13,
   "metadata": {},
   "outputs": [
    {
     "name": "stderr",
     "output_type": "stream",
     "text": [
      "../data/wikipedia/a.parquet:   7%|████▌                                                                 | 9/138 [00:40<09:17,  4.32s/it]Traceback (most recent call last):\n",
      "  File \"/tmp/ipykernel_13518/2907329658.py\", line 32, in <module>\n",
      "    text = json.loads(text)\n",
      "  File \"/opt/conda/lib/python3.10/json/__init__.py\", line 346, in loads\n",
      "    return _default_decoder.decode(s)\n",
      "  File \"/opt/conda/lib/python3.10/json/decoder.py\", line 337, in decode\n",
      "    obj, end = self.raw_decode(s, idx=_w(s, 0).end())\n",
      "  File \"/opt/conda/lib/python3.10/json/decoder.py\", line 353, in raw_decode\n",
      "    obj, end = self.scan_once(s, idx)\n",
      "json.decoder.JSONDecodeError: Invalid \\escape: line 3 column 23 (char 137)\n",
      "../data/wikipedia/a.parquet:   7%|█████                                                                | 10/138 [00:52<14:21,  6.73s/it]"
     ]
    },
    {
     "name": "stdout",
     "output_type": "stream",
     "text": [
      "Invalid \\escape: line 3 column 23 (char 137)\n",
      "{\n",
      "  \"prompt\": \"What is the representation of the spacetime position paravector in the algebra of physical space?\",\n",
      "  \"A\": \"x = x^0 + x^1 \\mathbf{e}_1 + x^2 \\mathbf{e}_2 + x^3 \\mathbf{e}_3\",\n",
      "  \"B\": \"x = \\begin{pmatrix} x^0 + x^3 && x^1 - ix^2 \\\\\\ x^1 + ix^2 && x^0-x^3\\end{pmatrix}\",\n",
      "  \"C\": \"x = \\begin{pmatrix} E_3 & E_1 -i E_2 \\\\\\ E_1 +i E_2 & -E_3 \\end{pmatrix} \\+ i \\begin{pmatrix} B_3 & B_1 -i B_2 \\\\\\ B_1 +i B_2 & -B_3 \\end{pmatrix}\",\n",
      "  \"D\": \"x = \\partial \\bar{A}\",\n",
      "  \"E\": \"x = \\frac{d x }{d \\tau}\",\n",
      "  \"answer\": \"A\",\n",
      "  \"basis\": \"In APS, the spacetime position is represented as the paravector x = x^0 + x^1 \\mathbf{e}_1 + x^2 \\mathbf{e}_2 + x^3 \\mathbf{e}_3, where the time is given by the scalar part , and e1, e2, e3 are the standard basis for position space.\"\n",
      "}\n"
     ]
    },
    {
     "name": "stderr",
     "output_type": "stream",
     "text": [
      "../data/wikipedia/a.parquet: 100%|████████████████████████████████████████████████████████████████████| 138/138 [11:28<00:00,  4.99s/it]\n",
      "../data/wikipedia/b.parquet:  40%|████████████████████████████▏                                         | 33/82 [02:40<03:56,  4.83s/it]Traceback (most recent call last):\n",
      "  File \"/tmp/ipykernel_13518/2907329658.py\", line 32, in <module>\n",
      "    text = json.loads(text)\n",
      "  File \"/opt/conda/lib/python3.10/json/__init__.py\", line 346, in loads\n",
      "    return _default_decoder.decode(s)\n",
      "  File \"/opt/conda/lib/python3.10/json/decoder.py\", line 337, in decode\n",
      "    obj, end = self.raw_decode(s, idx=_w(s, 0).end())\n",
      "  File \"/opt/conda/lib/python3.10/json/decoder.py\", line 353, in raw_decode\n",
      "    obj, end = self.scan_once(s, idx)\n",
      "json.decoder.JSONDecodeError: Unterminated string starting at: line 9 column 12 (char 387)\n",
      "../data/wikipedia/b.parquet:  41%|█████████████████████████████                                         | 34/82 [02:46<04:14,  5.31s/it]"
     ]
    },
    {
     "name": "stdout",
     "output_type": "stream",
     "text": [
      "Unterminated string starting at: line 9 column 12 (char 387)\n",
      "{\n",
      "  \"prompt\": \"What is the main advantage of Bioglass compared to other synthetic bone grafting biomaterials?\",\n",
      "  \"A\": \"It has anti-infective and angiogenic properties\",\n",
      "  \"B\": \"It is degradable in body fluids\",\n",
      "  \"C\": \"It can deliver ions beneficial for healing\",\n",
      "  \"D\": \"It can form a coating of hydroxyapatite\",\n",
      "  \"E\": \"It is biocompatible and bioactive\",\n",
      "  \"answer\": \"A\",\n",
      "  \"basis\": \"\n"
     ]
    },
    {
     "name": "stderr",
     "output_type": "stream",
     "text": [
      "../data/wikipedia/b.parquet: 100%|██████████████████████████████████████████████████████████████████████| 82/82 [06:44<00:00,  4.93s/it]\n",
      "../data/wikipedia/c.parquet:  36%|████████████████████████▌                                            | 46/129 [04:07<07:38,  5.53s/it]Traceback (most recent call last):\n",
      "  File \"/tmp/ipykernel_13518/2907329658.py\", line 32, in <module>\n",
      "    text = json.loads(text)\n",
      "  File \"/opt/conda/lib/python3.10/json/__init__.py\", line 346, in loads\n",
      "    return _default_decoder.decode(s)\n",
      "  File \"/opt/conda/lib/python3.10/json/decoder.py\", line 337, in decode\n",
      "    obj, end = self.raw_decode(s, idx=_w(s, 0).end())\n",
      "  File \"/opt/conda/lib/python3.10/json/decoder.py\", line 353, in raw_decode\n",
      "    obj, end = self.scan_once(s, idx)\n",
      "json.decoder.JSONDecodeError: Expecting ',' delimiter: line 9 column 171 (char 426)\n",
      "../data/wikipedia/c.parquet:  36%|█████████████████████████▏                                           | 47/129 [04:13<07:34,  5.55s/it]"
     ]
    },
    {
     "name": "stdout",
     "output_type": "stream",
     "text": [
      "Expecting ',' delimiter: line 9 column 171 (char 426)\n",
      "{\n",
      "  \"prompt\": \"What is the term often used interchangeably with delirium to describe the loss of orientation and memory loss?\",\n",
      "  \"A\": \"Acute stress reaction\",\n",
      "  \"B\": \"Alcoholism\",\n",
      "  \"C\": \"Anemia\",\n",
      "  \"D\": \"Confusion\",\n",
      "  \"E\": \"Depression\",\n",
      "  \"answer\": \"D\",\n",
      "  \"basis\": \"The term often used interchangeably with delirium to describe the loss of orientation and memory loss is confusion. This is mentioned in the text: 'The term \"acute mental confusion\" is often used interchangeably with delirium in the International Statistical Classification of Diseases and Related Health Problems and the Medical Subject Headings publications to describe the pathology.'\"\n",
      "}\n"
     ]
    },
    {
     "name": "stderr",
     "output_type": "stream",
     "text": [
      "../data/wikipedia/c.parquet: 100%|████████████████████████████████████████████████████████████████████| 129/129 [11:18<00:00,  5.26s/it]\n",
      "../data/wikipedia/d.parquet:  66%|██████████████████████████████████████████████▏                       | 58/88 [05:17<02:55,  5.86s/it]Traceback (most recent call last):\n",
      "  File \"/tmp/ipykernel_13518/2907329658.py\", line 31, in <module>\n",
      "    text = query_prompt(prompt)\n",
      "  File \"/tmp/ipykernel_13518/2301454346.py\", line 2, in query_prompt\n",
      "    response = openai.ChatCompletion.create(\n",
      "  File \"/opt/conda/lib/python3.10/site-packages/openai/api_resources/chat_completion.py\", line 25, in create\n",
      "    return super().create(*args, **kwargs)\n",
      "  File \"/opt/conda/lib/python3.10/site-packages/openai/api_resources/abstract/engine_api_resource.py\", line 153, in create\n",
      "    response, _, api_key = requestor.request(\n",
      "  File \"/opt/conda/lib/python3.10/site-packages/openai/api_requestor.py\", line 298, in request\n",
      "    resp, got_stream = self._interpret_response(result, stream)\n",
      "  File \"/opt/conda/lib/python3.10/site-packages/openai/api_requestor.py\", line 700, in _interpret_response\n",
      "    self._interpret_response_line(\n",
      "  File \"/opt/conda/lib/python3.10/site-packages/openai/api_requestor.py\", line 765, in _interpret_response_line\n",
      "    raise self.handle_error_response(\n",
      "openai.error.InvalidRequestError: This model's maximum context length is 16385 tokens. However, your messages resulted in 19853 tokens. Please reduce the length of the messages.\n",
      "../data/wikipedia/d.parquet:  67%|██████████████████████████████████████████████▉                       | 59/88 [05:19<02:08,  4.44s/it]"
     ]
    },
    {
     "name": "stdout",
     "output_type": "stream",
     "text": [
      "This model's maximum context length is 16385 tokens. However, your messages resulted in 19853 tokens. Please reduce the length of the messages.\n",
      "{'prompt': 'What is the diffuse series?', 'A': 'A series of spectral lines caused by transitions between the lowest p orbital and d orbitals of an atom', 'B': 'A series of spectral lines caused by transitions between the lowest s orbital and p orbitals of an atom', 'C': 'A series of spectral lines caused by transitions between the lowest d orbital and f orbitals of an atom', 'D': 'A series of spectral lines caused by transitions between the lowest s orbital and d orbitals of an atom', 'E': 'A series of spectral lines caused by transitions between the lowest p orbital and f orbitals of an atom', 'answer': 'A', 'basis': 'The diffuse series is a series of spectral lines caused when electrons jump between the lowest p orbital and d orbitals of an atom.', 'wiki_id': '41600720', 'original_text': 'title: Diffuse series\\nThe diffuse series is a series of spectral lines in the atomic emission spectrum caused when electrons jump between the lowest p orbital and d orbitals of an atom. The total orbital angular momentum changes between 1 and 2. The spectral lines include some in the visible light, and may extend into ultraviolet or near infrared. The lines get closer and closer together as the frequency increases never exceeding the series limit. The diffuse series was important in the development of the understanding of electron shells and subshells in atoms. The diffuse series has given the letter d to the d atomic orbital or subshell. The diffuse series has values given by v=\\\\frac{R}{\\\\left[ 2+p\\\\right]^2}-\\\\frac{R}{\\\\left[ m+d\\\\right]^2} \\\\quad\\\\text{where} \\\\;\\\\, m=2,3,4,... The series is caused by transitions from the lowest P state to higher energy D orbitals. One terminology to identify the lines is: 1P-mD But note that 1P just means the lowest P state in the valence shell of an atom and that the modern designation would start at 2P, and is larger for higher atomic numbered atoms. The terms can have different designations, mD for single line systems, mδ for doublets and md for triplets. Since the Electron in the D subshell state is not the lowest energy level for the alkali atom (the S is) the diffuse series will not show up as absorption in a cool gas, however it shows up as emission lines. The Rydberg correction is largest for the S term as the electron penetrates the inner core of electrons more. The limit for the series corresponds to electron emission, where the electron has so much energy it escapes the atom. In alkali metals the P terms are split 2P_{\\\\frac{3}{2}} and 2P_{\\\\frac{1}{2}}. This causes the spectral lines to be doublets, with a constant spacing between the two parts of the double line. This splitting is called fine structure. The splitting is larger for atoms with higher atomic number. The splitting decreases towards the series limit. Another splitting occurs on the redder line of the doublet. This is because of splitting in the D level nd^2D_{\\\\frac{3}{2}} and nd^2D_{\\\\frac{5}{2}}. Splitting in the D level has a lesser amount than the P level, and it reduces as the series limit is approached. \\nHistory\\n The diffuse series used to be called the first subordinate series, with the sharp series being the second subordinate, both being subordinate to (less intense than) the principal series. \\nLaws for alkali metals\\n The diffuse series limit is the same as the sharp series limit. In the late 1800s these two were termed supplementary series. Spectral lines of the diffuse series are split into three lines in what is called fine structure. These lines cause the overall line to look diffuse. The reason this happens is that both the P and D levels are split into two closely spaced energies. P is split into P_\\\\frac{1}{2}\\\\ and\\\\ P_\\\\frac{3}{2} . D is split into D_\\\\frac{3}{2}\\\\ and\\\\ D_\\\\frac{5}{2}. Only three of the possible four transitions can take place because the angular momentum change cannot have a magnitude greater than one. In 1896 Arthur Schuster stated his law: \"If we subtract the frequency of the fundamental vibration from the convergence frequency of the principal series , we obtain the convergence frequency of the supplementary series\". But in the next issue of the journal he realised that Rydberg had published the idea a few months earlier. Rydberg Schuster Law: Using wave numbers, the difference between the diffuse and sharp series limits and principal series limit is the same as the first transition in the principal series. This difference is the lowest P level. Runge\\'s Law: Using wave numbers the difference between the diffuse series limit and fundamental series limit is the same as the first transition in the diffuse series. This difference is the lowest D level energy. \\nLithium\\n Lithium has a diffuse series with diffuse lines averaged around 6103.53, 4603.0, 4132.3, 3915.0 and 3794.7 Å. \\nSodium\\n thumb|right|Graph showing wavelengths of the diffuse series of sodium plotted against N−2 (inverse square) making assumptions of different starting point of n. Blue diamond starts with n=2, red square starts with n=3, green triangle starts with n=4, violet X starts with n=5. Only with starting n of 3 is a straight line achieved The sodium diffuse series has wave numbers given by: u_d = R \\\\left(\\\\frac{Z_{3p}^2}{3^2} - \\\\frac{Z_{nd}^2}{n^2}\\\\right) \\\\quad\\\\text{where} \\\\;\\\\, n=3,4,5,6,... The sharp series has wave numbers given by: u_s = R \\\\left(\\\\frac{Z_{3p}^2}{3^2} - \\\\frac{Z_{ns}^2}{n^2}\\\\right) \\\\quad\\\\text{where} \\\\;\\\\, n=4,5,6,... when n tends to infinity the diffuse and sharp series end up with the same limit. sodium diffuse series sodium diffuse series sodium diffuse series sodium diffuse series transition wavelength 1 Å wavelength 2 Å wavelength 3 Å 3P-3D 8194.82 8183.26 8194.79 3P-4D 5688.21 5682.63 5688.19 3P-5D 4982.81 4978.54 4982.8 3P-6D 4668.56 4664.81 4668.6 3P-7D 4497.66 4494.18 4497.7 3P-8D 4393.34 4390.03 4393.3 3P-9D 4324.62 4321.40 4324.6 3P-10D 4276.79 4273.64 4276.8 3P-11D 4242.08 4238.99 4242.0 3P-12D 4215 3P-13D 4195 \\nPotassium\\n potassium diffuse series potassium diffuse series potassium diffuse series potassium diffuse series transition wavelength 1 Å wavelength 2 Å wavelength 3 Å 4P-3D 11772.8 11690.2 11769.7 4P-4D 6964.69 6936.27 6964.18 4P-5D 5831.9 5812.2 5831.7 4P-6D 5359.7 5343.1 5359.6 4P-7D 5112.2 5097.2 5112.2 4P-8D 4965.0 4950.8 4965.0 4P-9D 4869.8 4856.1 4869.8 4P-10D 4804.3 4791.0 4804.3 4P-11D 4757.4 4744.4 4757.4 \\nAlkaline earths\\n A diffuse series of triplet lines is designated by series letter d and formula 1p-md. The diffuse series of singlet lines has series letter S and formula 1P-mS. \\nHelium\\n Helium is in the same category as alkaline earths with respect to spectroscopy, as it has two electrons in the S subshell as do the other alkaline earths. Helium has a diffuse series of doublet lines with wavelengths 5876, 4472 and 4026 Å. Helium when ionised is termed HeII and has a spectrum very similar to hydrogen but shifted to shorter wavelengths. This has a diffuse series as well with wavelengths at 6678, 4922 and 4388 Å. \\nMagnesium\\n Magnesium has a diffuse series of triplets and a sharp series of singlets. \\nCalcium\\n Calcium has a diffuse series of triplets and a sharp series of singlets. \\nStrontium\\n With strontium vapour, the most prominent lines are from the diffuse series. \\nBarium\\n Barium has a diffuse series running from infrared to ultraviolet with wavelengths at 25515.7, 23255.3, 22313.4; 5818.91, 5800.30, 5777.70; 4493.66, 4489.00; 4087.31, 4084.87; 3898.58, 3894.34; 3789.72, 3788.18; 3721.17, and 3720.85 Å \\nHistory\\n At Cambridge University George Liveing and James Dewar set out to systematically measure spectra of elements from groups I, II and III in visible light and longer wave ultraviolet that would transmit through air. They noticed that lines for sodium were alternating sharp and diffuse. They were the first to use the term \"diffuse\" for the lines. They classified alkali metal spectral lines into sharp and diffuse categories. In 1890 the lines that also appeared in the absorption spectrum were termed the principal series. Rydberg continued the use of sharp and diffuse for the other lines, whereas Kayser and Runge preferred to use the term first subordinate series for the diffuse series. Arno Bergmann found a fourth series in infrared in 1907, and this became known as Bergmann Series or fundamental series. Heinrich Kayser, Carl Runge and Johannes Rydberg found mathematical relations between the wave numbers of emission lines of the alkali metals. Friedrich Hund introduced the s, p, d, f notation for subshells in atoms. Others followed this use in the 1930s and the terminology has remained to this day. \\nReferences\\n Category:Spectroscopy Category:Atomic physics Category:Emission spectroscopy'}\n"
     ]
    },
    {
     "name": "stderr",
     "output_type": "stream",
     "text": [
      "../data/wikipedia/d.parquet: 100%|██████████████████████████████████████████████████████████████████████| 88/88 [07:55<00:00,  5.40s/it]\n",
      "../data/wikipedia/e.parquet:  61%|██████████████████████████████████████████▋                           | 50/82 [04:29<02:30,  4.69s/it]Traceback (most recent call last):\n",
      "  File \"/tmp/ipykernel_13518/2907329658.py\", line 31, in <module>\n",
      "    text = query_prompt(prompt)\n",
      "  File \"/tmp/ipykernel_13518/2301454346.py\", line 2, in query_prompt\n",
      "    response = openai.ChatCompletion.create(\n",
      "  File \"/opt/conda/lib/python3.10/site-packages/openai/api_resources/chat_completion.py\", line 25, in create\n",
      "    return super().create(*args, **kwargs)\n",
      "  File \"/opt/conda/lib/python3.10/site-packages/openai/api_resources/abstract/engine_api_resource.py\", line 153, in create\n",
      "    response, _, api_key = requestor.request(\n",
      "  File \"/opt/conda/lib/python3.10/site-packages/openai/api_requestor.py\", line 298, in request\n",
      "    resp, got_stream = self._interpret_response(result, stream)\n",
      "  File \"/opt/conda/lib/python3.10/site-packages/openai/api_requestor.py\", line 700, in _interpret_response\n",
      "    self._interpret_response_line(\n",
      "  File \"/opt/conda/lib/python3.10/site-packages/openai/api_requestor.py\", line 765, in _interpret_response_line\n",
      "    raise self.handle_error_response(\n",
      "openai.error.InvalidRequestError: This model's maximum context length is 16385 tokens. However, your messages resulted in 33878 tokens. Please reduce the length of the messages.\n",
      "../data/wikipedia/e.parquet:  62%|███████████████████████████████████████████▌                          | 51/82 [04:31<01:51,  3.60s/it]"
     ]
    },
    {
     "name": "stdout",
     "output_type": "stream",
     "text": [
      "This model's maximum context length is 16385 tokens. However, your messages resulted in 33878 tokens. Please reduce the length of the messages.\n",
      "{'prompt': 'Who was the editor of Electric Velocipede?', 'A': 'John Klima', 'B': 'Gavin Grant', 'C': 'Anne Zanoni', 'D': 'Damien Walters Grintalis', 'E': 'Jamie Lackey', 'answer': 'A', 'basis': 'Electric Velocipede was a small press speculative fiction fan magazine edited by John Klima.', 'wiki_id': '23923962', 'original_text': 'title: Electric Velocipede\\nElectric Velocipede was a small press speculative fiction fan magazine edited by John Klima. Published from 2001 to 2013, Electric Velocipede won the Hugo Award for Best Fanzine in 2009. \\nHistory\\n In 2000 editor John Klima was inspired to create a magazine by editor Gavin Grant during a panel at Readercon. The first issue made its debut at the 2001 SFWA Writers/Editors Banquet. At that point Klima began selling single issues and subscriptions. Klima was able to publish two issues a year and gained the ability to pay contributors with issue #10 in 2006. That same year, under the aegis of his independent publishing company Spilt Milk Press, Klima published chapbooks by Electric Velocipede authors. These included The Sense of Falling by Ezra Pines, An Alternate History of the 21st Century by William Shunn, and Psychological Methods to Sell Must Be Destroyed by Robert Freeman Wexler. The first 16 issues of Electric Velocipede were produced and published solely by Klima. In 2008 he announced a partnership with independent publisher Night Shade Books to publish and distribute the zine. Klima and Night Shade Books dissolved their partnership at the end of 2010 and Klima then handled the magazine independently. In 2012, the magazine ceased publishing printed issues and went online with issue 23. The magazine closed completely in 2013.Electric Velocipede and Icarus Closing Locus Online News. Retrieved January 21, 2015. \\nStaff\\n *John Klima, Publisher, Editor in Chief *Anne Zanoni, Managing Editor *Damien Walters Grintalis, Associate Editor *Jamie Lackey, Assistant Editor \\nNotable authors and stories\\n Electric Velocipede has featured work from award-winning and well-known speculative fiction authors from its first issue. Some of the contributors include: Marie Brennan, Hal Duncan, Charles Coleman Finlay, Jeffrey Ford, Alex Irvine, Jay Lake, Sandra McDonald, Patrick O\\'Leary, Bruce Holland Rogers, Catherynne M. Valente, Jeff VanderMeer, Leslie What, Liz Williams, and Marly Youmans. \\nAwards\\n * \"The Way He Does It\" by Jeffrey Ford (issue #10) - Nominated: Best Short Fiction, World Fantasy Award * Electric Velocipede - Winner: Best Fanzine, 2009 Hugo Award *John Klima - Nominated: Special Award: Non-Professional, 2007 World Fantasy Award *John Klima - Nominated: Special Award: Non-Professional, 2008 World Fantasy Award *John Klima - Nominated: Special Award: Non-Professional, 2009 World Fantasy Award *John Klima - Nominated: Special Award: Non-Professional, 2010 World Fantasy Award \\nReprinted stories\\n * \"A Keeper\" by Alan DeNiro in Skinny Dipping in the Lake of the Dead (issue #6) * \"The Way He Does It\" by Jeffrey Ford in The Drowned Life (issue #10) * \"Moon Does Run\" by Edd Vick in Year\\'s Best SF 12 (issue #11) * \"How the World Became Quiet: A Post-Human Creation Myth\" by Rachel Swirsky in Best American Fantasy 2 (issue #13) * \"The Death of Sugar Daddy\", by Toiya Kristen Finley in The Year\\'s Best Science Fiction and Fantasy: 2010 Edition (issue #17/18) * \"Heaven Under Earth\", by Aliette de Bodard in The Year\\'s Best Science Fiction and Fantasy: 2013 Edition (issue #24) * \"The Irish Astronaut\", by Val Nolan in The Year\\'s Best Science Fiction: Thirty-First Annual Collection (issue #26) \\nIssues\\n As of December 2013, there have been 27 issues of Electric Velocipede. Issue 14 was an all-female issue in honor of the WisCon Feminist Science Fiction Convention. \\nReferences\\n \\nExternal links\\n * Category:2001 establishments in Iowa Category:2013 disestablishments in Iowa Category:Biannual magazines published in the United States Category:Defunct science fiction magazines published in the United States Category:Fantasy fiction magazines Category:Magazines established in 2001 Category:Magazines disestablished in 2013 Category:Magazines published in Iowa Category:Science fiction fanzines Category:Hugo Award-winning works Category:Zines'}\n"
     ]
    },
    {
     "name": "stderr",
     "output_type": "stream",
     "text": [
      "../data/wikipedia/e.parquet: 100%|██████████████████████████████████████████████████████████████████████| 82/82 [07:16<00:00,  5.33s/it]\n",
      "../data/wikipedia/f.parquet: 100%|██████████████████████████████████████████████████████████████████████| 62/62 [05:41<00:00,  5.51s/it]\n",
      "../data/wikipedia/g.parquet:  65%|█████████████████████████████████████████████▎                        | 44/68 [03:53<02:10,  5.43s/it]Traceback (most recent call last):\n",
      "  File \"/tmp/ipykernel_13518/2907329658.py\", line 32, in <module>\n",
      "    text = json.loads(text)\n",
      "  File \"/opt/conda/lib/python3.10/json/__init__.py\", line 346, in loads\n",
      "    return _default_decoder.decode(s)\n",
      "  File \"/opt/conda/lib/python3.10/json/decoder.py\", line 337, in decode\n",
      "    obj, end = self.raw_decode(s, idx=_w(s, 0).end())\n",
      "  File \"/opt/conda/lib/python3.10/json/decoder.py\", line 353, in raw_decode\n",
      "    obj, end = self.scan_once(s, idx)\n",
      "json.decoder.JSONDecodeError: Invalid \\escape: line 4 column 74 (char 238)\n",
      "../data/wikipedia/g.parquet:  66%|██████████████████████████████████████████████▎                       | 45/68 [03:59<02:09,  5.65s/it]"
     ]
    },
    {
     "name": "stdout",
     "output_type": "stream",
     "text": [
      "Invalid \\escape: line 4 column 74 (char 238)\n",
      "{\n",
      "  \"prompt\": \"What is a gravitational anomaly?\",\n",
      "  \"A\": \"An effect of quantum mechanics that invalidates the general covariance of a theory of general relativity\",\n",
      "  \"B\": \"A classical gravitational field represented by the vielbein e^a_{\\;\\mu} and a quantized Fermi field \\psi\",\n",
      "  \"C\": \"A Feynman diagram with a chiral fermion running in the loop with external gravitons attached\",\n",
      "  \"D\": \"An anti-symmetric part of the energy-momentum tensor\",\n",
      "  \"E\": \"A non-zero trace of the energy-momentum tensor\",\n",
      "  \"answer\": \"A\",\n",
      "  \"basis\": \"An effect of quantum mechanics that invalidates the general covariance of a theory of general relativity combined with some other fields.\"\n",
      "}\n"
     ]
    },
    {
     "name": "stderr",
     "output_type": "stream",
     "text": [
      "../data/wikipedia/g.parquet: 100%|██████████████████████████████████████████████████████████████████████| 68/68 [06:17<00:00,  5.56s/it]\n",
      "../data/wikipedia/h.parquet:   6%|████▌                                                                  | 4/63 [00:18<04:28,  4.55s/it]Traceback (most recent call last):\n",
      "  File \"/tmp/ipykernel_13518/2907329658.py\", line 31, in <module>\n",
      "    text = query_prompt(prompt)\n",
      "  File \"/tmp/ipykernel_13518/2301454346.py\", line 2, in query_prompt\n",
      "    response = openai.ChatCompletion.create(\n",
      "  File \"/opt/conda/lib/python3.10/site-packages/openai/api_resources/chat_completion.py\", line 25, in create\n",
      "    return super().create(*args, **kwargs)\n",
      "  File \"/opt/conda/lib/python3.10/site-packages/openai/api_resources/abstract/engine_api_resource.py\", line 153, in create\n",
      "    response, _, api_key = requestor.request(\n",
      "  File \"/opt/conda/lib/python3.10/site-packages/openai/api_requestor.py\", line 298, in request\n",
      "    resp, got_stream = self._interpret_response(result, stream)\n",
      "  File \"/opt/conda/lib/python3.10/site-packages/openai/api_requestor.py\", line 700, in _interpret_response\n",
      "    self._interpret_response_line(\n",
      "  File \"/opt/conda/lib/python3.10/site-packages/openai/api_requestor.py\", line 765, in _interpret_response_line\n",
      "    raise self.handle_error_response(\n",
      "openai.error.InvalidRequestError: This model's maximum context length is 16385 tokens. However, your messages resulted in 17784 tokens. Please reduce the length of the messages.\n",
      "../data/wikipedia/h.parquet:   8%|█████▋                                                                 | 5/63 [00:19<03:03,  3.16s/it]"
     ]
    },
    {
     "name": "stdout",
     "output_type": "stream",
     "text": [
      "This model's maximum context length is 16385 tokens. However, your messages resulted in 17784 tokens. Please reduce the length of the messages.\n",
      "{'prompt': \"In the film 'Higher Power', who is the hero chosen by the mad scientist to save the world?\", 'A': 'Joe Steadman', 'B': 'Zoe Steadman', 'C': 'Michael', 'D': 'Control', 'E': 'Heather Steadman', 'answer': 'A', 'basis': 'The text states that the mad scientist goes through the DNA of the population of earth to find someone to save the world, and the hero chosen is Joe Steadman.', 'wiki_id': '57840564', 'original_text': \"title: Higher Power (film)\\nHigher Power is a 2018 science fiction action thriller film directed by Matthew Charles Santoro. It is about an ordinary man faced with the task of saving the world from destruction. It was released on May 11, 2018. It stars Jordan Hinson, Ron Eldard, Colm Feore, Austin Stowell, Jade Tailor and Tom Wright. \\nStory\\n The world is at risk and it's up to one man to save it.Letterboxd - Higher Power 2018 A mad scientist has to go through the DNA of the population of earth to find someone to do the job. The needed hero turns out to be a former alcoholic called Joe who has an anger problem and two estranged daughters called Zoe and Rhea.Fmoviemag.com, 18 May 2018 - Higher Power (2018) – Review - Vance Wong Joe then finds himself in the hands of the mad scientist.Letterboxd - Higher Power 2018 The experimental work that the scientist does on Joe equips him with some kind of electromagnetic power that could either save the world or if not, destroy it.The Seattle Times, May 11, 2018 - 6 movies open May 11; our reviewers weigh in, Also OpeningMalay Mail, 23 June 2018 - OPINION, Two films give the superhero origin story a fresh twist, Higher Power By Aidil Rusli \\nCast\\n * Ron Eldard as Joe Steadman * Jordan Hinson as Zoe Steadman * Austin Stowell as Michael * Colm Feore as Control * Jade Tailor as Heather Steadman * Winston James Francis as Tele * Marielle Jaffeas Rhea Steadman * Tom Wright as Tom Davis the Talk Show Host * Mei Melançon as Ms. Sabi * Laura Margolis as Rebecca * Richard Portnow as Charles Margrey * Omar Doom as Dario * Linc Hand as Officer Smith * Exie Booker as Rogers * Tony Nevada as Field Agent * Benjamin John Parrillo as Detective * Michelle Laine as Drugged-Out Girl * Richard Dorton as Field Agent #4 * David Preston as Jeremy * Fitz Houston as Frank * Adam Budron as Actor \\nProduction and release\\n Director Matthew Charles Santoro had previously worked on Aliens vs. Predator: Requiem, Fantastic Four: Rise of the Silver Surfer and the X-Men films (X-Men Origins: Wolverine and X-Men: The Last Stand), as a visual artist. This film is his directorial debut. The film opened at Bainbridge Cinemas at the Pavilion Mall in Bainbridge Island, Washington, on May 11, 2018.The Seattle Times, May 11, 2018 - 6 movies open May 11; our reviewers weigh in, Also Opening \\nReferences\\n \\nExternal links\\n * * Fmovie Mag: Higher Power Review * Malay Mail: Higher Power review by Aidil Rusli Category:2018 films Category:2018 directorial debut films Category:2018 science fiction films Category:2018 thriller films Category:2010s science fiction thriller films Category:American science fiction thriller films Category:Di Bonaventura Pictures films Category:Films produced by Lorenzo di Bonaventura Category:2010s English-language films Category:2010s American films\"}\n"
     ]
    },
    {
     "name": "stderr",
     "output_type": "stream",
     "text": [
      "../data/wikipedia/h.parquet: 100%|██████████████████████████████████████████████████████████████████████| 63/63 [05:14<00:00,  5.00s/it]\n",
      "../data/wikipedia/i.parquet: 100%|██████████████████████████████████████████████████████████████████████| 75/75 [06:19<00:00,  5.05s/it]\n",
      "../data/wikipedia/j.parquet:  42%|█████████████████████████████▍                                        | 32/76 [02:29<02:57,  4.03s/it]Traceback (most recent call last):\n",
      "  File \"/tmp/ipykernel_13518/2907329658.py\", line 32, in <module>\n",
      "    text = json.loads(text)\n",
      "  File \"/opt/conda/lib/python3.10/json/__init__.py\", line 346, in loads\n",
      "    return _default_decoder.decode(s)\n",
      "  File \"/opt/conda/lib/python3.10/json/decoder.py\", line 337, in decode\n",
      "    obj, end = self.raw_decode(s, idx=_w(s, 0).end())\n",
      "  File \"/opt/conda/lib/python3.10/json/decoder.py\", line 353, in raw_decode\n",
      "    obj, end = self.scan_once(s, idx)\n",
      "json.decoder.JSONDecodeError: Invalid \\escape: line 9 column 183 (char 546)\n",
      "../data/wikipedia/j.parquet:  43%|██████████████████████████████▍                                       | 33/76 [02:36<03:33,  4.97s/it]"
     ]
    },
    {
     "name": "stdout",
     "output_type": "stream",
     "text": [
      "Invalid \\escape: line 9 column 183 (char 546)\n",
      "{\n",
      "  \"prompt\": \"What is the Jordan map?\",\n",
      "  \"A\": \"A map from matrices to bilinear expressions of quantum oscillators\",\n",
      "  \"B\": \"A map from matrices to Fock space bilinear operators\",\n",
      "  \"C\": \"A map from matrices to Lie algebra isomorphism\",\n",
      "  \"D\": \"A map from matrices to SU(2) commutation relations\",\n",
      "  \"E\": \"A map from matrices to Pauli matrices\",\n",
      "  \"answer\": \"B\",\n",
      "  \"basis\": \"The Jordan map is a map from matrices to Fock space bilinear operators, as stated in the text: 'The Jordan map from a set of matrices to Fock space bilinear operators, :{\\mathbf M} \\qquad \\longmapsto \\qquad M \\equiv \\sum_{i,j} a^\\dagger_i {\\mathbf M}_{ij} a_j ~, is clearly a Lie algebra isomorphism, i.e. the operators satisfy the same commutation relations as the matrices.'\"\n",
      "}\n"
     ]
    },
    {
     "name": "stderr",
     "output_type": "stream",
     "text": [
      "../data/wikipedia/j.parquet: 100%|██████████████████████████████████████████████████████████████████████| 76/76 [05:54<00:00,  4.66s/it]\n",
      "../data/wikipedia/k.parquet: 100%|██████████████████████████████████████████████████████████████████████| 35/35 [02:46<00:00,  4.76s/it]\n",
      "../data/wikipedia/l.parquet: 100%|██████████████████████████████████████████████████████████████████████| 91/91 [07:25<00:00,  4.90s/it]\n",
      "../data/wikipedia/m.parquet: 100%|████████████████████████████████████████████████████████████████████| 131/131 [11:11<00:00,  5.12s/it]\n",
      "../data/wikipedia/n.parquet:  36%|█████████████████████████                                             | 24/67 [02:00<03:29,  4.88s/it]Traceback (most recent call last):\n",
      "  File \"/tmp/ipykernel_13518/2907329658.py\", line 31, in <module>\n",
      "    text = query_prompt(prompt)\n",
      "  File \"/tmp/ipykernel_13518/2301454346.py\", line 2, in query_prompt\n",
      "    response = openai.ChatCompletion.create(\n",
      "  File \"/opt/conda/lib/python3.10/site-packages/openai/api_resources/chat_completion.py\", line 25, in create\n",
      "    return super().create(*args, **kwargs)\n",
      "  File \"/opt/conda/lib/python3.10/site-packages/openai/api_resources/abstract/engine_api_resource.py\", line 153, in create\n",
      "    response, _, api_key = requestor.request(\n",
      "  File \"/opt/conda/lib/python3.10/site-packages/openai/api_requestor.py\", line 298, in request\n",
      "    resp, got_stream = self._interpret_response(result, stream)\n",
      "  File \"/opt/conda/lib/python3.10/site-packages/openai/api_requestor.py\", line 700, in _interpret_response\n",
      "    self._interpret_response_line(\n",
      "  File \"/opt/conda/lib/python3.10/site-packages/openai/api_requestor.py\", line 765, in _interpret_response_line\n",
      "    raise self.handle_error_response(\n",
      "openai.error.InvalidRequestError: This model's maximum context length is 16385 tokens. However, your messages resulted in 19720 tokens. Please reduce the length of the messages.\n",
      "../data/wikipedia/n.parquet:  37%|██████████████████████████                                            | 25/67 [02:01<02:33,  3.66s/it]"
     ]
    },
    {
     "name": "stdout",
     "output_type": "stream",
     "text": [
      "This model's maximum context length is 16385 tokens. However, your messages resulted in 19720 tokens. Please reduce the length of the messages.\n",
      "{'prompt': \"Which story in the anthology 'Nebula Winners Twelve' won the Best Novelette award in 1977?\", 'A': 'A Crowd of Shadows', 'B': \"Breath's a Ware That Will Not Keep\", 'C': 'Tricentennial', 'D': 'In the Bowl', 'E': 'The Bicentennial Man', 'answer': 'D', 'basis': \"The story 'In the Bowl' was nominated for the Best Novelette award in 1977.\", 'wiki_id': '15393055', 'original_text': 'title: Nebula Winners Twelve\\nNebula Winners Twelve is an anthology of science fiction short stories edited by Gordon R. Dickson. It was first published in hardcover by Harper & Row in February 1978, and reprinted in December of the same year. A paperback edition followed from Bantam Books in April 1979. \\nSummary\\n The book collects pieces published in 1975 and 1976 that won the Nebula Awards for novella, novelette and short story for the year 1977 and nonfiction pieces related to the awards, together with an introduction by the editor. Most of the non-winning pieces nominated for the awards were omitted. The included stories had originally appeared in the magazines The Magazine of Fantasy & Science Fiction, Analog, and the anthologies Dystopian Visions, edited by Roger Elwood, Stellar #2, edited by Judy-Lynn del Rey and Aurora: Beyond Equality, edited by Vonda McIntyre & Susan Anderson. \\nContents\\n * \"Introduction\" (Gordon R. Dickson) * \"A Crowd of Shadows\" [Best Short Story winner, 1977] (C. L. Grant) * \"Breath\\'s a Ware That Will Not Keep\" [Best Short Story nominee, 1977] (Thomas F. Monteleone) * \"Tricentennial\" [Best Short Story nominee, 1977] (Joe Haldeman) * \"In the Bowl\" [Best Novelette nominee, 1977] (John Varley) * \"Science Fiction in the Marketplace\" [essay] (Algirdas Jonas Budrys) * \"The Academic Viewpoint\" [essay] (James Gunn) * \"The Bicentennial Man\" [Best Novelette winner, 1977] (Isaac Asimov) * \"Houston, Houston, Do You Read?\" [Best Novella winner, 1977] (James Tiptree, Jr.) * \"Nebula Awards, 1975, 1976: Win, Place, and Show\" [essay] (uncredited) \\nReception\\n Paul Walker in Galaxy Science Fiction finds the book \"the most tolerable\" of \"the Nebula Award volumes I have read,\" with Dickson\\'s introduction \"intelligent and interesting, if typical of these anthologies.\" He singles out the Varley and Asimov stories as \"excellent\" and the Budrys and Gunn essays as \"equally good.\" But he deems Grant\\'s story \"less than first-rate,\" \"a typical \\'award-winner,\\'\" with \"neither the theme nor the characters ... in any way remarkable,\" holds \"the same is true, to a lesser extent,\" of the Haldeman and Monteleone stories, and is completely dismissive of Tiptree\\'s \"\\'Houston, Houston, Do You Read?\\'—which I could not.\"Walker, Paul. Review in Galaxy Science Fiction v. 39, no. 8, Nov./Dec. 1978, pages 136-139. The volume was also reviewed by Stephen W. Potts in Science Fiction & Fantasy Book Review, July 1979. \\nAwards\\n The anthology placed fourteenth in the 1979 Locus Poll Award for Best Anthology. \\nNotes\\n Nebula 12 Category:1978 anthologies Category:1970s science fiction works Category:Harper & Row books'}\n"
     ]
    },
    {
     "name": "stderr",
     "output_type": "stream",
     "text": [
      "../data/wikipedia/n.parquet: 100%|██████████████████████████████████████████████████████████████████████| 67/67 [05:28<00:00,  4.90s/it]\n",
      "../data/wikipedia/number.parquet:  67%|███████████████████████████████████████████▎                     | 30/45 [02:22<01:11,  4.77s/it]Traceback (most recent call last):\n",
      "  File \"/tmp/ipykernel_13518/2907329658.py\", line 31, in <module>\n",
      "    text = query_prompt(prompt)\n",
      "  File \"/tmp/ipykernel_13518/2301454346.py\", line 2, in query_prompt\n",
      "    response = openai.ChatCompletion.create(\n",
      "  File \"/opt/conda/lib/python3.10/site-packages/openai/api_resources/chat_completion.py\", line 25, in create\n",
      "    return super().create(*args, **kwargs)\n",
      "  File \"/opt/conda/lib/python3.10/site-packages/openai/api_resources/abstract/engine_api_resource.py\", line 153, in create\n",
      "    response, _, api_key = requestor.request(\n",
      "  File \"/opt/conda/lib/python3.10/site-packages/openai/api_requestor.py\", line 298, in request\n",
      "    resp, got_stream = self._interpret_response(result, stream)\n",
      "  File \"/opt/conda/lib/python3.10/site-packages/openai/api_requestor.py\", line 700, in _interpret_response\n",
      "    self._interpret_response_line(\n",
      "  File \"/opt/conda/lib/python3.10/site-packages/openai/api_requestor.py\", line 765, in _interpret_response_line\n",
      "    raise self.handle_error_response(\n",
      "openai.error.InvalidRequestError: This model's maximum context length is 16385 tokens. However, your messages resulted in 19690 tokens. Please reduce the length of the messages.\n",
      "../data/wikipedia/number.parquet:  69%|████████████████████████████████████████████▊                    | 31/45 [02:23<00:50,  3.58s/it]"
     ]
    },
    {
     "name": "stdout",
     "output_type": "stream",
     "text": [
      "This model's maximum context length is 16385 tokens. However, your messages resulted in 19690 tokens. Please reduce the length of the messages.\n",
      "{'prompt': 'What is the title of the Mexican film that premiered in 2009?', 'A': '2033: Future Apocalypse', 'B': '2033 and 2033: La Ilusion de un Futuro Mejor', 'C': 'VCR 2026', 'D': 'Viva Cristo Rey 2026', 'E': '2033', 'answer': 'E', 'basis': \"The text states that the Mexican film premiered in 2009 and is titled '2033'.\", 'wiki_id': '32741807', 'original_text': 'title: 2033 (film)\\n2033 also billed as 2033: Future Apocalypse (in Spanish as 2033 and 2033: La Ilusion de un Futuro Mejor) is a Mexican film that premiered on 24 September 2009 at the Fantastisk Film Festival Lund, Sweden). It was the directorial debut for the director, Francisco Laresgoiti. Regarding the title, Laresgotiti said that he \"initially call it VCR 2026, (Viva Cristo Rey 2026), the motto of the Cristeros, as this would define the ideology of the tape, but decided to use 2033 as this will be the two thousandth anniversary the death of Jesus Christ.\" The film was intended to be a trilogy, but the two sequels had not been written as of 2008. \\nSynopsis\\n The film is set in the year 2033 in a dystopian view of the future, in the Mexico City which by that time has been renamed Villaparaiso (Paradise City). The totalitarian militaristic/corporate government has outlawed the freedom of expression and religion in general. The government maintains control through pharmaceutical additions to the food and drink supply, which at the same time includes toxic chemicals. The protagonist is Lozada a lawyer whose true identity is \"Father Miguel\", the leader of a revolutionary movement. He is a priest of a religion that is a fusion of many religions, the focus in the film is a kind of theology of freedom; he is also a leader of the revolutionary movement that wants to free people from the government. He befriends Pablo, a rich and pampered man who believed that he was orphaned, who is in the leadership program of the military government. Lozada informs him that his father is actually a prisoner of the government. After hearing this, Pablo joins the organization to rescue his father and overthrow the government. \\nReviews\\n Reviews for the film were mixed. Newcity recommended the film while rating it a \"B−\" Time Out Chicago reviewer Kevin B. Lee called the film \"A dystopian Mexican thriller emphasizes mood at the expense of character\" and that \"the screenplay’s political provocations collapse into generic telenovela suspense.\" \\nReleases\\n *24 September 2009 – Fantastisk Film Festival, Lund, Sweden (premiere) *5 February 2010 – Mexico *1 May 2010 – Sci-Fi-London Film Festival \\nCast\\n *Miguel Couturier ... Stam *Sandra Echeverría ... Lucía *Alonso Echánove ... Pec *Luis Ernesto Franco ... Milo *Genaro Hernandez ... Ing. de camaras *Claudio Lafarga ... Pablo *Raúl Méndez ... Goros *Marco Antonio Treviño ... Lozado/ Padre Miguel \\nReferences\\n \\nExternal links\\n * *http://correcamara.com.mx/index.php?mod=peliculas_detalle&pelid;=1600 Category:2009 films Category:2000s Spanish-language films Category:2000s science fiction adventure films Category:2000s science fiction thriller films Category:Mexican thriller films Category:2000s dystopian films Category:Films set in 2033 Category:Films set in Mexico City Category:2000s Mexican films'}\n"
     ]
    },
    {
     "name": "stderr",
     "output_type": "stream",
     "text": [
      "../data/wikipedia/number.parquet:  98%|███████████████████████████████████████████████████████████████▌ | 44/45 [03:34<00:06,  6.24s/it]Traceback (most recent call last):\n",
      "  File \"/tmp/ipykernel_13518/2907329658.py\", line 31, in <module>\n",
      "    text = query_prompt(prompt)\n",
      "  File \"/tmp/ipykernel_13518/2301454346.py\", line 2, in query_prompt\n",
      "    response = openai.ChatCompletion.create(\n",
      "  File \"/opt/conda/lib/python3.10/site-packages/openai/api_resources/chat_completion.py\", line 25, in create\n",
      "    return super().create(*args, **kwargs)\n",
      "  File \"/opt/conda/lib/python3.10/site-packages/openai/api_resources/abstract/engine_api_resource.py\", line 153, in create\n",
      "    response, _, api_key = requestor.request(\n",
      "  File \"/opt/conda/lib/python3.10/site-packages/openai/api_requestor.py\", line 298, in request\n",
      "    resp, got_stream = self._interpret_response(result, stream)\n",
      "  File \"/opt/conda/lib/python3.10/site-packages/openai/api_requestor.py\", line 700, in _interpret_response\n",
      "    self._interpret_response_line(\n",
      "  File \"/opt/conda/lib/python3.10/site-packages/openai/api_requestor.py\", line 765, in _interpret_response_line\n",
      "    raise self.handle_error_response(\n",
      "openai.error.InvalidRequestError: This model's maximum context length is 16385 tokens. However, your messages resulted in 16573 tokens. Please reduce the length of the messages.\n",
      "../data/wikipedia/number.parquet: 100%|█████████████████████████████████████████████████████████████████| 45/45 [03:35<00:00,  4.78s/it]"
     ]
    },
    {
     "name": "stdout",
     "output_type": "stream",
     "text": [
      "This model's maximum context length is 16385 tokens. However, your messages resulted in 16573 tokens. Please reduce the length of the messages.\n",
      "{'prompt': 'Who published one of the earliest textbooks on physiology in 1708?', 'A': 'Herman Boerhaave', 'B': 'Ehrenfried Walther von Tschirnhaus', 'C': 'Johann Friedrich Böttger', 'D': 'Georg Dionysius Ehret', 'E': 'Albrecht von Haller', 'answer': 'A', 'basis': 'Herman Boerhaave published Institutiones medicae, one of the earliest textbooks on physiology.', 'wiki_id': '462471', 'original_text': 'title: 1708 in science\\nThe year 1708 in science and technology involved some significant events. \\nPhysiology and medicine\\n * Herman Boerhaave publishes Institutiones medicae, one of the earliest textbooks on physiology. \\nTechnology\\n * Calcareous hard-paste porcelain is produced at Dresden in Saxony by Ehrenfried Walther von Tschirnhaus and developed after his death (October) by Johann Friedrich Böttger. \\nBirths\\n * January 30 – Georg Dionysius Ehret, German artist, botanist and entomologist (died 1770) * October 16 – Albrecht von Haller, Swiss physician and scientist, founder of neurology (died 1777) * October 22 – Frederic Louis Norden, Danish explorer (died 1742) * October 27 – Jean-Rodolphe Perronet, French bridge engineer (died 1794) \\nDeaths\\n * August 1 – Edward Tyson, English comparative anatomist (born 1651) * October 10 – David Gregory, Scottish astronomer (born 1659) * October 11 – Ehrenfried Walter von Tschirnhaus, German mathematician (born 1651) * December 5 – Seki Takakazu, Japanese mathematician (born c. 1642) * December 28 – Joseph Pitton de Tournefort, French botanist (born 1656) Category:18th century in science Category:1700s in science'}\n"
     ]
    },
    {
     "name": "stderr",
     "output_type": "stream",
     "text": [
      "\n",
      "../data/wikipedia/o.parquet: 100%|██████████████████████████████████████████████████████████████████████| 35/35 [02:47<00:00,  4.78s/it]\n",
      "../data/wikipedia/other.parquet: 100%|████████████████████████████████████████████████████████████████████| 3/3 [00:15<00:00,  5.04s/it]\n",
      "../data/wikipedia/p.parquet:  38%|██████████████████████████                                           | 42/111 [03:24<05:44,  5.00s/it]Traceback (most recent call last):\n",
      "  File \"/tmp/ipykernel_13518/2907329658.py\", line 31, in <module>\n",
      "    text = query_prompt(prompt)\n",
      "  File \"/tmp/ipykernel_13518/2301454346.py\", line 2, in query_prompt\n",
      "    response = openai.ChatCompletion.create(\n",
      "  File \"/opt/conda/lib/python3.10/site-packages/openai/api_resources/chat_completion.py\", line 25, in create\n",
      "    return super().create(*args, **kwargs)\n",
      "  File \"/opt/conda/lib/python3.10/site-packages/openai/api_resources/abstract/engine_api_resource.py\", line 153, in create\n",
      "    response, _, api_key = requestor.request(\n",
      "  File \"/opt/conda/lib/python3.10/site-packages/openai/api_requestor.py\", line 298, in request\n",
      "    resp, got_stream = self._interpret_response(result, stream)\n",
      "  File \"/opt/conda/lib/python3.10/site-packages/openai/api_requestor.py\", line 700, in _interpret_response\n",
      "    self._interpret_response_line(\n",
      "  File \"/opt/conda/lib/python3.10/site-packages/openai/api_requestor.py\", line 765, in _interpret_response_line\n",
      "    raise self.handle_error_response(\n",
      "openai.error.InvalidRequestError: This model's maximum context length is 16385 tokens. However, you requested 16777 tokens (15777 in the messages, 1000 in the completion). Please reduce the length of the messages or completion.\n",
      "../data/wikipedia/p.parquet:  39%|██████████████████████████▋                                          | 43/111 [03:25<04:14,  3.74s/it]"
     ]
    },
    {
     "name": "stdout",
     "output_type": "stream",
     "text": [
      "This model's maximum context length is 16385 tokens. However, you requested 16777 tokens (15777 in the messages, 1000 in the completion). Please reduce the length of the messages or completion.\n",
      "{'prompt': 'What is the main focus of the Pan-European Institute?', 'A': 'Researching economic and social development in Europe', 'B': 'Providing education and training in international business', 'C': 'Promoting trade policy and international business', 'D': 'Publishing a review on the Baltic Sea region', 'E': 'Conducting research on the Russian innovation ecosystem', 'answer': 'A', 'basis': 'PEI focuses on the research and observation of the economic and social development, particularly in the Baltic Sea region economies and in the EU’s eastern neighbouring countries.', 'wiki_id': '20805445', 'original_text': \"title: Pan-European Institute\\nThe Pan-European Institute (PEI) (Finnish Pan-Eurooppa Instituutti) is a Finnish research institute operating at Turku School of Economics (TSE), which is part of the University of Turku. PEI focuses on the research and observation of the economic and social development, particularly in the Baltic Sea region economies and in the EU’s eastern neighbouring countries. \\n Organisation \\n In terms of administration, PEI is part of the department of marketing and international business at Turku School of Economics. The institute employs about 10 researchers, most of whom work with project-based funding. The director of the unit is Professor Kari Liuhto from Turku School of Economics. The operation of the Pan-European Institute is supported by an advisory body, which is composed of the chair and 10 members. In May 2020, the institute's advisory body consisted of: Chair: Juhani Wihanto, CEO, Wihanto Group Members: * Matti Anttonen, Permanent State Secretary, Ministry for Foreign Affairs * Erik Helin, CEO, Spectra * Mikko Ketonen, chairman of the board (emeritus), TS-Yhtymä Oy * Urpo Kivikari, professor (emeritus), Turku School of Economics * Henrik Lax, MEP 2004-2009 * Paula Lehtomäki, secretary general, Nordic Council of Ministers * Maarit Lindström, director, chief economist, Finnish Forest Industries Federation * Olli Pohjanvirta, chairman of the board of directors, Nurminen Logistics * Aleksi Randell, director general, Confederation of Finnish Construction Industries * Seppo Remes, professor of practice, Lappeenranta-Lahti University of Technology \\n History \\n PEI started its operations based on a private initiative and fund-raising in the autumn of 1987. At first, the unit operated under the name the Institute for East-West Trade. In its research and education, the Institute for East-West Trade focused on the socialist economies in Europe and the Soviet Union of the time. Since the establishment of the unit, Baltic Sea region economies were also included among its key subjects of research and education. The first lectures on the topic were held in the academic year 1986–1987, when the unit also launched its research activities. Soon after the establishment of the Institute for East-West Trade, the European Institute was created. The merger of the two units began to seem sensible after the era of socialism was consigned to history in Europe. The Institute for East-West Trade and the European Institute merged into the Pan-European Institute at the end of the 1990s. In 1987–2003, Professor Urpo Kivikari acted as the director of the unit. After Professor Kivikari retired, in autumn 2003 Professor Kari Liuhto was invited from Lappeenranta University of Technology to head the Pan- European Institute. In 2015, the Pan-European Institute was awarded the Europe Award by the European Foundation (currently part of the Turku University Foundation). The Pan-European Institute celebrated its 30th anniversary in 2017 by organising a seminar called “Russian enigma – Decoding mysteries and turning them into business opportunities”. \\n Research \\n During more than three decades, PEI has conducted dozens of commissioned studies, funded by, for example, the European Union, the Prime Minister's Office, the Finnish ministries and the Academy of Finland. In addition to research, experts of the Pan-European Institute have been involved in the development of the economic systems of several former Soviet republics. As an example, Professor Kari Liuhto's participated in designing the Strategy 2020 for the Russian Government. PEI has been engaged in close research cooperation with the Centrum Balticum Foundation since autumn 2011, when Professor Liuhto began as the foundation's part-time director. In its research, the Pan-European Institute focuses on the following five themes: * Economic and business development in the Baltic Sea region economies (focusing on the development of the maritime cluster) * Economic relations between the EU and Russia * Flow of foreign direct investments to and from Russia * Socio-economic development in Europe and its neighbourhood * Business development in the EU and in its eastern neighbouring countries. In the following, some examples of PEI research projects: * KAPPAS – Trade policy experts and know-how to Finland (2019–2022): The purpose of the project is to increase trade policy education in Finland, to organise business training related to the topic and to produce scientific research on the current state and future development of trade policy. The project is funded by the Confederation of Finnish Industry and Employers Foundation. * ECOPRODIGI (2017–2020): The aim of the project was to increase eco-efficiency of the maritime industry in the Baltic Sea region with the solutions provided by digitalisation. This EU-funded cooperation project involved 21 partners from five different Baltic Sea countries. PEI acted as the main coordinator of the project. * DigiPro (2016–2018): During the project, proactive project management solutions were developed for business use. The stakeholders in the project were Turku School of Economics, Lappeenranta University of Technology and four Finnish SMEs. * MNEmerge (2014–2016): This EU-funded project explored the role of multinational enterprises (MNEs) in addressing global development challenges. The project included field research in Brazil, Ghana and India. The project studied such matters as what kind of socio-economic impacts the activities of multinational enterprises have in developing countries and how cooperation between companies and decision-makers could be strengthened to promote responsible business. * Russia's final energy frontier – Sustainability challenges of the Russian Far North (2014–2016): The project examined how energy policy is shaped in Russian Far North through interaction between internal factors, international companies and international politics. The project also examined what kind of a role the socio-economic development of local communities and the environmental responsibility play in the policy. The project was implemented in cooperation with the University of Helsinki and a Japanese research group. * SmartComp (2012–2013): The EU-funded project analysed the current situation of the maritime cluster in the Baltic Sea region and its prospects in Latvia, Finland and Estonia. * The international dimension of the Russian innovation ecosystem (2011–2014): The main objective of the research project was to examine the use of international connections and networks and their impact on the Russian innovation system. * Wider Europe – Regional Security Report (2010–2011): The Pan-European Institute followed the security developments in Eastern Central Europe, South Caucasus and Central Asia. The reports were part of the Security and Development Research within the Wider Europe Initiative Security Cluster, which was funded by the Ministry for Foreign Affairs in the framework of development cooperation. \\n Teaching and education \\n The research carried out by PEI creates foundations for the teaching and education provided by the unit at Turku School of Economics. PEI offers three courses with lectures, which are part of the teaching on offer in the subject of international business: * Business in the Baltic Sea Region: The course discusses the development of the Baltic Sea economic area and the business environment of the region. The lectures are given in English. * Doing Business in Wider Europe: The course explores business in a Wider Europe, or Europe and its neighbourhood. The course is in English. * Trade Policy and International Business: This course taught in Finnish deals with the transformation of trade policy and its impacts on business activities \\n Activating discussion in the Baltic Sea region \\n Since 2004, PEI has been publishing a review focusing on the Baltic Sea region, called the “Baltic Rim Economies”. The distribution list covers tens of thousands of readers in over 80 countries. Some 3,000 experts have contributed articles to the magazine, including EU Commissioners (e.g. Jean- Claude Juncker, José Manuel Barroso), ministers, diplomats, mayors, businessmen, journalists and representatives of the world of research. The review can be subscribed free of charge. You can register on the review's distribution list on Baltic Rim Economies home page. \\n References \\n * The Pan-European Institute's website * Baltic Rim Economies Category:Funding bodies Category:Research institutes in Finland Category:Economic research institutes Category:Social science institutes Category:International research institutes\"}\n"
     ]
    },
    {
     "name": "stderr",
     "output_type": "stream",
     "text": [
      "../data/wikipedia/p.parquet: 100%|████████████████████████████████████████████████████████████████████| 111/111 [08:33<00:00,  4.62s/it]\n",
      "../data/wikipedia/q.parquet: 100%|██████████████████████████████████████████████████████████████████████| 11/11 [00:56<00:00,  5.15s/it]\n",
      "../data/wikipedia/r.parquet:   1%|▉                                                                      | 1/79 [00:03<04:16,  3.29s/it]Traceback (most recent call last):\n",
      "  File \"/tmp/ipykernel_13518/2907329658.py\", line 32, in <module>\n",
      "    text = json.loads(text)\n",
      "  File \"/opt/conda/lib/python3.10/json/__init__.py\", line 346, in loads\n",
      "    return _default_decoder.decode(s)\n",
      "  File \"/opt/conda/lib/python3.10/json/decoder.py\", line 337, in decode\n",
      "    obj, end = self.raw_decode(s, idx=_w(s, 0).end())\n",
      "  File \"/opt/conda/lib/python3.10/json/decoder.py\", line 353, in raw_decode\n",
      "    obj, end = self.scan_once(s, idx)\n",
      "json.decoder.JSONDecodeError: Invalid \\escape: line 9 column 209 (char 469)\n",
      "../data/wikipedia/r.parquet:   3%|█▊                                                                     | 2/79 [00:07<05:09,  4.02s/it]"
     ]
    },
    {
     "name": "stdout",
     "output_type": "stream",
     "text": [
      "Invalid \\escape: line 9 column 209 (char 469)\n",
      "{\n",
      "  \"prompt\": \"What is the radius of convergence of a power series?\",\n",
      "  \"A\": \"A non-negative real number\",\n",
      "  \"B\": \"A positive real number\",\n",
      "  \"C\": \"A complex number\",\n",
      "  \"D\": \"Infinity\",\n",
      "  \"E\": \"A negative real number\",\n",
      "  \"answer\": \"A non-negative real number\",\n",
      "  \"basis\": \"In mathematics, the radius of convergence of a power series is the radius of the largest disk at the center of the series in which the series converges. It is either a non-negative real number or \\infty.\"\n",
      "}\n"
     ]
    },
    {
     "name": "stderr",
     "output_type": "stream",
     "text": [
      "../data/wikipedia/r.parquet: 100%|██████████████████████████████████████████████████████████████████████| 79/79 [06:06<00:00,  4.64s/it]\n",
      "../data/wikipedia/s.parquet:  53%|████████████████████████████████████▏                               | 105/197 [08:32<07:22,  4.80s/it]Traceback (most recent call last):\n",
      "  File \"/tmp/ipykernel_13518/2907329658.py\", line 31, in <module>\n",
      "    text = query_prompt(prompt)\n",
      "  File \"/tmp/ipykernel_13518/2301454346.py\", line 2, in query_prompt\n",
      "    response = openai.ChatCompletion.create(\n",
      "  File \"/opt/conda/lib/python3.10/site-packages/openai/api_resources/chat_completion.py\", line 25, in create\n",
      "    return super().create(*args, **kwargs)\n",
      "  File \"/opt/conda/lib/python3.10/site-packages/openai/api_resources/abstract/engine_api_resource.py\", line 153, in create\n",
      "    response, _, api_key = requestor.request(\n",
      "  File \"/opt/conda/lib/python3.10/site-packages/openai/api_requestor.py\", line 298, in request\n",
      "    resp, got_stream = self._interpret_response(result, stream)\n",
      "  File \"/opt/conda/lib/python3.10/site-packages/openai/api_requestor.py\", line 700, in _interpret_response\n",
      "    self._interpret_response_line(\n",
      "  File \"/opt/conda/lib/python3.10/site-packages/openai/api_requestor.py\", line 765, in _interpret_response_line\n",
      "    raise self.handle_error_response(\n",
      "openai.error.InvalidRequestError: This model's maximum context length is 16385 tokens. However, your messages resulted in 18322 tokens. Please reduce the length of the messages.\n",
      "../data/wikipedia/s.parquet:  54%|████████████████████████████████████▌                               | 106/197 [08:33<05:26,  3.59s/it]"
     ]
    },
    {
     "name": "stdout",
     "output_type": "stream",
     "text": [
      "This model's maximum context length is 16385 tokens. However, your messages resulted in 18322 tokens. Please reduce the length of the messages.\n",
      "{'prompt': \"What was Suryanarayanan Srinivasan's role in the SLV3 Mission?\", 'A': 'Director', 'B': 'Deputy Director', 'C': 'Engineer', 'D': 'Scientist', 'E': 'Assistant', 'answer': 'B', 'basis': 'He assisted A. P. J. Abdul Kalam in the SLV3 Mission as its deputy director.', 'wiki_id': '50660818', 'original_text': \"title: S. Srinivasan\\nSuryanarayanan Srinivasan (1941–1999) was an Indian aeronautical engineer and the Director of the Vikram Sarabhai Space Centre (VSSC), known for his pioneering work in rocket science. He also served as the director of Satish Dhawan Space Centre and assisted A. P. J. Abdul Kalam in the SLV3 Mission as its deputy director. He was an elected Fellow of the Aeronautical Society of India and the Indian National Academy of Engineering. The Government of India awarded him the third highest civilian honour of the Padma Bhushan, in 2000, for his contributions to Indian space program. \\n Biography \\n Srinivasan was born on 14 April 1941 in a small village called Asikkadu in Mayiladuthurai district in the south Indian state of Tamil Nadu. He was born into a traditional Tamil Brahmin Iyer family, and grew up performing traditional rituals. He graduated in electrical engineering (BE) with honours from Annamalai University and secured a post-graduate degree in aeronautical engineering from the Indian Institute of Science (IISc), Bangalore. He was married to the daughter of Subramanian Iyer of Arayapuram, Lakshmi and had two children. He started his career as an aeronautical engineer at Hindustan Aeronautics Limited (HAL), but took a break to move to Ohio State University for his doctoral studies from where he obtained a PhD in engineering mechanics in 1970. Returning to India the same year, he joined Indian Space Research Organization (ISRO) where he would work for the rest of his life. Srinivasan's early assignments at ISRO included the development of Rohini satellite and later, the initiation of satellite launch vehicle (SLV) from 1973 onwards. In 1980, when A. P. J. Abdul Kalam started his work on SLV-3, Srinivasan assisted him as the deputy director of the project and successfully launched the vehicle. The duo launched several SLV-3 flights in the ensuing years till he was moved to the Polar Satellite Launch Vehicle (PSLV) project, the first indigenously designed Indian Satellite Launch Vehicle. In 1988, he became the director of the Integrated Launch Vehicle Program but continued to be associated with PSLV and Geosynchronous Satellite Launch Vehicle (GSLV) programs. He headed Satish Dhawan Space Centre (SHAR), Shreeharikota, for a while before moving to Thiruvananthapuram to head the Vikram Sarabhai Space Centre (VSSC) in 1994. At VSSC, he was reported to have been involved with the configuration, design, development and execution of the PSLV project, culminating in the first successful commercial launch of the vehicle on 26 May 1999. Five months after the launch, he died in harness on 1 September 1999, at the age of 58, survived by his wife Lakshmi and two children, now settled abroad. \\n Awards, honors and positions \\n Srinivasan was an elected fellow of the Indian National Academy of Engineering. He was a member of the National Steering Committee of the 21st (1997) and the 23rd National Systems Conference (NSC) (1999) and a member of the National Advisory Council of the 13th National Convention of Aerospace Engineers held in 1997. He was an honorary Fellow of the Indian Society for Non-Destructive Testing and was associated with the Thiruvananthapuram Chapter of the Indian Society for Advancement of Materials and Process Engineering (ISAMPE) A recipient of the National Aeronautics Prize and the FIE Foundation National award, he was awarded the civilian honor of the Padma Bhushan posthumously, the award being announced on 26 January 2000, four months after his death. VSSC organizes an annual oration, Dr. S. Srinivasan Memorial Lecture, in honor of its former director. \\n See also \\n * Rohini (satellite) * A. P. J. Abdul Kalam * Polar Satellite Launch Vehicle * Geosynchronous Satellite Launch Vehicle \\n References \\n \\n External links \\n * * * Category:Recipients of the Padma Bhushan in science & engineering Category:1941 births Category:1999 deaths Category:Indian aerospace engineers Category:Indian Space Research Organisation people Category:People from Thanjavur Category:Engineers from Tamil Nadu Category:Annamalai University alumni Category:Indian Institute of Science alumni Category:Ohio State University College of Engineering alumni Category:Satish Dhawan Space Centre Category:20th-century Indian engineers\"}\n"
     ]
    },
    {
     "name": "stderr",
     "output_type": "stream",
     "text": [
      "../data/wikipedia/s.parquet: 100%|████████████████████████████████████████████████████████████████████| 197/197 [15:46<00:00,  4.80s/it]\n",
      "../data/wikipedia/t.parquet:  31%|█████████████████████                                                | 65/213 [04:56<10:48,  4.38s/it]Traceback (most recent call last):\n",
      "  File \"/tmp/ipykernel_13518/2907329658.py\", line 31, in <module>\n",
      "    text = query_prompt(prompt)\n",
      "  File \"/tmp/ipykernel_13518/2301454346.py\", line 2, in query_prompt\n",
      "    response = openai.ChatCompletion.create(\n",
      "  File \"/opt/conda/lib/python3.10/site-packages/openai/api_resources/chat_completion.py\", line 25, in create\n",
      "    return super().create(*args, **kwargs)\n",
      "  File \"/opt/conda/lib/python3.10/site-packages/openai/api_resources/abstract/engine_api_resource.py\", line 153, in create\n",
      "    response, _, api_key = requestor.request(\n",
      "  File \"/opt/conda/lib/python3.10/site-packages/openai/api_requestor.py\", line 298, in request\n",
      "    resp, got_stream = self._interpret_response(result, stream)\n",
      "  File \"/opt/conda/lib/python3.10/site-packages/openai/api_requestor.py\", line 700, in _interpret_response\n",
      "    self._interpret_response_line(\n",
      "  File \"/opt/conda/lib/python3.10/site-packages/openai/api_requestor.py\", line 765, in _interpret_response_line\n",
      "    raise self.handle_error_response(\n",
      "openai.error.InvalidRequestError: This model's maximum context length is 16385 tokens. However, your messages resulted in 23661 tokens. Please reduce the length of the messages.\n",
      "../data/wikipedia/t.parquet:  31%|█████████████████████▍                                               | 66/213 [04:57<08:14,  3.37s/it]"
     ]
    },
    {
     "name": "stdout",
     "output_type": "stream",
     "text": [
      "This model's maximum context length is 16385 tokens. However, your messages resulted in 23661 tokens. Please reduce the length of the messages.\n",
      "{'prompt': \"What is Thomas Easton's latest nonfiction book?\", 'A': 'Careers in Science', 'B': 'Taking Sides: Clashing Views on Controversial Issues in Science, Technology, and Society', 'C': 'Taking Sides: Clashing Views on Controversial Environmental Issues', 'D': 'Firefight', 'E': 'The Great Flying Saucer Conspiracy', 'answer': 'C', 'basis': 'His latest nonfiction books are Taking Sides: Clashing Views on Controversial Issues in Science, Technology, and Society (McGraw-Hill Dushkin, 8th ed., 2008), and Taking Sides: Clashing Views on Controversial Environmental Issues (McGraw- Hill Dushkin, 12th ed., 2007).', 'wiki_id': '9057828', 'original_text': 'title: Thomas Easton\\nThomas A. Easton (born 17 July 1944) is a teacher and well-known science fiction critic and author. He retired as a professor from Thomas College of Maine in 2014 and now teaches part-time at Mount Ida College in Newton, MA. Easton holds a Bachelor of Arts in Biology from Colby College and a doctorate in theoretical biology from the University of Chicago. He wrote the book review column in SF magazine Analog Science Fiction and Fact from 1979 - 2009. He appears frequently at Boston-area science fiction conventions. His work on scientific and futuristic issues has appeared in many magazines, from Astronomy to Robotics Age. His latest nonfiction books are Careers in Science (VGM, 4th ed., 2004), Taking Sides: Clashing Views on Controversial Issues in Science, Technology, and Society (McGraw-Hill Dushkin, 8th ed., 2008), and Taking Sides: Clashing Views on Controversial Environmental Issues (McGraw- Hill Dushkin, 12th ed., 2007). His latest novels are Firefight (Betancourt, 2003) and The Great Flying Saucer Conspiracy (Wildside, 2002). __TOC__ \\nBibliography\\n \\nNovels\\n * ;Organic Future series * Sparrowhawk (1990) * Greenhouse (1991) * Woodsman (1992) * Tower of the Gods (1993) * Seeds of Destiny (1994) * The Electric Gene Machine (2000), a collection of short stories \\nAnthologies edited\\n * Visions of Tomorrow: Science Fiction Predictions That Came True (2010) with Judith K. Dial https://www.skyhorsepublishing.com/search-results/?keyword=Visions+of+tomorrow * Impossible Futures (2013) with Judith K. Dial https://www.pinknarc.com/store/p10/Impossible_Futures.html * * Conspiracy! (2016) with Judith K. Dial http://www.nesfa.org/press/Books/Conspiracy.html \\nChapterbooks\\n * \"Alien Resonance\" (1990) * \"Maine Quartet\" (2009) \\nShort fiction\\n \\n=Collections\\n= * Ten Science Fiction Stories (1989) * Gedanken Fictions: Stories on Themes in Science, Technology, and Society (1996) * Bigfoot Stalks the Coast of Maine and Other Twisted Downeast Tales (2000) * The Electric Gene Machine (2000) \\n=List of stories\\n= ; Howie Wyman series * Mood Wendigo (1980) * Downeast Encounter (1980) * Gambling Man (1980) * Fishing Trip (1981) * Alas, Poor Yorick (1981) * Return of the Native (1981) * Energy Crisis (1982) ; Jimmy Brane series * Down on the Truck Farm (1990) * Matchmaker (1990) ; Other * \"Next\" (1974) * \"End and Beginning\" (1974) * \"Shrine\" (1975) * \"Preview Preview Test: The GB Roachster\" (1976) * \"The Chicago Plan to Save a Species\" (1976) * \"Notes from the Safety Overground\" (1976) with W. Dinteman * \"Help Not Wanted\" (1977) * \"Movers and Shakers\" (1979) * \"Closest Kin\" (1979) * \"Breakfast of Champions\" (1980) * \"Tetherball\" (1980) * \"Protection Racket\" (1981) * \"The Last Flute\" (1981) * \"The Blue-Tail Fly\" (1981) * \"Speed Trap\" (1982) * \"The Bung-Hole Caper\" (1982) * \"Needle and Thread\" (1982) * \"Ground Truth\" (1983) * \"The Tailor\" (1983) * \"A Love Story\" (1983) * \"Right to Life\" (1985) * \"Social Climber\" (1988) * \"The Tree\" (1988) * \"Hard Times\" (1988) * \"Roll Them Bones\" (1988) * \"To Fan the Flame\" (1988) * \"The Coming of the Mayflower\" (1989) * \"Kiss Me, Kate\" (1989) * \"When Life Hands You a Lemming ...\" (1989) * \"Sing a Song of Porkchops\" (1989) * \"Going Home\" (1990) * \"Lost Luggage\" (1990) * \"Alien Resonance\" (1990) * \"Versey Vicey\" (1991) * \"Micro Macho\" (1991) * \"Black Earth and Destiny\" (1991) (Collected in Mike Resnick\\'s anthology Alternate Presidents) * \"Swingin Proud\\'n Free\" (1992) * \"The Pragmatists Take a Bow\" (1993) * \"Clem, The Little Copper\" (1994) * \"Wallflower\" (1996) * \"Real Men Don\\'t Bark at Fire Hydrants\" (2000) * \"Foggy Acres Blues\" (2002) \\nPoetry\\n * \"Surrender the Buddy Electrical\" (1987) * \"Alien Heat\" (1988) * \"Interstellar Arcs\" (1988) * \"Modern Madness\" (1989) * \"Reality Is Morally Neutral\" (1989) * \"Love Song for Lonely Aliens\" (1989) * \"The Alien\\'s Revenge\" (1989) * \"Seafood Futures\" (1990) * \"Hackers Crack the Papal Porn\" (1990) * \"Bubbles\" (1991) * \"Chromosomes\" (1993) \\nNon-fiction\\n \\n=Books\\n= * Periodic Stars: An Overview of Science Fiction Literature in the 1980s and \\'90s (1997) * Off the Main Sequence (2007) \\n=Essays and reporting\\n= * \"Life Needs a beginning\" (1975) * \"Is the Universe a Yo-Yo?\" (1979) * \"Amazing Facts\" (Amazing Stories, February 1980) (1980) * \"Fantastic Facts - Weather Report: Chicago 2000\" (1980) * \"Amazing Facts\" (Amazing Stories, May 1980) (1980) * \"Fantastic Facts: Alternate Worlds\" (1980) * \"State of the Art: Poetry with Rivets\" (1988) * \"Is Science Fiction Just Tabloid Futurism ? or The Great Untapped Market\" (1989) * \"Speculative Poetry, Pt. 1: Filler, Fiber, or Forgettable\" (1991) with Marge B. Simon and John Grey and G. Sutton Breiding * \"Book Reviewing: A Matter Of Opinion\" (1992) * \"Letter\" (Locus #392) (1993) * \"Concluding Statements\" (1996) with Stephen L. Gillett, Ph.D. * \"Beware the Virtual Reality Jungle\" (1996) * \"Introduction\" (Bigfoot Stalks the Coast of Maine and Other Twisted Downeast Tales) (2000) * \"Astounding Continuity\" (2007) * \"Preface\" (Visions of Tomorrow: Science Fiction Predictions that Came True) (2010) with Judith K. Dial * \"Destinies: Issues to Shape our Future\" (2020) \\n\\nScience Fact (Analog) series\\n\\n * \"Robots - Rams from Cams\" (1972) * \"Let There Be Light!\" (1974) * \"Life is in The Stars\" (1974) * \"The Biopump Solution\" (1974) * \"Turing Point\" (1975) * \"Altruism, Evolution, and Society\" (1976) * \"Twenty Years to Space\" (1979) * \"Decline and Fall\" (1981) * \"The Future of Biological Engineering\" (1982) * \"Trapped Between Damnations: The True Meaning of the Population Crisis\" (1996) * \"The 3D Trainwreck\" (2008) * \\n=Review columns\\n= * The Reference Library (Analog book review column, 1978–2008) \\n=Interior art\\n= * The Biopump Solution (1974) \\nCritical studies and reviews of Easton\\'s work\\n ;Deco punk * \\nReferences\\n * Entries in Contemporary Authors, International Authors and Writers Who\\'s Who, Who\\'s Who in the East, Who\\'s Who in the World, Who\\'s Who in Entertainment, Dictionary of International Biography, and Encyclopedia of Science Fiction, 2nd ed. (1993). \\nExternal links\\n * Category:1944 births Category:Living people Category:20th-century American novelists Category:20th- century American poets Category:20th-century American short story writers Category:American male novelists Category:American male poets Category:American male short story writers Category:American science fiction writers Category:American science writers Category:Analog Science Fiction and Fact people Category:Colby College alumni Category:Thomas College faculty Category:University of Chicago alumni Category:20th-century American male writers Category:Novelists from Maine Category:20th-century American non- fiction writers Category:American male non-fiction writers'}\n"
     ]
    },
    {
     "name": "stderr",
     "output_type": "stream",
     "text": [
      "../data/wikipedia/t.parquet: 100%|████████████████████████████████████████████████████████████████████| 213/213 [15:39<00:00,  4.41s/it]\n",
      "../data/wikipedia/u.parquet:  22%|███████████████▊                                                       | 4/18 [00:17<01:01,  4.36s/it]Traceback (most recent call last):\n",
      "  File \"/tmp/ipykernel_13518/2907329658.py\", line 31, in <module>\n",
      "    text = query_prompt(prompt)\n",
      "  File \"/tmp/ipykernel_13518/2301454346.py\", line 2, in query_prompt\n",
      "    response = openai.ChatCompletion.create(\n",
      "  File \"/opt/conda/lib/python3.10/site-packages/openai/api_resources/chat_completion.py\", line 25, in create\n",
      "    return super().create(*args, **kwargs)\n",
      "  File \"/opt/conda/lib/python3.10/site-packages/openai/api_resources/abstract/engine_api_resource.py\", line 153, in create\n",
      "    response, _, api_key = requestor.request(\n",
      "  File \"/opt/conda/lib/python3.10/site-packages/openai/api_requestor.py\", line 298, in request\n",
      "    resp, got_stream = self._interpret_response(result, stream)\n",
      "  File \"/opt/conda/lib/python3.10/site-packages/openai/api_requestor.py\", line 700, in _interpret_response\n",
      "    self._interpret_response_line(\n",
      "  File \"/opt/conda/lib/python3.10/site-packages/openai/api_requestor.py\", line 765, in _interpret_response_line\n",
      "    raise self.handle_error_response(\n",
      "openai.error.InvalidRequestError: This model's maximum context length is 16385 tokens. However, your messages resulted in 19945 tokens. Please reduce the length of the messages.\n",
      "../data/wikipedia/u.parquet:  28%|███████████████████▋                                                   | 5/18 [00:17<00:40,  3.09s/it]"
     ]
    },
    {
     "name": "stdout",
     "output_type": "stream",
     "text": [
      "This model's maximum context length is 16385 tokens. However, your messages resulted in 19945 tokens. Please reduce the length of the messages.\n",
      "{'prompt': 'What is unbounded nondeterminism in computer science?', 'A': 'A property of concurrency that guarantees that a request will eventually be serviced', 'B': 'A property of concurrency that guarantees that a request will be serviced immediately', 'C': 'A property of concurrency that guarantees that a request will never be serviced', 'D': 'A property of concurrency that guarantees that a request will be serviced randomly', 'E': 'A property of concurrency that guarantees that a request will be serviced in a bounded amount of time', 'answer': 'A', 'basis': 'In computer science, unbounded nondeterminism or unbounded indeterminacy is a property of concurrency by which the amount of delay in servicing a request can become unbounded as a result of arbitration of contention for shared resources while still guaranteeing that the request will eventually be serviced.', 'wiki_id': '2647475', 'original_text': 'title: Unbounded nondeterminism\\nIn computer science, unbounded nondeterminism or unbounded indeterminacy is a property of concurrency by which the amount of delay in servicing a request can become unbounded as a result of arbitration of contention for shared resources while still guaranteeing that the request will eventually be serviced. Unbounded nondeterminism became an important issue in the development of the denotational semantics of concurrency, and later became part of research into the theoretical concept of hypercomputation. \\nFairness\\n Discussion of unbounded nondeterminism tends to get involved with discussions of fairness. The basic concept is that all computation paths must be \"fair\" in the sense that if the machine enters a state infinitely often, it must take every possible transition from that state. This amounts to requiring that the machine be guaranteed to service a request if it can, since an infinite sequence of states will only be allowed if there is no transition that leads to the request being serviced. Equivalently, every possible transition must occur eventually in an infinite computation, although it may take an unbounded amount of time for the transition to occur. This concept is to be distinguished from the local fairness of flipping a \"fair\" coin, by which it is understood that it is possible for the outcome to always be heads for any finite number of steps, although as the number of steps increases, this will almost surely not happen. An example of the role of fair or unbounded nondeterminism in the merging of strings was given by William D. Clinger, in his 1981 thesis. He defined a \"fair merge\" of two strings to be a third string in which each character of each string must occur eventually. He then considered the set of all fair merges of two strings , assuming it to be a monotone function. Then he argued that , where is the empty stream. Now }, so it must be that is an element of , a contradiction. He concluded that: :It appears that a fair merge cannot be written as a nondeterministic data flow program operating on streams. \\nOn the possibility of implementing unbounded nondeterminism\\n Edsger Dijkstra argued that it is impossible to implement systems with unbounded nondeterminism. For this reason, Tony Hoare suggested that \"an efficient implementation should try to be reasonably fair.\" \\nNondeterministic automata\\n Nondeterministic Turing machines have only bounded nondeterminism. Likewise sequential programs containing guarded commands as the only sources of nondeterminism have only bounded nondeterminism. Briefly, choice nondeterminism is bounded. Gordon Plotkin gave a proof in his original paper on powerdomains: :Now the set of initial segments of execution sequences of a given nondeterministic program , starting from a given state, will form a tree. The branching points will correspond to the choice points in the program. Since there are always only finitely many alternatives at each choice point, the branching factor of the tree is always finite. That is, the tree is finitary. Now Kőnig\\'s lemma says that if every branch of a finitary tree is finite, then so is the tree itself. In the present case this means that if every execution sequence of terminates, then there are only finitely many execution sequences. So if an output set of is infinite, it must contain [a nonterminating computation]. \\nIndeterminacy versus nondeterministic automata\\n William Clinger provided the following analysis of the above proof by Plotkin: :This proof depends upon the premise that if every node of a certain infinite branch can be reached by some computation , then there exists a computation that visits every node on the branch. ... Clearly this premise follows not from logic but rather from the interpretation given to choice points. This premise fails for arrival nondeterminism [in the arrival of messages in the Actor model] because of finite delay [in the arrival of messages]. Though each node on an infinite branch must lie on a branch with a limit, the infinite branch need not itself have a limit. Thus the existence of an infinite branch does not necessarily imply a nonterminating computation. \\nUnbounded nondeterminism and noncomputability\\n Spaan et al. have argued that it is possible for an unboundedly nondeterministic program to solve the halting problem; their algorithm consists of two parts defined as follows: The first part of the program requests a natural number from the second part; after receiving it, it will iterate the desired Turing machine for that many steps, and accept or reject according to whether the machine has yet halted. The second part of the program nondeterministically chooses a natural number on request. The number is stored in a variable which is initialized to 0; then the program repeatedly chooses whether to increment the variable, or service the request. The fairness constraint requires that the request eventually be serviced, for otherwise there is an infinite loop in which only the \"increment the variable\" branch is ever taken. Clearly, if the machine does halt, this algorithm has a path which accepts. If the machine does not halt, this algorithm will always reject, no matter what number the second part of the program returns. \\nArguments for dealing with unbounded nondeterminism\\n Clinger and Carl Hewitt have developed a model (known as the Actor model) of concurrent computation with the property of unbounded nondeterminism built in [Clinger 1981; ; ; ]; this allows computations that cannot be implemented by Turing Machines, as seen above. However, these researchers emphasize that their model of concurrent computations defined by Church, Kleene, Turing, etc. (See Indeterminacy in concurrent computation.) Hewitt justified his use of unbounded nondeterminism by arguing that there is no bound that can be placed on how long it takes a computational circuit called an arbiter to settle (see metastability in electronics). Arbiters are used in computers to deal with the circumstance that computer clocks operate asynchronously with input from outside, e.g.., keyboard input, disk access, network input, etc. So it could take an unbounded time for a message sent to a computer to be received and in the meantime the computer could traverse an unbounded number of states. He further argued that Electronic mail enables unbounded nondeterminism since mail can be stored on servers indefinitely before being delivered, and that data links to servers on the Internet can likewise be out of service indefinitely. This gave rise to the unbounded nondeterminism controversy. \\nHewitt\\'s analysis of fairness\\n Hewitt argued that issues in fairness derive in part from the global state point of view. The oldest models of computation (e.g.. Turing machines, Post productions, the lambda calculus, etc.) are based on mathematics that makes use of a global state to represent a computational step. Each computational step is from one global state of the computation to the next global state. The global state approach was continued in automata theory for finite state machines and push down stack machines including their nondeterministic versions. All of these models have the property of bounded nondeterminism: if a machine always halts when started in its initial state, then there is a bound on the number of states in which it can halt. Hewitt argued that there is a fundamental difference between choices in global state nondeterminism and the arrival order indeterminacy (nondeterminism) of his Actor model. In global state nondeterminism, a \"choice\" is made for the \"next\" global state. In arrival order indeterminacy, arbitration locally decides each arrival order in an unbounded amount of time. While a local arbitration is proceeding, unbounded activity can take place elsewhere. There is no global state and consequently no \"choice\" to be made as to the \"next\" global state. \\nReferences\\n * * * * * * * * * * * * * * * * * Dana Scott. What is Denotational Semantics? MIT Laboratory for Computer Science Distinguished Lecture Series. April 17, 1980. * * * * * * * * * Category:Actor model (computer science) Category:Concurrency (computer science) Category:Models of computation Category:Process calculi Category:Denotational semantics'}\n"
     ]
    },
    {
     "name": "stderr",
     "output_type": "stream",
     "text": [
      "../data/wikipedia/u.parquet: 100%|██████████████████████████████████████████████████████████████████████| 18/18 [01:20<00:00,  4.47s/it]\n",
      "../data/wikipedia/v.parquet: 100%|██████████████████████████████████████████████████████████████████████| 29/29 [02:10<00:00,  4.49s/it]\n",
      "../data/wikipedia/w.parquet: 100%|██████████████████████████████████████████████████████████████████████| 44/44 [02:56<00:00,  4.01s/it]\n",
      "../data/wikipedia/x.parquet: 100%|████████████████████████████████████████████████████████████████████████| 3/3 [00:10<00:00,  3.43s/it]\n",
      "../data/wikipedia/y.parquet: 100%|████████████████████████████████████████████████████████████████████████| 8/8 [00:33<00:00,  4.24s/it]\n",
      "../data/wikipedia/z.parquet: 100%|████████████████████████████████████████████████████████████████████████| 8/8 [00:34<00:00,  4.35s/it]\n"
     ]
    }
   ],
   "source": [
    "import traceback \n",
    "batch_size = 1\n",
    "\n",
    "def make_prompt(series):\n",
    "    prompt = f\"\"\"\n",
    "# 依頼\n",
    "You are a university professor and you are creating a test for your students.\n",
    "Using the one given texts, create a question in which you must select one answer from five choices. Also, extract the part of the text that provides the basis for the answer.\n",
    "The output should be an array in json format with the question text as 'prompt', the choices as 'A', 'B', 'C', 'D', and 'E', the answer choice as 'answer', and the rationale as 'basis'.\n",
    "Also, please create one question per text. So the total number of problems created will be 1.\n",
    "\n",
    "# text\n",
    "## text 1 \n",
    "{series['text']}\n",
    "\n",
    "\n",
    "# attention\n",
    "Please create one question per text. So the total number of problems created will be 1.\n",
    "\"\"\"\n",
    "    return prompt\n",
    "texts = []\n",
    "now_date = dt.now().strftime(\"%Y%m%d%H%M%S\")\n",
    "\n",
    "for f in files:\n",
    "    df_science = get_df(f)\n",
    "    \n",
    "    for i in tqdm.tqdm(range(len(df_science)), desc=f):\n",
    "        try:\n",
    "            series = df_science.iloc[i]\n",
    "            prompt = make_prompt(series)\n",
    "            text = query_prompt(prompt)\n",
    "            text = json.loads(text)\n",
    "            if type(text) == list:\n",
    "                text = text[0]\n",
    "            text[\"wiki_id\"] = series[\"id\"]\n",
    "            text[\"original_text\"] = series[\"text\"]\n",
    "            texts.append(text)\n",
    "        except Exception as e:\n",
    "            print(e)\n",
    "            traceback.print_exc()\n",
    "            print(text)\n",
    "    pd.DataFrame(texts).to_csv(f\"output_gpt3.5_generate/{now_date}.csv\")"
   ]
  },
  {
   "cell_type": "code",
   "execution_count": null,
   "metadata": {},
   "outputs": [],
   "source": []
  },
  {
   "cell_type": "code",
   "execution_count": null,
   "metadata": {},
   "outputs": [],
   "source": [
    "pd.DataFrame(texts)"
   ]
  },
  {
   "cell_type": "code",
   "execution_count": 41,
   "metadata": {},
   "outputs": [
    {
     "data": {
      "text/html": [
       "<div>\n",
       "<style scoped>\n",
       "    .dataframe tbody tr th:only-of-type {\n",
       "        vertical-align: middle;\n",
       "    }\n",
       "\n",
       "    .dataframe tbody tr th {\n",
       "        vertical-align: top;\n",
       "    }\n",
       "\n",
       "    .dataframe thead th {\n",
       "        text-align: right;\n",
       "    }\n",
       "</style>\n",
       "<table border=\"1\" class=\"dataframe\">\n",
       "  <thead>\n",
       "    <tr style=\"text-align: right;\">\n",
       "      <th></th>\n",
       "      <th>id</th>\n",
       "      <th>title</th>\n",
       "      <th>text</th>\n",
       "      <th>categories</th>\n",
       "    </tr>\n",
       "  </thead>\n",
       "  <tbody>\n",
       "  </tbody>\n",
       "</table>\n",
       "</div>"
      ],
      "text/plain": [
       "Empty DataFrame\n",
       "Columns: [id, title, text, categories]\n",
       "Index: []"
      ]
     },
     "execution_count": 41,
     "metadata": {},
     "output_type": "execute_result"
    }
   ],
   "source": [
    "df_science = get_df(files[0])\n",
    "df_science[df_science[\"id\"] == '29637793']"
   ]
  },
  {
   "cell_type": "code",
   "execution_count": 42,
   "metadata": {},
   "outputs": [
    {
     "data": {
      "text/html": [
       "<div>\n",
       "<style scoped>\n",
       "    .dataframe tbody tr th:only-of-type {\n",
       "        vertical-align: middle;\n",
       "    }\n",
       "\n",
       "    .dataframe tbody tr th {\n",
       "        vertical-align: top;\n",
       "    }\n",
       "\n",
       "    .dataframe thead th {\n",
       "        text-align: right;\n",
       "    }\n",
       "</style>\n",
       "<table border=\"1\" class=\"dataframe\">\n",
       "  <thead>\n",
       "    <tr style=\"text-align: right;\">\n",
       "      <th></th>\n",
       "      <th>id</th>\n",
       "      <th>title</th>\n",
       "      <th>text</th>\n",
       "      <th>categories</th>\n",
       "    </tr>\n",
       "  </thead>\n",
       "  <tbody>\n",
       "    <tr>\n",
       "      <th>368626</th>\n",
       "      <td>1908395</td>\n",
       "      <td>Artificial brain</td>\n",
       "      <td>title: Artificial brain\\nAn artificial brain (...</td>\n",
       "      <td>[Computational neuroscience, Robotics, Emergin...</td>\n",
       "    </tr>\n",
       "    <tr>\n",
       "      <th>34268</th>\n",
       "      <td>10410698</td>\n",
       "      <td>Abdul Amir al-Jamri</td>\n",
       "      <td>title: Abdul Amir al-Jamri\\nSheikh Abdul Amir ...</td>\n",
       "      <td>[1938 births, 2006 deaths, Deaths from kidney ...</td>\n",
       "    </tr>\n",
       "    <tr>\n",
       "      <th>233077</th>\n",
       "      <td>1958222</td>\n",
       "      <td>Amyloid beta</td>\n",
       "      <td>title: Amyloid beta\\nAmyloid beta (Aβ or Abeta...</td>\n",
       "      <td>[Peptides, Molecular neuroscience, Alzheimer's...</td>\n",
       "    </tr>\n",
       "    <tr>\n",
       "      <th>9870</th>\n",
       "      <td>3621668</td>\n",
       "      <td>A Woman of the Iron People</td>\n",
       "      <td>title: A Woman of the Iron People\\nA Woman of ...</td>\n",
       "      <td>[1991 American novels, 1991 science fiction no...</td>\n",
       "    </tr>\n",
       "    <tr>\n",
       "      <th>139719</th>\n",
       "      <td>38366604</td>\n",
       "      <td>Albert Spaier</td>\n",
       "      <td>title: Albert Spaier\\nAlbert Spaier (9 July 18...</td>\n",
       "      <td>[1883 births, 1934 deaths, Writers from Iași, ...</td>\n",
       "    </tr>\n",
       "    <tr>\n",
       "      <th>...</th>\n",
       "      <td>...</td>\n",
       "      <td>...</td>\n",
       "      <td>...</td>\n",
       "      <td>...</td>\n",
       "    </tr>\n",
       "    <tr>\n",
       "      <th>62685</th>\n",
       "      <td>4474244</td>\n",
       "      <td>Actuarial reserves</td>\n",
       "      <td>title: Actuarial reserves\\nIn insurance, an ac...</td>\n",
       "      <td>[Actuarial science, Capital requirement de:Dec...</td>\n",
       "    </tr>\n",
       "    <tr>\n",
       "      <th>357456</th>\n",
       "      <td>4260564</td>\n",
       "      <td>Arrival II</td>\n",
       "      <td>title: Arrival II\\nArrival ll (alternatively t...</td>\n",
       "      <td>[1998 films, 1998 science fiction films, Ameri...</td>\n",
       "    </tr>\n",
       "    <tr>\n",
       "      <th>391514</th>\n",
       "      <td>32894329</td>\n",
       "      <td>Astrobiophysics</td>\n",
       "      <td>title: Astrobiophysics\\nAstrobiophysics is a f...</td>\n",
       "      <td>[Astrophysics, Biophysics .]</td>\n",
       "    </tr>\n",
       "    <tr>\n",
       "      <th>10000</th>\n",
       "      <td>2824171</td>\n",
       "      <td>A World of Difference (novel)</td>\n",
       "      <td>title: A World of Difference (novel)\\nA World ...</td>\n",
       "      <td>[1990 American novels, Novels set during the C...</td>\n",
       "    </tr>\n",
       "    <tr>\n",
       "      <th>264660</th>\n",
       "      <td>4468753</td>\n",
       "      <td>Andy Duncan (writer)</td>\n",
       "      <td>title: Andy Duncan (writer)\\nthumb|Andy Duncan...</td>\n",
       "      <td>[1964 births, Living people, 21st-century Amer...</td>\n",
       "    </tr>\n",
       "  </tbody>\n",
       "</table>\n",
       "<p>277 rows × 4 columns</p>\n",
       "</div>"
      ],
      "text/plain": [
       "              id                          title  \\\n",
       "368626   1908395               Artificial brain   \n",
       "34268   10410698            Abdul Amir al-Jamri   \n",
       "233077   1958222                   Amyloid beta   \n",
       "9870     3621668     A Woman of the Iron People   \n",
       "139719  38366604                  Albert Spaier   \n",
       "...          ...                            ...   \n",
       "62685    4474244             Actuarial reserves   \n",
       "357456   4260564                     Arrival II   \n",
       "391514  32894329                Astrobiophysics   \n",
       "10000    2824171  A World of Difference (novel)   \n",
       "264660   4468753           Andy Duncan (writer)   \n",
       "\n",
       "                                                     text  \\\n",
       "368626  title: Artificial brain\\nAn artificial brain (...   \n",
       "34268   title: Abdul Amir al-Jamri\\nSheikh Abdul Amir ...   \n",
       "233077  title: Amyloid beta\\nAmyloid beta (Aβ or Abeta...   \n",
       "9870    title: A Woman of the Iron People\\nA Woman of ...   \n",
       "139719  title: Albert Spaier\\nAlbert Spaier (9 July 18...   \n",
       "...                                                   ...   \n",
       "62685   title: Actuarial reserves\\nIn insurance, an ac...   \n",
       "357456  title: Arrival II\\nArrival ll (alternatively t...   \n",
       "391514  title: Astrobiophysics\\nAstrobiophysics is a f...   \n",
       "10000   title: A World of Difference (novel)\\nA World ...   \n",
       "264660  title: Andy Duncan (writer)\\nthumb|Andy Duncan...   \n",
       "\n",
       "                                               categories  \n",
       "368626  [Computational neuroscience, Robotics, Emergin...  \n",
       "34268   [1938 births, 2006 deaths, Deaths from kidney ...  \n",
       "233077  [Peptides, Molecular neuroscience, Alzheimer's...  \n",
       "9870    [1991 American novels, 1991 science fiction no...  \n",
       "139719  [1883 births, 1934 deaths, Writers from Iași, ...  \n",
       "...                                                   ...  \n",
       "62685   [Actuarial science, Capital requirement de:Dec...  \n",
       "357456  [1998 films, 1998 science fiction films, Ameri...  \n",
       "391514                       [Astrophysics, Biophysics .]  \n",
       "10000   [1990 American novels, Novels set during the C...  \n",
       "264660  [1964 births, Living people, 21st-century Amer...  \n",
       "\n",
       "[277 rows x 4 columns]"
      ]
     },
     "execution_count": 42,
     "metadata": {},
     "output_type": "execute_result"
    }
   ],
   "source": [
    "df_science"
   ]
  },
  {
   "cell_type": "code",
   "execution_count": null,
   "metadata": {},
   "outputs": [],
   "source": []
  }
 ],
 "metadata": {
  "kernelspec": {
   "display_name": "Python 3 (ipykernel)",
   "language": "python",
   "name": "python3"
  },
  "language_info": {
   "codemirror_mode": {
    "name": "ipython",
    "version": 3
   },
   "file_extension": ".py",
   "mimetype": "text/x-python",
   "name": "python",
   "nbconvert_exporter": "python",
   "pygments_lexer": "ipython3",
   "version": "3.10.12"
  }
 },
 "nbformat": 4,
 "nbformat_minor": 4
}
