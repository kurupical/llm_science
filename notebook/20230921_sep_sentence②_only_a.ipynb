{
 "cells": [
  {
   "cell_type": "code",
   "execution_count": 4,
   "id": "21bf371f",
   "metadata": {},
   "outputs": [],
   "source": [
    "import pandas as pd\n",
    "import tqdm\n",
    "import glob\n",
    "import os"
   ]
  },
  {
   "cell_type": "code",
   "execution_count": 5,
   "id": "f91994aa",
   "metadata": {},
   "outputs": [],
   "source": [
    "files = glob.glob(\"../data/wikipedia/a.parquet\")\n",
    "files = [f for f in files if \"all\" not in f]"
   ]
  },
  {
   "cell_type": "code",
   "execution_count": 6,
   "id": "999735b0",
   "metadata": {},
   "outputs": [],
   "source": [
    "chunk_size = 10000000"
   ]
  },
  {
   "cell_type": "code",
   "execution_count": 42,
   "id": "7813678f",
   "metadata": {},
   "outputs": [],
   "source": [
    "def output_seperated_files(token_length, stride, drop_category):    \n",
    "    output_dir = f\"../data/wikipedia/sep_chunk/token_length{token_length}_stride_sentence{stride}_drop_category{drop_category}\"\n",
    "    os.makedirs(output_dir, exist_ok=True)\n",
    "    chunk = 1\n",
    "    df_wiki_sep = []\n",
    "    for file in files:\n",
    "        df_wiki = pd.read_parquet(file)\n",
    "        df_wiki = df_wiki.drop(\"categories\", axis=1)\n",
    "        for i in tqdm.tqdm(range(len(df_wiki))):\n",
    "            series = df_wiki.iloc[i]\n",
    "            text = series[\"text\"]\n",
    "            if drop_category:\n",
    "                idx = text.find(\" Category:\")\n",
    "                text = text[:idx]\n",
    "\n",
    "            text_space = text.split(\".\")\n",
    "            text = \"\"\n",
    "            text_stride = []\n",
    "\n",
    "            series_ = series.to_dict()\n",
    "            series_[\"text\"] = \" \".join(text_space[:stride*2])\n",
    "            series_[\"title_only\"] = True\n",
    "            df_wiki_sep.append(series_)\n",
    "            \n",
    "            appended = False\n",
    "            for j in range(0, len(text_space)):\n",
    "                series_ = series.to_dict()\n",
    "                text += text_space[j] + \".\"\n",
    "                text_stride.append(text_space[j])\n",
    "                text_stride = text_stride[-stride:]\n",
    "                appended = False\n",
    "                if len(text.split(\" \")) > token_length:\n",
    "                    series_[\"text\"] = text\n",
    "                    series_[\"title_only\"] = False\n",
    "                    df_wiki_sep.append(series_)\n",
    "                    text = \".\".join(text_stride)\n",
    "                    appended = True\n",
    "            if not appended:\n",
    "                series_[\"text\"] = text\n",
    "                series_[\"title_only\"] = False\n",
    "                df_wiki_sep.append(series_)\n",
    "\n",
    "            if len(df_wiki_sep) > chunk_size:\n",
    "                print(f\"chunk {chunk}\")\n",
    "                df_wiki_sep = pd.DataFrame(df_wiki_sep)\n",
    "                df_wiki_sep.to_parquet(f\"{output_dir}/chunk{chunk}.parquet\")\n",
    "                df_wiki_sep = []\n",
    "                chunk += 1\n",
    "    df_wiki_sep = pd.DataFrame(df_wiki_sep)\n",
    "    df_wiki_sep.to_parquet(f\"{output_dir}/chunk{chunk}.parquet\")\n",
    "    "
   ]
  },
  {
   "cell_type": "code",
   "execution_count": 43,
   "id": "666beec0",
   "metadata": {},
   "outputs": [
    {
     "name": "stderr",
     "output_type": "stream",
     "text": [
      "100%|███████████████████████████████████████████████████████████████████████████████████████████████████████████| 442726/442726 [02:18<00:00, 3188.37it/s]\n"
     ]
    }
   ],
   "source": [
    "output_seperated_files(token_length=90, stride=3, drop_category=True)"
   ]
  },
  {
   "cell_type": "code",
   "execution_count": 46,
   "id": "b88f8d10",
   "metadata": {},
   "outputs": [
    {
     "name": "stderr",
     "output_type": "stream",
     "text": [
      "100%|███████████████████████████████| 442726/442726 [02:27<00:00, 3007.77it/s]\n"
     ]
    }
   ],
   "source": [
    "output_seperated_files(token_length=120, stride=4, drop_category=True)"
   ]
  },
  {
   "cell_type": "code",
   "execution_count": 47,
   "id": "a8599004",
   "metadata": {},
   "outputs": [
    {
     "name": "stderr",
     "output_type": "stream",
     "text": [
      "100%|███████████████████████████████| 442726/442726 [03:04<00:00, 2404.34it/s]\n"
     ]
    }
   ],
   "source": [
    "output_seperated_files(token_length=150, stride=5, drop_category=True)"
   ]
  },
  {
   "cell_type": "code",
   "execution_count": 48,
   "id": "1ef111ed",
   "metadata": {},
   "outputs": [
    {
     "name": "stderr",
     "output_type": "stream",
     "text": [
      "100%|███████████████████████████████████████████████████████████████████████████████████████████████████████████| 442726/442726 [02:45<00:00, 2680.31it/s]\n"
     ]
    }
   ],
   "source": [
    "output_seperated_files(token_length=240, stride=8, drop_category=True)"
   ]
  },
  {
   "cell_type": "code",
   "execution_count": null,
   "id": "ed2a0abb",
   "metadata": {},
   "outputs": [],
   "source": []
  }
 ],
 "metadata": {
  "kernelspec": {
   "display_name": "Python 3 (ipykernel)",
   "language": "python",
   "name": "python3"
  },
  "language_info": {
   "codemirror_mode": {
    "name": "ipython",
    "version": 3
   },
   "file_extension": ".py",
   "mimetype": "text/x-python",
   "name": "python",
   "nbconvert_exporter": "python",
   "pygments_lexer": "ipython3",
   "version": "3.10.12"
  }
 },
 "nbformat": 4,
 "nbformat_minor": 5
}
