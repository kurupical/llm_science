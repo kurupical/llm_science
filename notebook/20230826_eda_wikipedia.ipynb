{
 "cells": [
  {
   "cell_type": "code",
   "execution_count": 1,
   "metadata": {},
   "outputs": [],
   "source": [
    "import pandas as pd"
   ]
  },
  {
   "cell_type": "code",
   "execution_count": 2,
   "metadata": {},
   "outputs": [],
   "source": [
    "df = pd.read_parquet(\"../data/wikipedia/s.parquet\")"
   ]
  },
  {
   "cell_type": "code",
   "execution_count": 5,
   "metadata": {},
   "outputs": [
    {
     "data": {
      "text/plain": [
       "\"The S & S Sandwich Shop (also known as the S&S; Diner and the S & S Restaurant) is a historic site in Miami, Florida. It is located at 1757 Northeast 2nd Avenue. On January 4, 1989, it was added to the U.S. National Register of Historic Places.Historic Preservation Miami The small-scale, Art Deco building was constructed in 1938 and includes a facade of pigmented structural glass and aluminum arranged in horizontal and vertical bands of beige, white, and red. In 2017, the restaurant was evicted from the building, and the S & S Diner resumed at a nearby location. ==References== ==External links== * Dade County listings at National Register of Historic Places * Florida's Office of Cultural and Historical Programs ** Dade County listings ** S & S Restaurant and Deli Category:Buildings and structures in Miami Category:National Register of Historic Places in Miami Category:Restaurants in Miami Category:Restaurants on the National Register of Historic Places Category:1938 establishments in Florida Category:Restaurants established in 1938 es:Iglesia de San Juan el Bautista (Miami)\""
      ]
     },
     "execution_count": 5,
     "metadata": {},
     "output_type": "execute_result"
    }
   ],
   "source": [
    "df[\"text\"].iloc[1]"
   ]
  },
  {
   "cell_type": "code",
   "execution_count": 21,
   "metadata": {},
   "outputs": [
    {
     "data": {
      "text/plain": [
       "'Corporal Malcolm Brown Mather (b. 1898) was a British World War I flying ace credited with eight aerial victories while flying as an observer. ==Military service== The son of Robert and Annie (Brown) Mather, Malcolm Brown Mather was a carpenter before enlisting into the Royal Flying Corps on 4 December 1916. He served as an observer/gunner in No. 20 Squadron flying the Bristol F.2b two-seater fighter. His first aerial victory came on 2 December 1917, flying with Second Lieutenant Wilfred Beaver, when he destroyed an Albatros D.V south-east of Passendale. On 5 December he and Beaver drove down \\'out of control\\' another D.V over Dadizeele. Mathers\\' next two victories came on 4 February 1918 over the Menen–Roulers road when he and pilot Lieutenant Rex G. Bennett drove down one D.V and sent another down in flames. On 17 February he and Second Lieutenant Ernest Lindup destroyed a Pfalz D.III over Westroosbeke. Mathers gained another double victory on 9 March with Second Lieutenant Leslie H. T. Capel, driving down two D.Vs south of Menen. For his final victory Mather was paired with Wilfred Beaver again, when he sent another D.V down in flames north of Ploegsteert Wood. Mather\\'s award of the Distinguished Conduct Medal was gazetted on 1 May 1918. His citation read: :20624 Corporal M. Mather, RFC. ::\"For conspicuous gallantry and devotion to duty while acting as observer. He was attacked by twelve enemy machines while flying over the enemy\\'s lines, and in a fight which lasted fifteen minutes he shot down two of the enemy out of control and drove off the others. He undoubtedly saved his machine by his dogged determination. He has shown great skill and courage in many other aerial combats. ==References== Category:1898 births Category:Year of death missing Category:People from Falkirk Category:Royal Flying Corps soldiers Category:Royal Air Force personnel of World War I Category:British World War I flying aces Category:Scottish flying aces Category:Recipients of the Distinguished Conduct Medal Category:Scottish military personnel'"
      ]
     },
     "execution_count": 21,
     "metadata": {},
     "output_type": "execute_result"
    }
   ],
   "source": [
    "df[df[\"title\"].str.contains(\"Math\")][\"text\"].iloc[0]"
   ]
  },
  {
   "cell_type": "code",
   "execution_count": 36,
   "metadata": {},
   "outputs": [],
   "source": [
    "def f(categories):\n",
    "    for cat in categories:\n",
    "        if \"science\" in cat:\n",
    "            return True\n",
    "        if \"physics\" in cat:\n",
    "            return True\n",
    "        if \"chemistry\" in cat:\n",
    "            return True\n",
    "    return False\n",
    "df_science = df[df[\"categories\"].apply(f)]"
   ]
  },
  {
   "cell_type": "code",
   "execution_count": 37,
   "metadata": {},
   "outputs": [
    {
     "data": {
      "text/html": [
       "<div>\n",
       "<style scoped>\n",
       "    .dataframe tbody tr th:only-of-type {\n",
       "        vertical-align: middle;\n",
       "    }\n",
       "\n",
       "    .dataframe tbody tr th {\n",
       "        vertical-align: top;\n",
       "    }\n",
       "\n",
       "    .dataframe thead th {\n",
       "        text-align: right;\n",
       "    }\n",
       "</style>\n",
       "<table border=\"1\" class=\"dataframe\">\n",
       "  <thead>\n",
       "    <tr style=\"text-align: right;\">\n",
       "      <th></th>\n",
       "      <th>id</th>\n",
       "      <th>title</th>\n",
       "      <th>text</th>\n",
       "      <th>categories</th>\n",
       "    </tr>\n",
       "  </thead>\n",
       "  <tbody>\n",
       "    <tr>\n",
       "      <th>72</th>\n",
       "      <td>57242304</td>\n",
       "      <td>M Jackson</td>\n",
       "      <td>Jerilynn \"M\" Jackson is an American geographer...</td>\n",
       "      <td>[American climatologists, Women climatologists...</td>\n",
       "    </tr>\n",
       "    <tr>\n",
       "      <th>163</th>\n",
       "      <td>4443796</td>\n",
       "      <td>M squared</td>\n",
       "      <td>In laser science, the parameter M2, also known...</td>\n",
       "      <td>[Laser science]</td>\n",
       "    </tr>\n",
       "    <tr>\n",
       "      <th>651</th>\n",
       "      <td>31567389</td>\n",
       "      <td>M-Labs</td>\n",
       "      <td>M-Labs (formerly known as the Milkymist projec...</td>\n",
       "      <td>[Open hardware electronic devices, Video art, ...</td>\n",
       "    </tr>\n",
       "    <tr>\n",
       "      <th>743</th>\n",
       "      <td>1275771</td>\n",
       "      <td>M. A. Foster</td>\n",
       "      <td>Michael Anthony Foster (July 2, 1939 - Novembe...</td>\n",
       "      <td>[1939 births, Living people, 20th- century Ame...</td>\n",
       "    </tr>\n",
       "    <tr>\n",
       "      <th>796</th>\n",
       "      <td>66995991</td>\n",
       "      <td>M. A. Rothman</td>\n",
       "      <td>Michael A. Rothman is an American engineer and...</td>\n",
       "      <td>[20th-century American non-fiction writers, 20...</td>\n",
       "    </tr>\n",
       "    <tr>\n",
       "      <th>...</th>\n",
       "      <td>...</td>\n",
       "      <td>...</td>\n",
       "      <td>...</td>\n",
       "      <td>...</td>\n",
       "    </tr>\n",
       "    <tr>\n",
       "      <th>432695</th>\n",
       "      <td>55199</td>\n",
       "      <td>Mössbauer effect</td>\n",
       "      <td>The Mössbauer effect, or recoilless nuclear re...</td>\n",
       "      <td>[Condensed matter physics, Nuclear physics, Ph...</td>\n",
       "    </tr>\n",
       "    <tr>\n",
       "      <th>432762</th>\n",
       "      <td>1889595</td>\n",
       "      <td>Møller–Plesset perturbation theory</td>\n",
       "      <td>Møller–Plesset perturbation theory (MP) is one...</td>\n",
       "      <td>[Computational chemistry, Post-Hartree–Fock me...</td>\n",
       "    </tr>\n",
       "    <tr>\n",
       "      <th>433141</th>\n",
       "      <td>10855956</td>\n",
       "      <td>Mümtaz Soysal</td>\n",
       "      <td>Osman Mümtaz Soysal (15 September 1929 – 11 No...</td>\n",
       "      <td>[1929 births, People from Zonguldak, Galatasar...</td>\n",
       "    </tr>\n",
       "    <tr>\n",
       "      <th>433514</th>\n",
       "      <td>20232068</td>\n",
       "      <td>Māori and conservation</td>\n",
       "      <td>alt=Mt. Taranaki|thumb|380x380px|Mt. Taranaki ...</td>\n",
       "      <td>[Nature conservation in New Zealand Conservati...</td>\n",
       "    </tr>\n",
       "    <tr>\n",
       "      <th>434394</th>\n",
       "      <td>19091272</td>\n",
       "      <td>M–sigma relation</td>\n",
       "      <td>The M–sigma (or M–σ) relation is an empirical ...</td>\n",
       "      <td>[Astrophysics, Galaxies, Supermassive black ho...</td>\n",
       "    </tr>\n",
       "  </tbody>\n",
       "</table>\n",
       "<p>2635 rows × 4 columns</p>\n",
       "</div>"
      ],
      "text/plain": [
       "              id                               title  \\\n",
       "72      57242304                           M Jackson   \n",
       "163      4443796                           M squared   \n",
       "651     31567389                              M-Labs   \n",
       "743      1275771                        M. A. Foster   \n",
       "796     66995991                       M. A. Rothman   \n",
       "...          ...                                 ...   \n",
       "432695     55199                    Mössbauer effect   \n",
       "432762   1889595  Møller–Plesset perturbation theory   \n",
       "433141  10855956                       Mümtaz Soysal   \n",
       "433514  20232068              Māori and conservation   \n",
       "434394  19091272                    M–sigma relation   \n",
       "\n",
       "                                                     text  \\\n",
       "72      Jerilynn \"M\" Jackson is an American geographer...   \n",
       "163     In laser science, the parameter M2, also known...   \n",
       "651     M-Labs (formerly known as the Milkymist projec...   \n",
       "743     Michael Anthony Foster (July 2, 1939 - Novembe...   \n",
       "796     Michael A. Rothman is an American engineer and...   \n",
       "...                                                   ...   \n",
       "432695  The Mössbauer effect, or recoilless nuclear re...   \n",
       "432762  Møller–Plesset perturbation theory (MP) is one...   \n",
       "433141  Osman Mümtaz Soysal (15 September 1929 – 11 No...   \n",
       "433514  alt=Mt. Taranaki|thumb|380x380px|Mt. Taranaki ...   \n",
       "434394  The M–sigma (or M–σ) relation is an empirical ...   \n",
       "\n",
       "                                               categories  \n",
       "72      [American climatologists, Women climatologists...  \n",
       "163                                       [Laser science]  \n",
       "651     [Open hardware electronic devices, Video art, ...  \n",
       "743     [1939 births, Living people, 20th- century Ame...  \n",
       "796     [20th-century American non-fiction writers, 20...  \n",
       "...                                                   ...  \n",
       "432695  [Condensed matter physics, Nuclear physics, Ph...  \n",
       "432762  [Computational chemistry, Post-Hartree–Fock me...  \n",
       "433141  [1929 births, People from Zonguldak, Galatasar...  \n",
       "433514  [Nature conservation in New Zealand Conservati...  \n",
       "434394  [Astrophysics, Galaxies, Supermassive black ho...  \n",
       "\n",
       "[2635 rows x 4 columns]"
      ]
     },
     "execution_count": 37,
     "metadata": {},
     "output_type": "execute_result"
    }
   ],
   "source": [
    "df_science"
   ]
  },
  {
   "cell_type": "code",
   "execution_count": null,
   "metadata": {},
   "outputs": [],
   "source": []
  }
 ],
 "metadata": {
  "kernelspec": {
   "display_name": "Python 3 (ipykernel)",
   "language": "python",
   "name": "python3"
  },
  "language_info": {
   "codemirror_mode": {
    "name": "ipython",
    "version": 3
   },
   "file_extension": ".py",
   "mimetype": "text/x-python",
   "name": "python",
   "nbconvert_exporter": "python",
   "pygments_lexer": "ipython3",
   "version": "3.10.12"
  }
 },
 "nbformat": 4,
 "nbformat_minor": 4
}
