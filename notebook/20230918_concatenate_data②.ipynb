{
 "cells": [
  {
   "cell_type": "code",
   "execution_count": 1,
   "id": "2842c3ac",
   "metadata": {},
   "outputs": [],
   "source": [
    "import pandas as pd"
   ]
  },
  {
   "cell_type": "code",
   "execution_count": 2,
   "id": "f852fe17",
   "metadata": {},
   "outputs": [],
   "source": [
    "df1 = pd.read_csv(\"../data/gpt_generated_data/all_12_with_context2_train2_gpt.csv\")\n",
    "df2 = pd.read_csv(\"../data/gpt_generated_data/all_12_with_context2_test2_gpt.csv\")\n",
    "\n",
    "df3 = pd.read_csv(\"../data/gpt_generated_data/science_qa.csv\")\n",
    "df4 = pd.read_csv(\"../data/gpt_generated_data/openbook.csv\")\n",
    "df5 = pd.read_csv(\"../data/gpt_generated_data/mmlu.csv\")\n",
    "df6 = pd.read_csv(\"../data/gpt_generated_data/20230914125028_20230911_gpt3.5_generate4.csv\")"
   ]
  },
  {
   "cell_type": "code",
   "execution_count": 3,
   "id": "16ca1466",
   "metadata": {},
   "outputs": [],
   "source": [
    "df6[\"source\"] = \"20230914125028_20230911_gpt3.5_generate4\""
   ]
  },
  {
   "cell_type": "code",
   "execution_count": 4,
   "id": "045fff4f",
   "metadata": {},
   "outputs": [
    {
     "data": {
      "text/plain": [
       "array([ 3, 10,  2,  6,  5,  4,  9,  8, 11, 12,  7,  1])"
      ]
     },
     "execution_count": 4,
     "metadata": {},
     "output_type": "execute_result"
    }
   ],
   "source": [
    "df1[\"source\"].value_counts().index.values"
   ]
  },
  {
   "cell_type": "code",
   "execution_count": 5,
   "id": "e22867cd",
   "metadata": {},
   "outputs": [
    {
     "data": {
      "text/plain": [
       "array([1, 2, 3, 4, 5, 6, 7, 8])"
      ]
     },
     "execution_count": 5,
     "metadata": {},
     "output_type": "execute_result"
    }
   ],
   "source": [
    "df2[\"source\"].value_counts().index.values"
   ]
  },
  {
   "cell_type": "code",
   "execution_count": 6,
   "id": "b0d5c49d",
   "metadata": {},
   "outputs": [],
   "source": [
    "import numpy as np\n",
    "def fill_random(df):\n",
    "    all_choices = df[[\"A\", \"B\", \"C\", \"D\", \"E\"]].values.flatten()\n",
    "    all_choices = all_choices[all_choices == all_choices]  # not nan\n",
    "    def fillna_randomly(value):\n",
    "        if pd.isna(value):\n",
    "            return np.random.choice(all_choices)\n",
    "        else:\n",
    "            return value\n",
    "\n",
    "    return df.applymap(fillna_randomly)\n",
    "df1 = fill_random(df1)\n",
    "df2 = fill_random(df2)\n",
    "df3 = fill_random(df3)\n",
    "df4 = fill_random(df4)\n",
    "df5 = fill_random(df5)\n",
    "df6 = fill_random(df6)\n"
   ]
  },
  {
   "cell_type": "code",
   "execution_count": 7,
   "id": "a93b95ca",
   "metadata": {},
   "outputs": [
    {
     "data": {
      "text/plain": [
       "(59347, 1000, 3291, 2115, 10915, 17253)"
      ]
     },
     "execution_count": 7,
     "metadata": {},
     "output_type": "execute_result"
    }
   ],
   "source": [
    "len(df1), len(df2), len(df3), len(df4), len(df5), len(df6)"
   ]
  },
  {
   "cell_type": "code",
   "execution_count": 8,
   "id": "64c13e71",
   "metadata": {},
   "outputs": [],
   "source": [
    "df1[\"dataset\"] = \"train\"\n",
    "df2[\"dataset\"] = \"valid\"\n",
    "df3[\"dataset\"] = \"train\"\n",
    "df4[\"dataset\"] = \"train\"\n",
    "df5[\"dataset\"] = \"train\"\n",
    "df6[\"dataset\"] = \"train\""
   ]
  },
  {
   "cell_type": "code",
   "execution_count": 17,
   "id": "f92f6ca9",
   "metadata": {},
   "outputs": [
    {
     "data": {
      "text/plain": [
       "Index(['Unnamed: 0', 'prompt', 'context', 'A', 'B', 'C', 'D', 'E', 'answer',\n",
       "       'source', 'dataset'],\n",
       "      dtype='object')"
      ]
     },
     "execution_count": 17,
     "metadata": {},
     "output_type": "execute_result"
    }
   ],
   "source": [
    "df1.columns"
   ]
  },
  {
   "cell_type": "code",
   "execution_count": 18,
   "id": "0d9d3a8c",
   "metadata": {},
   "outputs": [],
   "source": [
    "pd.concat([df1, df2, df3, df4, df5, df6])[['prompt', 'A', 'B', 'C', 'D', 'E', 'answer', 'source', 'dataset']].reset_index(drop=True).to_csv(\"20230918_concatenate.csv\", index=False)"
   ]
  },
  {
   "cell_type": "code",
   "execution_count": 19,
   "id": "0b7a4141",
   "metadata": {},
   "outputs": [
    {
     "data": {
      "text/html": [
       "<div>\n",
       "<style scoped>\n",
       "    .dataframe tbody tr th:only-of-type {\n",
       "        vertical-align: middle;\n",
       "    }\n",
       "\n",
       "    .dataframe tbody tr th {\n",
       "        vertical-align: top;\n",
       "    }\n",
       "\n",
       "    .dataframe thead th {\n",
       "        text-align: right;\n",
       "    }\n",
       "</style>\n",
       "<table border=\"1\" class=\"dataframe\">\n",
       "  <thead>\n",
       "    <tr style=\"text-align: right;\">\n",
       "      <th></th>\n",
       "      <th>prompt</th>\n",
       "      <th>A</th>\n",
       "      <th>B</th>\n",
       "      <th>C</th>\n",
       "      <th>D</th>\n",
       "      <th>E</th>\n",
       "      <th>answer</th>\n",
       "      <th>source</th>\n",
       "      <th>dataset</th>\n",
       "    </tr>\n",
       "  </thead>\n",
       "  <tbody>\n",
       "    <tr>\n",
       "      <th>0</th>\n",
       "      <td>In relation to Eunice Fay McKenzie's career, w...</td>\n",
       "      <td>McKenzie showcased her singing talents in nume...</td>\n",
       "      <td>McKenzie is primarily remembered for her starr...</td>\n",
       "      <td>McKenzie gained recognition for her role as a ...</td>\n",
       "      <td>McKenzie's collaborations with director Blake ...</td>\n",
       "      <td>McKenzie's successful career in sound films co...</td>\n",
       "      <td>B</td>\n",
       "      <td>1</td>\n",
       "      <td>train</td>\n",
       "    </tr>\n",
       "    <tr>\n",
       "      <th>1</th>\n",
       "      <td>How does Modified Newtonian Dynamics (MOND) im...</td>\n",
       "      <td>MOND is a theory that increases the discrepanc...</td>\n",
       "      <td>MOND explains the missing baryonic mass in gal...</td>\n",
       "      <td>MOND is a theory that reduces the observed mis...</td>\n",
       "      <td>MOND is a theory that eliminates the observed ...</td>\n",
       "      <td>MOND's impact on the observed missing baryonic...</td>\n",
       "      <td>E</td>\n",
       "      <td>1</td>\n",
       "      <td>train</td>\n",
       "    </tr>\n",
       "    <tr>\n",
       "      <th>2</th>\n",
       "      <td>Which of the following statements accurately d...</td>\n",
       "      <td>Ray Montgomerie is a former footballer who pla...</td>\n",
       "      <td>Ray Montgomerie is a former footballer who pla...</td>\n",
       "      <td>Ray Montgomerie is a former footballer who pla...</td>\n",
       "      <td>Ray Montgomerie is a former footballer who pla...</td>\n",
       "      <td>Ray Montgomerie is a former footballer who pla...</td>\n",
       "      <td>B</td>\n",
       "      <td>1</td>\n",
       "      <td>train</td>\n",
       "    </tr>\n",
       "    <tr>\n",
       "      <th>3</th>\n",
       "      <td>What is the significance of the Museum of the ...</td>\n",
       "      <td>The Museum of the Occupation of Latvia is a me...</td>\n",
       "      <td>The Museum of the Occupation of Latvia showcas...</td>\n",
       "      <td>The Museum of the Occupation of Latvia was est...</td>\n",
       "      <td>The Museum of the Occupation of Latvia primari...</td>\n",
       "      <td>The Museum of the Occupation of Latvia is a mu...</td>\n",
       "      <td>C</td>\n",
       "      <td>1</td>\n",
       "      <td>train</td>\n",
       "    </tr>\n",
       "    <tr>\n",
       "      <th>4</th>\n",
       "      <td>What is the significance of Chetak or Cetak at...</td>\n",
       "      <td>Chetak or Cetak was a legendary horse known fo...</td>\n",
       "      <td>Chetak or Cetak was a horse renowned for its s...</td>\n",
       "      <td>Chetak or Cetak was a mystical horse believed ...</td>\n",
       "      <td>Chetak or Cetak was an armored horse equipped ...</td>\n",
       "      <td>Chetak or Cetak was the horse ridden by Mahara...</td>\n",
       "      <td>E</td>\n",
       "      <td>1</td>\n",
       "      <td>train</td>\n",
       "    </tr>\n",
       "    <tr>\n",
       "      <th>...</th>\n",
       "      <td>...</td>\n",
       "      <td>...</td>\n",
       "      <td>...</td>\n",
       "      <td>...</td>\n",
       "      <td>...</td>\n",
       "      <td>...</td>\n",
       "      <td>...</td>\n",
       "      <td>...</td>\n",
       "      <td>...</td>\n",
       "    </tr>\n",
       "    <tr>\n",
       "      <th>17248</th>\n",
       "      <td>Which of the following is true about glaucopha...</td>\n",
       "      <td>They result from metamorphism of basaltic rocks.</td>\n",
       "      <td>They are commonly found in Southern Central Ch...</td>\n",
       "      <td>They are characterized by high temperature and...</td>\n",
       "      <td>They are composed of zussmanite, deerite, and ...</td>\n",
       "      <td>They occur as a result of subduction of oceani...</td>\n",
       "      <td>A</td>\n",
       "      <td>20230914125028_20230911_gpt3.5_generate4</td>\n",
       "      <td>train</td>\n",
       "    </tr>\n",
       "    <tr>\n",
       "      <th>17249</th>\n",
       "      <td>What is the main focus of Bern's research in t...</td>\n",
       "      <td>Computation of Feynman diagrams in quantum ele...</td>\n",
       "      <td>Development of twistor-space methods applied t...</td>\n",
       "      <td>Investigation of nonperturbative continuum reg...</td>\n",
       "      <td>Study of the perturbative treatment of N = 8 s...</td>\n",
       "      <td>Calculation of perturbative scattering amplitu...</td>\n",
       "      <td>B</td>\n",
       "      <td>20230914125028_20230911_gpt3.5_generate4</td>\n",
       "      <td>train</td>\n",
       "    </tr>\n",
       "    <tr>\n",
       "      <th>17250</th>\n",
       "      <td>Where did John Hopcroft supervise Galil during...</td>\n",
       "      <td>Tel Aviv University</td>\n",
       "      <td>Columbia University</td>\n",
       "      <td>IBM's Thomas J. Watson Research Center</td>\n",
       "      <td>Cornell University</td>\n",
       "      <td>Georgia Tech</td>\n",
       "      <td>D</td>\n",
       "      <td>20230914125028_20230911_gpt3.5_generate4</td>\n",
       "      <td>train</td>\n",
       "    </tr>\n",
       "    <tr>\n",
       "      <th>17251</th>\n",
       "      <td>What is the term used to describe a genotype c...</td>\n",
       "      <td>Homozygous</td>\n",
       "      <td>Heterozygous</td>\n",
       "      <td>Hemizygous</td>\n",
       "      <td>Nullizygous</td>\n",
       "      <td>Zygosity</td>\n",
       "      <td>A</td>\n",
       "      <td>20230914125028_20230911_gpt3.5_generate4</td>\n",
       "      <td>train</td>\n",
       "    </tr>\n",
       "    <tr>\n",
       "      <th>17252</th>\n",
       "      <td>Which of the following organisms forms a diplo...</td>\n",
       "      <td>Humans</td>\n",
       "      <td>Fungi</td>\n",
       "      <td>Plants</td>\n",
       "      <td>Reprogramming to totipotency</td>\n",
       "      <td>Chlamydomonas</td>\n",
       "      <td>B</td>\n",
       "      <td>20230914125028_20230911_gpt3.5_generate4</td>\n",
       "      <td>train</td>\n",
       "    </tr>\n",
       "  </tbody>\n",
       "</table>\n",
       "<p>93921 rows × 9 columns</p>\n",
       "</div>"
      ],
      "text/plain": [
       "                                                  prompt  \\\n",
       "0      In relation to Eunice Fay McKenzie's career, w...   \n",
       "1      How does Modified Newtonian Dynamics (MOND) im...   \n",
       "2      Which of the following statements accurately d...   \n",
       "3      What is the significance of the Museum of the ...   \n",
       "4      What is the significance of Chetak or Cetak at...   \n",
       "...                                                  ...   \n",
       "17248  Which of the following is true about glaucopha...   \n",
       "17249  What is the main focus of Bern's research in t...   \n",
       "17250  Where did John Hopcroft supervise Galil during...   \n",
       "17251  What is the term used to describe a genotype c...   \n",
       "17252  Which of the following organisms forms a diplo...   \n",
       "\n",
       "                                                       A  \\\n",
       "0      McKenzie showcased her singing talents in nume...   \n",
       "1      MOND is a theory that increases the discrepanc...   \n",
       "2      Ray Montgomerie is a former footballer who pla...   \n",
       "3      The Museum of the Occupation of Latvia is a me...   \n",
       "4      Chetak or Cetak was a legendary horse known fo...   \n",
       "...                                                  ...   \n",
       "17248   They result from metamorphism of basaltic rocks.   \n",
       "17249  Computation of Feynman diagrams in quantum ele...   \n",
       "17250                                Tel Aviv University   \n",
       "17251                                         Homozygous   \n",
       "17252                                             Humans   \n",
       "\n",
       "                                                       B  \\\n",
       "0      McKenzie is primarily remembered for her starr...   \n",
       "1      MOND explains the missing baryonic mass in gal...   \n",
       "2      Ray Montgomerie is a former footballer who pla...   \n",
       "3      The Museum of the Occupation of Latvia showcas...   \n",
       "4      Chetak or Cetak was a horse renowned for its s...   \n",
       "...                                                  ...   \n",
       "17248  They are commonly found in Southern Central Ch...   \n",
       "17249  Development of twistor-space methods applied t...   \n",
       "17250                                Columbia University   \n",
       "17251                                       Heterozygous   \n",
       "17252                                              Fungi   \n",
       "\n",
       "                                                       C  \\\n",
       "0      McKenzie gained recognition for her role as a ...   \n",
       "1      MOND is a theory that reduces the observed mis...   \n",
       "2      Ray Montgomerie is a former footballer who pla...   \n",
       "3      The Museum of the Occupation of Latvia was est...   \n",
       "4      Chetak or Cetak was a mystical horse believed ...   \n",
       "...                                                  ...   \n",
       "17248  They are characterized by high temperature and...   \n",
       "17249  Investigation of nonperturbative continuum reg...   \n",
       "17250             IBM's Thomas J. Watson Research Center   \n",
       "17251                                         Hemizygous   \n",
       "17252                                             Plants   \n",
       "\n",
       "                                                       D  \\\n",
       "0      McKenzie's collaborations with director Blake ...   \n",
       "1      MOND is a theory that eliminates the observed ...   \n",
       "2      Ray Montgomerie is a former footballer who pla...   \n",
       "3      The Museum of the Occupation of Latvia primari...   \n",
       "4      Chetak or Cetak was an armored horse equipped ...   \n",
       "...                                                  ...   \n",
       "17248  They are composed of zussmanite, deerite, and ...   \n",
       "17249  Study of the perturbative treatment of N = 8 s...   \n",
       "17250                                 Cornell University   \n",
       "17251                                        Nullizygous   \n",
       "17252                       Reprogramming to totipotency   \n",
       "\n",
       "                                                       E answer  \\\n",
       "0      McKenzie's successful career in sound films co...      B   \n",
       "1      MOND's impact on the observed missing baryonic...      E   \n",
       "2      Ray Montgomerie is a former footballer who pla...      B   \n",
       "3      The Museum of the Occupation of Latvia is a mu...      C   \n",
       "4      Chetak or Cetak was the horse ridden by Mahara...      E   \n",
       "...                                                  ...    ...   \n",
       "17248  They occur as a result of subduction of oceani...      A   \n",
       "17249  Calculation of perturbative scattering amplitu...      B   \n",
       "17250                                       Georgia Tech      D   \n",
       "17251                                           Zygosity      A   \n",
       "17252                                      Chlamydomonas      B   \n",
       "\n",
       "                                         source dataset  \n",
       "0                                             1   train  \n",
       "1                                             1   train  \n",
       "2                                             1   train  \n",
       "3                                             1   train  \n",
       "4                                             1   train  \n",
       "...                                         ...     ...  \n",
       "17248  20230914125028_20230911_gpt3.5_generate4   train  \n",
       "17249  20230914125028_20230911_gpt3.5_generate4   train  \n",
       "17250  20230914125028_20230911_gpt3.5_generate4   train  \n",
       "17251  20230914125028_20230911_gpt3.5_generate4   train  \n",
       "17252  20230914125028_20230911_gpt3.5_generate4   train  \n",
       "\n",
       "[93921 rows x 9 columns]"
      ]
     },
     "execution_count": 19,
     "metadata": {},
     "output_type": "execute_result"
    }
   ],
   "source": [
    "pd.concat([df1, df2, df3, df4, df5, df6])[['prompt', 'A', 'B', 'C', 'D', 'E', 'answer', 'source', 'dataset']]"
   ]
  },
  {
   "cell_type": "code",
   "execution_count": 10,
   "id": "c365fc0d",
   "metadata": {},
   "outputs": [
    {
     "data": {
      "text/plain": [
       "20230914125028_20230911_gpt3.5_generate4                                           17253\n",
       "3                                                                                  14831\n",
       "10                                                                                 11679\n",
       "2                                                                                   5986\n",
       "6                                                                                   5968\n",
       "5                                                                                   5923\n",
       "4                                                                                   5862\n",
       "additional_data/MMLU/test.csv                                                       5781\n",
       "additional_data/MMLU/train.csv                                                      4499\n",
       "9                                                                                   3369\n",
       "8                                                                                   3249\n",
       "additional_data/ScienceQA/train.parquet                                             1995\n",
       "additional_data/OpenBookQA-V1-Sep2018/OpenBookQA-V1-Sep2018/Data/Main/train.tsv     1771\n",
       "7                                                                                    999\n",
       "11                                                                                   993\n",
       "12                                                                                   988\n",
       "additional_data/ScienceQA/test.parquet                                               673\n",
       "additional_data/MMLU/valid.csv                                                       635\n",
       "additional_data/ScienceQA/val.parquet                                                623\n",
       "1                                                                                    500\n",
       "additional_data/OpenBookQA-V1-Sep2018/OpenBookQA-V1-Sep2018/Data/Main/test.tsv       180\n",
       "additional_data/OpenBookQA-V1-Sep2018/OpenBookQA-V1-Sep2018/Data/Main/dev.tsv        164\n",
       "Name: source, dtype: int64"
      ]
     },
     "execution_count": 10,
     "metadata": {},
     "output_type": "execute_result"
    }
   ],
   "source": [
    "pd.concat([df1, df2, df3, df4, df5, df6])[\"source\"].value_counts()"
   ]
  },
  {
   "cell_type": "code",
   "execution_count": null,
   "id": "93a6bb6b",
   "metadata": {},
   "outputs": [],
   "source": []
  }
 ],
 "metadata": {
  "kernelspec": {
   "display_name": "Python 3 (ipykernel)",
   "language": "python",
   "name": "python3"
  },
  "language_info": {
   "codemirror_mode": {
    "name": "ipython",
    "version": 3
   },
   "file_extension": ".py",
   "mimetype": "text/x-python",
   "name": "python",
   "nbconvert_exporter": "python",
   "pygments_lexer": "ipython3",
   "version": "3.10.12"
  }
 },
 "nbformat": 4,
 "nbformat_minor": 5
}
