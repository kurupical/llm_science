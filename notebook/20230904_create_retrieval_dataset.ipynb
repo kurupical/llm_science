{
 "cells": [
  {
   "cell_type": "code",
   "execution_count": 1,
   "id": "1d7cb3fd",
   "metadata": {},
   "outputs": [],
   "source": [
    "import pandas as pd"
   ]
  },
  {
   "cell_type": "code",
   "execution_count": 12,
   "id": "ade97f8c",
   "metadata": {},
   "outputs": [],
   "source": [
    "gpt_fname = \"20230903025102.csv\""
   ]
  },
  {
   "cell_type": "code",
   "execution_count": 13,
   "id": "6c97474a",
   "metadata": {},
   "outputs": [],
   "source": [
    "df_gpt = pd.read_csv(f\"../data/gpt_generated_data/{gpt_fname}\")"
   ]
  },
  {
   "cell_type": "code",
   "execution_count": 3,
   "id": "1e58e83f",
   "metadata": {},
   "outputs": [],
   "source": [
    "df_wiki = pd.read_parquet(\"../data/wikipedia/all.parquet\")"
   ]
  },
  {
   "cell_type": "code",
   "execution_count": 29,
   "id": "d352bd67",
   "metadata": {},
   "outputs": [],
   "source": [
    "df_wiki_ = df_wiki[df_wiki[\"id\"].astype(int).isin(df_gpt[\"wiki_id\"].values)].reset_index(drop=True)"
   ]
  },
  {
   "cell_type": "code",
   "execution_count": 30,
   "id": "83839908",
   "metadata": {},
   "outputs": [
    {
     "data": {
      "text/plain": [
       "(6286775, 2045)"
      ]
     },
     "execution_count": 30,
     "metadata": {},
     "output_type": "execute_result"
    }
   ],
   "source": [
    "len(df_wiki), len(df_wiki_)"
   ]
  },
  {
   "cell_type": "code",
   "execution_count": 31,
   "id": "ad21c5b0",
   "metadata": {},
   "outputs": [],
   "source": [
    "df_gpt[\"text\"] = df_gpt[\"prompt\"] + \" [SEP] \" + df_gpt[\"A\"] + \" [SEP] \" + df_gpt[\"B\"] + \" [SEP] \" + df_gpt[\"C\"] + \" [SEP] \" + df_gpt[\"D\"] + \" [SEP] \" + df_gpt[\"E\"]"
   ]
  },
  {
   "cell_type": "code",
   "execution_count": 32,
   "id": "2c878b61",
   "metadata": {},
   "outputs": [],
   "source": [
    "def f(text):\n",
    "    return text.replace(\"===\", \"\").split(\"==\")[0]\n",
    "df_wiki_[\"text\"] = df_wiki_[\"title\"] + \" [SEP] \" + df_wiki_[\"text\"].apply(f)"
   ]
  },
  {
   "cell_type": "code",
   "execution_count": 39,
   "id": "02fbe08d",
   "metadata": {},
   "outputs": [],
   "source": [
    "df_wiki_[\"wiki_id\"] = df_wiki_[\"id\"].astype(int).values"
   ]
  },
  {
   "cell_type": "code",
   "execution_count": 40,
   "id": "1d7452e5",
   "metadata": {},
   "outputs": [],
   "source": [
    "df_out = pd.concat([\n",
    "    df_gpt[[\"wiki_id\", \"text\"]],\n",
    "    df_wiki_[[\"wiki_id\", \"text\"]]\n",
    "]).reset_index(drop=True)"
   ]
  },
  {
   "cell_type": "code",
   "execution_count": 49,
   "id": "9bbbe848",
   "metadata": {},
   "outputs": [],
   "source": [
    "df_out = df_out.sort_values(\"wiki_id\")"
   ]
  },
  {
   "cell_type": "code",
   "execution_count": 51,
   "id": "10de21f9",
   "metadata": {},
   "outputs": [
    {
     "data": {
      "text/html": [
       "<div>\n",
       "<style scoped>\n",
       "    .dataframe tbody tr th:only-of-type {\n",
       "        vertical-align: middle;\n",
       "    }\n",
       "\n",
       "    .dataframe tbody tr th {\n",
       "        vertical-align: top;\n",
       "    }\n",
       "\n",
       "    .dataframe thead th {\n",
       "        text-align: right;\n",
       "    }\n",
       "</style>\n",
       "<table border=\"1\" class=\"dataframe\">\n",
       "  <thead>\n",
       "    <tr style=\"text-align: right;\">\n",
       "      <th></th>\n",
       "      <th>wiki_id</th>\n",
       "      <th>text</th>\n",
       "    </tr>\n",
       "  </thead>\n",
       "  <tbody>\n",
       "    <tr>\n",
       "      <th>399</th>\n",
       "      <td>628</td>\n",
       "      <td>Who did Aldous Huxley request LSD from on his ...</td>\n",
       "    </tr>\n",
       "    <tr>\n",
       "      <th>397</th>\n",
       "      <td>628</td>\n",
       "      <td>What subject did Aldous Huxley become interest...</td>\n",
       "    </tr>\n",
       "    <tr>\n",
       "      <th>395</th>\n",
       "      <td>628</td>\n",
       "      <td>What was Aldous Huxley's most famous novel? [S...</td>\n",
       "    </tr>\n",
       "    <tr>\n",
       "      <th>398</th>\n",
       "      <td>628</td>\n",
       "      <td>What eye disease did Aldous Huxley contract in...</td>\n",
       "    </tr>\n",
       "    <tr>\n",
       "      <th>10292</th>\n",
       "      <td>628</td>\n",
       "      <td>Aldous Huxley [SEP] Aldous Leonard Huxley ( ; ...</td>\n",
       "    </tr>\n",
       "    <tr>\n",
       "      <th>396</th>\n",
       "      <td>628</td>\n",
       "      <td>Where did Aldous Huxley spend the latter part ...</td>\n",
       "    </tr>\n",
       "    <tr>\n",
       "      <th>59</th>\n",
       "      <td>742</td>\n",
       "      <td>When was the journal Algorithms established? [...</td>\n",
       "    </tr>\n",
       "    <tr>\n",
       "      <th>58</th>\n",
       "      <td>742</td>\n",
       "      <td>Which journal has a similar scope to Algorithm...</td>\n",
       "    </tr>\n",
       "    <tr>\n",
       "      <th>57</th>\n",
       "      <td>742</td>\n",
       "      <td>Which organization publishes the journal Algor...</td>\n",
       "    </tr>\n",
       "    <tr>\n",
       "      <th>56</th>\n",
       "      <td>742</td>\n",
       "      <td>Which university is the current editor-in-chie...</td>\n",
       "    </tr>\n",
       "  </tbody>\n",
       "</table>\n",
       "</div>"
      ],
      "text/plain": [
       "       wiki_id                                               text\n",
       "399        628  Who did Aldous Huxley request LSD from on his ...\n",
       "397        628  What subject did Aldous Huxley become interest...\n",
       "395        628  What was Aldous Huxley's most famous novel? [S...\n",
       "398        628  What eye disease did Aldous Huxley contract in...\n",
       "10292      628  Aldous Huxley [SEP] Aldous Leonard Huxley ( ; ...\n",
       "396        628  Where did Aldous Huxley spend the latter part ...\n",
       "59         742  When was the journal Algorithms established? [...\n",
       "58         742  Which journal has a similar scope to Algorithm...\n",
       "57         742  Which organization publishes the journal Algor...\n",
       "56         742  Which university is the current editor-in-chie..."
      ]
     },
     "execution_count": 51,
     "metadata": {},
     "output_type": "execute_result"
    }
   ],
   "source": [
    "df_out.head(10)"
   ]
  },
  {
   "cell_type": "code",
   "execution_count": 44,
   "id": "84bf92b5",
   "metadata": {},
   "outputs": [],
   "source": [
    "df_out.to_csv(f\"../data/retrieval/{gpt_fname}\", index=False)"
   ]
  },
  {
   "cell_type": "code",
   "execution_count": 48,
   "id": "f8a52dd9",
   "metadata": {},
   "outputs": [
    {
     "data": {
      "text/plain": [
       "0       6\n",
       "1       6\n",
       "2       6\n",
       "3       6\n",
       "4       6\n",
       "       ..\n",
       "2040    6\n",
       "2041    6\n",
       "2042    6\n",
       "2043    6\n",
       "2044    6\n",
       "Length: 2045, dtype: int64"
      ]
     },
     "execution_count": 48,
     "metadata": {},
     "output_type": "execute_result"
    }
   ],
   "source": [
    "df_out[\"wiki_id\"].astype(\"category\").cat.codes.value_counts().sort_index()"
   ]
  },
  {
   "cell_type": "code",
   "execution_count": null,
   "id": "ad889292",
   "metadata": {},
   "outputs": [],
   "source": []
  }
 ],
 "metadata": {
  "kernelspec": {
   "display_name": "Python 3 (ipykernel)",
   "language": "python",
   "name": "python3"
  },
  "language_info": {
   "codemirror_mode": {
    "name": "ipython",
    "version": 3
   },
   "file_extension": ".py",
   "mimetype": "text/x-python",
   "name": "python",
   "nbconvert_exporter": "python",
   "pygments_lexer": "ipython3",
   "version": "3.10.12"
  }
 },
 "nbformat": 4,
 "nbformat_minor": 5
}
