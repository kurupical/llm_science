{
 "cells": [
  {
   "cell_type": "code",
   "execution_count": 1,
   "id": "8c1d1eba",
   "metadata": {},
   "outputs": [],
   "source": [
    "import pandas as pd"
   ]
  },
  {
   "cell_type": "code",
   "execution_count": 2,
   "id": "6113991c",
   "metadata": {},
   "outputs": [],
   "source": [
    "df_train = pd.read_parquet(\n",
    "    \"../output/context_pipeline/stage1/exp007.py/20230917193018_gte-base_wikiall_without_sep_targetprompt_and_choice_without_sep_token_length100_stride75_all/train.parquet\"\n",
    ")"
   ]
  },
  {
   "cell_type": "code",
   "execution_count": null,
   "id": "0f70cb7b",
   "metadata": {},
   "outputs": [],
   "source": [
    "df_valid = pd.read_parquet(\n",
    "    \"../output/context_pipeline/stage1/exp007.py/20230917193018_gte-base_wikiall_without_sep_targetprompt_and_choice_without_sep_token_length100_stride75_all/train.parquet\"\n",
    ")"
   ]
  }
 ],
 "metadata": {
  "kernelspec": {
   "display_name": "Python 3 (ipykernel)",
   "language": "python",
   "name": "python3"
  },
  "language_info": {
   "codemirror_mode": {
    "name": "ipython",
    "version": 3
   },
   "file_extension": ".py",
   "mimetype": "text/x-python",
   "name": "python",
   "nbconvert_exporter": "python",
   "pygments_lexer": "ipython3",
   "version": "3.10.12"
  }
 },
 "nbformat": 4,
 "nbformat_minor": 5
}
