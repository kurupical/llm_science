{
 "cells": [
  {
   "cell_type": "code",
   "execution_count": 1,
   "id": "80001e27",
   "metadata": {},
   "outputs": [],
   "source": [
    "import pandas as pd"
   ]
  },
  {
   "cell_type": "code",
   "execution_count": null,
   "id": "72e44cf7",
   "metadata": {},
   "outputs": [],
   "source": []
  },
  {
   "cell_type": "code",
   "execution_count": 217,
   "id": "5debef1c",
   "metadata": {},
   "outputs": [],
   "source": [
    "files = [\n",
    "    \"20230925084420_gte-base_wikiall_without_sep_targetprompt_and_choice_without_sep_token_length120_stride_sentence4_drop_categoryTrue_only_a\",\n",
    "    \"20230927005344_bge-base-en-v1.5_wikiall_without_sep_targetprompt_and_choice_without_sep_token_length120_stride_sentence4_drop_categoryTrue_only_a\",\n",
    "    \"20230927021610_e5-base-v2_wikiall_without_sep_targetprompt_and_choice_without_sep_token_length120_stride_sentence4_drop_categoryTrue_only_a\",\n",
    "    \"20230927034057_paraphrase-MiniLM-L6-v2_wikiall_without_sep_targetprompt_and_choice_without_sep_token_length120_stride_sentence4_drop_categoryTrue_only_a\",\n",
    "    \"20230927042835_all-mpnet-base-v2_wikiall_without_sep_targetprompt_and_choice_without_sep_token_length120_stride_sentence4_drop_categoryTrue_only_a\",\n",
    "]"
   ]
  },
  {
   "cell_type": "code",
   "execution_count": 218,
   "id": "63f606b8",
   "metadata": {},
   "outputs": [],
   "source": [
    "ret = {}"
   ]
  },
  {
   "cell_type": "code",
   "execution_count": 219,
   "id": "d112bbcf",
   "metadata": {},
   "outputs": [],
   "source": [
    "for f in files:\n",
    "    df = pd.read_parquet(f\"../output/context_pipeline/stage1/exp009.py/{f}/train.parquet\")\n",
    "\n",
    "    ret[\"wiki_id\"] = df[\"wiki_id\"].values\n",
    "    for i in range(2):\n",
    "        ret[f\"{f}_top{i}\"] = [wid[i] for wid in df[\"searched_ids\"].values]\n",
    "    ret[f\"{f}_text\"] = df[\"searched_wiki_id_0\"].values"
   ]
  },
  {
   "cell_type": "code",
   "execution_count": 220,
   "id": "3e8cf251",
   "metadata": {},
   "outputs": [],
   "source": [
    "df_ret = pd.DataFrame(ret)"
   ]
  },
  {
   "cell_type": "code",
   "execution_count": 221,
   "id": "46b2fc29",
   "metadata": {},
   "outputs": [],
   "source": [
    "df_ret[\"searched_ids\"] = df_ret.filter(like=\"top\").values.tolist()"
   ]
  },
  {
   "cell_type": "code",
   "execution_count": null,
   "id": "eb62e431",
   "metadata": {},
   "outputs": [],
   "source": []
  },
  {
   "cell_type": "code",
   "execution_count": 222,
   "id": "6ffe6aa4",
   "metadata": {},
   "outputs": [],
   "source": [
    "\n",
    "def recallk(y_true, y_pred, k=10):\n",
    "    \"\"\"\n",
    "    y_true: (n_samples)\n",
    "    y_pred: (n_samples, n_classes)\n",
    "    \"\"\"\n",
    "    map_score = 0\n",
    "    for i in range(len(y_true)):\n",
    "        y_true_ = y_true[i]\n",
    "        y_pred_ = y_pred[i]\n",
    "        score = 0\n",
    "        for j in range(min(k, len(y_pred_))):\n",
    "            if y_pred_[j] == y_true_:\n",
    "                score += 1\n",
    "                break\n",
    "        map_score += score\n",
    "    map_score /= len(y_true)\n",
    "    return map_score"
   ]
  },
  {
   "cell_type": "code",
   "execution_count": 223,
   "id": "821fa928",
   "metadata": {},
   "outputs": [
    {
     "data": {
      "text/plain": [
       "0.988"
      ]
     },
     "execution_count": 223,
     "metadata": {},
     "output_type": "execute_result"
    }
   ],
   "source": [
    "recallk(df_ret[\"wiki_id\"].values.astype(str), df_ret[\"searched_ids\"].values, k=10)"
   ]
  },
  {
   "cell_type": "code",
   "execution_count": null,
   "id": "f62ac981",
   "metadata": {},
   "outputs": [],
   "source": []
  },
  {
   "cell_type": "code",
   "execution_count": null,
   "id": "823c0c27",
   "metadata": {},
   "outputs": [],
   "source": []
  },
  {
   "cell_type": "markdown",
   "id": "70e35eb9",
   "metadata": {},
   "source": [
    "# nlists = 1"
   ]
  },
  {
   "cell_type": "code",
   "execution_count": 347,
   "id": "041e6283",
   "metadata": {},
   "outputs": [],
   "source": [
    "files = [\n",
    "    \"20230927101321_gte-base_wikiall_without_sep_targetprompt_and_choice_without_sep_token_length120_stride_sentence4_drop_categoryTrue_only_a\",\n",
    "    \"20230927101919_bge-base-en-v1.5_wikiall_without_sep_targetprompt_and_choice_without_sep_token_length120_stride_sentence4_drop_categoryTrue_only_a\",\n",
    "    \"20230927102512_e5-base-v2_wikiall_without_sep_targetprompt_and_choice_without_sep_token_length120_stride_sentence4_drop_categoryTrue_only_a\",\n",
    "    # \"20230927103126_paraphrase-MiniLM-L6-v2_wikiall_without_sep_targetprompt_and_choice_without_sep_token_length120_stride_sentence4_drop_categoryTrue_only_a\",\n",
    "    # \"20230927103616_all-mpnet-base-v2_wikiall_without_sep_targetprompt_and_choice_without_sep_token_length120_stride_sentence4_drop_categoryTrue_only_a\",\n",
    "    # \"20230927104223_gte-small_wikiall_without_sep_targetprompt_and_choice_without_sep_token_length120_stride_sentence4_drop_categoryTrue_only_a\",\n",
    "]"
   ]
  },
  {
   "cell_type": "code",
   "execution_count": null,
   "id": "5ef9828e",
   "metadata": {},
   "outputs": [],
   "source": []
  },
  {
   "cell_type": "code",
   "execution_count": null,
   "id": "2b627142",
   "metadata": {},
   "outputs": [],
   "source": []
  },
  {
   "cell_type": "code",
   "execution_count": 348,
   "id": "7764c742",
   "metadata": {},
   "outputs": [],
   "source": [
    "ret = {}\n",
    "for f in files:\n",
    "    df = pd.read_parquet(f\"../output/context_pipeline/stage1/exp009.py/{f}/train.parquet\")\n",
    "\n",
    "    ret[\"wiki_id\"] = df[\"wiki_id\"].values\n",
    "    for i in range(30):\n",
    "        ret[f\"{f}_top{i}\"] = [wid[i] for wid in df[\"searched_ids\"].values]\n",
    "    ret[f\"{f}_text\"] = df[\"searched_wiki_id_0\"].values\n",
    "df_ret = pd.DataFrame(ret)\n",
    "df_ret[\"searched_ids\"] = df_ret.filter(like=\"top\").values.tolist()"
   ]
  },
  {
   "cell_type": "code",
   "execution_count": 349,
   "id": "a6a7cc0c",
   "metadata": {},
   "outputs": [
    {
     "data": {
      "text/plain": [
       "0.996"
      ]
     },
     "execution_count": 349,
     "metadata": {},
     "output_type": "execute_result"
    }
   ],
   "source": [
    "recallk(df_ret[\"wiki_id\"].values.astype(str), df_ret[\"searched_ids\"].values, k=60)"
   ]
  },
  {
   "cell_type": "code",
   "execution_count": null,
   "id": "eaa104a3",
   "metadata": {},
   "outputs": [],
   "source": []
  },
  {
   "cell_type": "code",
   "execution_count": null,
   "id": "6ed999f1",
   "metadata": {},
   "outputs": [],
   "source": []
  }
 ],
 "metadata": {
  "kernelspec": {
   "display_name": "Python 3 (ipykernel)",
   "language": "python",
   "name": "python3"
  },
  "language_info": {
   "codemirror_mode": {
    "name": "ipython",
    "version": 3
   },
   "file_extension": ".py",
   "mimetype": "text/x-python",
   "name": "python",
   "nbconvert_exporter": "python",
   "pygments_lexer": "ipython3",
   "version": "3.10.12"
  }
 },
 "nbformat": 4,
 "nbformat_minor": 5
}
