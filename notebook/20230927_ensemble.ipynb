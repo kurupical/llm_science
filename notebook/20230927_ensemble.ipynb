{
 "cells": [
  {
   "cell_type": "code",
   "execution_count": 1,
   "id": "4bd38655",
   "metadata": {},
   "outputs": [],
   "source": [
    "\n",
    "import pandas as pd\n",
    "import numpy as np"
   ]
  },
  {
   "cell_type": "code",
   "execution_count": 2,
   "id": "6fb21fae",
   "metadata": {},
   "outputs": [],
   "source": [
    "def map_at_3(predictions, labels):\n",
    "    map_sum = 0\n",
    "    pred = np.argsort(-1*np.array(predictions),axis=1)[:,:3]\n",
    "    for x,y in zip(pred,labels):\n",
    "        z = [1/i if y==j else 0 for i,j in zip([1,2,3],x)]\n",
    "        map_sum += np.sum(z)\n",
    "    return map_sum / len(predictions)"
   ]
  },
  {
   "cell_type": "code",
   "execution_count": 3,
   "id": "cf8822cd",
   "metadata": {},
   "outputs": [],
   "source": [
    "from itertools import product"
   ]
  },
  {
   "cell_type": "code",
   "execution_count": 4,
   "id": "4a270687",
   "metadata": {},
   "outputs": [],
   "source": [
    "def ensemble(files):\n",
    "    pred_ary = []\n",
    "    option_to_index = {option: idx for idx, option in enumerate('ABCDE')}\n",
    "    for f in files:\n",
    "        df = pd.read_csv(f)\n",
    "        pred = df[[\"fold0_A\", \"fold0_B\", \"fold0_C\", \"fold0_D\", \"fold0_E\"]].values\n",
    "        pred_ary.append(pred)\n",
    "        labels = df[\"answer\"].map(option_to_index).values\n",
    "        print(f\"{f}: {map_at_3(pred, labels)}\")\n",
    "    rets = []\n",
    "    for weights in product(*[np.arange(0, 1, 0.1)] * len(files)):\n",
    "        \n",
    "        pred = (pred_ary * np.array(weights).reshape(-1, 1, 1)).sum(axis=0)\n",
    "        score = map_at_3(pred, labels)\n",
    "        \n",
    "        ret = {}\n",
    "        for i in range(len(files)):\n",
    "            ret[f\"weight_{i}\"] = weights[i]\n",
    "        ret[\"score\"] = score\n",
    "        rets.append(ret)\n",
    "    return pd.DataFrame(rets)"
   ]
  },
  {
   "cell_type": "code",
   "execution_count": 5,
   "id": "69014777",
   "metadata": {},
   "outputs": [
    {
     "name": "stdout",
     "output_type": "stream",
     "text": [
      "../output/stage2/exp005.py/20230923195407_new_data_all300val_maxlen256/test_predictions.csv: 0.9408333333333333\n",
      "../output/stage2/exp005.py/20230926143713_new_data_all300val_maxlen256_bs2_OpenAssistant/reward-model-deberta-v3-base/test_predictions.csv: 0.92\n",
      "../output/stage2/exp005.py/20230926162839_new_data_all300val_maxlen256_bs2_microsoft/deberta-v3-large/test_predictions.csv: 0.9408333333333333\n"
     ]
    }
   ],
   "source": [
    "df_ret_test = ensemble([\n",
    "    \"../output/stage2/exp005.py/20230923195407_new_data_all300val_maxlen256/test_predictions.csv\",\n",
    "    \"../output/stage2/exp005.py/20230926143713_new_data_all300val_maxlen256_bs2_OpenAssistant/reward-model-deberta-v3-base/test_predictions.csv\",\n",
    "    \"../output/stage2/exp005.py/20230926162839_new_data_all300val_maxlen256_bs2_microsoft/deberta-v3-large/test_predictions.csv\",\n",
    "])"
   ]
  },
  {
   "cell_type": "code",
   "execution_count": 6,
   "id": "49d284c4",
   "metadata": {},
   "outputs": [
    {
     "data": {
      "text/html": [
       "<div>\n",
       "<style scoped>\n",
       "    .dataframe tbody tr th:only-of-type {\n",
       "        vertical-align: middle;\n",
       "    }\n",
       "\n",
       "    .dataframe tbody tr th {\n",
       "        vertical-align: top;\n",
       "    }\n",
       "\n",
       "    .dataframe thead th {\n",
       "        text-align: right;\n",
       "    }\n",
       "</style>\n",
       "<table border=\"1\" class=\"dataframe\">\n",
       "  <thead>\n",
       "    <tr style=\"text-align: right;\">\n",
       "      <th></th>\n",
       "      <th>weight_0</th>\n",
       "      <th>weight_1</th>\n",
       "      <th>weight_2</th>\n",
       "      <th>score</th>\n",
       "    </tr>\n",
       "  </thead>\n",
       "  <tbody>\n",
       "    <tr>\n",
       "      <th>0</th>\n",
       "      <td>0.0</td>\n",
       "      <td>0.0</td>\n",
       "      <td>0.0</td>\n",
       "      <td>0.378333</td>\n",
       "    </tr>\n",
       "    <tr>\n",
       "      <th>90</th>\n",
       "      <td>0.0</td>\n",
       "      <td>0.9</td>\n",
       "      <td>0.0</td>\n",
       "      <td>0.920000</td>\n",
       "    </tr>\n",
       "    <tr>\n",
       "      <th>80</th>\n",
       "      <td>0.0</td>\n",
       "      <td>0.8</td>\n",
       "      <td>0.0</td>\n",
       "      <td>0.920000</td>\n",
       "    </tr>\n",
       "    <tr>\n",
       "      <th>70</th>\n",
       "      <td>0.0</td>\n",
       "      <td>0.7</td>\n",
       "      <td>0.0</td>\n",
       "      <td>0.920000</td>\n",
       "    </tr>\n",
       "    <tr>\n",
       "      <th>60</th>\n",
       "      <td>0.0</td>\n",
       "      <td>0.6</td>\n",
       "      <td>0.0</td>\n",
       "      <td>0.920000</td>\n",
       "    </tr>\n",
       "    <tr>\n",
       "      <th>...</th>\n",
       "      <td>...</td>\n",
       "      <td>...</td>\n",
       "      <td>...</td>\n",
       "      <td>...</td>\n",
       "    </tr>\n",
       "    <tr>\n",
       "      <th>956</th>\n",
       "      <td>0.9</td>\n",
       "      <td>0.5</td>\n",
       "      <td>0.6</td>\n",
       "      <td>0.952500</td>\n",
       "    </tr>\n",
       "    <tr>\n",
       "      <th>634</th>\n",
       "      <td>0.6</td>\n",
       "      <td>0.3</td>\n",
       "      <td>0.4</td>\n",
       "      <td>0.952500</td>\n",
       "    </tr>\n",
       "    <tr>\n",
       "      <th>806</th>\n",
       "      <td>0.8</td>\n",
       "      <td>0.0</td>\n",
       "      <td>0.6</td>\n",
       "      <td>0.954167</td>\n",
       "    </tr>\n",
       "    <tr>\n",
       "      <th>705</th>\n",
       "      <td>0.7</td>\n",
       "      <td>0.0</td>\n",
       "      <td>0.5</td>\n",
       "      <td>0.954167</td>\n",
       "    </tr>\n",
       "    <tr>\n",
       "      <th>403</th>\n",
       "      <td>0.4</td>\n",
       "      <td>0.0</td>\n",
       "      <td>0.3</td>\n",
       "      <td>0.954167</td>\n",
       "    </tr>\n",
       "  </tbody>\n",
       "</table>\n",
       "<p>1000 rows × 4 columns</p>\n",
       "</div>"
      ],
      "text/plain": [
       "     weight_0  weight_1  weight_2     score\n",
       "0         0.0       0.0       0.0  0.378333\n",
       "90        0.0       0.9       0.0  0.920000\n",
       "80        0.0       0.8       0.0  0.920000\n",
       "70        0.0       0.7       0.0  0.920000\n",
       "60        0.0       0.6       0.0  0.920000\n",
       "..        ...       ...       ...       ...\n",
       "956       0.9       0.5       0.6  0.952500\n",
       "634       0.6       0.3       0.4  0.952500\n",
       "806       0.8       0.0       0.6  0.954167\n",
       "705       0.7       0.0       0.5  0.954167\n",
       "403       0.4       0.0       0.3  0.954167\n",
       "\n",
       "[1000 rows x 4 columns]"
      ]
     },
     "execution_count": 6,
     "metadata": {},
     "output_type": "execute_result"
    }
   ],
   "source": [
    "df_ret_test.sort_values(\"score\")"
   ]
  },
  {
   "cell_type": "code",
   "execution_count": 7,
   "id": "f520c89a",
   "metadata": {},
   "outputs": [
    {
     "name": "stdout",
     "output_type": "stream",
     "text": [
      "../output/stage2/exp005.py/20230923195407_new_data_all300val_maxlen256/valid_predictions.csv: 0.867008547008549\n",
      "../output/stage2/exp005.py/20230926143713_new_data_all300val_maxlen256_bs2_OpenAssistant/reward-model-deberta-v3-base/valid_predictions.csv: 0.8130341880341914\n",
      "../output/stage2/exp005.py/20230926162839_new_data_all300val_maxlen256_bs2_microsoft/deberta-v3-large/valid_predictions.csv: 0.8658974358974374\n"
     ]
    }
   ],
   "source": [
    "df_ret_valid = ensemble([\n",
    "    \"../output/stage2/exp005.py/20230923195407_new_data_all300val_maxlen256/valid_predictions.csv\",\n",
    "    \"../output/stage2/exp005.py/20230926143713_new_data_all300val_maxlen256_bs2_OpenAssistant/reward-model-deberta-v3-base/valid_predictions.csv\",\n",
    "    \"../output/stage2/exp005.py/20230926162839_new_data_all300val_maxlen256_bs2_microsoft/deberta-v3-large/valid_predictions.csv\",\n",
    "])"
   ]
  },
  {
   "cell_type": "code",
   "execution_count": 8,
   "id": "f5993cce",
   "metadata": {},
   "outputs": [
    {
     "data": {
      "text/html": [
       "<div>\n",
       "<style scoped>\n",
       "    .dataframe tbody tr th:only-of-type {\n",
       "        vertical-align: middle;\n",
       "    }\n",
       "\n",
       "    .dataframe tbody tr th {\n",
       "        vertical-align: top;\n",
       "    }\n",
       "\n",
       "    .dataframe thead th {\n",
       "        text-align: right;\n",
       "    }\n",
       "</style>\n",
       "<table border=\"1\" class=\"dataframe\">\n",
       "  <thead>\n",
       "    <tr style=\"text-align: right;\">\n",
       "      <th></th>\n",
       "      <th>weight_0</th>\n",
       "      <th>weight_1</th>\n",
       "      <th>weight_2</th>\n",
       "      <th>score</th>\n",
       "    </tr>\n",
       "  </thead>\n",
       "  <tbody>\n",
       "    <tr>\n",
       "      <th>0</th>\n",
       "      <td>0.0</td>\n",
       "      <td>0.0</td>\n",
       "      <td>0.0</td>\n",
       "      <td>0.422350</td>\n",
       "    </tr>\n",
       "    <tr>\n",
       "      <th>40</th>\n",
       "      <td>0.0</td>\n",
       "      <td>0.4</td>\n",
       "      <td>0.0</td>\n",
       "      <td>0.813034</td>\n",
       "    </tr>\n",
       "    <tr>\n",
       "      <th>50</th>\n",
       "      <td>0.0</td>\n",
       "      <td>0.5</td>\n",
       "      <td>0.0</td>\n",
       "      <td>0.813034</td>\n",
       "    </tr>\n",
       "    <tr>\n",
       "      <th>60</th>\n",
       "      <td>0.0</td>\n",
       "      <td>0.6</td>\n",
       "      <td>0.0</td>\n",
       "      <td>0.813034</td>\n",
       "    </tr>\n",
       "    <tr>\n",
       "      <th>70</th>\n",
       "      <td>0.0</td>\n",
       "      <td>0.7</td>\n",
       "      <td>0.0</td>\n",
       "      <td>0.813034</td>\n",
       "    </tr>\n",
       "    <tr>\n",
       "      <th>...</th>\n",
       "      <td>...</td>\n",
       "      <td>...</td>\n",
       "      <td>...</td>\n",
       "      <td>...</td>\n",
       "    </tr>\n",
       "    <tr>\n",
       "      <th>867</th>\n",
       "      <td>0.8</td>\n",
       "      <td>0.6</td>\n",
       "      <td>0.7</td>\n",
       "      <td>0.871325</td>\n",
       "    </tr>\n",
       "    <tr>\n",
       "      <th>978</th>\n",
       "      <td>0.9</td>\n",
       "      <td>0.7</td>\n",
       "      <td>0.8</td>\n",
       "      <td>0.871453</td>\n",
       "    </tr>\n",
       "    <tr>\n",
       "      <th>869</th>\n",
       "      <td>0.8</td>\n",
       "      <td>0.6</td>\n",
       "      <td>0.9</td>\n",
       "      <td>0.871496</td>\n",
       "    </tr>\n",
       "    <tr>\n",
       "      <th>868</th>\n",
       "      <td>0.8</td>\n",
       "      <td>0.6</td>\n",
       "      <td>0.8</td>\n",
       "      <td>0.871538</td>\n",
       "    </tr>\n",
       "    <tr>\n",
       "      <th>434</th>\n",
       "      <td>0.4</td>\n",
       "      <td>0.3</td>\n",
       "      <td>0.4</td>\n",
       "      <td>0.871538</td>\n",
       "    </tr>\n",
       "  </tbody>\n",
       "</table>\n",
       "<p>1000 rows × 4 columns</p>\n",
       "</div>"
      ],
      "text/plain": [
       "     weight_0  weight_1  weight_2     score\n",
       "0         0.0       0.0       0.0  0.422350\n",
       "40        0.0       0.4       0.0  0.813034\n",
       "50        0.0       0.5       0.0  0.813034\n",
       "60        0.0       0.6       0.0  0.813034\n",
       "70        0.0       0.7       0.0  0.813034\n",
       "..        ...       ...       ...       ...\n",
       "867       0.8       0.6       0.7  0.871325\n",
       "978       0.9       0.7       0.8  0.871453\n",
       "869       0.8       0.6       0.9  0.871496\n",
       "868       0.8       0.6       0.8  0.871538\n",
       "434       0.4       0.3       0.4  0.871538\n",
       "\n",
       "[1000 rows x 4 columns]"
      ]
     },
     "execution_count": 8,
     "metadata": {},
     "output_type": "execute_result"
    }
   ],
   "source": [
    "df_ret_valid.sort_values(\"score\")"
   ]
  },
  {
   "cell_type": "code",
   "execution_count": null,
   "id": "930fa376",
   "metadata": {},
   "outputs": [],
   "source": []
  },
  {
   "cell_type": "code",
   "execution_count": null,
   "id": "43323005",
   "metadata": {},
   "outputs": [],
   "source": []
  },
  {
   "cell_type": "code",
   "execution_count": null,
   "id": "4a84b1bf",
   "metadata": {},
   "outputs": [],
   "source": []
  },
  {
   "cell_type": "code",
   "execution_count": null,
   "id": "59dc7345",
   "metadata": {},
   "outputs": [],
   "source": []
  },
  {
   "cell_type": "code",
   "execution_count": 24,
   "id": "e4766351",
   "metadata": {},
   "outputs": [],
   "source": [
    "df = pd.read_pickle(\"20230925_ret.pickle\")"
   ]
  },
  {
   "cell_type": "code",
   "execution_count": 29,
   "id": "e1a9eceb",
   "metadata": {},
   "outputs": [
    {
     "data": {
      "text/html": [
       "<div>\n",
       "<style scoped>\n",
       "    .dataframe tbody tr th:only-of-type {\n",
       "        vertical-align: middle;\n",
       "    }\n",
       "\n",
       "    .dataframe tbody tr th {\n",
       "        vertical-align: top;\n",
       "    }\n",
       "\n",
       "    .dataframe thead th {\n",
       "        text-align: right;\n",
       "    }\n",
       "</style>\n",
       "<table border=\"1\" class=\"dataframe\">\n",
       "  <thead>\n",
       "    <tr style=\"text-align: right;\">\n",
       "      <th></th>\n",
       "      <th>model_name</th>\n",
       "      <th>max_length</th>\n",
       "      <th>num_content</th>\n",
       "      <th>map3</th>\n",
       "      <th>predictions</th>\n",
       "    </tr>\n",
       "  </thead>\n",
       "  <tbody>\n",
       "    <tr>\n",
       "      <th>0</th>\n",
       "      <td>../output/stage2/exp005.py/20230923195407_new_...</td>\n",
       "      <td>256</td>\n",
       "      <td>2</td>\n",
       "      <td>0.867009</td>\n",
       "      <td>[[-1.337, 1.047, 8.664, -2.17, 1.1875], [-6.95...</td>\n",
       "    </tr>\n",
       "    <tr>\n",
       "      <th>1</th>\n",
       "      <td>../output/stage2/exp005.py/20230923195407_new_...</td>\n",
       "      <td>384</td>\n",
       "      <td>3</td>\n",
       "      <td>0.869444</td>\n",
       "      <td>[[-2.62, -1.216, 8.02, -3.955, -0.3167], [-6.5...</td>\n",
       "    </tr>\n",
       "    <tr>\n",
       "      <th>2</th>\n",
       "      <td>../output/stage2/exp005.py/20230923195407_new_...</td>\n",
       "      <td>512</td>\n",
       "      <td>4</td>\n",
       "      <td>0.867863</td>\n",
       "      <td>[[-1.972, 0.662, 8.08, -3.24, 0.0765], [-6.13,...</td>\n",
       "    </tr>\n",
       "    <tr>\n",
       "      <th>3</th>\n",
       "      <td>../output/stage2/exp005.py/20230923195407_new_...</td>\n",
       "      <td>768</td>\n",
       "      <td>7</td>\n",
       "      <td>0.869103</td>\n",
       "      <td>[[-0.787, 2.795, 5.69, -1.655, 1.073], [-7.145...</td>\n",
       "    </tr>\n",
       "    <tr>\n",
       "      <th>4</th>\n",
       "      <td>../output/stage2/exp005.py/20230924021914_new_...</td>\n",
       "      <td>384</td>\n",
       "      <td>3</td>\n",
       "      <td>0.871111</td>\n",
       "      <td>[[-1.577, -1.061, 8.01, -3.428, -0.8506], [-6....</td>\n",
       "    </tr>\n",
       "    <tr>\n",
       "      <th>5</th>\n",
       "      <td>../output/stage2/exp005.py/20230924021914_new_...</td>\n",
       "      <td>512</td>\n",
       "      <td>4</td>\n",
       "      <td>0.869573</td>\n",
       "      <td>[[-1.027, 0.09576, 8.16, -3.041, -0.313], [-6....</td>\n",
       "    </tr>\n",
       "    <tr>\n",
       "      <th>6</th>\n",
       "      <td>../output/stage2/exp005.py/20230924021914_new_...</td>\n",
       "      <td>768</td>\n",
       "      <td>7</td>\n",
       "      <td>0.869060</td>\n",
       "      <td>[[-0.3408, 1.863, 5.83, -2.057, 0.4429], [-7.5...</td>\n",
       "    </tr>\n",
       "    <tr>\n",
       "      <th>7</th>\n",
       "      <td>../output/stage2/exp005.py/20230924084819_new_...</td>\n",
       "      <td>512</td>\n",
       "      <td>4</td>\n",
       "      <td>0.872692</td>\n",
       "      <td>[[0.7046, 2.053, 9.43, -0.767, 1.345], [-6.453...</td>\n",
       "    </tr>\n",
       "    <tr>\n",
       "      <th>8</th>\n",
       "      <td>../output/stage2/exp005.py/20230924084819_new_...</td>\n",
       "      <td>768</td>\n",
       "      <td>7</td>\n",
       "      <td>0.872179</td>\n",
       "      <td>[[0.7993, 3.625, 7.414, -0.2031, 2.418], [-8.2...</td>\n",
       "    </tr>\n",
       "  </tbody>\n",
       "</table>\n",
       "</div>"
      ],
      "text/plain": [
       "                                          model_name  max_length  num_content  \\\n",
       "0  ../output/stage2/exp005.py/20230923195407_new_...         256            2   \n",
       "1  ../output/stage2/exp005.py/20230923195407_new_...         384            3   \n",
       "2  ../output/stage2/exp005.py/20230923195407_new_...         512            4   \n",
       "3  ../output/stage2/exp005.py/20230923195407_new_...         768            7   \n",
       "4  ../output/stage2/exp005.py/20230924021914_new_...         384            3   \n",
       "5  ../output/stage2/exp005.py/20230924021914_new_...         512            4   \n",
       "6  ../output/stage2/exp005.py/20230924021914_new_...         768            7   \n",
       "7  ../output/stage2/exp005.py/20230924084819_new_...         512            4   \n",
       "8  ../output/stage2/exp005.py/20230924084819_new_...         768            7   \n",
       "\n",
       "       map3                                        predictions  \n",
       "0  0.867009  [[-1.337, 1.047, 8.664, -2.17, 1.1875], [-6.95...  \n",
       "1  0.869444  [[-2.62, -1.216, 8.02, -3.955, -0.3167], [-6.5...  \n",
       "2  0.867863  [[-1.972, 0.662, 8.08, -3.24, 0.0765], [-6.13,...  \n",
       "3  0.869103  [[-0.787, 2.795, 5.69, -1.655, 1.073], [-7.145...  \n",
       "4  0.871111  [[-1.577, -1.061, 8.01, -3.428, -0.8506], [-6....  \n",
       "5  0.869573  [[-1.027, 0.09576, 8.16, -3.041, -0.313], [-6....  \n",
       "6  0.869060  [[-0.3408, 1.863, 5.83, -2.057, 0.4429], [-7.5...  \n",
       "7  0.872692  [[0.7046, 2.053, 9.43, -0.767, 1.345], [-6.453...  \n",
       "8  0.872179  [[0.7993, 3.625, 7.414, -0.2031, 2.418], [-8.2...  "
      ]
     },
     "execution_count": 29,
     "metadata": {},
     "output_type": "execute_result"
    }
   ],
   "source": []
  },
  {
   "cell_type": "code",
   "execution_count": null,
   "id": "a776a3f1",
   "metadata": {},
   "outputs": [],
   "source": []
  },
  {
   "cell_type": "code",
   "execution_count": null,
   "id": "6938d3d0",
   "metadata": {},
   "outputs": [],
   "source": []
  },
  {
   "cell_type": "code",
   "execution_count": null,
   "id": "defa3ccb",
   "metadata": {},
   "outputs": [],
   "source": []
  },
  {
   "cell_type": "code",
   "execution_count": 6,
   "id": "0bef9496",
   "metadata": {},
   "outputs": [],
   "source": [
    "def softmax(x):\n",
    "    x = np.exp(x)\n",
    "    return x / x.sum(axis=1, keepdims=True)"
   ]
  },
  {
   "cell_type": "code",
   "execution_count": null,
   "id": "e9908ad4",
   "metadata": {},
   "outputs": [],
   "source": []
  },
  {
   "cell_type": "code",
   "execution_count": 7,
   "id": "5a6b26e7",
   "metadata": {},
   "outputs": [],
   "source": []
  },
  {
   "cell_type": "code",
   "execution_count": 8,
   "id": "db61f863",
   "metadata": {},
   "outputs": [],
   "source": [
    "pred_1 = df1[[\"fold0_A\", \"fold0_B\", \"fold0_C\", \"fold0_D\", \"fold0_E\"]].values\n",
    "pred_1 = (pred_1 - pred_1.mean()) / pred_1.std()\n",
    "pred_2 = df2[[\"fold0_A\", \"fold0_B\", \"fold0_C\", \"fold0_D\", \"fold0_E\"]].values\n",
    "pred_2 = (pred_2 - pred_2.mean()) / pred_2.std()"
   ]
  },
  {
   "cell_type": "code",
   "execution_count": 9,
   "id": "d68720c1",
   "metadata": {},
   "outputs": [],
   "source": []
  },
  {
   "cell_type": "code",
   "execution_count": 10,
   "id": "e07aa7a4",
   "metadata": {},
   "outputs": [
    {
     "data": {
      "text/plain": [
       "0.9358333333333333"
      ]
     },
     "execution_count": 10,
     "metadata": {},
     "output_type": "execute_result"
    }
   ],
   "source": []
  },
  {
   "cell_type": "code",
   "execution_count": 11,
   "id": "e78ddea6",
   "metadata": {},
   "outputs": [
    {
     "data": {
      "text/plain": [
       "0.935"
      ]
     },
     "execution_count": 11,
     "metadata": {},
     "output_type": "execute_result"
    }
   ],
   "source": [
    "map_at_3(pred_2, labels)"
   ]
  },
  {
   "cell_type": "code",
   "execution_count": 12,
   "id": "711ba590",
   "metadata": {},
   "outputs": [
    {
     "name": "stdout",
     "output_type": "stream",
     "text": [
      "ratio:0.0 map3: 0.935\n",
      "ratio:0.05 map3: 0.9341666666666667\n",
      "ratio:0.1 map3: 0.9316666666666668\n",
      "ratio:0.15000000000000002 map3: 0.9341666666666667\n",
      "ratio:0.2 map3: 0.9383333333333335\n",
      "ratio:0.25 map3: 0.9358333333333334\n",
      "ratio:0.30000000000000004 map3: 0.9366666666666668\n",
      "ratio:0.35000000000000003 map3: 0.9383333333333332\n",
      "ratio:0.4 map3: 0.9383333333333332\n",
      "ratio:0.45 map3: 0.9408333333333333\n",
      "ratio:0.5 map3: 0.9441666666666667\n",
      "ratio:0.55 map3: 0.9441666666666667\n",
      "ratio:0.6000000000000001 map3: 0.9441666666666667\n",
      "ratio:0.65 map3: 0.9441666666666667\n",
      "ratio:0.7000000000000001 map3: 0.945\n",
      "ratio:0.75 map3: 0.9475\n",
      "ratio:0.8 map3: 0.95\n",
      "ratio:0.8500000000000001 map3: 0.9475\n",
      "ratio:0.9 map3: 0.9408333333333333\n",
      "ratio:0.9500000000000001 map3: 0.9383333333333332\n",
      "ratio:1.0 map3: 0.9358333333333333\n"
     ]
    }
   ],
   "source": [
    "for ratio in np.arange(0, 1.05, 0.05):\n",
    "    print(f\"ratio:{ratio} map3: {map_at_3(pred_1*ratio + pred_2*(1-ratio), labels)}\")"
   ]
  },
  {
   "cell_type": "code",
   "execution_count": null,
   "id": "3f0fdd16",
   "metadata": {},
   "outputs": [],
   "source": []
  },
  {
   "cell_type": "code",
   "execution_count": null,
   "id": "15872bd7",
   "metadata": {},
   "outputs": [],
   "source": []
  }
 ],
 "metadata": {
  "kernelspec": {
   "display_name": "Python 3 (ipykernel)",
   "language": "python",
   "name": "python3"
  },
  "language_info": {
   "codemirror_mode": {
    "name": "ipython",
    "version": 3
   },
   "file_extension": ".py",
   "mimetype": "text/x-python",
   "name": "python",
   "nbconvert_exporter": "python",
   "pygments_lexer": "ipython3",
   "version": "3.10.12"
  }
 },
 "nbformat": 4,
 "nbformat_minor": 5
}
