{
 "cells": [
  {
   "cell_type": "code",
   "execution_count": 17,
   "id": "21bf371f",
   "metadata": {},
   "outputs": [],
   "source": [
    "import pandas as pd\n",
    "import tqdm\n",
    "import glob\n",
    "import os"
   ]
  },
  {
   "cell_type": "code",
   "execution_count": 18,
   "id": "f91994aa",
   "metadata": {},
   "outputs": [],
   "source": [
    "files = glob.glob(\"../data/wikipedia/a.parquet\")\n",
    "files = [f for f in files if \"all\" not in f]"
   ]
  },
  {
   "cell_type": "code",
   "execution_count": 33,
   "id": "999735b0",
   "metadata": {},
   "outputs": [],
   "source": [
    "chunk_size = 10000000"
   ]
  },
  {
   "cell_type": "code",
   "execution_count": 34,
   "id": "7813678f",
   "metadata": {},
   "outputs": [],
   "source": [
    "def output_seperated_files(token_length, stride, ):    \n",
    "    output_dir = f\"../data/wikipedia/sep_chunk/token_length{token_length}_stride_sentence{stride}\"\n",
    "    os.makedirs(output_dir, exist_ok=True)\n",
    "    chunk = 1\n",
    "    df_wiki_sep = []\n",
    "    for file in files:\n",
    "        df_wiki = pd.read_parquet(file)\n",
    "        df_wiki = df_wiki.drop(\"categories\", axis=1)\n",
    "        for i in tqdm.tqdm(range(len(df_wiki))):\n",
    "            series = df_wiki.iloc[i]\n",
    "            text = series[\"text\"]\n",
    "\n",
    "            text_space = text.split(\".\")\n",
    "            text = \"\"\n",
    "            text_stride = []\n",
    "            \n",
    "            for i in range(0, len(text_space)):\n",
    "                series_ = series.copy()\n",
    "                text += text_space[i] + \".\"\n",
    "                text_stride.append(text_space[i])\n",
    "                text_stride = text_stride[-stride:]\n",
    "                \n",
    "                if len(text.split(\" \")) > token_length:\n",
    "                    series_[\"text\"] = text\n",
    "                    df_wiki_sep.append(series_)\n",
    "                    text = \".\".join(text_stride)\n",
    "            if len(df_wiki_sep) > chunk_size:\n",
    "                print(f\"chunk {chunk}\")\n",
    "                df_wiki_sep = pd.DataFrame(df_wiki_sep)\n",
    "                df_wiki_sep.to_parquet(f\"{output_dir}/chunk{chunk}.parquet\")\n",
    "                df_wiki_sep = []\n",
    "                chunk += 1\n",
    "    df_wiki_sep = pd.DataFrame(df_wiki_sep)\n",
    "    df_wiki_sep.to_parquet(f\"{output_dir}/chunk{chunk}.parquet\")\n",
    "    "
   ]
  },
  {
   "cell_type": "code",
   "execution_count": 35,
   "id": "666beec0",
   "metadata": {},
   "outputs": [
    {
     "name": "stderr",
     "output_type": "stream",
     "text": [
      "100%|████████████████████████████████████████████████████████████████████████████████████████████████████████████████████████████████████████████████████████████████████████████████████████████████████████████████████████████████████| 442726/442726 [07:02<00:00, 1047.33it/s]\n"
     ]
    }
   ],
   "source": [
    "output_seperated_files(token_length=90, stride=3)"
   ]
  },
  {
   "cell_type": "code",
   "execution_count": null,
   "id": "f820cd62",
   "metadata": {},
   "outputs": [],
   "source": []
  },
  {
   "cell_type": "code",
   "execution_count": null,
   "id": "a8599004",
   "metadata": {},
   "outputs": [],
   "source": []
  }
 ],
 "metadata": {
  "kernelspec": {
   "display_name": "Python 3 (ipykernel)",
   "language": "python",
   "name": "python3"
  },
  "language_info": {
   "codemirror_mode": {
    "name": "ipython",
    "version": 3
   },
   "file_extension": ".py",
   "mimetype": "text/x-python",
   "name": "python",
   "nbconvert_exporter": "python",
   "pygments_lexer": "ipython3",
   "version": "3.10.12"
  }
 },
 "nbformat": 4,
 "nbformat_minor": 5
}
