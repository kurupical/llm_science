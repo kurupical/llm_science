{
 "cells": [
  {
   "cell_type": "code",
   "execution_count": 1,
   "id": "c37f0b3e",
   "metadata": {},
   "outputs": [],
   "source": [
    "import pandas as pd\n",
    "import tqdm\n",
    "import glob\n",
    "import os"
   ]
  },
  {
   "cell_type": "code",
   "execution_count": 10,
   "id": "6a3c5011",
   "metadata": {},
   "outputs": [],
   "source": [
    "files = glob.glob(\"../data/wikipedia/all.parquet\")"
   ]
  },
  {
   "cell_type": "code",
   "execution_count": 11,
   "id": "28b27e80",
   "metadata": {},
   "outputs": [],
   "source": [
    "def output_seperated_files(token_length, stride):    \n",
    "    output_dir = f\"../data/wikipedia/sep/token_length{token_length}_stride{stride}\"\n",
    "    os.makedirs(output_dir, exist_ok=True)\n",
    "    for file in files:\n",
    "        df_wiki = pd.read_parquet(file)\n",
    "        df_wiki_sep = []\n",
    "        for i in tqdm.tqdm(range(len(df_wiki))):\n",
    "            series = df_wiki.iloc[i]\n",
    "            text = series[\"text\"]\n",
    "\n",
    "            text_space = text.split(\" \")\n",
    "            for i in range(0, len(text_space)//100 + 100, 100):\n",
    "                series_ = series.copy()\n",
    "                series_[\"text\"] = \" \".join(text_space[i:i+token_length])\n",
    "                df_wiki_sep.append(series_)\n",
    "        df_wiki_sep = pd.DataFrame(df_wiki_sep)\n",
    "        df_wiki_sep.to_parquet(f\"{output_dir}/{os.path.basename(file)}\")"
   ]
  },
  {
   "cell_type": "code",
   "execution_count": 12,
   "id": "47df03be",
   "metadata": {
    "scrolled": true
   },
   "outputs": [
    {
     "name": "stderr",
     "output_type": "stream",
     "text": [
      "100%|██████████████████████████████████████████████████████████████████████████████████████████████████████████████████████████████████████████████████████████████████████████████████████████████████████████████████████████████████| 6286775/6286775 [14:27<00:00, 7243.40it/s]\n"
     ]
    }
   ],
   "source": [
    "output_seperated_files(token_length=200, stride=100)"
   ]
  },
  {
   "cell_type": "code",
   "execution_count": 13,
   "id": "d1eb54c1",
   "metadata": {},
   "outputs": [
    {
     "name": "stderr",
     "output_type": "stream",
     "text": [
      "100%|███████| 6286775/6286775 [13:35<00:00, 7707.69it/s]\n"
     ]
    }
   ],
   "source": [
    "output_seperated_files(token_length=100, stride=50)"
   ]
  },
  {
   "cell_type": "code",
   "execution_count": 14,
   "id": "202694e2",
   "metadata": {},
   "outputs": [
    {
     "name": "stderr",
     "output_type": "stream",
     "text": [
      "100%|███████| 6286775/6286775 [14:27<00:00, 7246.15it/s]\n"
     ]
    }
   ],
   "source": [
    "output_seperated_files(token_length=400, stride=200)"
   ]
  },
  {
   "cell_type": "code",
   "execution_count": null,
   "id": "2d614d6c",
   "metadata": {},
   "outputs": [],
   "source": []
  }
 ],
 "metadata": {
  "kernelspec": {
   "display_name": "Python 3 (ipykernel)",
   "language": "python",
   "name": "python3"
  },
  "language_info": {
   "codemirror_mode": {
    "name": "ipython",
    "version": 3
   },
   "file_extension": ".py",
   "mimetype": "text/x-python",
   "name": "python",
   "nbconvert_exporter": "python",
   "pygments_lexer": "ipython3",
   "version": "3.10.12"
  }
 },
 "nbformat": 4,
 "nbformat_minor": 5
}
