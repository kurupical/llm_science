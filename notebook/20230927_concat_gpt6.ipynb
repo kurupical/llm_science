{
 "cells": [
  {
   "cell_type": "code",
   "execution_count": 1,
   "id": "db5cf148",
   "metadata": {},
   "outputs": [],
   "source": [
    "import pandas as pd"
   ]
  },
  {
   "cell_type": "code",
   "execution_count": 2,
   "id": "92d5081d",
   "metadata": {},
   "outputs": [],
   "source": [
    "df = pd.concat([\n",
    "    pd.read_parquet(\"../output/context_pipeline/stage1/exp009.py/20230927110701_gte-base_wikiall_without_sep_targetprompt_and_choice_without_sep_token_length120_stride_sentence4_drop_categoryTrue_all/train.parquet\"),\n",
    "    pd.read_parquet(\"../output/context_pipeline/stage1/exp009.py/20230922162941_gte-base_wikiall_without_sep_targetprompt_and_choice_without_sep_token_length120_stride_sentence4_drop_categoryTrue_all/train.parquet\"),\n",
    "])"
   ]
  },
  {
   "cell_type": "code",
   "execution_count": 3,
   "id": "8b95bb7c",
   "metadata": {},
   "outputs": [
    {
     "data": {
      "text/plain": [
       "77805"
      ]
     },
     "execution_count": 3,
     "metadata": {},
     "output_type": "execute_result"
    }
   ],
   "source": [
    "len(df)"
   ]
  },
  {
   "cell_type": "code",
   "execution_count": 4,
   "id": "98ec4026",
   "metadata": {},
   "outputs": [],
   "source": [
    "df[\"source\"] = df[\"source\"].fillna(\"gpt6\")"
   ]
  },
  {
   "cell_type": "code",
   "execution_count": 5,
   "id": "65df6d21",
   "metadata": {},
   "outputs": [
    {
     "data": {
      "text/plain": [
       "3                                                                                  14531\n",
       "10                                                                                 11679\n",
       "gpt6                                                                                9264\n",
       "6                                                                                   5668\n",
       "5                                                                                   5623\n",
       "4                                                                                   5562\n",
       "2                                                                                   5120\n",
       "additional_data/MMLU/test.csv                                                       4556\n",
       "additional_data/MMLU/train.csv                                                      4388\n",
       "8                                                                                   2949\n",
       "9                                                                                   2769\n",
       "additional_data/ScienceQA/train.parquet                                             1586\n",
       "additional_data/OpenBookQA-V1-Sep2018/OpenBookQA-V1-Sep2018/Data/Main/train.tsv     1192\n",
       "7                                                                                    699\n",
       "11                                                                                   693\n",
       "additional_data/MMLU/valid.csv                                                       624\n",
       "additional_data/ScienceQA/val.parquet                                                552\n",
       "additional_data/ScienceQA/test.parquet                                               177\n",
       "1                                                                                    103\n",
       "additional_data/OpenBookQA-V1-Sep2018/OpenBookQA-V1-Sep2018/Data/Main/dev.tsv         44\n",
       "additional_data/OpenBookQA-V1-Sep2018/OpenBookQA-V1-Sep2018/Data/Main/test.tsv        26\n",
       "Name: source, dtype: int64"
      ]
     },
     "execution_count": 5,
     "metadata": {},
     "output_type": "execute_result"
    }
   ],
   "source": [
    "df[\"source\"].value_counts()"
   ]
  },
  {
   "cell_type": "code",
   "execution_count": 7,
   "id": "c042a18a",
   "metadata": {},
   "outputs": [],
   "source": [
    "df.reset_index(drop=True).to_pickle(\"../output/context_pipeline/stage1/exp009.py/20230927110701_gte-base_wikiall_without_sep_targetprompt_and_choice_without_sep_token_length120_stride_sentence4_drop_categoryTrue_all/concat/train.pickle\")"
   ]
  },
  {
   "cell_type": "code",
   "execution_count": null,
   "id": "b9bf50c8",
   "metadata": {},
   "outputs": [],
   "source": []
  }
 ],
 "metadata": {
  "kernelspec": {
   "display_name": "Python 3 (ipykernel)",
   "language": "python",
   "name": "python3"
  },
  "language_info": {
   "codemirror_mode": {
    "name": "ipython",
    "version": 3
   },
   "file_extension": ".py",
   "mimetype": "text/x-python",
   "name": "python",
   "nbconvert_exporter": "python",
   "pygments_lexer": "ipython3",
   "version": "3.10.12"
  }
 },
 "nbformat": 4,
 "nbformat_minor": 5
}
