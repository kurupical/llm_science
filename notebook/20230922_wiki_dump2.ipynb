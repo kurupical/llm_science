{
 "cells": [
  {
   "cell_type": "code",
   "execution_count": 38,
   "id": "6c1d5a8f",
   "metadata": {},
   "outputs": [],
   "source": [
    "import json\n",
    "import gzip\n",
    "import pandas as pd\n",
    "\n",
    "out_dir = \"parse_parquet\"\n",
    "chunk = 100000\n",
    "index = 0\n",
    "\n",
    "data = []\n",
    "with gzip.open(\"enwiki-20230918-cirrussearch-content.json.gz\") as f:\n",
    "    for line in f:\n",
    "        json_line = json.loads(line)\n",
    "        if \"index\" not in json_line:\n",
    "            data.append(json_line)\n",
    "            if len(data) >= chunk:\n",
    "                pd.DataFrame(data)[[\"title\", \"text\", \"page_id\", \"category\"]].to_parquet(f\"{out_dir}/{index}.parquet\")\n",
    "                data = []\n",
    "                index += 1\n"
   ]
  },
  {
   "cell_type": "code",
   "execution_count": 3,
   "id": "cc8138da",
   "metadata": {},
   "outputs": [],
   "source": [
    "import glob\n",
    "import json\n",
    "import gzip\n",
    "import pandas as pd\n"
   ]
  },
  {
   "cell_type": "code",
   "execution_count": 4,
   "id": "e86f1dc8",
   "metadata": {},
   "outputs": [],
   "source": [
    "df = pd.concat([\n",
    "    pd.read_parquet(f) for f in glob.glob(\"parse_parquet/*.parquet\")\n",
    "])"
   ]
  },
  {
   "cell_type": "code",
   "execution_count": 5,
   "id": "29547b2e",
   "metadata": {},
   "outputs": [
    {
     "data": {
      "text/html": [
       "<div>\n",
       "<style scoped>\n",
       "    .dataframe tbody tr th:only-of-type {\n",
       "        vertical-align: middle;\n",
       "    }\n",
       "\n",
       "    .dataframe tbody tr th {\n",
       "        vertical-align: top;\n",
       "    }\n",
       "\n",
       "    .dataframe thead th {\n",
       "        text-align: right;\n",
       "    }\n",
       "</style>\n",
       "<table border=\"1\" class=\"dataframe\">\n",
       "  <thead>\n",
       "    <tr style=\"text-align: right;\">\n",
       "      <th></th>\n",
       "      <th>title</th>\n",
       "      <th>text</th>\n",
       "      <th>page_id</th>\n",
       "      <th>category</th>\n",
       "    </tr>\n",
       "  </thead>\n",
       "  <tbody>\n",
       "    <tr>\n",
       "      <th>0</th>\n",
       "      <td>Hercule Poirot</td>\n",
       "      <td>Hercule Poirot (UK: /ˈɛərkjuːl ˈpwɑːroʊ/, US: ...</td>\n",
       "      <td>1000</td>\n",
       "      <td>[Wikipedia articles needing page number citati...</td>\n",
       "    </tr>\n",
       "    <tr>\n",
       "      <th>1</th>\n",
       "      <td>Eiffel</td>\n",
       "      <td>Look up Eiffel in Wiktionary, the free diction...</td>\n",
       "      <td>10000</td>\n",
       "      <td>[Short description is different from Wikidata,...</td>\n",
       "    </tr>\n",
       "    <tr>\n",
       "      <th>2</th>\n",
       "      <td>Juan que reía</td>\n",
       "      <td>Juan que reía is a 1976 Argentine film. Luis B...</td>\n",
       "      <td>10000001</td>\n",
       "      <td>[Articles needing additional references from M...</td>\n",
       "    </tr>\n",
       "    <tr>\n",
       "      <th>3</th>\n",
       "      <td>La Noche del hurto</td>\n",
       "      <td>La Noche del hurto is a 1976 Argentine comedy ...</td>\n",
       "      <td>10000009</td>\n",
       "      <td>[Articles needing additional references from A...</td>\n",
       "    </tr>\n",
       "    <tr>\n",
       "      <th>4</th>\n",
       "      <td>NPU</td>\n",
       "      <td>Look up npu in Wiktionary, the free dictionary...</td>\n",
       "      <td>1000001</td>\n",
       "      <td>[Short description is different from Wikidata,...</td>\n",
       "    </tr>\n",
       "    <tr>\n",
       "      <th>...</th>\n",
       "      <td>...</td>\n",
       "      <td>...</td>\n",
       "      <td>...</td>\n",
       "      <td>...</td>\n",
       "    </tr>\n",
       "    <tr>\n",
       "      <th>99995</th>\n",
       "      <td>Adam Brooks (filmmaker)</td>\n",
       "      <td>Adam Brooks (born September 3, 1956) is a Cana...</td>\n",
       "      <td>18509046</td>\n",
       "      <td>[Articles with short description, Short descri...</td>\n",
       "    </tr>\n",
       "    <tr>\n",
       "      <th>99996</th>\n",
       "      <td>Yamada Station (Gifu)</td>\n",
       "      <td>Yamada Station (山田駅, Yamada-eki) is a railway ...</td>\n",
       "      <td>18509048</td>\n",
       "      <td>[CS1 uses Japanese-language script (ja), CS1 J...</td>\n",
       "    </tr>\n",
       "    <tr>\n",
       "      <th>99997</th>\n",
       "      <td>Tokunaga Station</td>\n",
       "      <td>Tokunaga Station (徳永駅, Tokunaga-eki) is a rail...</td>\n",
       "      <td>18509060</td>\n",
       "      <td>[CS1 uses Japanese-language script (ja), CS1 J...</td>\n",
       "    </tr>\n",
       "    <tr>\n",
       "      <th>99998</th>\n",
       "      <td>Wirth Lake (Minnesota)</td>\n",
       "      <td>Wirth Lake is in Theodore Wirth Park, a large ...</td>\n",
       "      <td>1850907</td>\n",
       "      <td>[Articles with short description, Short descri...</td>\n",
       "    </tr>\n",
       "    <tr>\n",
       "      <th>99999</th>\n",
       "      <td>Gujō-Yamato Station</td>\n",
       "      <td>Gujō-Yamato Station (郡上大和駅, Gujō-Yamato-eki) i...</td>\n",
       "      <td>18509079</td>\n",
       "      <td>[CS1 uses Japanese-language script (ja), CS1 J...</td>\n",
       "    </tr>\n",
       "  </tbody>\n",
       "</table>\n",
       "<p>6700000 rows × 4 columns</p>\n",
       "</div>"
      ],
      "text/plain": [
       "                         title  \\\n",
       "0               Hercule Poirot   \n",
       "1                       Eiffel   \n",
       "2                Juan que reía   \n",
       "3           La Noche del hurto   \n",
       "4                          NPU   \n",
       "...                        ...   \n",
       "99995  Adam Brooks (filmmaker)   \n",
       "99996    Yamada Station (Gifu)   \n",
       "99997         Tokunaga Station   \n",
       "99998   Wirth Lake (Minnesota)   \n",
       "99999      Gujō-Yamato Station   \n",
       "\n",
       "                                                    text   page_id  \\\n",
       "0      Hercule Poirot (UK: /ˈɛərkjuːl ˈpwɑːroʊ/, US: ...      1000   \n",
       "1      Look up Eiffel in Wiktionary, the free diction...     10000   \n",
       "2      Juan que reía is a 1976 Argentine film. Luis B...  10000001   \n",
       "3      La Noche del hurto is a 1976 Argentine comedy ...  10000009   \n",
       "4      Look up npu in Wiktionary, the free dictionary...   1000001   \n",
       "...                                                  ...       ...   \n",
       "99995  Adam Brooks (born September 3, 1956) is a Cana...  18509046   \n",
       "99996  Yamada Station (山田駅, Yamada-eki) is a railway ...  18509048   \n",
       "99997  Tokunaga Station (徳永駅, Tokunaga-eki) is a rail...  18509060   \n",
       "99998  Wirth Lake is in Theodore Wirth Park, a large ...   1850907   \n",
       "99999  Gujō-Yamato Station (郡上大和駅, Gujō-Yamato-eki) i...  18509079   \n",
       "\n",
       "                                                category  \n",
       "0      [Wikipedia articles needing page number citati...  \n",
       "1      [Short description is different from Wikidata,...  \n",
       "2      [Articles needing additional references from M...  \n",
       "3      [Articles needing additional references from A...  \n",
       "4      [Short description is different from Wikidata,...  \n",
       "...                                                  ...  \n",
       "99995  [Articles with short description, Short descri...  \n",
       "99996  [CS1 uses Japanese-language script (ja), CS1 J...  \n",
       "99997  [CS1 uses Japanese-language script (ja), CS1 J...  \n",
       "99998  [Articles with short description, Short descri...  \n",
       "99999  [CS1 uses Japanese-language script (ja), CS1 J...  \n",
       "\n",
       "[6700000 rows x 4 columns]"
      ]
     },
     "execution_count": 5,
     "metadata": {},
     "output_type": "execute_result"
    }
   ],
   "source": [
    "df"
   ]
  },
  {
   "cell_type": "code",
   "execution_count": 6,
   "id": "2afd1ba0",
   "metadata": {},
   "outputs": [],
   "source": [
    "df[\"first\"] = df[\"title\"].apply(lambda x: x[0].lower())"
   ]
  },
  {
   "cell_type": "code",
   "execution_count": 7,
   "id": "b655ad5f",
   "metadata": {},
   "outputs": [],
   "source": [
    "df[\"alpha\"] = df[\"first\"].apply(lambda x: x.isalpha())"
   ]
  },
  {
   "cell_type": "code",
   "execution_count": 8,
   "id": "afdb3c65",
   "metadata": {},
   "outputs": [],
   "source": [
    "df = df.reset_index(drop=True)"
   ]
  },
  {
   "cell_type": "code",
   "execution_count": 9,
   "id": "0bdef8ca",
   "metadata": {},
   "outputs": [],
   "source": [
    "df[\"id\"] = df[\"page_id\"].astype(str)"
   ]
  },
  {
   "cell_type": "code",
   "execution_count": 11,
   "id": "23f50c04",
   "metadata": {},
   "outputs": [
    {
     "data": {
      "text/plain": [
       "26"
      ]
     },
     "execution_count": 11,
     "metadata": {},
     "output_type": "execute_result"
    }
   ],
   "source": [
    "alphabets = list(\"abcdefghijklmnopqrstuvwxyz\")\n",
    "len(alphabets)"
   ]
  },
  {
   "cell_type": "code",
   "execution_count": 12,
   "id": "49054076",
   "metadata": {},
   "outputs": [],
   "source": [
    "for alphabet in alphabets:\n",
    "    w_df = df[df[\"first\"] == alphabet]\n",
    "    w_df[[\"title\", \"text\", \"id\", \"category\"]].to_parquet(f\"../data/wikipedia_fixed/{alphabet}.parquet\")"
   ]
  },
  {
   "cell_type": "code",
   "execution_count": 13,
   "id": "bc750945",
   "metadata": {},
   "outputs": [],
   "source": [
    "df[~df[\"first\"].isin(alphabets)][[\"title\", \"text\", \"id\", \"category\"]].to_parquet(\"../data/wikipedia_fixed/other.parquet\")"
   ]
  },
  {
   "cell_type": "code",
   "execution_count": null,
   "id": "2b7afb22",
   "metadata": {},
   "outputs": [],
   "source": []
  }
 ],
 "metadata": {
  "kernelspec": {
   "display_name": "Python 3 (ipykernel)",
   "language": "python",
   "name": "python3"
  },
  "language_info": {
   "codemirror_mode": {
    "name": "ipython",
    "version": 3
   },
   "file_extension": ".py",
   "mimetype": "text/x-python",
   "name": "python",
   "nbconvert_exporter": "python",
   "pygments_lexer": "ipython3",
   "version": "3.10.12"
  }
 },
 "nbformat": 4,
 "nbformat_minor": 5
}
