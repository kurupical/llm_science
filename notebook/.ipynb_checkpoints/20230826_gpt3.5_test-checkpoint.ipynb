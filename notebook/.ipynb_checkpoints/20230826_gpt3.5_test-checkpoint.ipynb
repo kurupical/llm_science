{
 "cells": [
  {
   "cell_type": "code",
   "execution_count": null,
   "metadata": {},
   "outputs": [],
   "source": []
  },
  {
   "cell_type": "code",
   "execution_count": 51,
   "metadata": {},
   "outputs": [],
   "source": [
    "import openai\n",
    "import pandas as pd\n",
    "import tqdm"
   ]
  },
  {
   "cell_type": "code",
   "execution_count": 2,
   "metadata": {},
   "outputs": [],
   "source": [
    "with open(\"../apikey/apikey.txt\", \"r\") as f:\n",
    "    openai.api_key = f.readline().replace(\"\\n\", \"\")"
   ]
  },
  {
   "cell_type": "code",
   "execution_count": 42,
   "metadata": {},
   "outputs": [],
   "source": [
    "def query_prompt(prompt, max_tokens=1000):\n",
    "    response = openai.ChatCompletion.create(\n",
    "        model=\"gpt-3.5-turbo\",\n",
    "        messages=[{\"role\": \"user\", \"content\": prompt}],\n",
    "        max_tokens=1000,\n",
    "        temperature=0.1,\n",
    "    )\n",
    "    return response[\"choices\"][0][\"message\"][\"content\"]"
   ]
  },
  {
   "cell_type": "code",
   "execution_count": 44,
   "metadata": {},
   "outputs": [],
   "source": [
    "df = pd.read_csv(\"../data/kaggle-llm-science-exam/train.csv\")"
   ]
  },
  {
   "cell_type": "code",
   "execution_count": 76,
   "metadata": {},
   "outputs": [],
   "source": [
    "def make_prompt(series):\n",
    "    prompt = f\"\"\"\n",
    "# 依頼\n",
    "あなたは世界で一番著名な科学者で、科学のことで知らないことは無いといわれている人物です。\n",
    "次の問題を読んで、適切と思われる選択肢を上位3件回答してください。\n",
    "また、選択肢を選んだ理由を教えてください。\n",
    "\n",
    "# 解答フォーマット\n",
    "'answer': '1番目の答えの記号, 2番目の答えの記号, 3番目の答えの記号'\n",
    "'reason': '1番目の答えを選んだ理由, 2番目の答えを選んだ理由, 3番目の答えを選んだ理由'\n",
    "\n",
    "# 問題\n",
    "{series['prompt']}\n",
    "\n",
    "# 選択肢\n",
    "A. {series['A']}\n",
    "B. {series['B']}\n",
    "C. {series['C']}\n",
    "D. {series['D']}\n",
    "E. {series['E']}\n",
    "\"\"\"\n",
    "    return prompt"
   ]
  },
  {
   "cell_type": "code",
   "execution_count": 79,
   "metadata": {
    "scrolled": true
   },
   "outputs": [
    {
     "name": "stderr",
     "output_type": "stream",
     "text": [
      " 60%|████████████████████████████████████████████████████████████████████████████████████████████████████████████████████████████████████████████████████████████████████▍                                                                                                             | 12/20 [05:46<03:50, 28.85s/it]\n"
     ]
    },
    {
     "ename": "ServiceUnavailableError",
     "evalue": "The server is overloaded or not ready yet.",
     "output_type": "error",
     "traceback": [
      "\u001b[1;31m---------------------------------------------------------------------------\u001b[0m",
      "\u001b[1;31mServiceUnavailableError\u001b[0m                   Traceback (most recent call last)",
      "\u001b[1;32m<ipython-input-79-62d4c3b0f752>\u001b[0m in \u001b[0;36m<module>\u001b[1;34m\u001b[0m\n\u001b[0;32m      4\u001b[0m     \u001b[0mseries\u001b[0m \u001b[1;33m=\u001b[0m \u001b[0mdf\u001b[0m\u001b[1;33m.\u001b[0m\u001b[0miloc\u001b[0m\u001b[1;33m[\u001b[0m\u001b[0mi\u001b[0m\u001b[1;33m]\u001b[0m\u001b[1;33m\u001b[0m\u001b[1;33m\u001b[0m\u001b[0m\n\u001b[0;32m      5\u001b[0m     \u001b[0mprompt\u001b[0m \u001b[1;33m=\u001b[0m \u001b[0mmake_prompt\u001b[0m\u001b[1;33m(\u001b[0m\u001b[0mseries\u001b[0m\u001b[1;33m)\u001b[0m\u001b[1;33m\u001b[0m\u001b[1;33m\u001b[0m\u001b[0m\n\u001b[1;32m----> 6\u001b[1;33m     \u001b[0manswer\u001b[0m \u001b[1;33m=\u001b[0m \u001b[0mquery_prompt\u001b[0m\u001b[1;33m(\u001b[0m\u001b[0mprompt\u001b[0m\u001b[1;33m)\u001b[0m\u001b[1;33m\u001b[0m\u001b[1;33m\u001b[0m\u001b[0m\n\u001b[0m\u001b[0;32m      7\u001b[0m     \u001b[0mrets\u001b[0m\u001b[1;33m.\u001b[0m\u001b[0mappend\u001b[0m\u001b[1;33m(\u001b[0m\u001b[0manswer\u001b[0m\u001b[1;33m)\u001b[0m\u001b[1;33m\u001b[0m\u001b[1;33m\u001b[0m\u001b[0m\n",
      "\u001b[1;32m<ipython-input-42-98ab8fa6ebdf>\u001b[0m in \u001b[0;36mquery_prompt\u001b[1;34m(prompt, max_tokens)\u001b[0m\n\u001b[0;32m      1\u001b[0m \u001b[1;32mdef\u001b[0m \u001b[0mquery_prompt\u001b[0m\u001b[1;33m(\u001b[0m\u001b[0mprompt\u001b[0m\u001b[1;33m,\u001b[0m \u001b[0mmax_tokens\u001b[0m\u001b[1;33m=\u001b[0m\u001b[1;36m1000\u001b[0m\u001b[1;33m)\u001b[0m\u001b[1;33m:\u001b[0m\u001b[1;33m\u001b[0m\u001b[1;33m\u001b[0m\u001b[0m\n\u001b[1;32m----> 2\u001b[1;33m     response = openai.ChatCompletion.create(\n\u001b[0m\u001b[0;32m      3\u001b[0m         \u001b[0mmodel\u001b[0m\u001b[1;33m=\u001b[0m\u001b[1;34m\"gpt-3.5-turbo\"\u001b[0m\u001b[1;33m,\u001b[0m\u001b[1;33m\u001b[0m\u001b[1;33m\u001b[0m\u001b[0m\n\u001b[0;32m      4\u001b[0m         \u001b[0mmessages\u001b[0m\u001b[1;33m=\u001b[0m\u001b[1;33m[\u001b[0m\u001b[1;33m{\u001b[0m\u001b[1;34m\"role\"\u001b[0m\u001b[1;33m:\u001b[0m \u001b[1;34m\"user\"\u001b[0m\u001b[1;33m,\u001b[0m \u001b[1;34m\"content\"\u001b[0m\u001b[1;33m:\u001b[0m \u001b[0mprompt\u001b[0m\u001b[1;33m}\u001b[0m\u001b[1;33m]\u001b[0m\u001b[1;33m,\u001b[0m\u001b[1;33m\u001b[0m\u001b[1;33m\u001b[0m\u001b[0m\n\u001b[0;32m      5\u001b[0m         \u001b[0mmax_tokens\u001b[0m\u001b[1;33m=\u001b[0m\u001b[1;36m1000\u001b[0m\u001b[1;33m,\u001b[0m\u001b[1;33m\u001b[0m\u001b[1;33m\u001b[0m\u001b[0m\n",
      "\u001b[1;32mC:\\ProgramData\\Anaconda3\\lib\\site-packages\\openai\\api_resources\\chat_completion.py\u001b[0m in \u001b[0;36mcreate\u001b[1;34m(cls, *args, **kwargs)\u001b[0m\n\u001b[0;32m     23\u001b[0m         \u001b[1;32mwhile\u001b[0m \u001b[1;32mTrue\u001b[0m\u001b[1;33m:\u001b[0m\u001b[1;33m\u001b[0m\u001b[1;33m\u001b[0m\u001b[0m\n\u001b[0;32m     24\u001b[0m             \u001b[1;32mtry\u001b[0m\u001b[1;33m:\u001b[0m\u001b[1;33m\u001b[0m\u001b[1;33m\u001b[0m\u001b[0m\n\u001b[1;32m---> 25\u001b[1;33m                 \u001b[1;32mreturn\u001b[0m \u001b[0msuper\u001b[0m\u001b[1;33m(\u001b[0m\u001b[1;33m)\u001b[0m\u001b[1;33m.\u001b[0m\u001b[0mcreate\u001b[0m\u001b[1;33m(\u001b[0m\u001b[1;33m*\u001b[0m\u001b[0margs\u001b[0m\u001b[1;33m,\u001b[0m \u001b[1;33m**\u001b[0m\u001b[0mkwargs\u001b[0m\u001b[1;33m)\u001b[0m\u001b[1;33m\u001b[0m\u001b[1;33m\u001b[0m\u001b[0m\n\u001b[0m\u001b[0;32m     26\u001b[0m             \u001b[1;32mexcept\u001b[0m \u001b[0mTryAgain\u001b[0m \u001b[1;32mas\u001b[0m \u001b[0me\u001b[0m\u001b[1;33m:\u001b[0m\u001b[1;33m\u001b[0m\u001b[1;33m\u001b[0m\u001b[0m\n\u001b[0;32m     27\u001b[0m                 \u001b[1;32mif\u001b[0m \u001b[0mtimeout\u001b[0m \u001b[1;32mis\u001b[0m \u001b[1;32mnot\u001b[0m \u001b[1;32mNone\u001b[0m \u001b[1;32mand\u001b[0m \u001b[0mtime\u001b[0m\u001b[1;33m.\u001b[0m\u001b[0mtime\u001b[0m\u001b[1;33m(\u001b[0m\u001b[1;33m)\u001b[0m \u001b[1;33m>\u001b[0m \u001b[0mstart\u001b[0m \u001b[1;33m+\u001b[0m \u001b[0mtimeout\u001b[0m\u001b[1;33m:\u001b[0m\u001b[1;33m\u001b[0m\u001b[1;33m\u001b[0m\u001b[0m\n",
      "\u001b[1;32mC:\\ProgramData\\Anaconda3\\lib\\site-packages\\openai\\api_resources\\abstract\\engine_api_resource.py\u001b[0m in \u001b[0;36mcreate\u001b[1;34m(cls, api_key, api_base, api_type, request_id, api_version, organization, **params)\u001b[0m\n\u001b[0;32m    151\u001b[0m         )\n\u001b[0;32m    152\u001b[0m \u001b[1;33m\u001b[0m\u001b[0m\n\u001b[1;32m--> 153\u001b[1;33m         response, _, api_key = requestor.request(\n\u001b[0m\u001b[0;32m    154\u001b[0m             \u001b[1;34m\"post\"\u001b[0m\u001b[1;33m,\u001b[0m\u001b[1;33m\u001b[0m\u001b[1;33m\u001b[0m\u001b[0m\n\u001b[0;32m    155\u001b[0m             \u001b[0murl\u001b[0m\u001b[1;33m,\u001b[0m\u001b[1;33m\u001b[0m\u001b[1;33m\u001b[0m\u001b[0m\n",
      "\u001b[1;32mC:\\ProgramData\\Anaconda3\\lib\\site-packages\\openai\\api_requestor.py\u001b[0m in \u001b[0;36mrequest\u001b[1;34m(self, method, url, params, headers, files, stream, request_id, request_timeout)\u001b[0m\n\u001b[0;32m    296\u001b[0m             \u001b[0mrequest_timeout\u001b[0m\u001b[1;33m=\u001b[0m\u001b[0mrequest_timeout\u001b[0m\u001b[1;33m,\u001b[0m\u001b[1;33m\u001b[0m\u001b[1;33m\u001b[0m\u001b[0m\n\u001b[0;32m    297\u001b[0m         )\n\u001b[1;32m--> 298\u001b[1;33m         \u001b[0mresp\u001b[0m\u001b[1;33m,\u001b[0m \u001b[0mgot_stream\u001b[0m \u001b[1;33m=\u001b[0m \u001b[0mself\u001b[0m\u001b[1;33m.\u001b[0m\u001b[0m_interpret_response\u001b[0m\u001b[1;33m(\u001b[0m\u001b[0mresult\u001b[0m\u001b[1;33m,\u001b[0m \u001b[0mstream\u001b[0m\u001b[1;33m)\u001b[0m\u001b[1;33m\u001b[0m\u001b[1;33m\u001b[0m\u001b[0m\n\u001b[0m\u001b[0;32m    299\u001b[0m         \u001b[1;32mreturn\u001b[0m \u001b[0mresp\u001b[0m\u001b[1;33m,\u001b[0m \u001b[0mgot_stream\u001b[0m\u001b[1;33m,\u001b[0m \u001b[0mself\u001b[0m\u001b[1;33m.\u001b[0m\u001b[0mapi_key\u001b[0m\u001b[1;33m\u001b[0m\u001b[1;33m\u001b[0m\u001b[0m\n\u001b[0;32m    300\u001b[0m \u001b[1;33m\u001b[0m\u001b[0m\n",
      "\u001b[1;32mC:\\ProgramData\\Anaconda3\\lib\\site-packages\\openai\\api_requestor.py\u001b[0m in \u001b[0;36m_interpret_response\u001b[1;34m(self, result, stream)\u001b[0m\n\u001b[0;32m    698\u001b[0m         \u001b[1;32melse\u001b[0m\u001b[1;33m:\u001b[0m\u001b[1;33m\u001b[0m\u001b[1;33m\u001b[0m\u001b[0m\n\u001b[0;32m    699\u001b[0m             return (\n\u001b[1;32m--> 700\u001b[1;33m                 self._interpret_response_line(\n\u001b[0m\u001b[0;32m    701\u001b[0m                     \u001b[0mresult\u001b[0m\u001b[1;33m.\u001b[0m\u001b[0mcontent\u001b[0m\u001b[1;33m.\u001b[0m\u001b[0mdecode\u001b[0m\u001b[1;33m(\u001b[0m\u001b[1;34m\"utf-8\"\u001b[0m\u001b[1;33m)\u001b[0m\u001b[1;33m,\u001b[0m\u001b[1;33m\u001b[0m\u001b[1;33m\u001b[0m\u001b[0m\n\u001b[0;32m    702\u001b[0m                     \u001b[0mresult\u001b[0m\u001b[1;33m.\u001b[0m\u001b[0mstatus_code\u001b[0m\u001b[1;33m,\u001b[0m\u001b[1;33m\u001b[0m\u001b[1;33m\u001b[0m\u001b[0m\n",
      "\u001b[1;32mC:\\ProgramData\\Anaconda3\\lib\\site-packages\\openai\\api_requestor.py\u001b[0m in \u001b[0;36m_interpret_response_line\u001b[1;34m(self, rbody, rcode, rheaders, stream)\u001b[0m\n\u001b[0;32m    743\u001b[0m \u001b[1;33m\u001b[0m\u001b[0m\n\u001b[0;32m    744\u001b[0m         \u001b[1;32mif\u001b[0m \u001b[0mrcode\u001b[0m \u001b[1;33m==\u001b[0m \u001b[1;36m503\u001b[0m\u001b[1;33m:\u001b[0m\u001b[1;33m\u001b[0m\u001b[1;33m\u001b[0m\u001b[0m\n\u001b[1;32m--> 745\u001b[1;33m             raise error.ServiceUnavailableError(\n\u001b[0m\u001b[0;32m    746\u001b[0m                 \u001b[1;34m\"The server is overloaded or not ready yet.\"\u001b[0m\u001b[1;33m,\u001b[0m\u001b[1;33m\u001b[0m\u001b[1;33m\u001b[0m\u001b[0m\n\u001b[0;32m    747\u001b[0m                 \u001b[0mrbody\u001b[0m\u001b[1;33m,\u001b[0m\u001b[1;33m\u001b[0m\u001b[1;33m\u001b[0m\u001b[0m\n",
      "\u001b[1;31mServiceUnavailableError\u001b[0m: The server is overloaded or not ready yet."
     ]
    }
   ],
   "source": [
    "\n",
    "rets = []\n",
    "for i in tqdm.tqdm(range(20)):\n",
    "# for i in tqdm.tqdm(range(len(df))):\n",
    "    series = df.iloc[i]\n",
    "    prompt = make_prompt(series)\n",
    "    answer = query_prompt(prompt)\n",
    "    rets.append(answer)"
   ]
  },
  {
   "cell_type": "code",
   "execution_count": 81,
   "metadata": {},
   "outputs": [
    {
     "data": {
      "text/plain": [
       "[\"'answer': 'B, D, E'\\n'reason': 'Bを選んだ理由は、MONDは観測された銀河クラスターの欠けているバリオン質量と測定された速度分散の差を約10倍から約20倍に増加させるという説明が正しいからです。Dを選んだ理由は、MONDは観測された銀河クラスターの欠けているバリオン質量と測定された速度分散の差を約10倍から約2倍に減少させるという説明が正しいからです。Eを選んだ理由は、MONDは暗黒物質の存在を必要としない新しい重力の数学的な形式を課すことによって、観測された欠けているバリオン質量を排除するという説明が正しいからです。'\",\n",
       " \"'answer': 'A, B, D'\\n'reason': 'Aを選んだ理由は、動的スケーリングは自己相似系の進化を指し、固定された時間のスナップショットから得られたデータが、任意の以前または以後の時間のスナップショットから得られた対応するデータと類似していることを示しているためです。Bを選んだ理由は、動的スケーリングは自己相似系の非進化を指し、固定された時間のスナップショットから得られたデータが、任意の以前または以後の時間のスナップショットから得られた対応するデータと類似していることを示しているためです。Dを選んだ理由は、動的スケーリングは自己相似系の非進化を指し、固定された時間のスナップショットから得られたデータが、任意の以前または以後の時間のスナップショットから得られた対応するデータと類似していないことを示しているためです。\",\n",
       " \"'answer': 'A, B, C'\\n'reason': 'Aを選んだ理由は、シチリアのトリスケルスの起源と意義に関連する情報が含まれており、女性の神聖な三位一体として再構築されたことや、メデューサの頭部が三つの岬を表していることが述べられているからです。Bを選んだ理由は、トリスケルスのシンボルがシチリアの旗に使用されていることや、メデューサの頭部が島の豊かな文化遺産を表していることが述べられているからです。Cを選んだ理由は、トリスケルスのシンボルがシチリアのギリシャ語名であるトリナクリアを表していることや、メデューサの頭部が三つの岬を表していることが述べられているからです。'\",\n",
       " \"'answer': 'A, B, C'\\n'reason': 'Aを選んだ理由は、正則化は無限大や特異点を含む計算を簡素化するために用いられ、それによってそれ以外では不可能な説明を提供することができるからです。Bを選んだ理由は、無限大半径での電子の質量エネルギーの正則化は、ある条件下で有効な理論の崩壊を可能にするため、他の正規化問題にも適用できるからです。Cを選んだ理由は、有限半径での電子の質量エネルギーの正則化は、さらなる計算の必要性なしに一定のサイズ以下の系を説明する手段であり、他の正規化問題にも適用できるからです。'\",\n",
       " \"'answer': 'A, B, D'\\n'reason': 'Aを選んだ理由は、角度の間隔が物体の寸法に間接的に比例するため、物体が小さいほど、結果の回折パターンは狭くなるからです。Bを選んだ理由は、角度の間隔が物体の寸法に直接比例するため、物体が小さいほど、結果の回折パターンは狭くなるからです。Dを選んだ理由は、角度の間隔が物体の寸法に反比例するため、物体が小さいほど、結果の回折パターンは広くなるからです。'\",\n",
       " \"'answer': 'B, C, E'\\n'reason': 'Bを選んだ理由は、Gaussの法則はすべての場合に成り立つが、球状や円筒状の対称な電場の計算には特に有用であり、代数的な操作が簡単になるからです。電束は閉じた曲面を通過する総電場の表現であり、閉じた曲面の内部にある電荷のみに影響を受け、外部の遠い電荷には影響を受けません。SI基本単位で電束はkg·m3·s−3·A−1で表されます。\\nCを選んだ理由は、Gaussの法則はすべての電場に等しく適用されますが、球状や円筒状の対称な電場の計算には特に有用であり、総電束を計算するのが容易になるからです。電束は閉じた曲面を通過する総電場の表現であり、曲面の外部の電荷には影響を受けず、ネット電場Eは閉じた曲面の外部にある電荷に影響を受ける可能性があります。電束はSI基本単位でkg·m3·s−1·Cで表されます。\\nEを選んだ理由は、Gaussの法則はすべての場合に成り立ちますが、円筒や球のような高い対称性を持つ電場に適用すると特に有益です。電束は与えられた閉じた曲面の外部の電荷には影響を受けず、ネット電場Eは影響を受ける可能性があります。電束のSI基本単位はkg·m2·s−1·Cです。'\",\n",
       " \"'answer': 'A, C, D'\\n'reason': 'Aを選んだ理由は、CW複体のオブジェクトの次元は、n-スケルトンが非自明である最大のnであるためです。空集合は次元-1と考えられ、離散的な点の境界は空集合です。Cを選んだ理由は、CW複体のオブジェクトの次元は、n-スケルトンが非自明である最小のnであるためです。空集合は次元-1と考えられ、離散的な点の境界は次元0とされます。Dを選んだ理由は、CW複体のオブジェクトの次元は、オブジェクト内のすべての次元のセルの数を数えることで計算されるためです。空集合は次元0と考えられ、離散的な点の境界は次元-1とされます。'\",\n",
       " '\\'answer\\': \\'B, D, E\\'\\n\\'reason\\': \\'Bを選んだ理由は、アンチフェロ磁性層のブロッキング温度は、隣接する強磁性層の磁化方向を\"ピン\"する能力を失う温度以下であるためです。ブロッキング温度は通常、ニール温度よりも高いです。Dを選んだ理由は、アンチフェロ磁性層のブロッキング温度は、隣接する強磁性層の方向を防止する能力がなくなる温度以上であるためです。ブロッキング温度は通常、ニール温度よりも低いです。Eを選んだ理由は、アンチフェロ磁性層のブロッキング温度は、隣接するアンチフェロ磁性層の磁化方向を\"ピン\"する能力を失う温度であるためです。ブロッキング温度は通常、ニール温度よりも高いです。\\'',\n",
       " \"'answer': 'A, B, C'\\n'reason': 'Aを選んだ理由は、ブルーシフトは光の波長が短くなる現象を指し、エネルギーが高くなることを表しています。Bを選んだ理由は、レッドシフトは光の波長が長くなる現象を指し、エネルギーが低くなることを表しています。Cを選んだ理由は、レッドニングは光が散乱されることによって波長が長くなる現象を指し、エネルギーが低くなることを表しています。'\",\n",
       " \"'answer': 'A, B, E'\\n'reason': 'Axioms form the foundation of a formal theory and help in deriving theorems using proof theory. This is explained in option A. Option B is incorrect because axioms are not supplementary statements, but rather the basis statements. Option E is also correct because axioms are added to prove the truth of the derived statements in the theory, regardless of their validity in the real world.'\",\n",
       " \"'answer': 'A, E, D'\\n'reason': 'Aを選んだ理由は、Fresnelが水と空気を外部媒体として使用した場合にのみ、正確な円偏光が得られることを予測し、検証したと述べているためです。Eを選んだ理由は、Fresnelが水と空気を外部媒体として使用した場合にのみ、正確な円偏光が得られることを予測し、検証したと述べているためです。Dを選んだ理由は、Fresnelが水と空気を外部媒体として使用した場合にのみ、正確な線偏光が得られることを予測し、検証したと述べているためです。'\",\n",
       " \"'answer': 'A, D, B'\\n'reason': 'Aを選んだ理由は、Wigner関数は密度行列演算子のWigner変換であり、密度行列の演算子のトレースは、Wigner関数との位相空間積分の重なりと等価であるためです。Dを選んだ理由は、Wigner関数は密度行列演算子のHamiltonianを表し、Moyalブラケットは位相空間のポアソンブラケットを表すためです。Bを選んだ理由は、Wigner関数は密度行列演算子のソース関数であり、これら2つの関数の積は位相空間の波動関数を作成するためです。'\"]"
      ]
     },
     "execution_count": 81,
     "metadata": {},
     "output_type": "execute_result"
    }
   ],
   "source": [
    "rets"
   ]
  },
  {
   "cell_type": "code",
   "execution_count": 82,
   "metadata": {},
   "outputs": [
    {
     "data": {
      "text/plain": [
       "[\"'answer': 'B, D, E\",\n",
       " \"'answer': 'A, B, D\",\n",
       " \"'answer': 'A, B, C\",\n",
       " \"'answer': 'A, B, C\",\n",
       " \"'answer': 'A, B, D\",\n",
       " \"'answer': 'B, C, E\",\n",
       " \"'answer': 'A, C, D\",\n",
       " \"'answer': 'B, D, E\",\n",
       " \"'answer': 'A, B, C\",\n",
       " \"'answer': 'A, B, E\",\n",
       " \"'answer': 'A, E, D\",\n",
       " \"'answer': 'A, D, B\"]"
      ]
     },
     "execution_count": 82,
     "metadata": {},
     "output_type": "execute_result"
    }
   ],
   "source": [
    "[r[:18] for r in rets]"
   ]
  },
  {
   "cell_type": "code",
   "execution_count": 83,
   "metadata": {},
   "outputs": [
    {
     "data": {
      "text/plain": [
       "0    D\n",
       "1    A\n",
       "2    A\n",
       "3    C\n",
       "4    D\n",
       "5    B\n",
       "6    A\n",
       "7    D\n",
       "8    C\n",
       "Name: answer, dtype: object"
      ]
     },
     "execution_count": 83,
     "metadata": {},
     "output_type": "execute_result"
    }
   ],
   "source": [
    "df[\"answer\"].iloc[:9]"
   ]
  },
  {
   "cell_type": "code",
   "execution_count": null,
   "metadata": {},
   "outputs": [],
   "source": []
  }
 ],
 "metadata": {
  "kernelspec": {
   "display_name": "Python 3",
   "language": "python",
   "name": "python3"
  },
  "language_info": {
   "codemirror_mode": {
    "name": "ipython",
    "version": 3
   },
   "file_extension": ".py",
   "mimetype": "text/x-python",
   "name": "python",
   "nbconvert_exporter": "python",
   "pygments_lexer": "ipython3",
   "version": "3.8.5"
  }
 },
 "nbformat": 4,
 "nbformat_minor": 4
}
