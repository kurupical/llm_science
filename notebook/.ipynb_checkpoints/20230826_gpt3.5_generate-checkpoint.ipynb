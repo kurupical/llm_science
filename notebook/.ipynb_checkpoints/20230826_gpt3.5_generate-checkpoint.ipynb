{
 "cells": [
  {
   "cell_type": "code",
   "execution_count": 1,
   "metadata": {},
   "outputs": [],
   "source": [
    "import openai\n",
    "import pandas as pd\n",
    "import tqdm\n",
    "import glob\n",
    "\n",
    "import warnings\n",
    "warnings.filterwarnings(\"ignore\")"
   ]
  },
  {
   "cell_type": "code",
   "execution_count": 2,
   "metadata": {},
   "outputs": [],
   "source": [
    "with open(\"../apikey/apikey.txt\", \"r\") as f:\n",
    "    openai.api_key = f.readline().replace(\"\\n\", \"\")"
   ]
  },
  {
   "cell_type": "code",
   "execution_count": 3,
   "metadata": {},
   "outputs": [],
   "source": [
    "def query_prompt(prompt, max_tokens=1000):\n",
    "    response = openai.ChatCompletion.create(\n",
    "        model=\"gpt-3.5-turbo-16k\",\n",
    "        messages=[{\"role\": \"user\", \"content\": prompt}],\n",
    "        max_tokens=max_tokens,\n",
    "        temperature=0,\n",
    "    )\n",
    "    return response[\"choices\"][0][\"message\"][\"content\"]"
   ]
  },
  {
   "cell_type": "code",
   "execution_count": null,
   "metadata": {},
   "outputs": [],
   "source": []
  },
  {
   "cell_type": "code",
   "execution_count": 4,
   "metadata": {},
   "outputs": [],
   "source": [
    "def get_df(fname):\n",
    "    def f(categories):\n",
    "        for cat in categories:\n",
    "            if \"science\" in cat:\n",
    "                return True\n",
    "            if \"physics\" in cat:\n",
    "                return True\n",
    "            if \"chemistry\" in cat:\n",
    "                return True\n",
    "        return False\n",
    "    \n",
    "    def text_preprocess(text):\n",
    "        return text.replace(\"===\", \"\\n\").replace(\"==\", \"\\n\")\n",
    "\n",
    "    df = pd.read_parquet(fname)\n",
    "    df_science = df[df[\"categories\"].apply(f)]\n",
    "    df_science[\"text\"] = \"title: \" + df_science[\"title\"] + \"\\n\" + df_science[\"text\"].apply(text_preprocess)\n",
    "    return df_science.sample(len(df_science)//20)"
   ]
  },
  {
   "cell_type": "code",
   "execution_count": 5,
   "metadata": {},
   "outputs": [],
   "source": [
    "files = glob.glob(\"../data/wikipedia/*.parquet\")"
   ]
  },
  {
   "cell_type": "code",
   "execution_count": 6,
   "metadata": {},
   "outputs": [],
   "source": [
    "import time"
   ]
  },
  {
   "cell_type": "code",
   "execution_count": 7,
   "metadata": {},
   "outputs": [],
   "source": [
    "import pickle"
   ]
  },
  {
   "cell_type": "code",
   "execution_count": 8,
   "metadata": {},
   "outputs": [],
   "source": [
    "import json"
   ]
  },
  {
   "cell_type": "code",
   "execution_count": 9,
   "metadata": {},
   "outputs": [],
   "source": [
    "from datetime import datetime as dt"
   ]
  },
  {
   "cell_type": "code",
   "execution_count": 11,
   "metadata": {},
   "outputs": [
    {
     "name": "stderr",
     "output_type": "stream",
     "text": [
      "../data/wikipedia/a.parquet:  13%|█████████                                                            | 18/138 [01:36<11:08,  5.57s/it]Traceback (most recent call last):\n",
      "  File \"/tmp/ipykernel_13518/3945710129.py\", line 35, in <module>\n",
      "    text[\"wiki_id\"] = series[\"id\"]\n",
      "TypeError: list indices must be integers or slices, not str\n",
      "../data/wikipedia/a.parquet:  14%|█████████▌                                                           | 19/138 [01:44<12:45,  6.44s/it]"
     ]
    },
    {
     "name": "stdout",
     "output_type": "stream",
     "text": [
      "list indices must be integers or slices, not str\n"
     ]
    },
    {
     "name": "stderr",
     "output_type": "stream",
     "text": [
      "../data/wikipedia/a.parquet:  15%|██████████▌                                                          | 21/138 [01:53<10:30,  5.39s/it]Traceback (most recent call last):\n",
      "  File \"/tmp/ipykernel_13518/3945710129.py\", line 35, in <module>\n",
      "    text[\"wiki_id\"] = series[\"id\"]\n",
      "TypeError: list indices must be integers or slices, not str\n",
      "../data/wikipedia/a.parquet:  16%|██████████▉                                                          | 22/138 [01:57<09:29,  4.91s/it]"
     ]
    },
    {
     "name": "stdout",
     "output_type": "stream",
     "text": [
      "list indices must be integers or slices, not str\n"
     ]
    },
    {
     "name": "stderr",
     "output_type": "stream",
     "text": [
      "../data/wikipedia/a.parquet:  19%|█████████████                                                        | 26/138 [02:25<10:28,  5.61s/it]\n",
      "\n",
      "KeyboardInterrupt\n",
      "\n"
     ]
    }
   ],
   "source": [
    "import traceback \n",
    "batch_size = 1\n",
    "\n",
    "def make_prompt(series):\n",
    "    prompt = f\"\"\"\n",
    "# 依頼\n",
    "You are a university professor and you are creating a test for your students.\n",
    "Using the one given texts, create a question in which you must select one answer from five choices. Also, extract the part of the text that provides the basis for the answer.\n",
    "The output should be an array in json format with the question text as 'prompt', the choices as 'A', 'B', 'C', 'D', and 'E', the answer choice as 'answer', and the rationale as 'basis'.\n",
    "Also, please create one question per text. So the total number of problems created will be 1.\n",
    "\n",
    "# text\n",
    "## text 1 \n",
    "{series['text']}\n",
    "\n",
    "\n",
    "# attention\n",
    "Please create one question per text. So the total number of problems created will be 1.\n",
    "\"\"\"\n",
    "    return prompt\n",
    "texts = []\n",
    "now_date = dt.now().strftime(\"%Y%m%d%H%M%S\")\n",
    "\n",
    "for f in files:\n",
    "    df_science = get_df(f)\n",
    "    \n",
    "    for i in tqdm.tqdm(range(len(df_science)), desc=f):\n",
    "        try:\n",
    "            series = df_science.iloc[i]\n",
    "            prompt = make_prompt(series)\n",
    "            text = query_prompt(prompt)\n",
    "            text = json.loads(text)\n",
    "            if type(text) == list:\n",
    "                text = text[0]\n",
    "            text[\"wiki_id\"] = series[\"id\"]\n",
    "            text[\"original_text\"] = series[\"text\"]\n",
    "                texts.append(text)\n",
    "        except Exception as e:\n",
    "            print(e)\n",
    "            traceback.print_exc()\n",
    "            print(text)\n",
    "    pd.DataFrame(texts).to_csv(f\"output_gpt3.5_generate/{now_date}.csv\")"
   ]
  },
  {
   "cell_type": "code",
   "execution_count": null,
   "metadata": {},
   "outputs": [],
   "source": []
  },
  {
   "cell_type": "code",
   "execution_count": null,
   "metadata": {},
   "outputs": [],
   "source": [
    "pd.DataFrame(texts)"
   ]
  },
  {
   "cell_type": "code",
   "execution_count": 41,
   "metadata": {},
   "outputs": [
    {
     "data": {
      "text/html": [
       "<div>\n",
       "<style scoped>\n",
       "    .dataframe tbody tr th:only-of-type {\n",
       "        vertical-align: middle;\n",
       "    }\n",
       "\n",
       "    .dataframe tbody tr th {\n",
       "        vertical-align: top;\n",
       "    }\n",
       "\n",
       "    .dataframe thead th {\n",
       "        text-align: right;\n",
       "    }\n",
       "</style>\n",
       "<table border=\"1\" class=\"dataframe\">\n",
       "  <thead>\n",
       "    <tr style=\"text-align: right;\">\n",
       "      <th></th>\n",
       "      <th>id</th>\n",
       "      <th>title</th>\n",
       "      <th>text</th>\n",
       "      <th>categories</th>\n",
       "    </tr>\n",
       "  </thead>\n",
       "  <tbody>\n",
       "  </tbody>\n",
       "</table>\n",
       "</div>"
      ],
      "text/plain": [
       "Empty DataFrame\n",
       "Columns: [id, title, text, categories]\n",
       "Index: []"
      ]
     },
     "execution_count": 41,
     "metadata": {},
     "output_type": "execute_result"
    }
   ],
   "source": [
    "df_science = get_df(files[0])\n",
    "df_science[df_science[\"id\"] == '29637793']"
   ]
  },
  {
   "cell_type": "code",
   "execution_count": 42,
   "metadata": {},
   "outputs": [
    {
     "data": {
      "text/html": [
       "<div>\n",
       "<style scoped>\n",
       "    .dataframe tbody tr th:only-of-type {\n",
       "        vertical-align: middle;\n",
       "    }\n",
       "\n",
       "    .dataframe tbody tr th {\n",
       "        vertical-align: top;\n",
       "    }\n",
       "\n",
       "    .dataframe thead th {\n",
       "        text-align: right;\n",
       "    }\n",
       "</style>\n",
       "<table border=\"1\" class=\"dataframe\">\n",
       "  <thead>\n",
       "    <tr style=\"text-align: right;\">\n",
       "      <th></th>\n",
       "      <th>id</th>\n",
       "      <th>title</th>\n",
       "      <th>text</th>\n",
       "      <th>categories</th>\n",
       "    </tr>\n",
       "  </thead>\n",
       "  <tbody>\n",
       "    <tr>\n",
       "      <th>368626</th>\n",
       "      <td>1908395</td>\n",
       "      <td>Artificial brain</td>\n",
       "      <td>title: Artificial brain\\nAn artificial brain (...</td>\n",
       "      <td>[Computational neuroscience, Robotics, Emergin...</td>\n",
       "    </tr>\n",
       "    <tr>\n",
       "      <th>34268</th>\n",
       "      <td>10410698</td>\n",
       "      <td>Abdul Amir al-Jamri</td>\n",
       "      <td>title: Abdul Amir al-Jamri\\nSheikh Abdul Amir ...</td>\n",
       "      <td>[1938 births, 2006 deaths, Deaths from kidney ...</td>\n",
       "    </tr>\n",
       "    <tr>\n",
       "      <th>233077</th>\n",
       "      <td>1958222</td>\n",
       "      <td>Amyloid beta</td>\n",
       "      <td>title: Amyloid beta\\nAmyloid beta (Aβ or Abeta...</td>\n",
       "      <td>[Peptides, Molecular neuroscience, Alzheimer's...</td>\n",
       "    </tr>\n",
       "    <tr>\n",
       "      <th>9870</th>\n",
       "      <td>3621668</td>\n",
       "      <td>A Woman of the Iron People</td>\n",
       "      <td>title: A Woman of the Iron People\\nA Woman of ...</td>\n",
       "      <td>[1991 American novels, 1991 science fiction no...</td>\n",
       "    </tr>\n",
       "    <tr>\n",
       "      <th>139719</th>\n",
       "      <td>38366604</td>\n",
       "      <td>Albert Spaier</td>\n",
       "      <td>title: Albert Spaier\\nAlbert Spaier (9 July 18...</td>\n",
       "      <td>[1883 births, 1934 deaths, Writers from Iași, ...</td>\n",
       "    </tr>\n",
       "    <tr>\n",
       "      <th>...</th>\n",
       "      <td>...</td>\n",
       "      <td>...</td>\n",
       "      <td>...</td>\n",
       "      <td>...</td>\n",
       "    </tr>\n",
       "    <tr>\n",
       "      <th>62685</th>\n",
       "      <td>4474244</td>\n",
       "      <td>Actuarial reserves</td>\n",
       "      <td>title: Actuarial reserves\\nIn insurance, an ac...</td>\n",
       "      <td>[Actuarial science, Capital requirement de:Dec...</td>\n",
       "    </tr>\n",
       "    <tr>\n",
       "      <th>357456</th>\n",
       "      <td>4260564</td>\n",
       "      <td>Arrival II</td>\n",
       "      <td>title: Arrival II\\nArrival ll (alternatively t...</td>\n",
       "      <td>[1998 films, 1998 science fiction films, Ameri...</td>\n",
       "    </tr>\n",
       "    <tr>\n",
       "      <th>391514</th>\n",
       "      <td>32894329</td>\n",
       "      <td>Astrobiophysics</td>\n",
       "      <td>title: Astrobiophysics\\nAstrobiophysics is a f...</td>\n",
       "      <td>[Astrophysics, Biophysics .]</td>\n",
       "    </tr>\n",
       "    <tr>\n",
       "      <th>10000</th>\n",
       "      <td>2824171</td>\n",
       "      <td>A World of Difference (novel)</td>\n",
       "      <td>title: A World of Difference (novel)\\nA World ...</td>\n",
       "      <td>[1990 American novels, Novels set during the C...</td>\n",
       "    </tr>\n",
       "    <tr>\n",
       "      <th>264660</th>\n",
       "      <td>4468753</td>\n",
       "      <td>Andy Duncan (writer)</td>\n",
       "      <td>title: Andy Duncan (writer)\\nthumb|Andy Duncan...</td>\n",
       "      <td>[1964 births, Living people, 21st-century Amer...</td>\n",
       "    </tr>\n",
       "  </tbody>\n",
       "</table>\n",
       "<p>277 rows × 4 columns</p>\n",
       "</div>"
      ],
      "text/plain": [
       "              id                          title  \\\n",
       "368626   1908395               Artificial brain   \n",
       "34268   10410698            Abdul Amir al-Jamri   \n",
       "233077   1958222                   Amyloid beta   \n",
       "9870     3621668     A Woman of the Iron People   \n",
       "139719  38366604                  Albert Spaier   \n",
       "...          ...                            ...   \n",
       "62685    4474244             Actuarial reserves   \n",
       "357456   4260564                     Arrival II   \n",
       "391514  32894329                Astrobiophysics   \n",
       "10000    2824171  A World of Difference (novel)   \n",
       "264660   4468753           Andy Duncan (writer)   \n",
       "\n",
       "                                                     text  \\\n",
       "368626  title: Artificial brain\\nAn artificial brain (...   \n",
       "34268   title: Abdul Amir al-Jamri\\nSheikh Abdul Amir ...   \n",
       "233077  title: Amyloid beta\\nAmyloid beta (Aβ or Abeta...   \n",
       "9870    title: A Woman of the Iron People\\nA Woman of ...   \n",
       "139719  title: Albert Spaier\\nAlbert Spaier (9 July 18...   \n",
       "...                                                   ...   \n",
       "62685   title: Actuarial reserves\\nIn insurance, an ac...   \n",
       "357456  title: Arrival II\\nArrival ll (alternatively t...   \n",
       "391514  title: Astrobiophysics\\nAstrobiophysics is a f...   \n",
       "10000   title: A World of Difference (novel)\\nA World ...   \n",
       "264660  title: Andy Duncan (writer)\\nthumb|Andy Duncan...   \n",
       "\n",
       "                                               categories  \n",
       "368626  [Computational neuroscience, Robotics, Emergin...  \n",
       "34268   [1938 births, 2006 deaths, Deaths from kidney ...  \n",
       "233077  [Peptides, Molecular neuroscience, Alzheimer's...  \n",
       "9870    [1991 American novels, 1991 science fiction no...  \n",
       "139719  [1883 births, 1934 deaths, Writers from Iași, ...  \n",
       "...                                                   ...  \n",
       "62685   [Actuarial science, Capital requirement de:Dec...  \n",
       "357456  [1998 films, 1998 science fiction films, Ameri...  \n",
       "391514                       [Astrophysics, Biophysics .]  \n",
       "10000   [1990 American novels, Novels set during the C...  \n",
       "264660  [1964 births, Living people, 21st-century Amer...  \n",
       "\n",
       "[277 rows x 4 columns]"
      ]
     },
     "execution_count": 42,
     "metadata": {},
     "output_type": "execute_result"
    }
   ],
   "source": [
    "df_science"
   ]
  },
  {
   "cell_type": "code",
   "execution_count": null,
   "metadata": {},
   "outputs": [],
   "source": []
  }
 ],
 "metadata": {
  "kernelspec": {
   "display_name": "Python 3 (ipykernel)",
   "language": "python",
   "name": "python3"
  },
  "language_info": {
   "codemirror_mode": {
    "name": "ipython",
    "version": 3
   },
   "file_extension": ".py",
   "mimetype": "text/x-python",
   "name": "python",
   "nbconvert_exporter": "python",
   "pygments_lexer": "ipython3",
   "version": "3.10.12"
  }
 },
 "nbformat": 4,
 "nbformat_minor": 4
}
