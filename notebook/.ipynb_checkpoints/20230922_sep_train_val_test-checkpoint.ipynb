{
 "cells": [
  {
   "cell_type": "code",
   "execution_count": 1,
   "id": "d5113184",
   "metadata": {},
   "outputs": [],
   "source": [
    "import pandas as pd"
   ]
  },
  {
   "cell_type": "code",
   "execution_count": null,
   "id": "7a6ba10e",
   "metadata": {},
   "outputs": [],
   "source": []
  },
  {
   "cell_type": "code",
   "execution_count": 3,
   "id": "c663edb5",
   "metadata": {},
   "outputs": [],
   "source": [
    "df = pd.read_parquet(\"../output/context_pipeline/stage1/exp007.py/20230918222000_gte-base_wikiall_without_sep_targetprompt_and_choice_without_sep_token_length100_stride75_all/train.parquet\")"
   ]
  },
  {
   "cell_type": "code",
   "execution_count": 14,
   "id": "21496549",
   "metadata": {},
   "outputs": [],
   "source": [
    "df = df[df[\"source\"] != \"20230914125028_20230911_gpt3.5_generate4\"]"
   ]
  },
  {
   "cell_type": "code",
   "execution_count": 15,
   "id": "5fa0e19f",
   "metadata": {
    "scrolled": true
   },
   "outputs": [
    {
     "data": {
      "text/plain": [
       "3                                                                                  14706\n",
       "10                                                                                 11679\n",
       "2                                                                                   5861\n",
       "6                                                                                   5843\n",
       "5                                                                                   5798\n",
       "additional_data/MMLU/test.csv                                                       5781\n",
       "4                                                                                   5737\n",
       "additional_data/MMLU/train.csv                                                      4499\n",
       "9                                                                                   3369\n",
       "8                                                                                   3124\n",
       "additional_data/ScienceQA/train.parquet                                             1995\n",
       "additional_data/OpenBookQA-V1-Sep2018/OpenBookQA-V1-Sep2018/Data/Main/train.tsv     1771\n",
       "11                                                                                   993\n",
       "12                                                                                   988\n",
       "7                                                                                    874\n",
       "additional_data/ScienceQA/test.parquet                                               673\n",
       "additional_data/MMLU/valid.csv                                                       635\n",
       "additional_data/ScienceQA/val.parquet                                                623\n",
       "1                                                                                    375\n",
       "additional_data/OpenBookQA-V1-Sep2018/OpenBookQA-V1-Sep2018/Data/Main/test.tsv       180\n",
       "additional_data/OpenBookQA-V1-Sep2018/OpenBookQA-V1-Sep2018/Data/Main/dev.tsv        164\n",
       "Name: source, dtype: int64"
      ]
     },
     "execution_count": 15,
     "metadata": {},
     "output_type": "execute_result"
    }
   ],
   "source": [
    "df[\"source\"].value_counts()"
   ]
  },
  {
   "cell_type": "code",
   "execution_count": 16,
   "id": "1249a704",
   "metadata": {},
   "outputs": [],
   "source": [
    "df_train = df.sample(1500)"
   ]
  },
  {
   "cell_type": "code",
   "execution_count": 17,
   "id": "0b9e66a2",
   "metadata": {},
   "outputs": [],
   "source": [
    "df_test = df[~df.index.isin(df_train.index)]"
   ]
  },
  {
   "cell_type": "code",
   "execution_count": 18,
   "id": "9afefbbf",
   "metadata": {},
   "outputs": [
    {
     "data": {
      "text/plain": [
       "3    489\n",
       "5    219\n",
       "4    216\n",
       "6    215\n",
       "2    203\n",
       "8    121\n",
       "7     21\n",
       "1     16\n",
       "Name: source, dtype: int64"
      ]
     },
     "execution_count": 18,
     "metadata": {},
     "output_type": "execute_result"
    }
   ],
   "source": [
    "# now gpt\n",
    "df_test1 = df_test[df_test[\"source\"].isin([\"1\", \"2\", \"3\", \"4\", \"5\", \"6\", \"7\", \"8\"])].sample(1500)\n",
    "df_test1[\"source\"].value_counts()"
   ]
  },
  {
   "cell_type": "code",
   "execution_count": 19,
   "id": "44247dc0",
   "metadata": {},
   "outputs": [
    {
     "data": {
      "text/plain": [
       "3                                                                                  273\n",
       "10                                                                                 222\n",
       "2                                                                                  136\n",
       "5                                                                                  123\n",
       "6                                                                                  117\n",
       "4                                                                                  116\n",
       "additional_data/MMLU/test.csv                                                      111\n",
       "additional_data/MMLU/train.csv                                                      97\n",
       "8                                                                                   72\n",
       "9                                                                                   57\n",
       "additional_data/OpenBookQA-V1-Sep2018/OpenBookQA-V1-Sep2018/Data/Main/train.tsv     36\n",
       "additional_data/ScienceQA/train.parquet                                             29\n",
       "11                                                                                  23\n",
       "additional_data/ScienceQA/test.parquet                                              19\n",
       "12                                                                                  17\n",
       "7                                                                                   17\n",
       "additional_data/MMLU/valid.csv                                                      13\n",
       "1                                                                                    9\n",
       "additional_data/OpenBookQA-V1-Sep2018/OpenBookQA-V1-Sep2018/Data/Main/dev.tsv        5\n",
       "additional_data/ScienceQA/val.parquet                                                5\n",
       "additional_data/OpenBookQA-V1-Sep2018/OpenBookQA-V1-Sep2018/Data/Main/test.tsv       3\n",
       "Name: source, dtype: int64"
      ]
     },
     "execution_count": 19,
     "metadata": {},
     "output_type": "execute_result"
    }
   ],
   "source": [
    "# now gpt\n",
    "df_test2 = df_test.sample(1500)\n",
    "df_test2[\"source\"].value_counts()"
   ]
  },
  {
   "cell_type": "code",
   "execution_count": 24,
   "id": "2322faf0",
   "metadata": {},
   "outputs": [
    {
     "data": {
      "text/plain": [
       "3                                          457\n",
       "6                                          261\n",
       "2                                          210\n",
       "4                                          194\n",
       "5                                          173\n",
       "10                                          80\n",
       "additional_data/MMLU/test.csv               57\n",
       "8                                           17\n",
       "1                                           14\n",
       "additional_data/ScienceQA/train.parquet      7\n",
       "additional_data/MMLU/valid.csv               6\n",
       "12                                           5\n",
       "9                                            5\n",
       "11                                           4\n",
       "additional_data/MMLU/train.csv               4\n",
       "additional_data/ScienceQA/val.parquet        3\n",
       "7                                            2\n",
       "additional_data/ScienceQA/test.parquet       1\n",
       "Name: source, dtype: int64"
      ]
     },
     "execution_count": 24,
     "metadata": {},
     "output_type": "execute_result"
    }
   ],
   "source": [
    "df_test3 = df_test[df_test[\"A\"].apply(len) > 100].sample(1500)\n",
    "df_test3[\"source\"].value_counts()"
   ]
  },
  {
   "cell_type": "code",
   "execution_count": 25,
   "id": "9b5ef469",
   "metadata": {},
   "outputs": [
    {
     "data": {
      "text/plain": [
       "3    530\n",
       "6    288\n",
       "2    257\n",
       "5    207\n",
       "4    184\n",
       "1     17\n",
       "8     16\n",
       "7      1\n",
       "Name: source, dtype: int64"
      ]
     },
     "execution_count": 25,
     "metadata": {},
     "output_type": "execute_result"
    }
   ],
   "source": [
    "df_test4 = df_test[(df_test[\"A\"].apply(len) > 100) & (df_test[\"source\"].isin([\"1\", \"2\", \"3\", \"4\", \"5\", \"6\", \"7\", \"8\"]))].sample(1500)\n",
    "df_test4[\"source\"].value_counts()"
   ]
  },
  {
   "cell_type": "code",
   "execution_count": 41,
   "id": "64a2d691",
   "metadata": {},
   "outputs": [
    {
     "data": {
      "text/plain": [
       "1500"
      ]
     },
     "execution_count": 41,
     "metadata": {},
     "output_type": "execute_result"
    }
   ],
   "source": [
    "200*7+100"
   ]
  },
  {
   "cell_type": "code",
   "execution_count": 44,
   "id": "38d9cc62",
   "metadata": {},
   "outputs": [
    {
     "data": {
      "text/plain": [
       "5    188\n",
       "6    188\n",
       "7    188\n",
       "8    188\n",
       "1    187\n",
       "2    187\n",
       "3    187\n",
       "4    187\n",
       "Name: source, dtype: int64"
      ]
     },
     "execution_count": 44,
     "metadata": {},
     "output_type": "execute_result"
    }
   ],
   "source": [
    "# now gpt\n",
    "df_test5 = pd.concat([\n",
    "    df_test[df_test[\"source\"] == \"1\"].sample(187),\n",
    "    df_test[df_test[\"source\"] == \"2\"].sample(187),\n",
    "    df_test[df_test[\"source\"] == \"3\"].sample(187),\n",
    "    df_test[df_test[\"source\"] == \"4\"].sample(187),\n",
    "    df_test[df_test[\"source\"] == \"5\"].sample(188),\n",
    "    df_test[df_test[\"source\"] == \"6\"].sample(188),\n",
    "    df_test[df_test[\"source\"] == \"7\"].sample(188),\n",
    "    df_test[df_test[\"source\"] == \"8\"].sample(188)\n",
    "])\n",
    "\n",
    "df_test5[\"source\"].value_counts()"
   ]
  },
  {
   "cell_type": "code",
   "execution_count": null,
   "id": "02d062e3",
   "metadata": {},
   "outputs": [],
   "source": []
  },
  {
   "cell_type": "code",
   "execution_count": 27,
   "id": "a361ea6b",
   "metadata": {},
   "outputs": [],
   "source": [
    "import os"
   ]
  },
  {
   "cell_type": "code",
   "execution_count": 29,
   "id": "d63ebe66",
   "metadata": {},
   "outputs": [],
   "source": [
    "output_dir = \"../data/train_parquet/cv_test/1\"\n",
    "os.makedirs(output_dir, exist_ok=True)\n",
    "df_train.to_parquet(f\"{output_dir}/train.parquet\")\n",
    "df_test1.to_parquet(f\"{output_dir}/valid.parquet\")\n",
    "pd.read_parquet(\n",
    "    \"../output/context_pipeline/stage1/exp007.py/20230918222000_gte-base_wikiall_without_sep_targetprompt_and_choice_without_sep_token_length100_stride75_all/test.parquet\"\n",
    ").to_parquet(f\"{output_dir}/test.parquet\")"
   ]
  },
  {
   "cell_type": "code",
   "execution_count": 30,
   "id": "c5ab1b9a",
   "metadata": {},
   "outputs": [],
   "source": [
    "output_dir = \"../data/train_parquet/cv_test/2\"\n",
    "os.makedirs(output_dir, exist_ok=True)\n",
    "df_train.to_parquet(f\"{output_dir}/train.parquet\")\n",
    "df_test2.to_parquet(f\"{output_dir}/valid.parquet\")\n",
    "pd.read_parquet(\n",
    "    \"../output/context_pipeline/stage1/exp007.py/20230918222000_gte-base_wikiall_without_sep_targetprompt_and_choice_without_sep_token_length100_stride75_all/test.parquet\"\n",
    ").to_parquet(f\"{output_dir}/test.parquet\")"
   ]
  },
  {
   "cell_type": "code",
   "execution_count": 31,
   "id": "36f0b6a5",
   "metadata": {},
   "outputs": [],
   "source": [
    "output_dir = \"../data/train_parquet/cv_test/3\"\n",
    "os.makedirs(output_dir, exist_ok=True)\n",
    "df_train.to_parquet(f\"{output_dir}/train.parquet\")\n",
    "df_test3.to_parquet(f\"{output_dir}/valid.parquet\")\n",
    "pd.read_parquet(\n",
    "    \"../output/context_pipeline/stage1/exp007.py/20230918222000_gte-base_wikiall_without_sep_targetprompt_and_choice_without_sep_token_length100_stride75_all/test.parquet\"\n",
    ").to_parquet(f\"{output_dir}/test.parquet\")"
   ]
  },
  {
   "cell_type": "code",
   "execution_count": 32,
   "id": "598a1fec",
   "metadata": {},
   "outputs": [],
   "source": [
    "output_dir = \"../data/train_parquet/cv_test/4\"\n",
    "os.makedirs(output_dir, exist_ok=True)\n",
    "df_train.to_parquet(f\"{output_dir}/train.parquet\")\n",
    "df_test4.to_parquet(f\"{output_dir}/valid.parquet\")\n",
    "pd.read_parquet(\n",
    "    \"../output/context_pipeline/stage1/exp007.py/20230918222000_gte-base_wikiall_without_sep_targetprompt_and_choice_without_sep_token_length100_stride75_all/test.parquet\"\n",
    ").to_parquet(f\"{output_dir}/test.parquet\")"
   ]
  },
  {
   "cell_type": "code",
   "execution_count": 45,
   "id": "e91b3d39",
   "metadata": {},
   "outputs": [],
   "source": [
    "output_dir = \"../data/train_parquet/cv_test/5\"\n",
    "os.makedirs(output_dir, exist_ok=True)\n",
    "df_train.to_parquet(f\"{output_dir}/train.parquet\")\n",
    "df_test5.to_parquet(f\"{output_dir}/valid.parquet\")\n",
    "pd.read_parquet(\n",
    "    \"../output/context_pipeline/stage1/exp007.py/20230918222000_gte-base_wikiall_without_sep_targetprompt_and_choice_without_sep_token_length100_stride75_all/test.parquet\"\n",
    ").to_parquet(f\"{output_dir}/test.parquet\")"
   ]
  },
  {
   "cell_type": "code",
   "execution_count": 47,
   "id": "f7bb0930",
   "metadata": {},
   "outputs": [],
   "source": [
    "output_dir = \"../data/train_parquet/cv_test/6\"\n",
    "os.makedirs(output_dir, exist_ok=True)\n",
    "df_train.to_parquet(f\"{output_dir}/train.parquet\")\n",
    "df_test.sample(10000).to_parquet(f\"{output_dir}/valid.parquet\")\n",
    "pd.read_parquet(\n",
    "    \"../output/context_pipeline/stage1/exp007.py/20230918222000_gte-base_wikiall_without_sep_targetprompt_and_choice_without_sep_token_length100_stride75_all/test.parquet\"\n",
    ").to_parquet(f\"{output_dir}/test.parquet\")"
   ]
  },
  {
   "cell_type": "code",
   "execution_count": null,
   "id": "e9186ac6",
   "metadata": {},
   "outputs": [],
   "source": []
  }
 ],
 "metadata": {
  "kernelspec": {
   "display_name": "Python 3 (ipykernel)",
   "language": "python",
   "name": "python3"
  },
  "language_info": {
   "codemirror_mode": {
    "name": "ipython",
    "version": 3
   },
   "file_extension": ".py",
   "mimetype": "text/x-python",
   "name": "python",
   "nbconvert_exporter": "python",
   "pygments_lexer": "ipython3",
   "version": "3.10.12"
  }
 },
 "nbformat": 4,
 "nbformat_minor": 5
}
