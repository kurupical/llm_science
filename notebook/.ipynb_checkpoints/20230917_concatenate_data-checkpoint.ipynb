{
 "cells": [
  {
   "cell_type": "code",
   "execution_count": 1,
   "id": "2842c3ac",
   "metadata": {},
   "outputs": [],
   "source": [
    "import pandas as pd"
   ]
  },
  {
   "cell_type": "code",
   "execution_count": 2,
   "id": "f852fe17",
   "metadata": {},
   "outputs": [],
   "source": [
    "df1 = pd.read_csv(\"../data/gpt_generated_data/all_12_with_context2_train.csv\")\n",
    "df2 = pd.read_csv(\"../data/gpt_generated_data/all_12_with_context2_test.csv\")\n",
    "\n",
    "df3 = pd.read_csv(\"../data/gpt_generated_data/science_qa.csv\")\n",
    "df4 = pd.read_csv(\"../data/gpt_generated_data/openbook.csv\")\n",
    "df5 = pd.read_csv(\"../data/gpt_generated_data/mmlu.csv\")"
   ]
  },
  {
   "cell_type": "code",
   "execution_count": 8,
   "id": "045fff4f",
   "metadata": {},
   "outputs": [
    {
     "data": {
      "text/plain": [
       "array([ 3, 10,  2,  6,  5,  4,  8,  9,  7, 11,  1])"
      ]
     },
     "execution_count": 8,
     "metadata": {},
     "output_type": "execute_result"
    }
   ],
   "source": [
    "df1[\"source\"].value_counts().index.values"
   ]
  },
  {
   "cell_type": "code",
   "execution_count": 9,
   "id": "e22867cd",
   "metadata": {},
   "outputs": [
    {
     "data": {
      "text/plain": [
       "array(['additional_data/ScienceQA/train.parquet',\n",
       "       'additional_data/ScienceQA/test.parquet',\n",
       "       'additional_data/ScienceQA/val.parquet'], dtype=object)"
      ]
     },
     "execution_count": 9,
     "metadata": {},
     "output_type": "execute_result"
    }
   ],
   "source": [
    "df3[\"source\"].value_counts().index.values"
   ]
  },
  {
   "cell_type": "code",
   "execution_count": 6,
   "id": "e5533f61",
   "metadata": {},
   "outputs": [
    {
     "data": {
      "text/plain": [
       "array(['additional_data/OpenBookQA-V1-Sep2018/OpenBookQA-V1-Sep2018/Data/Main/train.tsv',\n",
       "       'additional_data/OpenBookQA-V1-Sep2018/OpenBookQA-V1-Sep2018/Data/Main/test.tsv',\n",
       "       'additional_data/OpenBookQA-V1-Sep2018/OpenBookQA-V1-Sep2018/Data/Main/dev.tsv'],\n",
       "      dtype=object)"
      ]
     },
     "execution_count": 6,
     "metadata": {},
     "output_type": "execute_result"
    }
   ],
   "source": [
    "df4[\"source\"].value_counts().index.values"
   ]
  },
  {
   "cell_type": "code",
   "execution_count": 7,
   "id": "e7cf7dc7",
   "metadata": {},
   "outputs": [
    {
     "data": {
      "text/plain": [
       "array(['additional_data/MMLU/test.csv', 'additional_data/MMLU/train.csv',\n",
       "       'additional_data/MMLU/valid.csv'], dtype=object)"
      ]
     },
     "execution_count": 7,
     "metadata": {},
     "output_type": "execute_result"
    }
   ],
   "source": [
    "df5[\"source\"].value_counts().index.values"
   ]
  },
  {
   "cell_type": "code",
   "execution_count": 3,
   "id": "b0d5c49d",
   "metadata": {},
   "outputs": [],
   "source": [
    "import numpy as np\n",
    "def fill_random(df):\n",
    "    all_choices = df[[\"A\", \"B\", \"C\", \"D\", \"E\"]].values.flatten()\n",
    "    all_choices = all_choices[all_choices == all_choices]  # not nan\n",
    "    def fillna_randomly(value):\n",
    "        if pd.isna(value):\n",
    "            return np.random.choice(all_choices)\n",
    "        else:\n",
    "            return value\n",
    "\n",
    "    return df.applymap(fillna_randomly)\n",
    "df1 = fill_random(df1)\n",
    "df2 = fill_random(df2)\n",
    "df3 = fill_random(df3)\n",
    "df4 = fill_random(df4)\n",
    "df5 = fill_random(df5)\n"
   ]
  },
  {
   "cell_type": "code",
   "execution_count": 4,
   "id": "a93b95ca",
   "metadata": {},
   "outputs": [
    {
     "data": {
      "text/plain": [
       "(59059, 1288, 3291, 2115, 10915)"
      ]
     },
     "execution_count": 4,
     "metadata": {},
     "output_type": "execute_result"
    }
   ],
   "source": [
    "len(df1), len(df2), len(df3), len(df4), len(df5)"
   ]
  },
  {
   "cell_type": "code",
   "execution_count": 5,
   "id": "64c13e71",
   "metadata": {},
   "outputs": [],
   "source": [
    "df1[\"dataset\"] = \"train\"\n",
    "df2[\"dataset\"] = \"valid\"\n",
    "df3[\"dataset\"] = \"train\"\n",
    "df4[\"dataset\"] = \"train\"\n",
    "df5[\"dataset\"] = \"train\""
   ]
  },
  {
   "cell_type": "code",
   "execution_count": null,
   "id": "f92f6ca9",
   "metadata": {},
   "outputs": [],
   "source": []
  },
  {
   "cell_type": "code",
   "execution_count": 6,
   "id": "0d9d3a8c",
   "metadata": {},
   "outputs": [],
   "source": [
    "pd.concat([df1, df2, df3, df4, df5]).reset_index(drop=True).to_csv(\"20230917_concatenate.csv\", index=False)"
   ]
  },
  {
   "cell_type": "code",
   "execution_count": 7,
   "id": "6a865ee0",
   "metadata": {},
   "outputs": [
    {
     "data": {
      "text/html": [
       "<div>\n",
       "<style scoped>\n",
       "    .dataframe tbody tr th:only-of-type {\n",
       "        vertical-align: middle;\n",
       "    }\n",
       "\n",
       "    .dataframe tbody tr th {\n",
       "        vertical-align: top;\n",
       "    }\n",
       "\n",
       "    .dataframe thead th {\n",
       "        text-align: right;\n",
       "    }\n",
       "</style>\n",
       "<table border=\"1\" class=\"dataframe\">\n",
       "  <thead>\n",
       "    <tr style=\"text-align: right;\">\n",
       "      <th></th>\n",
       "      <th>prompt</th>\n",
       "      <th>A</th>\n",
       "      <th>B</th>\n",
       "      <th>C</th>\n",
       "      <th>D</th>\n",
       "      <th>E</th>\n",
       "      <th>answer</th>\n",
       "      <th>source</th>\n",
       "      <th>dataset</th>\n",
       "    </tr>\n",
       "  </thead>\n",
       "  <tbody>\n",
       "    <tr>\n",
       "      <th>0</th>\n",
       "      <td>In preparation for a writing unit on short sto...</td>\n",
       "      <td>Conferencing</td>\n",
       "      <td>Discipline-based inquiry</td>\n",
       "      <td>Self-Regulated Strategy Development</td>\n",
       "      <td>Introduction-Body-Conclusion strategy</td>\n",
       "      <td>polluted water</td>\n",
       "      <td>B</td>\n",
       "      <td>additional_data/MMLU/test.csv</td>\n",
       "      <td>train</td>\n",
       "    </tr>\n",
       "    <tr>\n",
       "      <th>1</th>\n",
       "      <td>Paper will burn at approximately what temperat...</td>\n",
       "      <td>986 degrees</td>\n",
       "      <td>2125 degrees</td>\n",
       "      <td>3985 degrees</td>\n",
       "      <td>451 degrees</td>\n",
       "      <td>near a volcano</td>\n",
       "      <td>D</td>\n",
       "      <td>additional_data/MMLU/test.csv</td>\n",
       "      <td>train</td>\n",
       "    </tr>\n",
       "    <tr>\n",
       "      <th>2</th>\n",
       "      <td>The Apple iMac computer is available in all of...</td>\n",
       "      <td>Tangerine</td>\n",
       "      <td>Strawberry</td>\n",
       "      <td>Kiwi</td>\n",
       "      <td>Grape</td>\n",
       "      <td>100%</td>\n",
       "      <td>C</td>\n",
       "      <td>additional_data/MMLU/test.csv</td>\n",
       "      <td>train</td>\n",
       "    </tr>\n",
       "    <tr>\n",
       "      <th>3</th>\n",
       "      <td>What were the first names of the early America...</td>\n",
       "      <td>Morgan and Mason</td>\n",
       "      <td>Meriwether and William</td>\n",
       "      <td>Cabot and Joseph</td>\n",
       "      <td>Meredith and George</td>\n",
       "      <td>a storage bin that holds the pieces needed to ...</td>\n",
       "      <td>B</td>\n",
       "      <td>additional_data/MMLU/test.csv</td>\n",
       "      <td>train</td>\n",
       "    </tr>\n",
       "    <tr>\n",
       "      <th>4</th>\n",
       "      <td>A teacher provides support for small, flexible...</td>\n",
       "      <td>Direct instruction</td>\n",
       "      <td>Literature circle</td>\n",
       "      <td>Guided reading</td>\n",
       "      <td>Read-aloud</td>\n",
       "      <td>gravity</td>\n",
       "      <td>C</td>\n",
       "      <td>additional_data/MMLU/test.csv</td>\n",
       "      <td>train</td>\n",
       "    </tr>\n",
       "    <tr>\n",
       "      <th>...</th>\n",
       "      <td>...</td>\n",
       "      <td>...</td>\n",
       "      <td>...</td>\n",
       "      <td>...</td>\n",
       "      <td>...</td>\n",
       "      <td>...</td>\n",
       "      <td>...</td>\n",
       "      <td>...</td>\n",
       "      <td>...</td>\n",
       "    </tr>\n",
       "    <tr>\n",
       "      <th>10910</th>\n",
       "      <td>Which of the following court decisions did NOT...</td>\n",
       "      <td>Roe v. Wade</td>\n",
       "      <td>New York Times v. United States</td>\n",
       "      <td>DeJonge v. Oregon</td>\n",
       "      <td>Dennis v. United States</td>\n",
       "      <td>responding to an argument with an expression o...</td>\n",
       "      <td>A</td>\n",
       "      <td>additional_data/MMLU/valid.csv</td>\n",
       "      <td>train</td>\n",
       "    </tr>\n",
       "    <tr>\n",
       "      <th>10911</th>\n",
       "      <td>An appointment to which of the following offic...</td>\n",
       "      <td>Securities and Exchange commissioner</td>\n",
       "      <td>Secretary of the Interior</td>\n",
       "      <td>White House Chief of Staff</td>\n",
       "      <td>Administrator of the Environmental Protection ...</td>\n",
       "      <td>a research base near the equator</td>\n",
       "      <td>C</td>\n",
       "      <td>additional_data/MMLU/valid.csv</td>\n",
       "      <td>train</td>\n",
       "    </tr>\n",
       "    <tr>\n",
       "      <th>10912</th>\n",
       "      <td>Which group most frequently benefits from poli...</td>\n",
       "      <td>Charitable organizations</td>\n",
       "      <td>Federal judges</td>\n",
       "      <td>Political interest groups</td>\n",
       "      <td>Incumbents running for reelection</td>\n",
       "      <td>A devastating hurricane damages an island whic...</td>\n",
       "      <td>D</td>\n",
       "      <td>additional_data/MMLU/valid.csv</td>\n",
       "      <td>train</td>\n",
       "    </tr>\n",
       "    <tr>\n",
       "      <th>10913</th>\n",
       "      <td>Which of the following statements best describ...</td>\n",
       "      <td>The death penalty violates the prohibition of ...</td>\n",
       "      <td>Different states use different means of execut...</td>\n",
       "      <td>The death penalty arguably constitutes cruel a...</td>\n",
       "      <td>Federal law and state law differ in their defi...</td>\n",
       "      <td>Book pass</td>\n",
       "      <td>C</td>\n",
       "      <td>additional_data/MMLU/valid.csv</td>\n",
       "      <td>train</td>\n",
       "    </tr>\n",
       "    <tr>\n",
       "      <th>10914</th>\n",
       "      <td>Which of the following processes best exemplif...</td>\n",
       "      <td>Amending the United States Constitution</td>\n",
       "      <td>Imposing export taxes</td>\n",
       "      <td>Spending treasury money without the passage of...</td>\n",
       "      <td>Granting titles of nobility</td>\n",
       "      <td>there is a rise in temperature</td>\n",
       "      <td>A</td>\n",
       "      <td>additional_data/MMLU/valid.csv</td>\n",
       "      <td>train</td>\n",
       "    </tr>\n",
       "  </tbody>\n",
       "</table>\n",
       "<p>10915 rows × 9 columns</p>\n",
       "</div>"
      ],
      "text/plain": [
       "                                                  prompt  \\\n",
       "0      In preparation for a writing unit on short sto...   \n",
       "1      Paper will burn at approximately what temperat...   \n",
       "2      The Apple iMac computer is available in all of...   \n",
       "3      What were the first names of the early America...   \n",
       "4      A teacher provides support for small, flexible...   \n",
       "...                                                  ...   \n",
       "10910  Which of the following court decisions did NOT...   \n",
       "10911  An appointment to which of the following offic...   \n",
       "10912  Which group most frequently benefits from poli...   \n",
       "10913  Which of the following statements best describ...   \n",
       "10914  Which of the following processes best exemplif...   \n",
       "\n",
       "                                                       A  \\\n",
       "0                                           Conferencing   \n",
       "1                                            986 degrees   \n",
       "2                                              Tangerine   \n",
       "3                                       Morgan and Mason   \n",
       "4                                     Direct instruction   \n",
       "...                                                  ...   \n",
       "10910                                        Roe v. Wade   \n",
       "10911               Securities and Exchange commissioner   \n",
       "10912                           Charitable organizations   \n",
       "10913  The death penalty violates the prohibition of ...   \n",
       "10914            Amending the United States Constitution   \n",
       "\n",
       "                                                       B  \\\n",
       "0                               Discipline-based inquiry   \n",
       "1                                           2125 degrees   \n",
       "2                                             Strawberry   \n",
       "3                                 Meriwether and William   \n",
       "4                                      Literature circle   \n",
       "...                                                  ...   \n",
       "10910                    New York Times v. United States   \n",
       "10911                          Secretary of the Interior   \n",
       "10912                                     Federal judges   \n",
       "10913  Different states use different means of execut...   \n",
       "10914                              Imposing export taxes   \n",
       "\n",
       "                                                       C  \\\n",
       "0                    Self-Regulated Strategy Development   \n",
       "1                                           3985 degrees   \n",
       "2                                                   Kiwi   \n",
       "3                                       Cabot and Joseph   \n",
       "4                                         Guided reading   \n",
       "...                                                  ...   \n",
       "10910                                  DeJonge v. Oregon   \n",
       "10911                         White House Chief of Staff   \n",
       "10912                          Political interest groups   \n",
       "10913  The death penalty arguably constitutes cruel a...   \n",
       "10914  Spending treasury money without the passage of...   \n",
       "\n",
       "                                                       D  \\\n",
       "0                  Introduction-Body-Conclusion strategy   \n",
       "1                                            451 degrees   \n",
       "2                                                  Grape   \n",
       "3                                    Meredith and George   \n",
       "4                                             Read-aloud   \n",
       "...                                                  ...   \n",
       "10910                            Dennis v. United States   \n",
       "10911  Administrator of the Environmental Protection ...   \n",
       "10912                  Incumbents running for reelection   \n",
       "10913  Federal law and state law differ in their defi...   \n",
       "10914                        Granting titles of nobility   \n",
       "\n",
       "                                                       E answer  \\\n",
       "0                                         polluted water      B   \n",
       "1                                         near a volcano      D   \n",
       "2                                                   100%      C   \n",
       "3      a storage bin that holds the pieces needed to ...      B   \n",
       "4                                                gravity      C   \n",
       "...                                                  ...    ...   \n",
       "10910  responding to an argument with an expression o...      A   \n",
       "10911                   a research base near the equator      C   \n",
       "10912  A devastating hurricane damages an island whic...      D   \n",
       "10913                                          Book pass      C   \n",
       "10914                     there is a rise in temperature      A   \n",
       "\n",
       "                               source dataset  \n",
       "0       additional_data/MMLU/test.csv   train  \n",
       "1       additional_data/MMLU/test.csv   train  \n",
       "2       additional_data/MMLU/test.csv   train  \n",
       "3       additional_data/MMLU/test.csv   train  \n",
       "4       additional_data/MMLU/test.csv   train  \n",
       "...                               ...     ...  \n",
       "10910  additional_data/MMLU/valid.csv   train  \n",
       "10911  additional_data/MMLU/valid.csv   train  \n",
       "10912  additional_data/MMLU/valid.csv   train  \n",
       "10913  additional_data/MMLU/valid.csv   train  \n",
       "10914  additional_data/MMLU/valid.csv   train  \n",
       "\n",
       "[10915 rows x 9 columns]"
      ]
     },
     "execution_count": 7,
     "metadata": {},
     "output_type": "execute_result"
    }
   ],
   "source": [
    "df5"
   ]
  },
  {
   "cell_type": "code",
   "execution_count": null,
   "id": "c365fc0d",
   "metadata": {},
   "outputs": [],
   "source": []
  }
 ],
 "metadata": {
  "kernelspec": {
   "display_name": "Python 3 (ipykernel)",
   "language": "python",
   "name": "python3"
  },
  "language_info": {
   "codemirror_mode": {
    "name": "ipython",
    "version": 3
   },
   "file_extension": ".py",
   "mimetype": "text/x-python",
   "name": "python",
   "nbconvert_exporter": "python",
   "pygments_lexer": "ipython3",
   "version": "3.10.12"
  }
 },
 "nbformat": 4,
 "nbformat_minor": 5
}
