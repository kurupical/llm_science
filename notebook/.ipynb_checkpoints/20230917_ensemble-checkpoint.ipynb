{
 "cells": [
  {
   "cell_type": "code",
   "execution_count": 2,
   "id": "4bd38655",
   "metadata": {},
   "outputs": [],
   "source": [
    "\n",
    "import pandas as pd\n",
    "import numpy as np"
   ]
  },
  {
   "cell_type": "code",
   "execution_count": 3,
   "id": "6fb21fae",
   "metadata": {},
   "outputs": [],
   "source": [
    "def map_at_3(predictions, labels):\n",
    "    map_sum = 0\n",
    "    pred = np.argsort(-1*np.array(predictions),axis=1)[:,:3]\n",
    "    for x,y in zip(pred,labels):\n",
    "        z = [1/i if y==j else 0 for i,j in zip([1,2,3],x)]\n",
    "        map_sum += np.sum(z)\n",
    "    return map_sum / len(predictions)"
   ]
  },
  {
   "cell_type": "code",
   "execution_count": 58,
   "id": "067cf331",
   "metadata": {},
   "outputs": [],
   "source": [
    "df1 = pd.read_csv(\"../output/exp004.py/20230914072257_freeze0_maxlength256_lr5e-6_OpenAssistant/reward-model-deberta-v3-large-v2_200-stride100/test_predictions.csv\")"
   ]
  },
  {
   "cell_type": "code",
   "execution_count": 77,
   "id": "70e89627",
   "metadata": {},
   "outputs": [],
   "source": [
    "df2 = pd.read_csv(r\"../output/stage2_llm/exp004.py/20230914111807_freeze18_maxlength256_lr2e-5_200-stride100_1epochs/test_predictions.csv\")"
   ]
  },
  {
   "cell_type": "code",
   "execution_count": 78,
   "id": "0bef9496",
   "metadata": {},
   "outputs": [],
   "source": [
    "def softmax(x):\n",
    "    x = np.exp(x)\n",
    "    return x / x.sum(axis=1, keepdims=True)"
   ]
  },
  {
   "cell_type": "code",
   "execution_count": null,
   "id": "e9908ad4",
   "metadata": {},
   "outputs": [],
   "source": []
  },
  {
   "cell_type": "code",
   "execution_count": 79,
   "id": "5a6b26e7",
   "metadata": {},
   "outputs": [],
   "source": [
    "option_to_index = {option: idx for idx, option in enumerate('ABCDE')}"
   ]
  },
  {
   "cell_type": "code",
   "execution_count": 80,
   "id": "db61f863",
   "metadata": {},
   "outputs": [],
   "source": [
    "pred_1 = df1[[\"fold0_A\", \"fold0_B\", \"fold0_C\", \"fold0_D\", \"fold0_E\"]].values\n",
    "pred_1 = (pred_1 - pred_1.mean()) / pred_1.std()\n",
    "pred_2 = df2[[\"fold0_A\", \"fold0_B\", \"fold0_C\", \"fold0_D\", \"fold0_E\"]].values\n",
    "pred_2 = (pred_2 - pred_2.mean()) / pred_2.std()"
   ]
  },
  {
   "cell_type": "code",
   "execution_count": 81,
   "id": "d68720c1",
   "metadata": {},
   "outputs": [],
   "source": [
    "labels = df2[\"answer\"].map(option_to_index).values"
   ]
  },
  {
   "cell_type": "code",
   "execution_count": 82,
   "id": "e07aa7a4",
   "metadata": {},
   "outputs": [
    {
     "data": {
      "text/plain": [
       "0.9275"
      ]
     },
     "execution_count": 82,
     "metadata": {},
     "output_type": "execute_result"
    }
   ],
   "source": [
    "map_at_3(pred_1, labels)"
   ]
  },
  {
   "cell_type": "code",
   "execution_count": 83,
   "id": "e78ddea6",
   "metadata": {},
   "outputs": [
    {
     "data": {
      "text/plain": [
       "0.9016666666666666"
      ]
     },
     "execution_count": 83,
     "metadata": {},
     "output_type": "execute_result"
    }
   ],
   "source": [
    "map_at_3(pred_2, labels)"
   ]
  },
  {
   "cell_type": "code",
   "execution_count": 85,
   "id": "711ba590",
   "metadata": {},
   "outputs": [
    {
     "name": "stdout",
     "output_type": "stream",
     "text": [
      "ratio:0.0 map3: 0.9016666666666666\n",
      "ratio:0.05 map3: 0.9041666666666666\n",
      "ratio:0.1 map3: 0.9041666666666667\n",
      "ratio:0.15000000000000002 map3: 0.9016666666666667\n",
      "ratio:0.2 map3: 0.9041666666666667\n",
      "ratio:0.25 map3: 0.9075\n",
      "ratio:0.30000000000000004 map3: 0.9066666666666667\n",
      "ratio:0.35000000000000003 map3: 0.91\n",
      "ratio:0.4 map3: 0.91\n",
      "ratio:0.45 map3: 0.91\n",
      "ratio:0.5 map3: 0.91\n",
      "ratio:0.55 map3: 0.91\n",
      "ratio:0.6000000000000001 map3: 0.9133333333333334\n",
      "ratio:0.65 map3: 0.9116666666666667\n",
      "ratio:0.7000000000000001 map3: 0.9108333333333334\n",
      "ratio:0.75 map3: 0.9116666666666667\n",
      "ratio:0.8 map3: 0.9116666666666667\n",
      "ratio:0.8500000000000001 map3: 0.9133333333333334\n",
      "ratio:0.9 map3: 0.9183333333333334\n",
      "ratio:0.9500000000000001 map3: 0.9183333333333334\n",
      "ratio:1.0 map3: 0.9275\n"
     ]
    }
   ],
   "source": [
    "for ratio in np.arange(0, 1.05, 0.05):\n",
    "    print(f\"ratio:{ratio} map3: {map_at_3(pred_1*ratio + pred_2*(1-ratio), labels)}\")"
   ]
  },
  {
   "cell_type": "code",
   "execution_count": null,
   "id": "3f0fdd16",
   "metadata": {},
   "outputs": [],
   "source": []
  },
  {
   "cell_type": "code",
   "execution_count": null,
   "id": "15872bd7",
   "metadata": {},
   "outputs": [],
   "source": []
  }
 ],
 "metadata": {
  "kernelspec": {
   "display_name": "Python 3 (ipykernel)",
   "language": "python",
   "name": "python3"
  },
  "language_info": {
   "codemirror_mode": {
    "name": "ipython",
    "version": 3
   },
   "file_extension": ".py",
   "mimetype": "text/x-python",
   "name": "python",
   "nbconvert_exporter": "python",
   "pygments_lexer": "ipython3",
   "version": "3.10.12"
  }
 },
 "nbformat": 4,
 "nbformat_minor": 5
}
