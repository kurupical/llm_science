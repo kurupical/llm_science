{
 "cells": [
  {
   "cell_type": "code",
   "execution_count": 1,
   "id": "2842c3ac",
   "metadata": {},
   "outputs": [],
   "source": [
    "import pandas as pd"
   ]
  },
  {
   "cell_type": "code",
   "execution_count": 2,
   "id": "cd4d62dc",
   "metadata": {},
   "outputs": [],
   "source": [
    "df = pd.read_csv(\"../data/gpt_generated_data/all_12_with_context2.csv\")"
   ]
  },
  {
   "cell_type": "code",
   "execution_count": 3,
   "id": "18745a38",
   "metadata": {},
   "outputs": [
    {
     "data": {
      "text/plain": [
       "3     14831\n",
       "10    11679\n",
       "2      5986\n",
       "6      5968\n",
       "5      5923\n",
       "4      5862\n",
       "9      3369\n",
       "8      3249\n",
       "7       999\n",
       "11      993\n",
       "12      988\n",
       "1       500\n",
       "Name: source, dtype: int64"
      ]
     },
     "execution_count": 3,
     "metadata": {},
     "output_type": "execute_result"
    }
   ],
   "source": [
    "df[\"source\"].value_counts()"
   ]
  },
  {
   "cell_type": "code",
   "execution_count": 13,
   "id": "821ebf9e",
   "metadata": {},
   "outputs": [
    {
     "data": {
      "text/plain": [
       "Index(['prompt', 'context', 'A', 'B', 'C', 'D', 'E', 'answer', 'source'], dtype='object')"
      ]
     },
     "execution_count": 13,
     "metadata": {},
     "output_type": "execute_result"
    }
   ],
   "source": [
    "df.columns"
   ]
  },
  {
   "cell_type": "code",
   "execution_count": 4,
   "id": "c8e6298f",
   "metadata": {
    "scrolled": true
   },
   "outputs": [
    {
     "data": {
      "text/html": [
       "<div>\n",
       "<style scoped>\n",
       "    .dataframe tbody tr th:only-of-type {\n",
       "        vertical-align: middle;\n",
       "    }\n",
       "\n",
       "    .dataframe tbody tr th {\n",
       "        vertical-align: top;\n",
       "    }\n",
       "\n",
       "    .dataframe thead th {\n",
       "        text-align: right;\n",
       "    }\n",
       "</style>\n",
       "<table border=\"1\" class=\"dataframe\">\n",
       "  <thead>\n",
       "    <tr style=\"text-align: right;\">\n",
       "      <th></th>\n",
       "      <th>prompt</th>\n",
       "      <th>context</th>\n",
       "      <th>A</th>\n",
       "      <th>B</th>\n",
       "      <th>C</th>\n",
       "      <th>D</th>\n",
       "      <th>E</th>\n",
       "      <th>answer</th>\n",
       "      <th>source</th>\n",
       "    </tr>\n",
       "  </thead>\n",
       "  <tbody>\n",
       "    <tr>\n",
       "      <th>46687</th>\n",
       "      <td>What type of organism is commonly used in prep...</td>\n",
       "      <td>John Wiley &amp; Sons, pp. Google Books preview Ar...</td>\n",
       "      <td>NaN</td>\n",
       "      <td>gymnosperms</td>\n",
       "      <td>mesophilic organisms</td>\n",
       "      <td>protozoa</td>\n",
       "      <td>viruses</td>\n",
       "      <td>C</td>\n",
       "      <td>10</td>\n",
       "    </tr>\n",
       "    <tr>\n",
       "      <th>46693</th>\n",
       "      <td>What kind of a reaction occurs when a substanc...</td>\n",
       "      <td>The direct reaction of O2 with fuel is preclud...</td>\n",
       "      <td>NaN</td>\n",
       "      <td>invention reaction</td>\n",
       "      <td>Fluid Reaction</td>\n",
       "      <td>nitrogen reaction</td>\n",
       "      <td>combustion reaction</td>\n",
       "      <td>E</td>\n",
       "      <td>10</td>\n",
       "    </tr>\n",
       "    <tr>\n",
       "      <th>46694</th>\n",
       "      <td>Organisms categorized by what species descript...</td>\n",
       "      <td>It can be distinguished from allopatric specia...</td>\n",
       "      <td>NaN</td>\n",
       "      <td>species complex</td>\n",
       "      <td>surface species</td>\n",
       "      <td>ring species</td>\n",
       "      <td>fitting species</td>\n",
       "      <td>D</td>\n",
       "      <td>10</td>\n",
       "    </tr>\n",
       "    <tr>\n",
       "      <th>46700</th>\n",
       "      <td>What are used to write nuclear equations for r...</td>\n",
       "      <td>The decay scheme of a radioactive substance is...</td>\n",
       "      <td>NaN</td>\n",
       "      <td>trigonometric symbols</td>\n",
       "      <td>critical symbols</td>\n",
       "      <td>nuclear symbols</td>\n",
       "      <td>radioactive symbols</td>\n",
       "      <td>D</td>\n",
       "      <td>10</td>\n",
       "    </tr>\n",
       "    <tr>\n",
       "      <th>46708</th>\n",
       "      <td>What is the termination of a pregnancy in prog...</td>\n",
       "      <td>Late termination of pregnancy, also referred t...</td>\n",
       "      <td>NaN</td>\n",
       "      <td>abortion</td>\n",
       "      <td>miscarriage</td>\n",
       "      <td>delivery</td>\n",
       "      <td>contraception</td>\n",
       "      <td>B</td>\n",
       "      <td>10</td>\n",
       "    </tr>\n",
       "    <tr>\n",
       "      <th>...</th>\n",
       "      <td>...</td>\n",
       "      <td>...</td>\n",
       "      <td>...</td>\n",
       "      <td>...</td>\n",
       "      <td>...</td>\n",
       "      <td>...</td>\n",
       "      <td>...</td>\n",
       "      <td>...</td>\n",
       "      <td>...</td>\n",
       "    </tr>\n",
       "    <tr>\n",
       "      <th>60323</th>\n",
       "      <td>The burning of fossil fuels releases three maj...</td>\n",
       "      <td>In addition to the effects that result from bu...</td>\n",
       "      <td>NaN</td>\n",
       "      <td>carbon dioxide</td>\n",
       "      <td>hydrogen</td>\n",
       "      <td>aluminum</td>\n",
       "      <td>carbon monoxide</td>\n",
       "      <td>B</td>\n",
       "      <td>12</td>\n",
       "    </tr>\n",
       "    <tr>\n",
       "      <th>60327</th>\n",
       "      <td>The pubis forms the anterior portion of what b...</td>\n",
       "      <td>In vertebrates, the pubis or pubic bone () for...</td>\n",
       "      <td>NaN</td>\n",
       "      <td>clavicle</td>\n",
       "      <td>hip bone</td>\n",
       "      <td>femur</td>\n",
       "      <td>labia</td>\n",
       "      <td>C</td>\n",
       "      <td>12</td>\n",
       "    </tr>\n",
       "    <tr>\n",
       "      <th>60338</th>\n",
       "      <td>The jejunum is about 0.9 meters (3 feet) long ...</td>\n",
       "      <td>* The jejunum is typically of larger diameter ...</td>\n",
       "      <td>NaN</td>\n",
       "      <td>black at death</td>\n",
       "      <td>empty at death</td>\n",
       "      <td>time.the at death</td>\n",
       "      <td>weeks at death</td>\n",
       "      <td>C</td>\n",
       "      <td>12</td>\n",
       "    </tr>\n",
       "    <tr>\n",
       "      <th>60340</th>\n",
       "      <td>Which construction material previously used in...</td>\n",
       "      <td>Industrial processes associated with cancer in...</td>\n",
       "      <td>NaN</td>\n",
       "      <td>asbestos</td>\n",
       "      <td>Alkylphenols</td>\n",
       "      <td>Paints contains lead</td>\n",
       "      <td>Silica</td>\n",
       "      <td>B</td>\n",
       "      <td>12</td>\n",
       "    </tr>\n",
       "    <tr>\n",
       "      <th>60346</th>\n",
       "      <td>What parts of a human possess the highest conc...</td>\n",
       "      <td>In thermoregulation, body heat is generated mo...</td>\n",
       "      <td>NaN</td>\n",
       "      <td>hand and ears</td>\n",
       "      <td>face and hair</td>\n",
       "      <td>face and ears</td>\n",
       "      <td>hands and feet</td>\n",
       "      <td>D</td>\n",
       "      <td>12</td>\n",
       "    </tr>\n",
       "  </tbody>\n",
       "</table>\n",
       "<p>2795 rows × 9 columns</p>\n",
       "</div>"
      ],
      "text/plain": [
       "                                                  prompt  \\\n",
       "46687  What type of organism is commonly used in prep...   \n",
       "46693  What kind of a reaction occurs when a substanc...   \n",
       "46694  Organisms categorized by what species descript...   \n",
       "46700  What are used to write nuclear equations for r...   \n",
       "46708  What is the termination of a pregnancy in prog...   \n",
       "...                                                  ...   \n",
       "60323  The burning of fossil fuels releases three maj...   \n",
       "60327  The pubis forms the anterior portion of what b...   \n",
       "60338  The jejunum is about 0.9 meters (3 feet) long ...   \n",
       "60340  Which construction material previously used in...   \n",
       "60346  What parts of a human possess the highest conc...   \n",
       "\n",
       "                                                 context    A  \\\n",
       "46687  John Wiley & Sons, pp. Google Books preview Ar...  NaN   \n",
       "46693  The direct reaction of O2 with fuel is preclud...  NaN   \n",
       "46694  It can be distinguished from allopatric specia...  NaN   \n",
       "46700  The decay scheme of a radioactive substance is...  NaN   \n",
       "46708  Late termination of pregnancy, also referred t...  NaN   \n",
       "...                                                  ...  ...   \n",
       "60323  In addition to the effects that result from bu...  NaN   \n",
       "60327  In vertebrates, the pubis or pubic bone () for...  NaN   \n",
       "60338  * The jejunum is typically of larger diameter ...  NaN   \n",
       "60340  Industrial processes associated with cancer in...  NaN   \n",
       "60346  In thermoregulation, body heat is generated mo...  NaN   \n",
       "\n",
       "                           B                     C                     D  \\\n",
       "46687            gymnosperms  mesophilic organisms              protozoa   \n",
       "46693     invention reaction        Fluid Reaction     nitrogen reaction   \n",
       "46694        species complex       surface species          ring species   \n",
       "46700  trigonometric symbols      critical symbols       nuclear symbols   \n",
       "46708               abortion           miscarriage              delivery   \n",
       "...                      ...                   ...                   ...   \n",
       "60323         carbon dioxide              hydrogen              aluminum   \n",
       "60327               clavicle              hip bone                 femur   \n",
       "60338         black at death        empty at death     time.the at death   \n",
       "60340               asbestos          Alkylphenols  Paints contains lead   \n",
       "60346          hand and ears         face and hair         face and ears   \n",
       "\n",
       "                         E answer  source  \n",
       "46687              viruses      C      10  \n",
       "46693  combustion reaction      E      10  \n",
       "46694      fitting species      D      10  \n",
       "46700  radioactive symbols      D      10  \n",
       "46708        contraception      B      10  \n",
       "...                    ...    ...     ...  \n",
       "60323      carbon monoxide      B      12  \n",
       "60327                labia      C      12  \n",
       "60338       weeks at death      C      12  \n",
       "60340               Silica      B      12  \n",
       "60346       hands and feet      D      12  \n",
       "\n",
       "[2795 rows x 9 columns]"
      ]
     },
     "execution_count": 4,
     "metadata": {},
     "output_type": "execute_result"
    }
   ],
   "source": [
    "df[df[\"A\"].isnull()]"
   ]
  },
  {
   "cell_type": "code",
   "execution_count": null,
   "id": "cec3f3bf",
   "metadata": {},
   "outputs": [],
   "source": []
  },
  {
   "cell_type": "code",
   "execution_count": 5,
   "id": "644cf2b7",
   "metadata": {},
   "outputs": [],
   "source": [
    "# 9: EduQGの10% + 12: SciQ-test\n",
    "df_test = pd.concat([\n",
    "    df[df[\"source\"] == 9].sample(300),\n",
    "    df[df[\"source\"] == 12]\n",
    "])"
   ]
  },
  {
   "cell_type": "code",
   "execution_count": 6,
   "id": "f252a2c3",
   "metadata": {},
   "outputs": [],
   "source": [
    "df_train = df[~df.index.isin(df_test.index)]"
   ]
  },
  {
   "cell_type": "code",
   "execution_count": 7,
   "id": "b83c2327",
   "metadata": {},
   "outputs": [
    {
     "data": {
      "text/plain": [
       "prompt        0\n",
       "context       0\n",
       "A          2795\n",
       "B          2670\n",
       "C          2679\n",
       "D          2782\n",
       "E          2734\n",
       "answer        0\n",
       "source        0\n",
       "dtype: int64"
      ]
     },
     "execution_count": 7,
     "metadata": {},
     "output_type": "execute_result"
    }
   ],
   "source": [
    "df.isnull().sum()"
   ]
  },
  {
   "cell_type": "code",
   "execution_count": 9,
   "id": "9d757a05",
   "metadata": {},
   "outputs": [],
   "source": [
    "import numpy as np\n",
    "def fill_random(df):\n",
    "    all_choices = df.dropna()[[\"A\", \"B\", \"C\", \"D\", \"E\"]].values.flatten()\n",
    "    def fillna_randomly(value):\n",
    "        if pd.isna(value):\n",
    "            return np.random.choice(all_choices)\n",
    "        else:\n",
    "            return value\n",
    "\n",
    "    return df.applymap(fillna_randomly)\n"
   ]
  },
  {
   "cell_type": "code",
   "execution_count": 10,
   "id": "d76fd38c",
   "metadata": {},
   "outputs": [],
   "source": [
    "df_train = fill_random(df_train)\n",
    "df_test = fill_random(df_test)"
   ]
  },
  {
   "cell_type": "code",
   "execution_count": 11,
   "id": "76c7552f",
   "metadata": {},
   "outputs": [
    {
     "data": {
      "text/plain": [
       "(60347, 59059, 1288)"
      ]
     },
     "execution_count": 11,
     "metadata": {},
     "output_type": "execute_result"
    }
   ],
   "source": [
    "len(df), len(df_train), len(df_test)"
   ]
  },
  {
   "cell_type": "code",
   "execution_count": 12,
   "id": "110f242a",
   "metadata": {},
   "outputs": [],
   "source": [
    "df_train.to_csv(\"../data/gpt_generated_data/all_12_with_context2_train.csv\")\n",
    "df_test.to_csv(\"../data/gpt_generated_data/all_12_with_context2_test.csv\")"
   ]
  },
  {
   "cell_type": "code",
   "execution_count": null,
   "id": "6a865ee0",
   "metadata": {},
   "outputs": [],
   "source": []
  }
 ],
 "metadata": {
  "kernelspec": {
   "display_name": "Python 3 (ipykernel)",
   "language": "python",
   "name": "python3"
  },
  "language_info": {
   "codemirror_mode": {
    "name": "ipython",
    "version": 3
   },
   "file_extension": ".py",
   "mimetype": "text/x-python",
   "name": "python",
   "nbconvert_exporter": "python",
   "pygments_lexer": "ipython3",
   "version": "3.10.12"
  }
 },
 "nbformat": 4,
 "nbformat_minor": 5
}
