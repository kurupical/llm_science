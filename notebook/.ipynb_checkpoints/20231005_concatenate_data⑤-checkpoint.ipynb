{
 "cells": [
  {
   "cell_type": "code",
   "execution_count": 1,
   "id": "2842c3ac",
   "metadata": {},
   "outputs": [],
   "source": [
    "import pandas as pd"
   ]
  },
  {
   "cell_type": "code",
   "execution_count": 2,
   "id": "f852fe17",
   "metadata": {},
   "outputs": [],
   "source": [
    "df1 = pd.read_csv(\"../data/gpt_generated_data/all_12_with_context2_train.csv\")\n",
    "df2 = pd.read_csv(\"../data/gpt_generated_data/science_qa.csv\")\n",
    "df3 = pd.read_csv(\"../data/gpt_generated_data/openbook.csv\")\n",
    "df4 = pd.read_csv(\"../data/gpt_generated_data/mmlu.csv\")\n",
    "df5 = pd.read_csv(\"../data/gpt_generated_data/eval300_gpt4.csv\")\n",
    "df6 = pd.read_csv(\"../data/kaggle-llm-science-exam/train.csv\")"
   ]
  },
  {
   "cell_type": "code",
   "execution_count": 3,
   "id": "6be79bf6",
   "metadata": {},
   "outputs": [],
   "source": [
    "df5 = df5[df5[\"answer\"].isin([\"A\", \"B\", \"C\", \"D\", \"E\"])]\n",
    "df5[\"source\"] = \"eval300\"\n",
    "\n",
    "df6[\"source\"] = \"test\""
   ]
  },
  {
   "cell_type": "code",
   "execution_count": 4,
   "id": "72cbf8f2",
   "metadata": {},
   "outputs": [],
   "source": [
    "df5[\"answer\"] = df5[\"gpt4\"]"
   ]
  },
  {
   "cell_type": "code",
   "execution_count": null,
   "id": "22b8eb76",
   "metadata": {},
   "outputs": [],
   "source": []
  },
  {
   "cell_type": "code",
   "execution_count": 5,
   "id": "b0d5c49d",
   "metadata": {},
   "outputs": [],
   "source": [
    "import numpy as np\n",
    "def fill_random(df):\n",
    "    all_choices = df[[\"A\", \"B\", \"C\", \"D\", \"E\"]].values.flatten()\n",
    "    all_choices = all_choices[all_choices == all_choices]  # not nan\n",
    "    def fillna_randomly(value):\n",
    "        if pd.isna(value):\n",
    "            return np.random.choice(all_choices)\n",
    "        else:\n",
    "            return value\n",
    "\n",
    "    return df.applymap(fillna_randomly)\n",
    "df1 = fill_random(df1)\n",
    "df2 = fill_random(df2)\n",
    "df3 = fill_random(df3)\n",
    "df4 = fill_random(df4)\n",
    "df5 = fill_random(df5)\n",
    "df6 = fill_random(df6)"
   ]
  },
  {
   "cell_type": "code",
   "execution_count": 6,
   "id": "a93b95ca",
   "metadata": {},
   "outputs": [
    {
     "data": {
      "text/plain": [
       "(59059, 3291, 2115, 10915, 300, 200)"
      ]
     },
     "execution_count": 6,
     "metadata": {},
     "output_type": "execute_result"
    }
   ],
   "source": [
    "len(df1), len(df2), len(df3), len(df4), len(df5), len(df6)"
   ]
  },
  {
   "cell_type": "code",
   "execution_count": 7,
   "id": "64c13e71",
   "metadata": {},
   "outputs": [],
   "source": [
    "df_train = pd.concat([df1, df2, df3, df4])[['prompt', 'A', 'B', 'C', 'D', 'E', 'answer', 'source']]\n",
    "df_train[\"dataset\"] = \"train\""
   ]
  },
  {
   "cell_type": "code",
   "execution_count": 8,
   "id": "59fe402f",
   "metadata": {},
   "outputs": [],
   "source": [
    "df_valid = pd.concat([df5, df6])[['prompt', 'A', 'B', 'C', 'D', 'E', 'answer', 'source']]\n",
    "df_valid[\"dataset\"] = \"valid\""
   ]
  },
  {
   "cell_type": "code",
   "execution_count": 9,
   "id": "fcab88b0",
   "metadata": {},
   "outputs": [
    {
     "data": {
      "text/plain": [
       "(75380, 500)"
      ]
     },
     "execution_count": 9,
     "metadata": {},
     "output_type": "execute_result"
    }
   ],
   "source": [
    "len(df_train), len(df_valid)"
   ]
  },
  {
   "cell_type": "code",
   "execution_count": 10,
   "id": "7a8468a7",
   "metadata": {},
   "outputs": [
    {
     "data": {
      "text/plain": [
       "source                                                                           dataset\n",
       "1                                                                                train        500\n",
       "2                                                                                train       5986\n",
       "3                                                                                train      14831\n",
       "4                                                                                train       5862\n",
       "5                                                                                train       5923\n",
       "6                                                                                train       5968\n",
       "7                                                                                train        999\n",
       "8                                                                                train       3249\n",
       "9                                                                                train       3069\n",
       "10                                                                               train      11679\n",
       "11                                                                               train        993\n",
       "additional_data/MMLU/test.csv                                                    train       5781\n",
       "additional_data/MMLU/train.csv                                                   train       4499\n",
       "additional_data/MMLU/valid.csv                                                   train        635\n",
       "additional_data/OpenBookQA-V1-Sep2018/OpenBookQA-V1-Sep2018/Data/Main/dev.tsv    train        164\n",
       "additional_data/OpenBookQA-V1-Sep2018/OpenBookQA-V1-Sep2018/Data/Main/test.tsv   train        180\n",
       "additional_data/OpenBookQA-V1-Sep2018/OpenBookQA-V1-Sep2018/Data/Main/train.tsv  train       1771\n",
       "additional_data/ScienceQA/test.parquet                                           train        673\n",
       "additional_data/ScienceQA/train.parquet                                          train       1995\n",
       "additional_data/ScienceQA/val.parquet                                            train        623\n",
       "eval300                                                                          valid        300\n",
       "test                                                                             valid        200\n",
       "dtype: int64"
      ]
     },
     "execution_count": 10,
     "metadata": {},
     "output_type": "execute_result"
    }
   ],
   "source": [
    "pd.concat([df_train, df_valid]).groupby([\"source\", \"dataset\"]).size()"
   ]
  },
  {
   "cell_type": "code",
   "execution_count": 11,
   "id": "c77dd019",
   "metadata": {},
   "outputs": [],
   "source": [
    "pd.concat([df_train, df_valid]).reset_index(drop=True).to_csv(\"20231005_concatenate.csv\")"
   ]
  },
  {
   "cell_type": "code",
   "execution_count": null,
   "id": "fea1e1eb",
   "metadata": {},
   "outputs": [],
   "source": []
  }
 ],
 "metadata": {
  "kernelspec": {
   "display_name": "Python 3 (ipykernel)",
   "language": "python",
   "name": "python3"
  },
  "language_info": {
   "codemirror_mode": {
    "name": "ipython",
    "version": 3
   },
   "file_extension": ".py",
   "mimetype": "text/x-python",
   "name": "python",
   "nbconvert_exporter": "python",
   "pygments_lexer": "ipython3",
   "version": "3.10.12"
  }
 },
 "nbformat": 4,
 "nbformat_minor": 5
}
