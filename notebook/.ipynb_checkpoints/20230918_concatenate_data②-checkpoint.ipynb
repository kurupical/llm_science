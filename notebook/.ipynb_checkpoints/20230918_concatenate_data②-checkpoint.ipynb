{
 "cells": [
  {
   "cell_type": "code",
   "execution_count": 1,
   "id": "2842c3ac",
   "metadata": {},
   "outputs": [],
   "source": [
    "import pandas as pd"
   ]
  },
  {
   "cell_type": "code",
   "execution_count": 2,
   "id": "f852fe17",
   "metadata": {},
   "outputs": [],
   "source": [
    "df1 = pd.read_csv(\"../data/gpt_generated_data/all_12_with_context2_train2_gpt.csv\")\n",
    "df2 = pd.read_csv(\"../data/gpt_generated_data/all_12_with_context2_test2_gpt.csv\")\n",
    "\n",
    "df3 = pd.read_csv(\"../data/gpt_generated_data/science_qa.csv\")\n",
    "df4 = pd.read_csv(\"../data/gpt_generated_data/openbook.csv\")\n",
    "df5 = pd.read_csv(\"../data/gpt_generated_data/mmlu.csv\")\n",
    "df6 = pd.read_csv(\"../data/gpt_generated_data/20230914125028_20230911_gpt3.5_generate4.csv\")"
   ]
  },
  {
   "cell_type": "code",
   "execution_count": 3,
   "id": "16ca1466",
   "metadata": {},
   "outputs": [],
   "source": [
    "df6[\"source\"] = \"20230914125028_20230911_gpt3.5_generate4\""
   ]
  },
  {
   "cell_type": "code",
   "execution_count": 4,
   "id": "045fff4f",
   "metadata": {},
   "outputs": [
    {
     "data": {
      "text/plain": [
       "array([ 3, 10,  2,  6,  5,  4,  9,  8, 11, 12,  7,  1])"
      ]
     },
     "execution_count": 4,
     "metadata": {},
     "output_type": "execute_result"
    }
   ],
   "source": [
    "df1[\"source\"].value_counts().index.values"
   ]
  },
  {
   "cell_type": "code",
   "execution_count": 5,
   "id": "e22867cd",
   "metadata": {},
   "outputs": [
    {
     "data": {
      "text/plain": [
       "array([1, 2, 3, 4, 5, 6, 7, 8])"
      ]
     },
     "execution_count": 5,
     "metadata": {},
     "output_type": "execute_result"
    }
   ],
   "source": [
    "df2[\"source\"].value_counts().index.values"
   ]
  },
  {
   "cell_type": "code",
   "execution_count": 6,
   "id": "b0d5c49d",
   "metadata": {},
   "outputs": [],
   "source": [
    "import numpy as np\n",
    "def fill_random(df):\n",
    "    all_choices = df[[\"A\", \"B\", \"C\", \"D\", \"E\"]].values.flatten()\n",
    "    all_choices = all_choices[all_choices == all_choices]  # not nan\n",
    "    def fillna_randomly(value):\n",
    "        if pd.isna(value):\n",
    "            return np.random.choice(all_choices)\n",
    "        else:\n",
    "            return value\n",
    "\n",
    "    return df.applymap(fillna_randomly)\n",
    "df1 = fill_random(df1)\n",
    "df2 = fill_random(df2)\n",
    "df3 = fill_random(df3)\n",
    "df4 = fill_random(df4)\n",
    "df5 = fill_random(df5)\n",
    "df6 = fill_random(df6)\n"
   ]
  },
  {
   "cell_type": "code",
   "execution_count": 7,
   "id": "a93b95ca",
   "metadata": {},
   "outputs": [
    {
     "data": {
      "text/plain": [
       "(59347, 1000, 3291, 2115, 10915, 17253)"
      ]
     },
     "execution_count": 7,
     "metadata": {},
     "output_type": "execute_result"
    }
   ],
   "source": [
    "len(df1), len(df2), len(df3), len(df4), len(df5), len(df6)"
   ]
  },
  {
   "cell_type": "code",
   "execution_count": 8,
   "id": "64c13e71",
   "metadata": {},
   "outputs": [],
   "source": [
    "df1[\"dataset\"] = \"train\"\n",
    "df2[\"dataset\"] = \"valid\"\n",
    "df3[\"dataset\"] = \"train\"\n",
    "df4[\"dataset\"] = \"train\"\n",
    "df5[\"dataset\"] = \"train\"\n",
    "df6[\"dataset\"] = \"train\""
   ]
  },
  {
   "cell_type": "code",
   "execution_count": null,
   "id": "f92f6ca9",
   "metadata": {},
   "outputs": [],
   "source": []
  },
  {
   "cell_type": "code",
   "execution_count": 9,
   "id": "0d9d3a8c",
   "metadata": {},
   "outputs": [],
   "source": [
    "pd.concat([df1, df2, df3, df4, df5, df6]).reset_index(drop=True).to_csv(\"20230918_concatenate.csv\", index=False)"
   ]
  },
  {
   "cell_type": "code",
   "execution_count": null,
   "id": "c365fc0d",
   "metadata": {},
   "outputs": [],
   "source": []
  }
 ],
 "metadata": {
  "kernelspec": {
   "display_name": "Python 3 (ipykernel)",
   "language": "python",
   "name": "python3"
  },
  "language_info": {
   "codemirror_mode": {
    "name": "ipython",
    "version": 3
   },
   "file_extension": ".py",
   "mimetype": "text/x-python",
   "name": "python",
   "nbconvert_exporter": "python",
   "pygments_lexer": "ipython3",
   "version": "3.10.12"
  }
 },
 "nbformat": 4,
 "nbformat_minor": 5
}
