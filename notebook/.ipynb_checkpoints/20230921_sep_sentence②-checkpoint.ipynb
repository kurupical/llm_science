{
 "cells": [
  {
   "cell_type": "code",
   "execution_count": 4,
   "id": "21bf371f",
   "metadata": {},
   "outputs": [],
   "source": [
    "import pandas as pd\n",
    "import tqdm\n",
    "import glob\n",
    "import os"
   ]
  },
  {
   "cell_type": "code",
   "execution_count": 5,
   "id": "f91994aa",
   "metadata": {},
   "outputs": [],
   "source": [
    "files = glob.glob(\"../data/wikipedia/a.parquet\")\n",
    "files = [f for f in files if \"all\" not in f]"
   ]
  },
  {
   "cell_type": "code",
   "execution_count": 6,
   "id": "999735b0",
   "metadata": {},
   "outputs": [],
   "source": [
    "chunk_size = 10000000"
   ]
  },
  {
   "cell_type": "code",
   "execution_count": 29,
   "id": "7813678f",
   "metadata": {},
   "outputs": [],
   "source": [
    "def output_seperated_files(token_length, stride, drop_category):    \n",
    "    output_dir = f\"../data/wikipedia/sep_chunk/token_length{token_length}_stride_sentence{stride}_drop_category{drop_category}\"\n",
    "    os.makedirs(output_dir, exist_ok=True)\n",
    "    chunk = 1\n",
    "    df_wiki_sep = []\n",
    "    for file in files:\n",
    "        df_wiki = pd.read_parquet(file)\n",
    "        df_wiki = df_wiki.drop(\"categories\", axis=1)\n",
    "        for i in tqdm.tqdm(range(len(df_wiki))):\n",
    "            series = df_wiki.iloc[i]\n",
    "            text = series[\"text\"]\n",
    "            if drop_category:\n",
    "                idx = text.find(\" Category:\")\n",
    "                text = text[:idx]\n",
    "\n",
    "            text_space = text.split(\".\")\n",
    "            text = \"\"\n",
    "            text_stride = []\n",
    "\n",
    "            series_ = series.to_dict()\n",
    "            series_[\"text\"] = \" \".join(text_space[:stride*2])\n",
    "            series_[\"title_only\"] = True\n",
    "            df_wiki_sep.append(series_)\n",
    "            \n",
    "            appended = False\n",
    "            for j in range(0, len(text_space)):\n",
    "                series_ = series.to_dict()\n",
    "                text += text_space[j] + \".\"\n",
    "                text_stride.append(text_space[j])\n",
    "                text_stride = text_stride[-stride:]\n",
    "                appended = False\n",
    "                if len(text.split(\" \")) > token_length:\n",
    "                    series_[\"text\"] = text\n",
    "                    series_[\"title_only\"] = False\n",
    "                    df_wiki_sep.append(series_)\n",
    "                    text = \".\".join(text_stride)\n",
    "                    appended = True\n",
    "            if not appended:\n",
    "                series_[\"text\"] = text\n",
    "                series_[\"title_only\"] = False\n",
    "                df_wiki_sep.append(series_)\n",
    "\n",
    "            if len(df_wiki_sep) > chunk_size:\n",
    "                print(f\"chunk {chunk}\")\n",
    "                df_wiki_sep = pd.DataFrame(df_wiki_sep)\n",
    "                df_wiki_sep.to_parquet(f\"{output_dir}/chunk{chunk}.parquet\")\n",
    "                df_wiki_sep = []\n",
    "                chunk += 1\n",
    "            if i > 100:\n",
    "                break\n",
    "    df_wiki_sep = pd.DataFrame(df_wiki_sep)\n",
    "    df_wiki_sep.to_parquet(f\"{output_dir}/chunk{chunk}.parquet\")\n",
    "    "
   ]
  },
  {
   "cell_type": "code",
   "execution_count": 30,
   "id": "666beec0",
   "metadata": {},
   "outputs": [
    {
     "name": "stderr",
     "output_type": "stream",
     "text": [
      "  0%|                                                                                                              | 101/442726 [00:00<02:28, 2983.29it/s]\n"
     ]
    }
   ],
   "source": [
    "output_seperated_files(token_length=90, stride=3, drop_category=True)"
   ]
  },
  {
   "cell_type": "code",
   "execution_count": 31,
   "id": "f820cd62",
   "metadata": {},
   "outputs": [],
   "source": [
    "df = pd.read_parquet(f\"../data/wikipedia/sep_chunk/token_length90_stride_sentence3_drop_categoryTrue/chunk1.parquet\")"
   ]
  },
  {
   "cell_type": "code",
   "execution_count": 37,
   "id": "f842a99c",
   "metadata": {},
   "outputs": [
    {
     "data": {
      "text/html": [
       "<div>\n",
       "<style scoped>\n",
       "    .dataframe tbody tr th:only-of-type {\n",
       "        vertical-align: middle;\n",
       "    }\n",
       "\n",
       "    .dataframe tbody tr th {\n",
       "        vertical-align: top;\n",
       "    }\n",
       "\n",
       "    .dataframe thead th {\n",
       "        text-align: right;\n",
       "    }\n",
       "</style>\n",
       "<table border=\"1\" class=\"dataframe\">\n",
       "  <thead>\n",
       "    <tr style=\"text-align: right;\">\n",
       "      <th></th>\n",
       "      <th>id</th>\n",
       "      <th>title</th>\n",
       "      <th>text</th>\n",
       "      <th>title_only</th>\n",
       "    </tr>\n",
       "  </thead>\n",
       "  <tbody>\n",
       "    <tr>\n",
       "      <th>0</th>\n",
       "      <td>49495844</td>\n",
       "      <td>A &amp; B High Performance Firearms</td>\n",
       "      <td>A &amp; B High Performance Firearms was a competit...</td>\n",
       "      <td>True</td>\n",
       "    </tr>\n",
       "    <tr>\n",
       "      <th>1</th>\n",
       "      <td>3579086</td>\n",
       "      <td>A &amp; C Black</td>\n",
       "      <td>A &amp; C Black is a British book publishing compa...</td>\n",
       "      <td>True</td>\n",
       "    </tr>\n",
       "    <tr>\n",
       "      <th>2</th>\n",
       "      <td>3579086</td>\n",
       "      <td>A &amp; C Black</td>\n",
       "      <td>A &amp; C Black is a British book publishing compa...</td>\n",
       "      <td>False</td>\n",
       "    </tr>\n",
       "    <tr>\n",
       "      <th>3</th>\n",
       "      <td>3579086</td>\n",
       "      <td>A &amp; C Black</td>\n",
       "      <td>==History== The firm was founded in 1807 by C...</td>\n",
       "      <td>False</td>\n",
       "    </tr>\n",
       "    <tr>\n",
       "      <th>4</th>\n",
       "      <td>3579086</td>\n",
       "      <td>A &amp; C Black</td>\n",
       "      <td>During the years 1827–1903 the firm published...</td>\n",
       "      <td>False</td>\n",
       "    </tr>\n",
       "    <tr>\n",
       "      <th>...</th>\n",
       "      <td>...</td>\n",
       "      <td>...</td>\n",
       "      <td>...</td>\n",
       "      <td>...</td>\n",
       "    </tr>\n",
       "    <tr>\n",
       "      <th>1275</th>\n",
       "      <td>11631735</td>\n",
       "      <td>A Ballad of the West</td>\n",
       "      <td>Beginning with Buffalo Bill's birth in 1846, ...</td>\n",
       "      <td>False</td>\n",
       "    </tr>\n",
       "    <tr>\n",
       "      <th>1276</th>\n",
       "      <td>11631735</td>\n",
       "      <td>A Ballad of the West</td>\n",
       "      <td>Bobby Bridger also wrote a biography on Buffa...</td>\n",
       "      <td>False</td>\n",
       "    </tr>\n",
       "    <tr>\n",
       "      <th>1277</th>\n",
       "      <td>11631735</td>\n",
       "      <td>A Ballad of the West</td>\n",
       "      <td>Part Three: Lakota: Lakota begins with the me...</td>\n",
       "      <td>False</td>\n",
       "    </tr>\n",
       "    <tr>\n",
       "      <th>1278</th>\n",
       "      <td>11631735</td>\n",
       "      <td>A Ballad of the West</td>\n",
       "      <td>A 'telling of a telling of a telling,' Lakota...</td>\n",
       "      <td>False</td>\n",
       "    </tr>\n",
       "    <tr>\n",
       "      <th>1279</th>\n",
       "      <td>11631735</td>\n",
       "      <td>A Ballad of the West</td>\n",
       "      <td>A Ballad of the West was partially recorded i...</td>\n",
       "      <td>False</td>\n",
       "    </tr>\n",
       "  </tbody>\n",
       "</table>\n",
       "<p>1280 rows × 4 columns</p>\n",
       "</div>"
      ],
      "text/plain": [
       "            id                            title  \\\n",
       "0     49495844  A & B High Performance Firearms   \n",
       "1      3579086                      A & C Black   \n",
       "2      3579086                      A & C Black   \n",
       "3      3579086                      A & C Black   \n",
       "4      3579086                      A & C Black   \n",
       "...        ...                              ...   \n",
       "1275  11631735             A Ballad of the West   \n",
       "1276  11631735             A Ballad of the West   \n",
       "1277  11631735             A Ballad of the West   \n",
       "1278  11631735             A Ballad of the West   \n",
       "1279  11631735             A Ballad of the West   \n",
       "\n",
       "                                                   text  title_only  \n",
       "0     A & B High Performance Firearms was a competit...        True  \n",
       "1     A & C Black is a British book publishing compa...        True  \n",
       "2     A & C Black is a British book publishing compa...       False  \n",
       "3      ==History== The firm was founded in 1807 by C...       False  \n",
       "4      During the years 1827–1903 the firm published...       False  \n",
       "...                                                 ...         ...  \n",
       "1275   Beginning with Buffalo Bill's birth in 1846, ...       False  \n",
       "1276   Bobby Bridger also wrote a biography on Buffa...       False  \n",
       "1277   Part Three: Lakota: Lakota begins with the me...       False  \n",
       "1278   A 'telling of a telling of a telling,' Lakota...       False  \n",
       "1279   A Ballad of the West was partially recorded i...       False  \n",
       "\n",
       "[1280 rows x 4 columns]"
      ]
     },
     "execution_count": 37,
     "metadata": {},
     "output_type": "execute_result"
    }
   ],
   "source": [
    "df"
   ]
  },
  {
   "cell_type": "code",
   "execution_count": 36,
   "id": "a8599004",
   "metadata": {},
   "outputs": [
    {
     "data": {
      "text/plain": [
       "0       181\n",
       "1       332\n",
       "2       568\n",
       "3       579\n",
       "4       651\n",
       "       ... \n",
       "1275    951\n",
       "1276    911\n",
       "1277    765\n",
       "1278    663\n",
       "1279    599\n",
       "Name: text, Length: 1280, dtype: int64"
      ]
     },
     "execution_count": 36,
     "metadata": {},
     "output_type": "execute_result"
    }
   ],
   "source": [
    "df[\"text\"].apply(len)"
   ]
  },
  {
   "cell_type": "code",
   "execution_count": null,
   "id": "c6e982a3",
   "metadata": {},
   "outputs": [],
   "source": []
  }
 ],
 "metadata": {
  "kernelspec": {
   "display_name": "Python 3 (ipykernel)",
   "language": "python",
   "name": "python3"
  },
  "language_info": {
   "codemirror_mode": {
    "name": "ipython",
    "version": 3
   },
   "file_extension": ".py",
   "mimetype": "text/x-python",
   "name": "python",
   "nbconvert_exporter": "python",
   "pygments_lexer": "ipython3",
   "version": "3.10.12"
  }
 },
 "nbformat": 4,
 "nbformat_minor": 5
}
