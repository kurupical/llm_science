{
 "cells": [
  {
   "cell_type": "code",
   "execution_count": 48,
   "id": "feb3d2f1",
   "metadata": {},
   "outputs": [],
   "source": [
    "import pandas as pd\n",
    "import random\n",
    "import tqdm"
   ]
  },
  {
   "cell_type": "code",
   "execution_count": 2,
   "id": "6a161f4d",
   "metadata": {},
   "outputs": [],
   "source": [
    "df = pd.read_csv(\"../data/gpt_generated_data/all_12_with_context2.csv\")"
   ]
  },
  {
   "cell_type": "code",
   "execution_count": 59,
   "id": "bc2c9b86",
   "metadata": {},
   "outputs": [],
   "source": [
    "df2 = pd.read_csv(\"../data/gpt_generated_data/mmlu_train.csv\")"
   ]
  },
  {
   "cell_type": "code",
   "execution_count": 69,
   "id": "37679e53",
   "metadata": {},
   "outputs": [],
   "source": [
    "df2[\"E\"] = \"\"\n",
    "for col in \"ABCDE\":\n",
    "    df2[col] = df2[col].fillna(\"nan\")"
   ]
  },
  {
   "cell_type": "code",
   "execution_count": 85,
   "id": "ec5a4f1f",
   "metadata": {},
   "outputs": [],
   "source": [
    "df2[\"len\"] = df2[\"prompt\"].apply(len)"
   ]
  },
  {
   "cell_type": "code",
   "execution_count": 90,
   "id": "8759c119",
   "metadata": {},
   "outputs": [
    {
     "data": {
      "text/plain": [
       "'Colleges taking another look at value of merit-based aid Good grades and high tests scores still matter--a lot--to many colleges as they award financial aid. But with low-income students projected to make up an ever-larger share of the college-bound population in coming years, some schools are re-examining whether that aid, typically known as \"merit aid\", is the most effective use of precious institutional dollars. George Washington University in Washington, D.C., for example, said last week that it would cut the value of its average merit scholarships by about one-third and reduce the number of recipients , pouring the savings, about $2.5 million, into need-based aid. Allegheny College in Meadville, Pa., made a similar decision three years ago. Now, Hamilton College in Clinton, N.Y., says it will phase out merit scholarships altogether. No current merit-aid recipients will lose their scholarships, but need-based aid alone will be awarded beginning with students entering in fall 2008. Not all colleges offer merit aid; generally, the more selective a school, the less likely it is to do so. Harvard and Princeton, for example, offer generous need-based packages, but many families who don\\'t meet need eligibility have been willing to pay whatever they must for a big-name school. For small regional colleges that struggle just to fill seats, merit aid can be an important revenue-builder because many recipients still pay enough tuition dollars over and above the scholarship amount to keep the institution running. But for rankings-conscious schools in between, merit aid has served primarily as a tool to recruit top students and to improve their academic profits. \"They\\'re trying to buy students,\" says Skidmore College economist Sandy Baum. Studies show merit aid also tends to benefit disproportionately students who could afford to enroll without it. \"As we look to the future, we see a more pressing need to invest in need-based aid,\" says Monica Inzer, dean of admission and financial aid at Hamilton, which has offered merit scholarships for 10 years. During that time, it rose in US News & World Report\\'s ranking of the best liberal arts colleges, from 25 to 17. Merit aid, which benefited about 75 students a year, or about 4% of its student body, at a cost of about $ 1 million a year, \"served us well,\" Inzer says, but \"to be discounting the price for families that don\\'t need financial aid doesn\\'t feel right any more.\" Need-based aid remains by far the largest share of all student aid, which includes state, federal and institutional grants. But merit aid, offered primarily by schools and states, is growing faster, both overall and at the institutional level. Between 1995-96 and 2003-04, institutional merit aid alone increased 212%, compared with 47% for need-based grants. At least 15 states also offer merit aid, typically in a bid to enroll top students in the state\\'s public institutions. But in recent years, a growing chorus of critics has begun pressuring schools to drop the practice. Recent decisions by Hamilton and others may be \"a sign that people are starting to realize that there\\'s this destructive competition going on,\" says Baum, co-author of a recent College Report that raises concerns about the role of institutional aid not based on need. David Laird, president of the Minnesota Private College Council, says many of his schools would like to reduce their merit aid but fear that in doing so, they would lose top students to their competitors. \"No one can take one-sided action,\" says Laird, who is exploring whether to seek an exemption from federal anti-trust laws so member colleges can discuss how they could jointly reduce merit aid, \"This is a merry-go-round that\\'s going very fast, and none of the institutions believe they can sustain the risks of trying to break away by themselves.\" A complicating factor is that merit aid has become so popular with middle-income families, who don\\'t qualify for need-based aid, that many have come to depend on it. And, as tuitions continue to increase, the line between merit and need blurs. That\\'s one reason Allegheny College doesn\\'t plan to drop merit aid entirely. \"We still believe in rewarding superior achievements and know that these top students truly value the scholarship,\" says Scott Friedhoff, Allegheny\\'s vice president for enrollment. Emory University in Atlanta, which boasts a $4.7 billion endowment , meanwhile, is taking another approach. This year, it announced it would eliminate loans for needy students and cap them for middle-income families. At the same time, it would expand its 28-year-old merit program. \"Yeah, we\\'re playing the merit game,\" acknowledges Tom Lancaster, associate dean for undergraduate education. But it has its strong point, too, he says. \"The fact of the matter is, it\\'s not just about the lowest-income people. It\\'s the average American middle-class family who\\'s being priced out of the market.\" A few words about merit-based aid: Merit-based aid is aid offered to students who achieve excellence in a given area, and is generally known as academic, athletic and artistic merit scholarships. Academic merit scholarships are based on students\\' grades, GPA and overall academic performance during high school. They are typically meant for students going straight to college right after high school. However, there are scholarships for current college students with exceptional grades as well. These merit scholarships usually help students pay tuition bills, and they can be renewed each year as long as the recipients continue to qualify. In some cases, students may need to be recommended by their school or a teacher as part of the qualification process.  Athletic merit scholarships are meant for students that excel in sports of any kind, from football to track and field events. Recommendation for these scholarships is required, since exceptional athletic performance has to be recognized by a coach or a referee . Applicants need to send in a tape containing their best performance. Artistic merit scholarships require that applicants excel in a given artistic area. This generally includes any creative field such as art, design, fashion, music, dance or writing. Applying for artistic merit scholarships usually requires that students submit a portfolio of some sort, whether that includes a collection of artwork, a recording of a musical performance or a video of them dancing. The chief purpose of rankings-conscious colleges in offering merit aid is to   _  .'"
      ]
     },
     "execution_count": 90,
     "metadata": {},
     "output_type": "execute_result"
    }
   ],
   "source": [
    "df2.sort_values(\"len\").tail(4)[\"prompt\"].values[0]"
   ]
  },
  {
   "cell_type": "code",
   "execution_count": 70,
   "id": "d45266ce",
   "metadata": {},
   "outputs": [
    {
     "name": "stderr",
     "output_type": "stream",
     "text": [
      "100%|█████████████████████████████████████████████████████████████████████████████████████████████████████████████████████████████████████████████████████████████████████████████████████████████████████████████████████████████████████| 98487/98487 [00:06<00:00, 14923.30it/s]\n"
     ]
    }
   ],
   "source": [
    "df2_ = []\n",
    "ary = [\"A\", \"B\", \"C\", \"D\", \"E\"]\n",
    "for i in tqdm.tqdm(range(len(df2))):\n",
    "    series = df2.iloc[i]\n",
    "    answer_ = series[series[\"answer\"]]\n",
    "    random.shuffle(ary)\n",
    "    ret = {}    \n",
    "    for i, x in enumerate(ary):\n",
    "        ret[\"ABCDE\"[i]] = series[x]\n",
    "    ret[\"prompt\"] = series[\"prompt\"]\n",
    "    answer = [x for x in \"ABCDE\" if ret[x] == answer_][0]\n",
    "\n",
    "    ret[\"answer\"] = answer\n",
    "    df2_.append(ret)    "
   ]
  },
  {
   "cell_type": "code",
   "execution_count": 71,
   "id": "9bbb229c",
   "metadata": {},
   "outputs": [],
   "source": [
    "pd.DataFrame(df2_).to_csv(\"../data/gpt_generated_data/mmlu_train_fixed.csv\", index=False)"
   ]
  },
  {
   "cell_type": "code",
   "execution_count": 79,
   "id": "c7e5baa3",
   "metadata": {},
   "outputs": [],
   "source": [
    "df2__ = pd.DataFrame(df2_)"
   ]
  },
  {
   "cell_type": "code",
   "execution_count": 80,
   "id": "6860d5cd",
   "metadata": {},
   "outputs": [],
   "source": [
    "df2__[\"len\"] = df2__[\"prompt\"].apply(len)"
   ]
  },
  {
   "cell_type": "code",
   "execution_count": 94,
   "id": "fba2cb7a",
   "metadata": {},
   "outputs": [
    {
     "data": {
      "text/plain": [
       "\"Davis decided to kill Adams. He set out for Adams's house. Before he got there he saw Brooks, who resembled Adams. Thinking that Brooks was Adams, Davis shot at Brooks. The shot missed Brooks but wounded Case, who was some distance away. Davis had not seen Case. In a prosecution under a statute that proscribes any attempt to commit murder, the district attorney should indicate that the intended victim(s) was/were\""
      ]
     },
     "execution_count": 94,
     "metadata": {},
     "output_type": "execute_result"
    }
   ],
   "source": [
    "df2__[\"prompt\"].values[0]"
   ]
  },
  {
   "cell_type": "code",
   "execution_count": 68,
   "id": "fa5f8466",
   "metadata": {},
   "outputs": [],
   "source": [
    "\n",
    "df[df[\"source\"] >= 7].to_csv(\"../data/gpt_generated_data/all_12_with_context2_without_generated_gpt.csv\")"
   ]
  },
  {
   "cell_type": "code",
   "execution_count": 91,
   "id": "66a32d7a",
   "metadata": {},
   "outputs": [
    {
     "ename": "TypeError",
     "evalue": "list indices must be integers or slices, not str",
     "output_type": "error",
     "traceback": [
      "\u001b[0;31m---------------------------------------------------------------------------\u001b[0m",
      "\u001b[0;31mTypeError\u001b[0m                                 Traceback (most recent call last)",
      "Cell \u001b[0;32mIn[91], line 1\u001b[0m\n\u001b[0;32m----> 1\u001b[0m \u001b[43mdf2_\u001b[49m\u001b[43m[\u001b[49m\u001b[38;5;124;43m\"\u001b[39;49m\u001b[38;5;124;43mprompt\u001b[39;49m\u001b[38;5;124;43m\"\u001b[39;49m\u001b[43m]\u001b[49m\n",
      "\u001b[0;31mTypeError\u001b[0m: list indices must be integers or slices, not str"
     ]
    }
   ],
   "source": [
    "df2_[\"prompt\"]"
   ]
  },
  {
   "cell_type": "code",
   "execution_count": null,
   "id": "e686d17d",
   "metadata": {},
   "outputs": [],
   "source": []
  }
 ],
 "metadata": {
  "kernelspec": {
   "display_name": "Python 3 (ipykernel)",
   "language": "python",
   "name": "python3"
  },
  "language_info": {
   "codemirror_mode": {
    "name": "ipython",
    "version": 3
   },
   "file_extension": ".py",
   "mimetype": "text/x-python",
   "name": "python",
   "nbconvert_exporter": "python",
   "pygments_lexer": "ipython3",
   "version": "3.10.12"
  }
 },
 "nbformat": 4,
 "nbformat_minor": 5
}
