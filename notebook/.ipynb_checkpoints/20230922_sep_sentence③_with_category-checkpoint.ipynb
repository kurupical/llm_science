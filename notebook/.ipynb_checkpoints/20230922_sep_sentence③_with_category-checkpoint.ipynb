{
 "cells": [
  {
   "cell_type": "code",
   "execution_count": 17,
   "id": "21bf371f",
   "metadata": {},
   "outputs": [],
   "source": [
    "import pandas as pd\n",
    "import tqdm\n",
    "import glob\n",
    "import os"
   ]
  },
  {
   "cell_type": "code",
   "execution_count": 18,
   "id": "f91994aa",
   "metadata": {},
   "outputs": [],
   "source": [
    "files = glob.glob(\"../data/wikipedia_fixed/*.parquet\")\n",
    "files = [f for f in files if \"all\" not in f]"
   ]
  },
  {
   "cell_type": "code",
   "execution_count": 19,
   "id": "999735b0",
   "metadata": {},
   "outputs": [],
   "source": [
    "chunk_size = 3_000_000"
   ]
  },
  {
   "cell_type": "code",
   "execution_count": 20,
   "id": "7813678f",
   "metadata": {},
   "outputs": [],
   "source": [
    "def output_seperated_files(token_length, stride, drop_category):    \n",
    "    output_dir = f\"../data/wikipedia_fixed/sep_chunk/token_length{token_length}_stride_sentence{stride}_drop_category{drop_category}\"\n",
    "    os.makedirs(output_dir, exist_ok=True)\n",
    "    chunk = 1\n",
    "    df_wiki_sep = []\n",
    "    for file in files:\n",
    "        df_wiki = pd.read_parquet(file)\n",
    "        df_wiki = df_wiki.drop(\"category\", axis=1)\n",
    "        for i in tqdm.tqdm(range(len(df_wiki))):\n",
    "            series = df_wiki.iloc[i]\n",
    "            text = series[\"text\"]\n",
    "            if drop_category:\n",
    "                idx = text.find(\" Category:\")\n",
    "                text = text[:idx]\n",
    "\n",
    "            text_space = text.split(\".\")\n",
    "            text = \"\"\n",
    "            text_stride = []\n",
    "\n",
    "            series_ = series.to_dict()\n",
    "            series_[\"text\"] = \".\".join(text_space[:stride*2])\n",
    "            series_[\"title_only\"] = True\n",
    "            df_wiki_sep.append(series_)\n",
    "            \n",
    "            appended = False\n",
    "            for j in range(0, len(text_space)):\n",
    "                series_ = series.to_dict()\n",
    "                text += text_space[j] + \".\"\n",
    "                text_stride.append(text_space[j])\n",
    "                text_stride = text_stride[-stride:]\n",
    "                appended = False\n",
    "                if len(text.split(\" \")) > token_length:\n",
    "                    series_[\"text\"] = text\n",
    "                    series_[\"title_only\"] = False\n",
    "                    df_wiki_sep.append(series_)\n",
    "                    text = \".\".join(text_stride)\n",
    "                    appended = True\n",
    "            if not appended:\n",
    "                series_[\"text\"] = text\n",
    "                series_[\"title_only\"] = False\n",
    "                df_wiki_sep.append(series_)\n",
    "\n",
    "            if len(df_wiki_sep) > chunk_size:\n",
    "                print(f\"chunk {chunk}\")\n",
    "                df_wiki_sep = pd.DataFrame(df_wiki_sep)\n",
    "                df_wiki_sep.to_parquet(f\"{output_dir}/chunk{chunk}.parquet\")\n",
    "                df_wiki_sep = []\n",
    "                chunk += 1\n",
    "    df_wiki_sep = pd.DataFrame(df_wiki_sep)\n",
    "    df_wiki_sep.to_parquet(f\"{output_dir}/chunk{chunk}.parquet\")\n",
    "    "
   ]
  },
  {
   "cell_type": "code",
   "execution_count": 13,
   "id": "666beec0",
   "metadata": {},
   "outputs": [
    {
     "name": "stderr",
     "output_type": "stream",
     "text": [
      "100%|███████████████████████████████████████████████████████████████████████████████████████████████████████████| 467914/467914 [04:21<00:00, 1789.26it/s]\n"
     ]
    }
   ],
   "source": [
    "output_seperated_files(token_length=90, stride=3, drop_category=True)"
   ]
  },
  {
   "cell_type": "code",
   "execution_count": 21,
   "id": "b88f8d10",
   "metadata": {},
   "outputs": [
    {
     "name": "stderr",
     "output_type": "stream",
     "text": [
      " 54%|█████████████████████████████████████████████████████████▍                                                 | 250973/467914 [02:32<01:57, 1842.89it/s]"
     ]
    },
    {
     "name": "stdout",
     "output_type": "stream",
     "text": [
      "chunk 1\n"
     ]
    },
    {
     "name": "stderr",
     "output_type": "stream",
     "text": [
      "100%|███████████████████████████████████████████████████████████████████████████████████████████████████████████| 467914/467914 [05:13<00:00, 1493.96it/s]\n",
      " 11%|███████████▋                                                                                                | 38115/351271 [00:25<02:58, 1750.82it/s]"
     ]
    },
    {
     "name": "stdout",
     "output_type": "stream",
     "text": [
      "chunk 2\n"
     ]
    },
    {
     "name": "stderr",
     "output_type": "stream",
     "text": [
      " 82%|████████████████████████████████████████████████████████████████████████████████████████                   | 289233/351271 [03:17<00:38, 1602.75it/s]"
     ]
    },
    {
     "name": "stdout",
     "output_type": "stream",
     "text": [
      "chunk 3\n"
     ]
    },
    {
     "name": "stderr",
     "output_type": "stream",
     "text": [
      "100%|███████████████████████████████████████████████████████████████████████████████████████████████████████████| 351271/351271 [04:16<00:00, 1371.69it/s]\n",
      " 38%|████████████████████████████████████████▋                                                                  | 167625/440275 [01:47<03:03, 1482.35it/s]"
     ]
    },
    {
     "name": "stdout",
     "output_type": "stream",
     "text": [
      "chunk 4\n"
     ]
    },
    {
     "name": "stderr",
     "output_type": "stream",
     "text": [
      " 93%|███████████████████████████████████████████████████████████████████████████████████████████████████▎       | 408674/440275 [04:42<00:27, 1140.50it/s]"
     ]
    },
    {
     "name": "stdout",
     "output_type": "stream",
     "text": [
      "chunk 5\n"
     ]
    },
    {
     "name": "stderr",
     "output_type": "stream",
     "text": [
      "100%|███████████████████████████████████████████████████████████████████████████████████████████████████████████| 440275/440275 [05:22<00:00, 1366.48it/s]\n",
      " 78%|███████████████████████████████████████████████████████████████████████████████████▏                       | 209603/269595 [02:13<00:36, 1648.21it/s]"
     ]
    },
    {
     "name": "stdout",
     "output_type": "stream",
     "text": [
      "chunk 6\n"
     ]
    },
    {
     "name": "stderr",
     "output_type": "stream",
     "text": [
      "100%|███████████████████████████████████████████████████████████████████████████████████████████████████████████| 269595/269595 [03:14<00:00, 1384.95it/s]\n",
      " 84%|██████████████████████████████████████████████████████████████████████████████████████████                 | 179733/213622 [01:54<00:22, 1500.22it/s]"
     ]
    },
    {
     "name": "stdout",
     "output_type": "stream",
     "text": [
      "chunk 7\n"
     ]
    },
    {
     "name": "stderr",
     "output_type": "stream",
     "text": [
      "100%|███████████████████████████████████████████████████████████████████████████████████████████████████████████| 213622/213622 [02:37<00:00, 1353.05it/s]\n",
      " 98%|████████████████████████████████████████████████████████████████████████████████████████████████████████▋  | 184810/188783 [02:03<00:03, 1157.28it/s]"
     ]
    },
    {
     "name": "stdout",
     "output_type": "stream",
     "text": [
      "chunk 8\n"
     ]
    },
    {
     "name": "stderr",
     "output_type": "stream",
     "text": [
      "100%|███████████████████████████████████████████████████████████████████████████████████████████████████████████| 188783/188783 [02:21<00:00, 1331.10it/s]\n",
      " 98%|████████████████████████████████████████████████████████████████████████████████████████████████████████▋  | 247716/253126 [02:34<00:03, 1446.14it/s]"
     ]
    },
    {
     "name": "stdout",
     "output_type": "stream",
     "text": [
      "chunk 9\n"
     ]
    },
    {
     "name": "stderr",
     "output_type": "stream",
     "text": [
      "100%|███████████████████████████████████████████████████████████████████████████████████████████████████████████| 253126/253126 [02:53<00:00, 1462.28it/s]\n",
      " 83%|████████████████████████████████████████████████████████████████████████████████████████▉                  | 213483/256719 [02:30<00:28, 1528.11it/s]"
     ]
    },
    {
     "name": "stdout",
     "output_type": "stream",
     "text": [
      "chunk 10\n"
     ]
    },
    {
     "name": "stderr",
     "output_type": "stream",
     "text": [
      "100%|███████████████████████████████████████████████████████████████████████████████████████████████████████████| 256719/256719 [03:22<00:00, 1267.41it/s]\n",
      "100%|███████████████████████████████████████████████████████████████████████████████████████████████████████████| 134753/134753 [01:34<00:00, 1419.81it/s]\n",
      " 10%|██████████▋                                                                                                 | 28984/293058 [00:17<02:23, 1846.30it/s]"
     ]
    },
    {
     "name": "stdout",
     "output_type": "stream",
     "text": [
      "chunk 11\n"
     ]
    },
    {
     "name": "stderr",
     "output_type": "stream",
     "text": [
      " 97%|████████████████████████████████████████████████████████████████████████████████████████████████████████▏  | 285333/293058 [03:11<00:06, 1249.56it/s]"
     ]
    },
    {
     "name": "stdout",
     "output_type": "stream",
     "text": [
      "chunk 12\n"
     ]
    },
    {
     "name": "stderr",
     "output_type": "stream",
     "text": [
      "100%|███████████████████████████████████████████████████████████████████████████████████████████████████████████| 293058/293058 [03:34<00:00, 1368.26it/s]\n",
      "100%|███████████████████████████████████████████████████████████████████████████████████████████████████████████| 218229/218229 [01:56<00:00, 1871.00it/s]\n",
      " 13%|█████████████▉                                                                                              | 49687/384742 [00:43<05:03, 1105.32it/s]"
     ]
    },
    {
     "name": "stdout",
     "output_type": "stream",
     "text": [
      "chunk 13\n"
     ]
    },
    {
     "name": "stderr",
     "output_type": "stream",
     "text": [
      " 72%|█████████████████████████████████████████████████████████████████████████████                              | 277289/384742 [04:13<01:44, 1028.70it/s]"
     ]
    },
    {
     "name": "stdout",
     "output_type": "stream",
     "text": [
      "chunk 14\n"
     ]
    },
    {
     "name": "stderr",
     "output_type": "stream",
     "text": [
      "100%|███████████████████████████████████████████████████████████████████████████████████████████████████████████| 384742/384742 [06:09<00:00, 1040.22it/s]\n",
      " 25%|██████████████████████████▍                                                                                | 114488/462887 [01:17<04:00, 1451.21it/s]"
     ]
    },
    {
     "name": "stdout",
     "output_type": "stream",
     "text": [
      "chunk 15\n"
     ]
    },
    {
     "name": "stderr",
     "output_type": "stream",
     "text": [
      " 84%|█████████████████████████████████████████████████████████████████████████████████████████▌                 | 387315/462887 [04:17<00:48, 1559.19it/s]"
     ]
    },
    {
     "name": "stdout",
     "output_type": "stream",
     "text": [
      "chunk 16\n"
     ]
    },
    {
     "name": "stderr",
     "output_type": "stream",
     "text": [
      "100%|███████████████████████████████████████████████████████████████████████████████████████████████████████████| 462887/462887 [05:27<00:00, 1414.82it/s]\n",
      " 82%|███████████████████████████████████████████████████████████████████████████████████████▋                   | 166306/202892 [01:48<00:23, 1570.83it/s]"
     ]
    },
    {
     "name": "stdout",
     "output_type": "stream",
     "text": [
      "chunk 17\n"
     ]
    },
    {
     "name": "stderr",
     "output_type": "stream",
     "text": [
      "100%|███████████████████████████████████████████████████████████████████████████████████████████████████████████| 202892/202892 [02:32<00:00, 1328.83it/s]\n",
      "100%|███████████████████████████████| 115773/115773 [01:15<00:00, 1524.68it/s]\n",
      " 23%|███████▎                        | 94876/415711 [00:56<02:14, 2390.02it/s]"
     ]
    },
    {
     "name": "stdout",
     "output_type": "stream",
     "text": [
      "chunk 18\n"
     ]
    },
    {
     "name": "stderr",
     "output_type": "stream",
     "text": [
      " 89%|███████████████████████████▌   | 369985/415711 [04:16<00:28, 1590.87it/s]"
     ]
    },
    {
     "name": "stdout",
     "output_type": "stream",
     "text": [
      "chunk 19\n"
     ]
    },
    {
     "name": "stderr",
     "output_type": "stream",
     "text": [
      "100%|███████████████████████████████| 415711/415711 [05:03<00:00, 1367.75it/s]\n",
      " 61%|██████████████████▊            | 204368/336442 [02:08<01:22, 1595.42it/s]"
     ]
    },
    {
     "name": "stdout",
     "output_type": "stream",
     "text": [
      "chunk 20\n"
     ]
    },
    {
     "name": "stderr",
     "output_type": "stream",
     "text": [
      "100%|███████████████████████████████| 336442/336442 [03:54<00:00, 1436.99it/s]\n",
      "100%|█████████████████████████████████████████████████████████████████████████████████████████████████████████████| 20885/20885 [00:12<00:00, 1677.51it/s]\n",
      " 31%|█████████████████████████████████▊                                                                          | 85131/271544 [00:56<01:46, 1742.70it/s]"
     ]
    },
    {
     "name": "stdout",
     "output_type": "stream",
     "text": [
      "chunk 21\n"
     ]
    },
    {
     "name": "stderr",
     "output_type": "stream",
     "text": [
      "100%|███████████████████████████████████████████████████████████████████████████████████████████████████████████| 271544/271544 [03:11<00:00, 1419.25it/s]\n",
      "  9%|█████████▊                                                                                                  | 49178/540515 [00:32<03:59, 2051.29it/s]"
     ]
    },
    {
     "name": "stdout",
     "output_type": "stream",
     "text": [
      "chunk 22\n"
     ]
    },
    {
     "name": "stderr",
     "output_type": "stream",
     "text": [
      " 54%|██████████████████████████████████████████████████████████▏                                                | 293787/540515 [03:21<02:20, 1756.12it/s]"
     ]
    },
    {
     "name": "stdout",
     "output_type": "stream",
     "text": [
      "chunk 23\n"
     ]
    },
    {
     "name": "stderr",
     "output_type": "stream",
     "text": [
      "100%|███████████████████████████████████████████████████████████████████████████████████████████████████████████| 540515/540515 [06:16<00:00, 1435.53it/s]\n",
      "  2%|█▋                                                                                                           | 6233/395688 [00:05<05:28, 1186.81it/s]"
     ]
    },
    {
     "name": "stdout",
     "output_type": "stream",
     "text": [
      "chunk 24\n"
     ]
    },
    {
     "name": "stderr",
     "output_type": "stream",
     "text": [
      " 58%|█████████████████████████████████████████████████████████████▉                                             | 228843/395688 [03:10<02:03, 1345.68it/s]"
     ]
    },
    {
     "name": "stdout",
     "output_type": "stream",
     "text": [
      "chunk 25\n"
     ]
    },
    {
     "name": "stderr",
     "output_type": "stream",
     "text": [
      "100%|███████████████████████████████████████████████████████████████████████████████████████████████████████████| 395688/395688 [05:41<00:00, 1158.78it/s]\n",
      " 67%|█████████████████████████████████████████████████████████████████████████▍                                   | 48930/72591 [00:40<00:18, 1303.16it/s]"
     ]
    },
    {
     "name": "stdout",
     "output_type": "stream",
     "text": [
      "chunk 26\n"
     ]
    },
    {
     "name": "stderr",
     "output_type": "stream",
     "text": [
      "100%|██████████████████████████████████████████████████████████████████████████████████████████████████████████████| 72591/72591 [01:19<00:00, 908.64it/s]\n",
      "100%|███████████████████████████████████████████████████████████████████████████████████████████████████████████| 104945/104945 [01:10<00:00, 1486.65it/s]\n",
      " 62%|█████████████████████████████████████▌                       | 114314/185740 [01:15<00:41, 1719.44it/s]"
     ]
    },
    {
     "name": "stdout",
     "output_type": "stream",
     "text": [
      "chunk 27\n"
     ]
    },
    {
     "name": "stderr",
     "output_type": "stream",
     "text": [
      "100%|█████████████████████████████████████████████████████████████| 185740/185740 [02:18<00:00, 1338.24it/s]\n",
      "100%|█████████████████████████████████████████████████████████████████████████████████████████████████████████████| 13659/13659 [00:07<00:00, 1922.93it/s]\n",
      "100%|█████████████████████████████████████████████████████████████████████████████████████████████████████████████| 50194/50194 [00:26<00:00, 1875.78it/s]\n",
      "100%|█████████████████████████████████████████████████████████████████████████████████████████████████████████████| 38447/38447 [00:18<00:00, 2087.74it/s]\n"
     ]
    }
   ],
   "source": [
    "output_seperated_files(token_length=120, stride=4, drop_category=True)"
   ]
  },
  {
   "cell_type": "code",
   "execution_count": 15,
   "id": "a8599004",
   "metadata": {},
   "outputs": [
    {
     "name": "stderr",
     "output_type": "stream",
     "text": [
      "100%|███████████████████████████████████████████████████████████████████████████████████████████████████████████| 467914/467914 [05:00<00:00, 1555.70it/s]\n"
     ]
    }
   ],
   "source": [
    "output_seperated_files(token_length=150, stride=5, drop_category=True)"
   ]
  },
  {
   "cell_type": "code",
   "execution_count": null,
   "id": "7c1164b0",
   "metadata": {},
   "outputs": [],
   "source": []
  },
  {
   "cell_type": "code",
   "execution_count": 42,
   "id": "3e6237d5",
   "metadata": {},
   "outputs": [],
   "source": [
    "df_a = pd.read_parquet(\"../data/wikipedia_fixed/a.parquet\")"
   ]
  },
  {
   "cell_type": "code",
   "execution_count": 25,
   "id": "984f41fb",
   "metadata": {},
   "outputs": [],
   "source": [
    "df1 = pd.read_parquet(\"../data/wikipedia_fixed/sep_a/token_length90_stride_sentence3_drop_categoryTrue/chunk1.parquet\")"
   ]
  },
  {
   "cell_type": "code",
   "execution_count": 26,
   "id": "5de10e31",
   "metadata": {},
   "outputs": [],
   "source": [
    "df2 = pd.read_parquet(\"../data/wikipedia/sep4/token_length90_stride_sentence3_drop_categoryTrue/a.parquet\")"
   ]
  },
  {
   "cell_type": "code",
   "execution_count": 36,
   "id": "b5e187bc",
   "metadata": {},
   "outputs": [
    {
     "data": {
      "text/plain": [
       "' Releasing their debut album in 1994, they are regarded as the pioneers of stoner metal in the United Kingdom, and an important influence upon the scene. Although the band never achieved mainstream success, during their career they received much critical acclaim – they were nominated for the Kerrang! Best Newcomer award and earned top review ratings. Acrimony have maintained a cult following in the British metal scene, their records reportedly selling for vast sums as collectors items AllMusic described their musical style as a \"powerful blend of Black Sabbath’s heavy metal riffery, Hawkwind\\'s space rock excursions, and Blue Cheer\\'s fuzzed-out psychedelic feedback.'"
      ]
     },
     "execution_count": 36,
     "metadata": {},
     "output_type": "execute_result"
    }
   ],
   "source": [
    "df1[\"text\"].values[12]"
   ]
  },
  {
   "cell_type": "code",
   "execution_count": 39,
   "id": "5c3ad2c2",
   "metadata": {},
   "outputs": [
    {
     "data": {
      "text/html": [
       "<div>\n",
       "<style scoped>\n",
       "    .dataframe tbody tr th:only-of-type {\n",
       "        vertical-align: middle;\n",
       "    }\n",
       "\n",
       "    .dataframe tbody tr th {\n",
       "        vertical-align: top;\n",
       "    }\n",
       "\n",
       "    .dataframe thead th {\n",
       "        text-align: right;\n",
       "    }\n",
       "</style>\n",
       "<table border=\"1\" class=\"dataframe\">\n",
       "  <thead>\n",
       "    <tr style=\"text-align: right;\">\n",
       "      <th></th>\n",
       "      <th>title</th>\n",
       "      <th>text</th>\n",
       "      <th>id</th>\n",
       "      <th>title_only</th>\n",
       "    </tr>\n",
       "  </thead>\n",
       "  <tbody>\n",
       "    <tr>\n",
       "      <th>0</th>\n",
       "      <td>Alexandre Rousselet</td>\n",
       "      <td>Alexandre Rousselet (born 29 January 1977) is ...</td>\n",
       "      <td>10000040</td>\n",
       "      <td>True</td>\n",
       "    </tr>\n",
       "    <tr>\n",
       "      <th>1</th>\n",
       "      <td>Alexandre Rousselet</td>\n",
       "      <td>Alexandre Rousselet (born 29 January 1977) is ...</td>\n",
       "      <td>10000040</td>\n",
       "      <td>False</td>\n",
       "    </tr>\n",
       "    <tr>\n",
       "      <th>2</th>\n",
       "      <td>Alexandre Rousselet</td>\n",
       "      <td>His best individual finish at the Winter Olym...</td>\n",
       "      <td>10000040</td>\n",
       "      <td>False</td>\n",
       "    </tr>\n",
       "    <tr>\n",
       "      <th>3</th>\n",
       "      <td>Alexandre Rousselet</td>\n",
       "      <td>Rousselet's best finish at the FIS Nordic Wor...</td>\n",
       "      <td>10000040</td>\n",
       "      <td>False</td>\n",
       "    </tr>\n",
       "    <tr>\n",
       "      <th>4</th>\n",
       "      <td>Alexandre Rousselet</td>\n",
       "      <td>Rousselet was born in Pontarlier, Doubs. All ...</td>\n",
       "      <td>10000040</td>\n",
       "      <td>False</td>\n",
       "    </tr>\n",
       "    <tr>\n",
       "      <th>...</th>\n",
       "      <td>...</td>\n",
       "      <td>...</td>\n",
       "      <td>...</td>\n",
       "      <td>...</td>\n",
       "    </tr>\n",
       "    <tr>\n",
       "      <th>6160043</th>\n",
       "      <td>Asylum shopping</td>\n",
       "      <td>It is used mostly in the context of the Europ...</td>\n",
       "      <td>9852952</td>\n",
       "      <td>False</td>\n",
       "    </tr>\n",
       "    <tr>\n",
       "      <th>6160042</th>\n",
       "      <td>Asylum shopping</td>\n",
       "      <td>Asylum shopping is a term for the practice by ...</td>\n",
       "      <td>9852952</td>\n",
       "      <td>False</td>\n",
       "    </tr>\n",
       "    <tr>\n",
       "      <th>6160040</th>\n",
       "      <td>Asylum shopping</td>\n",
       "      <td>Asylum shopping is a term for the practice by ...</td>\n",
       "      <td>9852952</td>\n",
       "      <td>True</td>\n",
       "    </tr>\n",
       "    <tr>\n",
       "      <th>6160049</th>\n",
       "      <td>Asylum shopping</td>\n",
       "      <td>However, among some asylum seekers, fingerpri...</td>\n",
       "      <td>9852952</td>\n",
       "      <td>False</td>\n",
       "    </tr>\n",
       "    <tr>\n",
       "      <th>6160041</th>\n",
       "      <td>Asylum shopping</td>\n",
       "      <td>Asylum shopping is a term for the practice by ...</td>\n",
       "      <td>9852952</td>\n",
       "      <td>False</td>\n",
       "    </tr>\n",
       "  </tbody>\n",
       "</table>\n",
       "<p>6488962 rows × 4 columns</p>\n",
       "</div>"
      ],
      "text/plain": [
       "                       title  \\\n",
       "0        Alexandre Rousselet   \n",
       "1        Alexandre Rousselet   \n",
       "2        Alexandre Rousselet   \n",
       "3        Alexandre Rousselet   \n",
       "4        Alexandre Rousselet   \n",
       "...                      ...   \n",
       "6160043      Asylum shopping   \n",
       "6160042      Asylum shopping   \n",
       "6160040      Asylum shopping   \n",
       "6160049      Asylum shopping   \n",
       "6160041      Asylum shopping   \n",
       "\n",
       "                                                      text        id  \\\n",
       "0        Alexandre Rousselet (born 29 January 1977) is ...  10000040   \n",
       "1        Alexandre Rousselet (born 29 January 1977) is ...  10000040   \n",
       "2         His best individual finish at the Winter Olym...  10000040   \n",
       "3         Rousselet's best finish at the FIS Nordic Wor...  10000040   \n",
       "4         Rousselet was born in Pontarlier, Doubs. All ...  10000040   \n",
       "...                                                    ...       ...   \n",
       "6160043   It is used mostly in the context of the Europ...   9852952   \n",
       "6160042  Asylum shopping is a term for the practice by ...   9852952   \n",
       "6160040  Asylum shopping is a term for the practice by ...   9852952   \n",
       "6160049   However, among some asylum seekers, fingerpri...   9852952   \n",
       "6160041  Asylum shopping is a term for the practice by ...   9852952   \n",
       "\n",
       "         title_only  \n",
       "0              True  \n",
       "1             False  \n",
       "2             False  \n",
       "3             False  \n",
       "4             False  \n",
       "...             ...  \n",
       "6160043       False  \n",
       "6160042       False  \n",
       "6160040        True  \n",
       "6160049       False  \n",
       "6160041       False  \n",
       "\n",
       "[6488962 rows x 4 columns]"
      ]
     },
     "execution_count": 39,
     "metadata": {},
     "output_type": "execute_result"
    }
   ],
   "source": [
    "df1.sort_values(\"id\")"
   ]
  },
  {
   "cell_type": "code",
   "execution_count": 47,
   "id": "2aa820e7",
   "metadata": {},
   "outputs": [
    {
     "data": {
      "text/plain": [
       "'Alexandre Rousselet (born 29 January 1977) is a French cross-country skier who has competed since 1998. His best individual finish at the Winter Olympics was 19th in the 15\\xa0km event at Turin in 2006. Rousselet\\'s best finish at the FIS Nordic World Ski Championships was fifth in the 4 × 10\\xa0km relay at Sapporo in 2007 while his best individual finish was 25th in the 15\\xa0km event in 2005. His best individual career finish was fourth in a 15\\xa0km + 15\\xa0km double pursuit FIS race in France in 2006 while his best individual World Cup finish was eighth in a 30\\xa0km event in Italy, also in 2006. Rousselet was born in Pontarlier, Doubs. All results are sourced from the International Ski Federation (FIS). 1 victory – (1 RL) 4 podiums – (4 RL) \"ROUSSELET Alexandre\". FIS-Ski. International Ski Federation. Retrieved 21 November 2019. Alexandre Rousselet at the International Ski and Snowboard Federation v t e'"
      ]
     },
     "execution_count": 47,
     "metadata": {},
     "output_type": "execute_result"
    }
   ],
   "source": [
    "df_a[df_a[\"id\"] == \"10000040\"][\"text\"].values[0]"
   ]
  },
  {
   "cell_type": "code",
   "execution_count": null,
   "id": "5bf73549",
   "metadata": {},
   "outputs": [],
   "source": []
  },
  {
   "cell_type": "code",
   "execution_count": 50,
   "id": "1337f205",
   "metadata": {
    "scrolled": true
   },
   "outputs": [
    {
     "data": {
      "text/plain": [
       "\"Alexandre Rousselet (born 29 January 1977) is a French cross-country skier who has competed since 1998  His best individual finish at the Winter Olympics was 19th in the 15\\xa0km event at Turin in 2006  Rousselet's best finish at the FIS Nordic World Ski Championships was fifth in the 4 × 10\\xa0km relay at Sapporo in 2007 while his best individual finish was 25th in the 15\\xa0km event in 2005  His best individual career finish was fourth in a 15\\xa0km + 15\\xa0km double pursuit FIS race in France in 2006 while his best individual World Cup finish was eighth in a 30\\xa0km event in Italy, also in 2006  Rousselet was born in Pontarlier, Doubs  All results are sourced from the International Ski Federation (FIS)\""
      ]
     },
     "execution_count": 50,
     "metadata": {},
     "output_type": "execute_result"
    }
   ],
   "source": [
    "df1.sort_values(\"id\").iloc[0][\"text\"]"
   ]
  },
  {
   "cell_type": "code",
   "execution_count": 48,
   "id": "98e2f12d",
   "metadata": {},
   "outputs": [
    {
     "data": {
      "text/plain": [
       "' Rousselet was born in Pontarlier, Doubs. ==Cross-country skiing results== All results are sourced from the International Ski Federation (FIS). ===Olympic Games=== Year Age 15 km Pursuit 30 km 50 km Sprint 4 × 10 km relay Team sprint 2002 25 — 35 47 — — 8 2006 29 18 26 26 — 4 — ===World Championships=== Year Age 15 km Pursuit 30 km 50 km Sprint 4 × 10 km relay Team sprint 2001 24 — 44 — 40 33 — 2003 26 60 — — 47 — 11 2005 28 25 35 26 — 6 — 2007 30 38 44 42 — 5 — 2009 32 27 — — — 9 — ===World Cup=== ====Season standings==== Season Age Discipline standings Ski Tour standings Overall Distance Sprint Tour de Ski World Cup Final 2001 24 126 2002 25 2003 26 106 2004 27 127 88 — 2005 28 77 49 — 2006 29 33 21 — 2007 30 71 41 42 2008 31 120 67 37 42 2009 32 91 62 92 30 — 2010 33 — — — ====Team podiums==== * 1 victory – (1 ) * 4 podiums – (4 ) No Season Date Location Race Level Place Teammates 1 2003–04 7 February 2004 La Clusaz, France 4 × 10 km Relay C/F World Cup 1st Perrillat-Collomb / Vittoz / Jonnier 2 2004–05 12 December 2004 Val di Fiemme, Italy 4 × 10 km Relay C/F World Cup 3rd Perrillat-Collomb / Vittoz / Jonnier 3 2005–06 20 November 2005 Beitostølen, Norway 4 × 10 km Relay C/F World Cup 2nd Perrillat-Collomb / Jonnier / Vittoz 4 2006–07 4 February 2007 Davos, Switzerland 4 × 10 km Relay C/F World Cup 3rd Gaillard / Vittoz / Jonnier ==References== ==External links== *.'"
      ]
     },
     "execution_count": 48,
     "metadata": {},
     "output_type": "execute_result"
    }
   ],
   "source": [
    "df2.sort_values(\"id\").iloc[0][\"text\"]"
   ]
  },
  {
   "cell_type": "code",
   "execution_count": null,
   "id": "d8b7587a",
   "metadata": {},
   "outputs": [],
   "source": []
  }
 ],
 "metadata": {
  "kernelspec": {
   "display_name": "Python 3 (ipykernel)",
   "language": "python",
   "name": "python3"
  },
  "language_info": {
   "codemirror_mode": {
    "name": "ipython",
    "version": 3
   },
   "file_extension": ".py",
   "mimetype": "text/x-python",
   "name": "python",
   "nbconvert_exporter": "python",
   "pygments_lexer": "ipython3",
   "version": "3.10.12"
  }
 },
 "nbformat": 4,
 "nbformat_minor": 5
}
